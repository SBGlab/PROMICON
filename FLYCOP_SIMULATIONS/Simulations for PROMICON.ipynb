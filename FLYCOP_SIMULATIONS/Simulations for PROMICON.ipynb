{
 "cells": [
  {
   "cell_type": "code",
   "execution_count": 1,
   "metadata": {},
   "outputs": [],
   "source": [
    "import smac\n",
    "import logging\n",
    "import numpy as np\n",
    "from ConfigSpace.hyperparameters import UniformFloatHyperparameter\n",
    "# Import ConfigSpace and different types of parameters\n",
    "from smac.configspace import ConfigurationSpace\n",
    "from smac.facade.smac_bo_facade import SMAC4BO\n",
    "from smac.facade.smac_hpo_facade import SMAC4HPO\n",
    "# Import SMAC-utilities\n",
    "from smac.scenario.scenario import Scenario\n",
    "import pandas as pd\n",
    "import time\n",
    "import cometspy as c\n",
    "import os\n",
    "import template_simulation_flavonoids as t\n",
    "import shutil\n",
    "import cobra\n",
    "from cobra import Reaction,Metabolite\n",
    "import requests\n",
    "from os.path import exists"
   ]
  },
  {
   "cell_type": "code",
   "execution_count": 2,
   "metadata": {},
   "outputs": [],
   "source": [
    "dirwork=os.getcwd()"
   ]
  },
  {
   "cell_type": "markdown",
   "metadata": {},
   "source": [
    "# Model modifications"
   ]
  },
  {
   "cell_type": "markdown",
   "metadata": {},
   "source": [
    "## E. coli with butanol production"
   ]
  },
  {
   "cell_type": "code",
   "execution_count": null,
   "metadata": {},
   "outputs": [],
   "source": [
    "# Uso del modelo iML1515 , ecoli K12\n",
    "\n",
    "\n",
    "if not exists(\"PROMICON/iML1515.xml\"):\n",
    "    url = 'http://bigg.ucsd.edu/static/models/iML1515.xml'\n",
    "    r = requests.get(url, allow_redirects=True)\n",
    "    open('iML1515.xml', 'wb').write(r.content)\n",
    "iML1515=cobra.io.read_sbml_model(\"PROMICON/iML1515.xml\")\n",
    "\n",
    "\n",
    "\n"
   ]
  },
  {
   "cell_type": "code",
   "execution_count": null,
   "metadata": {},
   "outputs": [],
   "source": [
    "# Reacciones necesarios para la generación de butanol\n",
    "from cobra import Reaction,Metabolite\n",
    "def model_modifications_pathway_pyruvate_fermentation(model):\n",
    "    modified_model=model.copy()\n",
    "    PYRDC=Reaction(\"PYRDC\")\n",
    "    PYRDC.name=\"pyruvate decarboxylase\"\n",
    "    PYRDC.subsystem=\"butanol biosynthesis (engineered)\"\n",
    "    btal_c=Metabolite(\"btal_c\",name=\"Butanal\",compartment='c',formula='C4H8O',charge=0)\n",
    "    PYRDC.add_metabolites({modified_model.metabolites.get_by_id(\"3mob_c\"):-1,\n",
    "                        modified_model.metabolites.get_by_id(\"h_c\"):-1,\n",
    "                        modified_model.metabolites.get_by_id(\"co2_c\"):1,\n",
    "                        btal_c:1}) \n",
    "    \n",
    "    PYRDC=Reaction(\"\")\n",
    "    PYRDC.name=\"alcohol deydrogenase\"\n",
    "    PYRDC.subsystem=\"butanol biosynthesis (engineered)\"\n",
    "    PYRDC.add_metabolites({modified_model.metabolites.get_by_id(\"3hbcoa_c\"):-1,\n",
    "                        modified_model.metabolites.get_by_id(\"h_c\"):-1,\n",
    "                        modified_model.metabolites.get_by_id(\"co2_c\"):1,\n",
    "                        btal_c:1}) \n",
    "    \n",
    "    butanal_butanol_modifications(modified_model)\n",
    "    \n",
    "def model_modifications_pathway_clostridium(model):\n",
    "    modified_model=model.copy()\n",
    "    \n",
    "    # HBCH reaction\n",
    "    ctncoa_c=Metabolite(\"ctncoa_c\",name=\"Crotonyl-CoA\",compartment='c',formula='C25H40N7O17P3S',charge=0)\n",
    "    HBCH=Reaction(\"HBCH\",name=\"Crotonyl-Coa creation\")\n",
    "    HBCH.lower_bound=-1000\n",
    "    HBCH.upper_bound=1000\n",
    "    HBCH.add_metabolites({modified_model.metabolites.get_by_id(\"3hbcoa_c\"):-1,\n",
    "                        modified_model.metabolites.get_by_id(\"h_c\"):-1,\n",
    "                        modified_model.metabolites.get_by_id(\"h2o_c\"):1,\n",
    "                        ctncoa_c:1})\n",
    "    modified_model.add_reactions([HBCH])\n",
    "    \n",
    "    # BCD reaction\n",
    "    BCD=Reaction(\"BCD\",name=\"butyryl-CoA dehydrogenase\")\n",
    "    bcoa_c=Metabolite(\"bcoa_c\",name=\"Butyryl CoA\",compartment='c',formula='C25H42N7O17P3S',charge=0)\n",
    "\n",
    "    BCD.add_metabolites({modified_model.metabolites.get_by_id(\"ctncoa_c\"):-1,\n",
    "                        modified_model.metabolites.get_by_id(\"h_c\"):-1,\n",
    "                        modified_model.metabolites.get_by_id(\"nadh_c\"):-1,\n",
    "                        bcoa_c:1,\n",
    "                        modified_model.metabolites.get_by_id(\"nad_c\"):1,\n",
    "                        modified_model.metabolites.get_by_id(\"coa_c\"):1})\n",
    "    modified_model.add_reactions([BCD])\n",
    "    \n",
    "    # BAD reaction\n",
    "    btal_c=Metabolite(\"btal_c\",name=\"Butanal\",compartment='c',formula='C4H8O',charge=0)\n",
    "    BAD=Reaction(\"BAD\",name=\"Butyryl aldehyde dehydrogenase\")\n",
    "    BAD.lower_bound=-1000\n",
    "    BAD.upper_bound=1000\n",
    "    BAD.add_metabolites({modified_model.metabolites.get_by_id(\"bcoa_c\"):-1,\n",
    "                        modified_model.metabolites.get_by_id(\"nadh_c\"):-1,\n",
    "                        modified_model.metabolites.get_by_id(\"h_c\"):-1, \n",
    "                        btal_c:1,\n",
    "                        modified_model.metabolites.get_by_id(\"nad_c\"):1})\n",
    "    modified_model.add_reactions([BAD])\n",
    "    butanal_butanol_modifications(modified_model)\n",
    "    return(modified_model)\n",
    "    \n",
    "def butanal_butanol_modifications(modified_model):\n",
    "  \n",
    "    # NADBH reaction\n",
    "    btoh_c=Metabolite(\"btoh_c\",name=\"Butanol\",compartment='c',formula='C4H10O',charge=0)\n",
    "    btal_c=Metabolite(\"btal_c\",name=\"Butanal\",compartment='c',formula='C4H8O',charge=0)\n",
    "    \n",
    "    NADBH=Reaction(\"NADBH\",name=\"NADPH-dependent butanol dehydrogenase\")\n",
    "    NADBH.lower_bound=-1000\n",
    "    NADBH.upper_bound=1000\n",
    "    NADBH.add_metabolites({btal_c:-1,\n",
    "                        modified_model.metabolites.get_by_id(\"nadh_c\"):-1,\n",
    "                        modified_model.metabolites.get_by_id(\"h_c\"):-1,   \n",
    "                        btoh_c:1,\n",
    "                        modified_model.metabolites.get_by_id(\"nad_c\"):1\n",
    "                        })\n",
    "    modified_model.add_reactions([NADBH])\n",
    "    \n",
    "    # BTOHt2rpp reaction\n",
    "    btoh_p=Metabolite(\"btoh_p\",name=\"Butanol\",compartment='p',formula='C4H10O',charge=0)\n",
    "    BTOHt2rpp=Reaction(\"BTOHt2rpp\",name=\"Butanol transport via proton symport (periplasm)\")\n",
    "    BTOHt2rpp.lower_bound=-1000\n",
    "    BTOHt2rpp.upper_bound=1000\n",
    "    BTOHt2rpp.add_metabolites({modified_model.metabolites.get_by_id(\"h_c\"):-1,\n",
    "                        modified_model.metabolites.get_by_id(\"btoh_c\"):-1,\n",
    "                        btoh_p:1,\n",
    "                        modified_model.metabolites.get_by_id(\"h_p\"):1\n",
    "                        })\n",
    "    modified_model.add_reactions([BTOHt2rpp])\n",
    "    \n",
    "    # BTOHtex reaction\n",
    "    btoh_e=Metabolite(\"btoh_e\",name=\"Butanol\",compartment='e',formula='C4H10O',charge=0)\n",
    "\n",
    "    BTOHtex=Reaction(\"BTOHtex\",name=\"Butanol transport via diffusion (extracellular to periplasm)\")\n",
    "    BTOHtex.lower_bound=-1000\n",
    "    BTOHtex.upper_bound=1000\n",
    "    BTOHtex.add_metabolites({modified_model.metabolites.get_by_id(\"btoh_p\"):-1,\n",
    "                        btoh_e:1\n",
    "                        })\n",
    "    modified_model.add_reactions([BTOHtex])\n",
    "    \n",
    "    # EX_btoh_e reaction\n",
    "    EX_btoh_e=Reaction(\"EX_btoh_e\",name=\"Butanol exchange\")\n",
    "    EX_btoh_e.lower_bound=0\n",
    "    EX_btoh_e.upper_bound=1000\n",
    "    EX_btoh_e.add_metabolites({modified_model.metabolites.get_by_id(\"btoh_e\"):-1})\n",
    "    modified_model.add_reactions([EX_btoh_e])\n"
   ]
  },
  {
   "cell_type": "code",
   "execution_count": null,
   "metadata": {},
   "outputs": [],
   "source": [
    "iML1515_butanol=model_modifications_pathway_clostridium(iML1515)"
   ]
  },
  {
   "cell_type": "code",
   "execution_count": null,
   "metadata": {},
   "outputs": [],
   "source": [
    "iML1515_butanol.reactions.EX_glc__D_e.lower_bound=0\n",
    "iML1515_butanol.reactions.EX_ac_e.lower_bound=-10\n",
    "iML1515_butanol.summary()"
   ]
  },
  {
   "cell_type": "code",
   "execution_count": null,
   "metadata": {},
   "outputs": [],
   "source": [
    "from cobra.flux_analysis import flux_variability_analysis\n",
    "cobra.flux_analysis.flux_variability_analysis(\n",
    "    iML1515_butanol, \"EX_btoh_e\", fraction_of_optimum=0.9)\n"
   ]
  },
  {
   "cell_type": "code",
   "execution_count": null,
   "metadata": {},
   "outputs": [],
   "source": [
    "cobra.io.write_sbml_model(iML1515_butanol,\"PROMICON/iML1515_butanol.xml\")"
   ]
  },
  {
   "cell_type": "markdown",
   "metadata": {},
   "source": [
    "## Synechocystis acetate productor"
   ]
  },
  {
   "cell_type": "code",
   "execution_count": null,
   "metadata": {},
   "outputs": [],
   "source": [
    "# Synechocystis acetate productor\n",
    "import importExcelModel\n",
    "if not exists(\"PROMICON/iJN678_new_annotation.mat\"):\n",
    "    print(\"No esta el modelo\")\n",
    "else:\n",
    "    iJN678=importExcelModel.import_excel_model(\"PROMICON/iJN678.xls\",\"iJN678\")\n"
   ]
  },
  {
   "cell_type": "code",
   "execution_count": null,
   "metadata": {},
   "outputs": [],
   "source": [
    "iJN678.summary()\n"
   ]
  },
  {
   "cell_type": "code",
   "execution_count": null,
   "metadata": {},
   "outputs": [],
   "source": [
    "cobra.io.write_sbml_model(iJN678,\"PROMICON/iJN678_acetate.xml\")"
   ]
  },
  {
   "cell_type": "markdown",
   "metadata": {},
   "source": [
    "### Mutations for acetate production based on https://biotechnologyforbiofuels.biomedcentral.com/articles/10.1186/s13068-018-1037-8"
   ]
  },
  {
   "cell_type": "code",
   "execution_count": null,
   "metadata": {},
   "outputs": [],
   "source": [
    "iJN678.reactions.ACS.knock_out()\n",
    "iJN678.reactions.ACKr.knock_out()\n",
    "iJN678.reactions.ACtex.bounds=(-1000,1000)\n",
    "iJN678.reactions.EX_ac_e.bounds=(0,1000)\n",
    "iJN678.summary()"
   ]
  },
  {
   "cell_type": "code",
   "execution_count": null,
   "metadata": {},
   "outputs": [],
   "source": [
    "cobra.io.write_sbml_model(iJN678,\"PROMICON/iJN678_acetate_mutant.xml\")"
   ]
  },
  {
   "cell_type": "markdown",
   "metadata": {},
   "source": [
    "## Synechoccocus sucrose productor"
   ]
  },
  {
   "cell_type": "code",
   "execution_count": null,
   "metadata": {},
   "outputs": [],
   "source": [
    "iJN785=cobra.io.read_sbml_model(\"PROMICON/iJB785.xml\")\n",
    "iJN785.reactions.EX_leu__L_e.lower_bound=0\n",
    "iJN785.summary()"
   ]
  },
  {
   "cell_type": "code",
   "execution_count": null,
   "metadata": {},
   "outputs": [],
   "source": [
    "def add_sucrose_transporters(model):\n",
    "    sucr_p=Metabolite(\"sucr_p\",\n",
    "                     name=\"Sucrose\",\n",
    "                     compartment=\"p\",\n",
    "                     formula=\"C12H22O11\",\n",
    "                     charge=0)\n",
    "    sucr_e=Metabolite(\"sucr_e\",\n",
    "                     name=\"Sucrose\",\n",
    "                     compartment=\"e\",\n",
    "                     formula=\"C12H22O11\",\n",
    "                     charge=0)\n",
    "    SUCRtpp=Reaction(\"SUCRtpp\",name=\"Sucrose transport via proton symport (periplasm)\")\n",
    "    SUCRtpp.lower_bound=0\n",
    "    SUCRtpp.upper_bound=1000\n",
    "    SUCRtpp.add_metabolites({model.metabolites.get_by_id(\"h_c\"):-1,\n",
    "                        model.metabolites.get_by_id(\"sucr_c\"):-1,\n",
    "                        sucr_p:1,\n",
    "                        model.metabolites.get_by_id(\"h_p\"):1\n",
    "                        })\n",
    "    model.add_reactions([SUCRtpp])\n",
    "    \n",
    "    # SUCRtex reaction\n",
    "\n",
    "    SUCRtex=Reaction(\"SUCRtex\",name=\"Sucrose transport via diffusion (extracellular to periplasm)\")\n",
    "    SUCRtex.lower_bound=0\n",
    "    SUCRtex.upper_bound=1000\n",
    "    SUCRtex.add_metabolites({model.metabolites.get_by_id(\"sucr_p\"):-1,\n",
    "                        sucr_e:1\n",
    "                        })\n",
    "    model.add_reactions([SUCRtex])\n",
    "    \n",
    "    # EX_sucr_e reaction\n",
    "    EX_sucr_e=Reaction(\"EX_sucr_e\",name=\"Butanol exchange\")\n",
    "    EX_sucr_e.lower_bound=0\n",
    "    EX_sucr_e.upper_bound=1000\n",
    "    EX_sucr_e.add_metabolites({model.metabolites.get_by_id(\"sucr_e\"):-1})\n",
    "    model.add_reactions([EX_sucr_e])\n",
    "    "
   ]
  },
  {
   "cell_type": "code",
   "execution_count": null,
   "metadata": {},
   "outputs": [],
   "source": [
    "add_sucrose_transporters(iJN785)\n",
    "iJN785.summary()"
   ]
  },
  {
   "cell_type": "code",
   "execution_count": null,
   "metadata": {},
   "outputs": [],
   "source": [
    "cobra.io.write_sbml_model(iJN785,\"PROMICON/iJN785_sucrose.xml\")"
   ]
  },
  {
   "cell_type": "markdown",
   "metadata": {},
   "source": [
    "### Modifications based on SPP overexpression and SUCR deletion"
   ]
  },
  {
   "cell_type": "code",
   "execution_count": null,
   "metadata": {},
   "outputs": [],
   "source": [
    "iJN785.reactions.SPP.lower_bound=0.25\n",
    "iJN785.reactions.SUCR.knock_out()\n",
    "iJN785.summary()"
   ]
  },
  {
   "cell_type": "markdown",
   "metadata": {},
   "source": [
    "# R. palustris\n",
    "\n",
    "iAN1128 downloaded from: Navid, Ali, et al. \"System-level analysis of metabolic trade-offs during anaerobic photoheterotrophic growth in Rhodopseudomonas palustris.\" BMC bioinformatics 20.1 (2019): 1-16.\n",
    "https://bmcbioinformatics.biomedcentral.com/articles/10.1186/s12859-019-2844-z"
   ]
  },
  {
   "cell_type": "markdown",
   "metadata": {},
   "source": [
    "## Modificación del modelo original, NO EJECUTAR"
   ]
  },
  {
   "cell_type": "code",
   "execution_count": null,
   "metadata": {},
   "outputs": [],
   "source": [
    "iAN1128=cobra.io.read_sbml_model(\"PROMICON/iAN1128.xml\")"
   ]
  },
  {
   "cell_type": "code",
   "execution_count": null,
   "metadata": {},
   "outputs": [],
   "source": [
    "def kegg_to_bigg(model):\n",
    "    kegg2bigg={\n",
    "        'C00811XT_e':'T4hcinnm_e',\n",
    "        'C00156XT_e':'4hbz_e',\n",
    "        'XC54XT_e':'Biomass_e',\n",
    "        'C00175XT_e':'cobalt2_e',\n",
    "        'C00033XT_e':'ac_e',\n",
    "        'C00194XT_e':'adocbl_e',\n",
    "        'C00026XT_e':'akg_e',\n",
    "        'C00993XT_e':'alaala_e',\n",
    "        'C00062XT_e':'arg__L_e',\n",
    "        'C00152XT_e':'asn__L_e',\n",
    "        'C00049XT_e':'asp__L_e',\n",
    "        'C00180XT_e':'bz_e',\n",
    "        'C00120XT_e':'btn_e',\n",
    "        'C00076XT_e':'ca2_e',\n",
    "        'C00853XT_e':'cbl1_e',\n",
    "        'C01413XT_e':'cd2_e',\n",
    "        'C00114XT_e':'chol_e',\n",
    "        'C00698XT_e':'cl_e',\n",
    "        'C00011XT_e':'co2_e',\n",
    "        'C00070XT_e':'cu2_e',\n",
    "        'C00097XT_e':'cys__L_e',\n",
    "        'C05198XT_e':'dad_5_e',\n",
    "        'C14818XT_e':'fe2_e',\n",
    "        'C14819XT_e':'fe3_e',\n",
    "        'C00095XT_e':'fru_e',\n",
    "        'C00122XT_e':'fum_e',\n",
    "        'C00064XT_e':'gln__L_e',\n",
    "        'C00025XT_e':'glu__L_e',\n",
    "        'C00719XT_e':'glyb_e',\n",
    "        'C00093XT_e':'glyc3p_e',\n",
    "        'C00116XT_e':'glyc_e',\n",
    "        'C00127XT_e':'gthox_e',\n",
    "        'C00051XT_e':'gthrd_e',\n",
    "        'C00001XT_e':'h2o_e',\n",
    "        'C00282XT_e':'h2_e',\n",
    "        'C00135XT_e':'his__L_e',\n",
    "        'C00205XT_e':'photon_e',\n",
    "        'C00080XT_e':'h_e',\n",
    "        'C00407XT_e':'ile__L_e',\n",
    "        'C00238XT_e':'k_e',\n",
    "        'C00186XT_e':'lac__L_e',\n",
    "        'C00123XT_e':'leu__L_e',\n",
    "        'C00047XT_e':'lys__L_e',\n",
    "        'C00149XT_e':'mal__L_e',\n",
    "        'C00208XT_e':'malt_e',\n",
    "        'C00159XT_e':'man_e',\n",
    "        'C00073XT_e':'met__L_e',\n",
    "        'C00305XT_e':'mg2_e',\n",
    "        'C00034XT_e':'mn2_e',\n",
    "        'C06232XT_e':'mobd_e',\n",
    "        'C00697XT_e':'n2_e',\n",
    "        'C01330XT_e':'na1_e',\n",
    "        'C00014XT_e':'nh3_e',\n",
    "        'C00244XT_e':'no3_e',\n",
    "        'C00007XT_e':'o2_e',\n",
    "        'C06696XT_e':'pb_e',\n",
    "        'C00032XT_e':'pheme_e',\n",
    "        'C00146XT_e':'phenol_e',\n",
    "        'C02656XT_e':'pime_e',\n",
    "        'C00009XT_e':'pi_e',\n",
    "        'C00864XT_e':'pnto__R_e',\n",
    "        'C00744XT_e':'pro__L_e',\n",
    "        'C00134XT_e':'ptrc_e',\n",
    "        'C00022XT_e':'pyr_e',\n",
    "        'C00121XT_e':'rib__D_e',\n",
    "        'C00506XT_e':'Lcyst_e',\n",
    "        'C00059XT_e':'so4_e',\n",
    "        'C00315XT_e':'spmd_e',\n",
    "        'C00042XT_e':'succ_e',\n",
    "        'C00089XT_e':'sucr_e',\n",
    "        'C14179XT_e':'sula_e',\n",
    "        'C00245XT_e':'taur_e',\n",
    "        'C00378XT_e':'thm_e',\n",
    "        'C01083XT_e':'tre_e',\n",
    "        'C00320XT_e':'tsul_e',\n",
    "        'C00086XT_e':'urea_e',\n",
    "        'C00183XT_e':'val__L_e',\n",
    "        'C06672XT_e':'vanlt_e',\n",
    "        'C00038XT_e':'zn2_e',\n",
    "        'C00811XT_c':'T4hcinnm_c',\n",
    "        'C00156_c':'4hbz_c',\n",
    "        'XC54_c':'Biomass_c',\n",
    "        'C00175_c':'cobalt2_c',\n",
    "        'C00033_c':'ac_c',\n",
    "        'C00194_c':'adocbl_c',\n",
    "        'C00026_c':'akg_c',\n",
    "        'C00993_c':'alaala_c',\n",
    "        'C00062_c':'arg__L_c',\n",
    "        'C00152_c':'asn__L_c',\n",
    "        'C00049_c':'asp__L_c',\n",
    "        'C00180_c':'bz_c',\n",
    "        'C00120_c':'btn_c',\n",
    "        'C00076_c':'ca2_c',\n",
    "        'C00853_c':'cbl1_c',\n",
    "        'C01413_c':'cd2_c',\n",
    "        'C00114_c':'chol_c',\n",
    "        'C00698_c':'cl_c',\n",
    "        'C00011_c':'co2_c',\n",
    "        'C00070_c':'cu2_c',\n",
    "        'C00097_c':'cys__L_c',\n",
    "        'C05198_c':'dad_5_c',\n",
    "        'C14818_c':'fe2_c',\n",
    "        'C14819_c':'fe3_c',\n",
    "        'C00095_c':'fru_c',\n",
    "        'C00122_c':'fum_c',\n",
    "        'C00064_c':'gln__L_c',\n",
    "        'C00025_c':'glu__L_c',\n",
    "        'C00719_c':'glyb_c',\n",
    "        'C00093_c':'glyc3p_c',\n",
    "        'C00116_c':'glyc_c',\n",
    "        'C00127_c':'gthox_c',\n",
    "        'C00051_c':'gthrd_c',\n",
    "        'C00001_c':'h2o_c',\n",
    "        'C00282_c':'h2_c',\n",
    "        'C00135_c':'his__L_c',\n",
    "        'C00205_c':'photon_c',\n",
    "        'C00080_c':'h_c',\n",
    "        'C00407_c':'ile__L_c',\n",
    "        'C00238_c':'k_c',\n",
    "        'C00186_c':'lac__L_c',\n",
    "        'C00123_c':'leu__L_c',\n",
    "        'C00047_c':'lys__L_c',\n",
    "        'C00149_c':'mal__L_c',\n",
    "        'C00208_c':'malt_c',\n",
    "        'C00159_c':'man_c',\n",
    "        'C00073_c':'met__L_c',\n",
    "        'C00305_c':'mg2_c',\n",
    "        'C00034_c':'mn2_c',\n",
    "        'C06232_c':'mobd_c',\n",
    "        'C00697_c':'n2_c',\n",
    "        'C01330_c':'na1_c',\n",
    "        'C00014_c':'nh3_c',\n",
    "        'C00244_c':'no3_c',\n",
    "        'C00007_c':'o2_c',\n",
    "        'C06696_c':'pb_c',\n",
    "        'C00032_c':'pheme_c',\n",
    "        'C00146_c':'phenol_c',\n",
    "        'C02656_c':'pime_c',\n",
    "        'C00009_c':'pi_c',\n",
    "        'C00864_c':'pnto__R_c',\n",
    "        'C00744_c':'pro__L_c',\n",
    "        'C00134_c':'ptrc_c',\n",
    "        'C00022_c':'pyr_c',\n",
    "        'C00121_c':'rib__D_c',\n",
    "        'C00506_c':'Lcyst_c',\n",
    "        'C00059_c':'so4_c',\n",
    "        'C00315_c':'spmd_c',\n",
    "        'C00042_c':'succ_c',\n",
    "        'C00089_c':'sucr_c',\n",
    "        'C14179_c':'sula_c',\n",
    "        'C00245_c':'taur_c',\n",
    "        'C00378_c':'thm_c',\n",
    "        'C01083_c':'tre_c',\n",
    "        'C00320_c':'tsul_c',\n",
    "        'C00086_c':'urea_c',\n",
    "        'C00183_c':'val__L_c',\n",
    "        'C06672_c':'vanlt_c',\n",
    "        'C00038_c':'zn2_c',\n",
    "        'C00811PX_p':'T4hcinnm_p',\n",
    "        'C00156PX_p':'4hbz_p',\n",
    "        'XC54PX_p':'Biomass_p',\n",
    "        'C00175PX_p':'cobalt2_p',\n",
    "        'C00033PX_p':'ac_p',\n",
    "        'C00194PX_p':'adocbl_p',\n",
    "        'C00026PX_p':'akg_p',\n",
    "        'C00993PX_p':'alaala_p',\n",
    "        'C00062PX_p':'arg__L_p',\n",
    "        'C00152PX_p':'asn__L_p',\n",
    "        'C00049PX_p':'asp__L_p',\n",
    "        'C00180PX_p':'bz_p',\n",
    "        'C00120PX_p':'btn_p',\n",
    "        'C00076PX_p':'ca2_p',\n",
    "        'C00853PX_p':'cbl1_p',\n",
    "        'C01413PX_p':'cd2_p',\n",
    "        'C00114PX_p':'chol_p',\n",
    "        'C00698PX_p':'cl_p',\n",
    "        'C00011PX_p':'co2_p',\n",
    "        'C00070PX_p':'cu2_p',\n",
    "        'C00097PX_p':'cys__L_p',\n",
    "        'C05198PX_p':'dad_5_p',\n",
    "        'C14818PX_p':'fe2_p',\n",
    "        'C14819PX_p':'fe3_p',\n",
    "        'C00095PX_p':'fru_p',\n",
    "        'C00122PX_p':'fum_p',\n",
    "        'C00064PX_p':'gln__L_p',\n",
    "        'C00025PX_p':'glu__L_p',\n",
    "        'C00719PX_p':'glyb_p',\n",
    "        'C00093PX_p':'glyc3p_p',\n",
    "        'C00116PX_p':'glyc_p',\n",
    "        'C00127PX_p':'gthox_p',\n",
    "        'C00051PX_p':'gthrd_p',\n",
    "        'C00001PX_p':'h2o_p',\n",
    "        'C00282PX_p':'h2_p',\n",
    "        'C00135PX_p':'his__L_p',\n",
    "        'C00205PX_p':'photon_p',\n",
    "        'C00080PX_p':'h_p',\n",
    "        'C00407PX_p':'ile__L_p',\n",
    "        'C00238PX_p':'k_p',\n",
    "        'C00186PX_p':'lac__L_p',\n",
    "        'C00123PX_p':'leu__L_p',\n",
    "        'C00047PX_p':'lys__L_p',\n",
    "        'C00149PX_p':'mal__L_p',\n",
    "        'C00208PX_p':'malt_p',\n",
    "        'C00159PX_p':'man_p',\n",
    "        'C00073PX_p':'met__L_p',\n",
    "        'C00305PX_p':'mg2_p',\n",
    "        'C00034PX_p':'mn2_p',\n",
    "        'C06232PX_p':'mobd_p',\n",
    "        'C00697PX_p':'n2_p',\n",
    "        'C01330PX_p':'na1_p',\n",
    "        'C00014PX_p':'nh3_p',\n",
    "        'C00244PX_p':'no3_p',\n",
    "        'C00007PX_p':'o2_p',\n",
    "        'C06696PX_p':'pb_p',\n",
    "        'C00032PX_p':'pheme_p',\n",
    "        'C00146PX_p':'phenol_p',\n",
    "        'C02656PX_p':'pime_p',\n",
    "        'C00009PX_p':'pi_p',\n",
    "        'C00864PX_p':'pnto__R_p',\n",
    "        'C00744PX_p':'pro__L_p',\n",
    "        'C00134PX_p':'ptrc_p',\n",
    "        'C00022PX_p':'pyr_p',\n",
    "        'C00121PX_p':'rib__D_p',\n",
    "        'C00506PX_p':'Lcyst_p',\n",
    "        'C00059PX_p':'so4_p',\n",
    "        'C00315PX_p':'spmd_p',\n",
    "        'C00042PX_p':'succ_p',\n",
    "        'C00089PX_p':'sucr_p',\n",
    "        'C14179PX_p':'sula_p',\n",
    "        'C00245PX_p':'taur_p',\n",
    "        'C00378PX_p':'thm_p',\n",
    "        'C01083PX_p':'tre_p',\n",
    "        'C00320PX_p':'tsul_p',\n",
    "        'C00086PX_p':'urea_p',\n",
    "        'C00183PX_p':'val__L_p',\n",
    "        'C06672PX_p':'vanlt_p',\n",
    "        'C00038PX_p':'zn2_p'\n",
    " \n",
    " \n",
    "    }\n",
    "    for metabolite in model.metabolites:\n",
    "        if metabolite.id in kegg2bigg:\n",
    "            metabolite.id=kegg2bigg[metabolite.id]\n",
    "    importExcelModel.cobrapy_to_excel(model,\"PROMICON/iAN1128_bigg_tmp.xlsx\")\n",
    "    "
   ]
  },
  {
   "cell_type": "code",
   "execution_count": null,
   "metadata": {},
   "outputs": [],
   "source": [
    "iAN1128_old=importExcelModel.import_excel_model(\"PROMICON/iAN1128_fixed.xls\",\"iAN1128\")"
   ]
  },
  {
   "cell_type": "code",
   "execution_count": null,
   "metadata": {},
   "outputs": [],
   "source": [
    "iAN1128_old.summary()"
   ]
  },
  {
   "cell_type": "code",
   "execution_count": null,
   "metadata": {},
   "outputs": [],
   "source": [
    "kegg_to_bigg(iAN1128_old)\n"
   ]
  },
  {
   "cell_type": "markdown",
   "metadata": {},
   "source": [
    "### El modelo necesita cambios manuales de nombres de reacciones y se ha añadido HEX1"
   ]
  },
  {
   "cell_type": "code",
   "execution_count": null,
   "metadata": {},
   "outputs": [],
   "source": [
    "iAN1128=importExcelModel.import_excel_model(\"PROMICON/iAN1128_bigg.xlsx\",\"iAN1128\")\n",
    "iAN1128.summary()"
   ]
  },
  {
   "cell_type": "code",
   "execution_count": null,
   "metadata": {},
   "outputs": [],
   "source": [
    "# Importe de N2 y limitacion de NH3 para usarlo para producir H2\n",
    "iAN1128.reactions.EX_nh3_e.lower_bound=0\n",
    "iAN1128.summary()"
   ]
  },
  {
   "cell_type": "markdown",
   "metadata": {},
   "source": [
    "### hydrogen:ferredoxin oxidoreductase knock out para no producir protones a partir de h2"
   ]
  },
  {
   "cell_type": "code",
   "execution_count": null,
   "metadata": {},
   "outputs": [],
   "source": [
    "\n",
    "iAN1128.reactions.R00019.knock_out()\n",
    "iAN1128.summary()"
   ]
  },
  {
   "cell_type": "code",
   "execution_count": null,
   "metadata": {},
   "outputs": [],
   "source": [
    "cobra.io.write_sbml_model(iAN1128,\"PROMICON/iAN1128_hydrogen.xml\")"
   ]
  },
  {
   "cell_type": "code",
   "execution_count": null,
   "metadata": {},
   "outputs": [],
   "source": [
    "def add_sucrose_metabolism_palustris(model):\n",
    "    INVERTASE=Reaction('INVERTASE')\n",
    "    INVERTASE.name='Sucrose transformation to fructose and glucose'\n",
    "    INVERTASE.lower_bound=0\n",
    "    INVERTASE.upper_bound=1000\n",
    "    INVERTASE.add_metabolites({model.metabolites.get_by_id(\"h2o_p\"):-1.0,\n",
    "                               model.metabolites.get_by_id(\"sucr_p\"):-1.0,\n",
    "                               model.metabolites.get_by_id(\"C00031_c\"):1.0,\n",
    "                               model.metabolites.get_by_id(\"fru_p\"):1.0\n",
    "                              })\n",
    "\n",
    "    model.add_reaction(INVERTASE)\n",
    "    del(INVERTASE)\n",
    "    glc__D_e=Metabolite(\"glc__D_e\",\n",
    "                     name=\"D-glucose\",\n",
    "                     compartment=\"e\",\n",
    "                     formula=\"X\",\n",
    "                     charge=0)\n",
    "    \n",
    "    GLCtex=Reaction(\"GLCtex\",name=\"Glucose transporter\")\n",
    "    GLCtex.lower_bound=0\n",
    "    GLCtex.upper_bound=1000\n",
    "    GLCtex.add_metabolites({model.metabolites.get_by_id(\"C00031_c\"):-1,\n",
    "                                glc__D_e:1.0})\n",
    "    model.add_reactions([GLCtex])\n",
    "    EX_glc__D_e=Reaction(\"EX_glc__D_e\",name=\"Glucose exchange\")\n",
    "    EX_glc__D_e.lower_bound=0\n",
    "    EX_glc__D_e.upper_bound=1000\n",
    "    EX_glc__D_e.add_metabolites({model.metabolites.get_by_id(\"C00031_c\"):-1})\n",
    "    model.add_reactions([EX_glc__D_e])\n",
    "    \n",
    "\n",
    "model=cobra.io.read_sbml_model(\"PROMICON/iAN1128_hydrogen.xml\")\n",
    "add_sucrose_metabolism_palustris(model)\n",
    "model.reactions.EX_sucr_e.lower_bound=-1000\n",
    "model.summary()"
   ]
  },
  {
   "cell_type": "code",
   "execution_count": null,
   "metadata": {},
   "outputs": [],
   "source": [
    "cobra.io.write_sbml_model(model,\"PROMICON/iAN1128_sucrose.xml\")"
   ]
  },
  {
   "cell_type": "markdown",
   "metadata": {},
   "source": [
    "# P.putida basado en el modelo de Manoli"
   ]
  },
  {
   "cell_type": "code",
   "execution_count": null,
   "metadata": {},
   "outputs": [],
   "source": [
    "# Import P. putida \n",
    "pputida=cobra.io.read_sbml_model(\"PROMICON/modelManoli.xml\")\n",
    "pputida.summary()"
   ]
  },
  {
   "cell_type": "code",
   "execution_count": null,
   "metadata": {},
   "outputs": [],
   "source": [
    "def add_sucrose_metabolism(model):\n",
    "\n",
    "    # Reaccion de transporte de sacarosa\n",
    "    sucr_e = Metabolite('sucr_e', compartment='e',formula='C12H22O11', name='Sucrose C12H22O11')\n",
    "    sucr_p = Metabolite('sucr_p', compartment='p',formula='C12H22O11', name='Sucrose C12H22O11')\n",
    "    sucr_c = Metabolite('sucr_c', compartment='c',formula='C12H22O11', name='Sucrose C12H22O11')\n",
    "    EX_sucr_e=Reaction('EX_sucr_e')\n",
    "    EX_sucr_e.name='Sucrose exchange'\n",
    "    EX_sucr_e.lower_bound=-10\n",
    "    EX_sucr_e.upper_bound=0\n",
    "    EX_sucr_e.add_metabolites({sucr_e:-1.0})\n",
    "    \n",
    "    model.add_reaction(EX_sucr_e)\n",
    "    SUCRtex=Reaction('SUCRtex')\n",
    "    SUCRtex.name='Sucrose transport (extracelular to periplasm)'\n",
    "    SUCRtex.lower_bound=0\n",
    "    SUCRtex.upper_bound=1000\n",
    "    SUCRtex.add_metabolites({model.metabolites.get_by_id(\"sucr_e\"):-1.0,\n",
    "                               sucr_p:1.0})\n",
    "    model.add_reaction(SUCRtex)\n",
    "    del(SUCRtex)\n",
    "    \n",
    "    SUCRtpp=Reaction('SUCRtpp')\n",
    "    SUCRtpp.name='Sucrose transport (periplasm to cytoplasm)'\n",
    "    SUCRtpp.lower_bound=0\n",
    "    SUCRtpp.upper_bound=1000\n",
    "    SUCRtpp.add_metabolites({model.metabolites.get_by_id(\"sucr_p\"):-1.0,\n",
    "                               model.metabolites.get_by_id(\"h_p\"):-1.0,\n",
    "                               sucr_c:1.0,\n",
    "                               model.metabolites.get_by_id(\"h_c\"):1.0})\n",
    "    model.add_reaction(SUCRtpp)\n",
    "    del(SUCRtpp)\n",
    "    \n",
    "    INVERTASE=Reaction('INVERTASE')\n",
    "    INVERTASE.name='Sucrose transformation to fructose'\n",
    "    INVERTASE.lower_bound=0\n",
    "    INVERTASE.upper_bound=1000\n",
    "    INVERTASE.add_metabolites({model.metabolites.get_by_id(\"h2o_p\"):-1.0,\n",
    "                               model.metabolites.get_by_id(\"sucr_p\"):-1.0,\n",
    "                               model.metabolites.get_by_id(\"glc__D_p\"):1.0,\n",
    "                               model.metabolites.get_by_id(\"fru_p\"):1.0\n",
    "                              })\n",
    "\n",
    "    model.add_reaction(INVERTASE)\n",
    "    del(INVERTASE)\n",
    "\n",
    "def add_PHA_transporter(model):\n",
    "    # Required transport reactions for COMETS\n",
    "    C80aPHA_e = Metabolite('C80aPHA_e', compartment='e',formula='C8H15O3R', name='PHA')\n",
    "    C80aPHAtex=Reaction('C80aPHAtex')\n",
    "    C80aPHAtex.name='C80aPHA transport (extracelular to cytoplasm)'\n",
    "    C80aPHAtex.lower_bound=0\n",
    "    C80aPHAtex.upper_bound=1000\n",
    "    C80aPHAtex.add_metabolites({model.metabolites.get_by_id(\"C80aPHA_c\"):-1.0,\n",
    "                               C80aPHA_e:1.0})\n",
    "    model.add_reaction(C80aPHAtex)\n",
    "    EX_C80aPHA_e=Reaction('EX_C80aPHA_e')\n",
    "    EX_C80aPHA_e.name='C80aPHA EXCHANGE'\n",
    "    EX_C80aPHA_e.lower_bound=0\n",
    "    EX_C80aPHA_e.upper_bound=1000\n",
    "    EX_C80aPHA_e.add_metabolites({model.metabolites.get_by_id(\"C80aPHA_e\"):-1.0})\n",
    "    model.add_reaction(EX_C80aPHA_e)\n",
    "    # Disable demand reaction\n",
    "    model.reactions.DM_C80aPHA.knock_out()\n",
    "    \n",
    "    "
   ]
  },
  {
   "cell_type": "code",
   "execution_count": null,
   "metadata": {},
   "outputs": [],
   "source": [
    "add_sucrose_metabolism(pputida)\n",
    "add_PHA_transporter(pputida)"
   ]
  },
  {
   "cell_type": "code",
   "execution_count": null,
   "metadata": {},
   "outputs": [],
   "source": [
    "# Quitamos pet como fuente de carbono y le metemos sacarosa\n",
    "pputida.reactions.EX_pet_e.lower_bound=0"
   ]
  },
  {
   "cell_type": "code",
   "execution_count": null,
   "metadata": {},
   "outputs": [],
   "source": [
    "pputida.summary()"
   ]
  },
  {
   "cell_type": "code",
   "execution_count": null,
   "metadata": {},
   "outputs": [],
   "source": [
    "cobra.io.write_sbml_model(pputida,\"PROMICON/manoli_sucrose.xml\")"
   ]
  },
  {
   "cell_type": "markdown",
   "metadata": {},
   "source": [
    "# Con los modelos ejecutamos COMETS"
   ]
  },
  {
   "cell_type": "markdown",
   "metadata": {},
   "source": [
    "### Funciones auxiliares para ejecutar comets"
   ]
  },
  {
   "cell_type": "code",
   "execution_count": 5,
   "metadata": {},
   "outputs": [],
   "source": [
    "import cobra\n",
    "import pandas as pd\n",
    "import os.path\n",
    "import os\n",
    "import copy\n",
    "import shutil, errno\n",
    "import statistics\n",
    "import cometspy as c\n",
    "from cobra import Reaction\n",
    "from cobra import Metabolite\n",
    "import matplotlib.pyplot as plt\n",
    "import numpy as np\n",
    "\n",
    "################################################################\n",
    "### FUNCTION SynBio4FlavFLYCOP_oneConf ############################\n",
    "def change_infite_value_comets(cometsfile):\n",
    "    #read input file\n",
    "    fin = open(cometsfile, \"rt\")\n",
    "    #read file contents to string\n",
    "    data = fin.read()\n",
    "    #replace all occurrences of the required string\n",
    "    data = data.replace('inf', '1000')\n",
    "    #close the input file\n",
    "    fin.close()\n",
    "    #open the input file in write mode\n",
    "    fin = open(cometsfile, \"wt\")\n",
    "    #overrite the input file with the resulting data\n",
    "    fin.write(data)\n",
    "    #close the file\n",
    "    fin.close()\n",
    "\n",
    "def ensure_sinks_are_not_exchanges(model):\n",
    "    rxn_names = ['sink_PHAg','SK_pqqA_kt_c']\n",
    "    for rxn in rxn_names:\n",
    "        model.reactions.loc[model.reactions.REACTION_NAMES == rxn, 'EXCH'] = False\n",
    "        model.reactions.loc[model.reactions.REACTION_NAMES == rxn, 'EXCH_IND'] = 0\n",
    "        \n",
    "def initialize_layout(models):\n",
    "    #The layout is a file with the stablished format\n",
    "    layout=c.layout()\n",
    "    for model in models:\n",
    "        ensure_sinks_are_not_exchanges(model)\n",
    "        layout.add_model(model)\n",
    "    layout.add_typical_trace_metabolites()\n",
    "    layout.update_models()\n",
    "    return(layout)\n",
    "\n",
    "def intersection_exchange_metabolites(models):\n",
    "    # Calculo del medio de varias especies\n",
    "    all_exchanged_mets = []\n",
    "    for m in models:\n",
    "        all_exchanged_mets.extend(m.get_exchange_metabolites())\n",
    "    all_exchanged_mets = sorted(list(set(list(all_exchanged_mets))))\n",
    "    return(all_exchanged_mets)\n",
    "\n",
    "\n",
    "    \n",
    "    \n",
    "def create_media(models):\n",
    "    metabolite_list=intersection_exchange_metabolites(models)\n",
    "    media_dict=dict()\n",
    "    # By default 0 ammount\n",
    "    for metabolite in metabolite_list:\n",
    "        media_dict[metabolite]=10.0\n",
    "    media_dict[\"ac_e\"]=0.0\n",
    "    media_dict[\"o2_e\"]=1000.0\n",
    "    media_dict[\"nh3_e\"]=30.0\n",
    "    media_dict[\"ca2_e\"]=1000\n",
    "    media_dict[\"co2_e\"]=100\n",
    "    media_dict[\"cobalt2_e\"]=1000\n",
    "    media_dict[\"cu2_e\"]=1000\n",
    "    media_dict[\"fe2_e\"]=100\n",
    "    media_dict[\"fe3_e\"]=100\n",
    "    media_dict[\"h_e\"]=100\n",
    "    media_dict[\"h2o_e\"]=1000\n",
    "    media_dict[\"k_e\"]=100\n",
    "    media_dict[\"mg2_e\"]=100\n",
    "    media_dict[\"mn2_e\"]=100\n",
    "    media_dict[\"mobd_e\"]=100\n",
    "    media_dict[\"na1_e\"]=100\n",
    "    media_dict[\"no3_e\"]=100\n",
    "    media_dict[\"photon_e\"]=1000\n",
    "    media_dict[\"pi_e\"]=100\n",
    "    media_dict[\"so4_e\"]=100\n",
    "    media_dict[\"zn2_e\"]=1000\n",
    "    media_dict[\"btn_e\"]=40\n",
    "    media_dict[\"cl_e\"]=1000\n",
    "    media_dict[\"nh4_e\"]=40\n",
    "    media_dict[\"ni2_e\"]=1000\n",
    "\n",
    "    # Return pandas dataframe\n",
    "    return(pd.DataFrame(media_dict.items(),columns=['metabolite','init_amount']))\n",
    "    \n",
    "\n",
    "def initialize_params(package, globall):\n",
    "    \"\"\"Function to initialize the comets' params class\n",
    "    it can be initialize by submitting two files, one for the package parameters\n",
    "    and one for the global ones.\n",
    "    If you don't submit a file, the params class will be initialize with the values stated below\n",
    "    which have been tested in this simulation\"\"\"\n",
    "    \n",
    "    if package and globall is not None:\n",
    "        params = c.params(global_params = globall, package_params= package)\n",
    "    elif package is not None:\n",
    "        params = c.params(package_params=package)\n",
    "    elif globall is not None:\n",
    "        params = c.params(global_params=globall)\n",
    "        \n",
    "    else:\n",
    "        params = c.params()\n",
    "        params.all_params['maxCycles']=1000\n",
    "        params.all_params['timeStep']=0.1\n",
    "        params.all_params['spaceWidth']=0.05\n",
    "        params.all_params['allowCellOverlap']= True\n",
    "        params.all_params['cellSize'] = 4.3e-13\n",
    "        params.all_params['deathRate']= 0.00\n",
    "        params.all_params['dilFactor'] = 1e-2\n",
    "        params.all_params['dilTime'] = 12\n",
    "        params.all_params['numRunThreads']= 8\n",
    "        params.all_params['maxSpaceBiomass']= 100\n",
    "        params.all_params['defaultVmax']= 20\n",
    "        params.all_params['defaultKm']= 0.01\n",
    "        params.all_params['defaultHill']= 1\n",
    "        params.all_params['showCycleTime']= True\n",
    "        params.all_params['geneFractionalCost']= 0\n",
    "        params.all_params['writeTotalBiomassLog']= True\n",
    "        params.all_params['writeMediaLog']= True\n",
    "        params.all_params['writeFluxLog']= True\n",
    "        params.all_params['useLogNameTimeStamp']= False\n",
    "        params.all_params['flowDiffRate']= 1e-7\n",
    "        params.all_params['growthDiffRate']=1e-7\n",
    "        params.all_params['FluxLogRate']= 1\n",
    "        params.all_params['MediaLogRate']= 1\n",
    "        params.all_params['numExRxnSubsteps']= 12\n",
    "        params.all_params['geneFractionalCost'] = 0\n",
    "        params.all_params['exchangestyle']= 'Standard FBA'\n",
    "        params.all_params['biomassMotionStyle']= 'Diffusion 2D(Crank-Nicolson)'\n",
    "        params.all_params['mutRate'] = 1e-9\n",
    "        params.all_params['addRate'] = 1e-9\n",
    "        params.all_params['minSpaceBiomass'] = 1e-10\n",
    "\n",
    "        \n",
    "    #check if param 'maxSpaceBiomass' has default value\n",
    "    if (params.all_params['maxSpaceBiomass']== 0.1):\n",
    "        print('The parameter \"maxSpaceBiomass\" is set to 0.1.\\n' \\\n",
    "              'It may need to change if the mo used growths well.')\n",
    "\n",
    "    return params\n",
    "\n",
    "def find_end_cycle(simulation_output):\n",
    "    # it finish when the strains stop the growth\n",
    "    end_cycle=0\n",
    "    counter=0\n",
    "    for index,row in simulation_output.iterrows():\n",
    "        new_biomasses=row.iloc[1:]\n",
    "        if index==0 or index==1:\n",
    "            old_biomasses=row.iloc[1:]\n",
    "        else:\n",
    "            result=new_biomasses.subtract(old_biomasses)\n",
    "            is_growing=result.apply(lambda x: x>0)\n",
    "            old_biomasses=new_biomasses\n",
    "            if is_growing.any()==False:\n",
    "                counter=counter+1\n",
    "                if counter==10:\n",
    "                    break\n",
    "        end_cycle=index\n",
    "    return(end_cycle)\n",
    "\n",
    "def make_df_and_graph(strains, metabolites, comets, max_cycles):\n",
    "    '''This function creates a figure and saves it to pdf format.\n",
    "    It also creates the file biomass_vs_met.txt which contais the quantity\n",
    "    of each strain and metabolite and has the following columns:\n",
    "    time(h), strain1 ... strainX, met1 ... metX.'''\n",
    "    file_name='_'.join(metabolites)\n",
    "    df = comets.media #We get the media composition results'\n",
    "    df_media=copy.deepcopy(df.loc[df['cycle']<max_cycles])\n",
    "    df2=comets.total_biomass #We get the biomass results\n",
    "    df_biomass=copy.deepcopy(df2.loc[df2['cycle']<max_cycles])\n",
    "    columns=['cycle']\n",
    "    for i in range(0,len(strains)):\n",
    "        columns.append(strains[i])\n",
    "    df_biomass.columns=columns\n",
    "    \n",
    "    \"\"\"For each metabolite a column with all zeros is added to the dataframe and each row that contains a value\n",
    "     (metabolite concentration)is changed in the dataframe\"\"\"\n",
    "    for d in metabolites:\n",
    "        columns.append(d)\n",
    "        met =df_media.loc[df_media['metabolite'] == d]\n",
    "\n",
    "        temp=np.zeros(max_cycles) #Create an array with all zeros\n",
    "        df_biomass[d]=temp #We added it to the dataframe\n",
    "        j=1\n",
    "        while j < (max_cycles): #For each cycle\n",
    "            if (met.cycle==j).any(): #If the row exists\n",
    "                df_biomass.loc[j-1,d] = float(met[met['cycle']==j]['conc_mmol']) #Its dataframe value is changed\n",
    "            j+=1\n",
    "    df_biomass.columns=columns\n",
    "    np.savetxt(r'biomass_vs_'+file_name+'_template.txt', df_biomass.values, fmt='%s',delimiter='\\t',header='\\t'.join(columns)) #The data is saved\n",
    "    #---Starting the figure \n",
    "    plt.ioff()\n",
    "    fig, ax = plt.subplots()\n",
    "\n",
    "    ax.set_xlabel('time (h)')\n",
    "    ax.set_ylabel('biomass (g/L)')\n",
    "    c=['k', 'm', 'b', 'g', 'r']\n",
    "    j=0\n",
    "    for i in strains:\n",
    "        ax.plot(df_biomass['cycle']*0.1, df_biomass[i], label=i, color=c[j])\n",
    "        j+=1\n",
    "    ax2 = ax.twinx()\n",
    "    ax2.set_ylabel('metabolite conc (mM)')\n",
    "    for m in metabolites:\n",
    "        ax2.plot(df_biomass['cycle']*0.1, df_biomass[m], label=m)\n",
    "\n",
    "    handles, labels = ax.get_legend_handles_labels()\n",
    "    handle_list, label_list = [], []\n",
    "\n",
    "    for handle, label in zip(handles, labels):\n",
    "        if label not in label_list:\n",
    "            handle_list.append(handle)\n",
    "            label_list.append(label)\n",
    "    handles, labels = ax2.get_legend_handles_labels()\n",
    "    for handle, label in zip(handles, labels):\n",
    "        if label not in label_list:\n",
    "            handle_list.append(handle)\n",
    "            label_list.append(label)\n",
    "    plt.legend(handle_list, label_list)\n",
    "    \n",
    "    #saving the figure to a pdf\n",
    "    plt.savefig('biomass_vs_'+file_name+'_template_plot.pdf')\n",
    "    \n",
    "    return df_biomass\n",
    "\n"
   ]
  },
  {
   "cell_type": "code",
   "execution_count": 4,
   "metadata": {},
   "outputs": [],
   "source": [
    "def set_layout_media_ecoli(layout):\n",
    "    layout.set_specific_metabolite(\"o2_e\",1000)\n",
    "    layout.set_specific_metabolite(\"ac_e\",0.0)\n",
    "    layout.set_specific_metabolite(\"glc__D_e\",0.0)\n",
    "    layout.set_specific_metabolite(\"o2_e\",100.0)\n",
    "    layout.set_specific_metabolite(\"ca2_e\",1000)\n",
    "    layout.set_specific_metabolite(\"co2_e\",100)\n",
    "    layout.set_specific_metabolite(\"cobalt2_e\",1000)\n",
    "    layout.set_specific_metabolite(\"cu2_e\",1000)\n",
    "    layout.set_specific_metabolite(\"fe2_e\",100)\n",
    "    layout.set_specific_metabolite(\"fe3_e\",100)\n",
    "    layout.set_specific_metabolite(\"h_e\",100)\n",
    "    layout.set_specific_metabolite(\"h2o_e\",1000)\n",
    "    layout.set_specific_metabolite(\"k_e\",100)\n",
    "    layout.set_specific_metabolite(\"mg2_e\",100)\n",
    "    layout.set_specific_metabolite(\"mn2_e\",100)\n",
    "    layout.set_specific_metabolite(\"mobd_e\",100)\n",
    "    layout.set_specific_metabolite(\"na1_e\",100)\n",
    "    layout.set_specific_metabolite(\"no3_e\",100)\n",
    "    layout.set_specific_metabolite(\"pi_e\",100)\n",
    "    layout.set_specific_metabolite(\"so4_e\",100)\n",
    "    layout.set_specific_metabolite(\"zn2_e\",1000)\n",
    "    layout.set_specific_metabolite(\"btn_e\",40)\n",
    "    layout.set_specific_metabolite(\"cl_e\",1000)\n",
    "    layout.set_specific_metabolite(\"nh4_e\",40)\n",
    "    layout.set_specific_metabolite(\"ni2_e\",1000)\n",
    "    layout.set_specific_metabolite(\"btn_e\",100)\n",
    "    \n",
    "def set_layout_media_synechocystis(layout):\n",
    "    layout.set_specific_metabolite(\"o2_e\",1000)\n",
    "    layout.set_specific_metabolite(\"ac_e\",0.0)\n",
    "    layout.set_specific_metabolite(\"glc__D_e\",0.0)\n",
    "    layout.set_specific_metabolite(\"o2_e\",100.0)\n",
    "    layout.set_specific_metabolite(\"ca2_e\",1000)\n",
    "    layout.set_specific_metabolite(\"co2_e\",100)\n",
    "    layout.set_specific_metabolite(\"cobalt2_e\",1000)\n",
    "    layout.set_specific_metabolite(\"cu2_e\",1000)\n",
    "    layout.set_specific_metabolite(\"fe2_e\",100)\n",
    "    layout.set_specific_metabolite(\"fe3_e\",100)\n",
    "    layout.set_specific_metabolite(\"h_e\",100)\n",
    "    layout.set_specific_metabolite(\"h2o_e\",1000)\n",
    "    layout.set_specific_metabolite(\"k_e\",100)\n",
    "    layout.set_specific_metabolite(\"mg2_e\",100)\n",
    "    layout.set_specific_metabolite(\"mn2_e\",100)\n",
    "    layout.set_specific_metabolite(\"mobd_e\",100)\n",
    "    layout.set_specific_metabolite(\"na1_e\",100)\n",
    "    layout.set_specific_metabolite(\"no3_e\",100)\n",
    "    layout.set_specific_metabolite(\"pi_e\",100)\n",
    "    layout.set_specific_metabolite(\"so4_e\",100)\n",
    "    layout.set_specific_metabolite(\"zn2_e\",1000)\n",
    "    layout.set_specific_metabolite(\"nh4_e\",40)\n",
    "    layout.set_specific_metabolite(\"ni2_e\",1000)\n",
    "    layout.set_specific_metabolite(\"photon_e\",1000) \n",
    "    \n",
    "\n",
    "def set_layout_media_synechoccus(layout):\n",
    "    layout.set_specific_metabolite(\"o2_e\",1000)\n",
    "    layout.set_specific_metabolite(\"ca2_e\",1000)\n",
    "    layout.set_specific_metabolite(\"co2_e\",100)\n",
    "    layout.set_specific_metabolite(\"cobalt2_e\",1000)\n",
    "    layout.set_specific_metabolite(\"cu2_e\",1000)\n",
    "    layout.set_specific_metabolite(\"fe2_e\",100)\n",
    "    layout.set_specific_metabolite(\"fe3_e\",100)\n",
    "    layout.set_specific_metabolite(\"h_e\",100)\n",
    "    layout.set_specific_metabolite(\"h2o_e\",1000)\n",
    "    layout.set_specific_metabolite(\"k_e\",100)\n",
    "    layout.set_specific_metabolite(\"mg2_e\",100)\n",
    "    layout.set_specific_metabolite(\"mn2_e\",100)\n",
    "    layout.set_specific_metabolite(\"mobd_e\",100)\n",
    "    layout.set_specific_metabolite(\"na1_e\",100)\n",
    "    layout.set_specific_metabolite(\"no3_e\",100)\n",
    "    layout.set_specific_metabolite(\"pi_e\",100)\n",
    "    layout.set_specific_metabolite(\"so4_e\",100)\n",
    "    layout.set_specific_metabolite(\"zn2_e\",1000)\n",
    "    layout.set_specific_metabolite(\"nh4_e\",40)\n",
    "    layout.set_specific_metabolite(\"ni2_e\",1000)\n",
    "    layout.set_specific_metabolite(\"photon650_e\",1000)\n",
    "    layout.set_specific_metabolite(\"photon670_e\",1000)\n",
    "    layout.set_specific_metabolite(\"photon690_e\",1000)\n",
    "    layout.set_specific_metabolite(\"hco3_e\",1000)\n",
    "    \n",
    "def set_layout_media_putida(layout):\n",
    "    layout.set_specific_metabolite(\"o2_e\",1000)\n",
    "    layout.set_specific_metabolite(\"sucr_e\",1000)\n",
    "    layout.set_specific_metabolite(\"ca2_e\",1000)\n",
    "    layout.set_specific_metabolite(\"co2_e\",100)\n",
    "    layout.set_specific_metabolite(\"cobalt2_e\",1000)\n",
    "    layout.set_specific_metabolite(\"cu2_e\",1000)\n",
    "    layout.set_specific_metabolite(\"fe2_e\",100)\n",
    "    layout.set_specific_metabolite(\"fe3_e\",100)\n",
    "    layout.set_specific_metabolite(\"h_e\",100)\n",
    "    layout.set_specific_metabolite(\"h2o_e\",1000)\n",
    "    layout.set_specific_metabolite(\"k_e\",100)\n",
    "    layout.set_specific_metabolite(\"mg2_e\",100)\n",
    "    layout.set_specific_metabolite(\"mn2_e\",100)\n",
    "    layout.set_specific_metabolite(\"mobd_e\",100)\n",
    "    layout.set_specific_metabolite(\"na1_e\",100)\n",
    "    layout.set_specific_metabolite(\"no3_e\",100)\n",
    "    layout.set_specific_metabolite(\"pi_e\",100)\n",
    "    layout.set_specific_metabolite(\"so4_e\",100)\n",
    "    layout.set_specific_metabolite(\"zn2_e\",1000)\n",
    "    layout.set_specific_metabolite(\"nh4_e\",40)\n",
    "    layout.set_specific_metabolite(\"cl_e\",1000)\n",
    "    layout.set_specific_metabolite(\"ni2_e\",1000)\n",
    "\n",
    "def set_layout_media_palustris(layout):\n",
    "    layout.set_specific_metabolite(\"cl_e\",1000)\n",
    "    #layout.set_specific_metabolite(\"photon_e\",1000)\n",
    "    layout.set_specific_metabolite(\"n2_e\",1000)\n",
    "    layout.set_specific_metabolite(\"ac_e\",1000)\n",
    "    \n"
   ]
  },
  {
   "cell_type": "markdown",
   "metadata": {},
   "source": [
    "## Consorcio Synechocystis-E.coli para producción de butanol"
   ]
  },
  {
   "cell_type": "code",
   "execution_count": null,
   "metadata": {},
   "outputs": [],
   "source": [
    "farmer=c.model()\n",
    "farmer.read_cobra_model('PROMICON/iJN678_acetate_mutant.xml')\n",
    "producer=c.model()\n",
    "producer.read_cobra_model('PROMICON/iML1515_butanol.xml')\n",
    "producer.change_bounds('BTOHtex',0.25,1000)\n",
    "producer.change_bounds('EX_btoh_e',0,0.25)\n"
   ]
  },
  {
   "cell_type": "code",
   "execution_count": null,
   "metadata": {},
   "outputs": [],
   "source": [
    "farmer.initial_pop=[0,0,0.2]\n",
    "producer.initial_pop=[0,0,0.01]\n",
    "layout=initialize_layout([producer,farmer])\n",
    "set_layout_media_ecoli(layout)\n",
    "set_layout_media_synechocystis(layout)\n",
    "layout.set_specific_metabolite('rdmbzi_c',100)\n",
    "print(\"Loading the comets parameters...\")\n",
    "params_package=None\n",
    "params_global=None\n",
    "params =initialize_params(params_package, params_global)\n",
    "print(\"Creating the comets object...\")\n",
    "comets = c.comets(layout, params)\n",
    "dirPlot='promicon_output'\n",
    "comets.run(delete_files=True)\n",
    "print(comets.run_output)"
   ]
  },
  {
   "cell_type": "code",
   "execution_count": null,
   "metadata": {},
   "outputs": [],
   "source": [
    "metabolites=['co2_e','o2_e','ac_e', 'btoh_e']\n",
    "df2=make_df_and_graph([\"iML1515 butanol\",\"iJN678 acetate\"], metabolites, comets, 1000)"
   ]
  },
  {
   "cell_type": "code",
   "execution_count": null,
   "metadata": {},
   "outputs": [],
   "source": [
    "df2"
   ]
  },
  {
   "cell_type": "markdown",
   "metadata": {},
   "source": [
    "# Consorcio Syneco - Putida"
   ]
  },
  {
   "cell_type": "code",
   "execution_count": null,
   "metadata": {},
   "outputs": [],
   "source": [
    "\n",
    "farmer=c.model()\n",
    "farmer.read_cobra_model(\"PROMICON/iJN785_sucrose.xml\")\n",
    "farmer.change_bounds('SPP',0.25,1000)\n",
    "farmer.change_bounds('SUCR',0,0)\n",
    "\n",
    "producer=c.model()\n",
    "producer.read_cobra_model(\"PROMICON/manoli_sucrose.xml\")\n",
    "producer.change_bounds('C80aPHAtex',2,1000)\n",
    "producer.change_bounds('EX_C80aPHA_e',2,1000)\n",
    "\n",
    "farmer.initial_pop=[0,0,0.2]\n",
    "producer.initial_pop=[0,0,0.01]\n",
    "layout=initialize_layout([producer,farmer])\n",
    "set_layout_media_putida(layout)\n",
    "set_layout_media_synechoccus(layout)\n",
    "\n",
    "#layout.set_specific_metabolite('PHAg_c',100)\n",
    "layout.set_specific_metabolite('amylose_c',100) # It is required for the SINK\n",
    "\n",
    "print(\"Loading the comets parameters...\")\n",
    "params_package=None\n",
    "params_global=None\n",
    "params =initialize_params(params_package, params_global)\n",
    "print(\"Creating the comets object...\")\n",
    "comets = c.comets(layout, params)\n",
    "dirPlot='promicon_output'\n",
    "comets.run(delete_files=True)\n",
    "print(comets.run_output)"
   ]
  },
  {
   "cell_type": "code",
   "execution_count": null,
   "metadata": {},
   "outputs": [],
   "source": [
    "metabolites=['co2_e','o2_e','C80aPHA_e','sucr_e']\n",
    "df2=make_df_and_graph([\"Manoli\",\"Synechococcus\"], metabolites, comets, 1000)\n",
    "df2"
   ]
  },
  {
   "cell_type": "markdown",
   "metadata": {},
   "source": [
    "# Consorcio R palustris -Synechococcus\n",
    "\n",
    "\n",
    "\n",
    "\n",
    "\n",
    "\n",
    "\n",
    "\n",
    "\n",
    "\n",
    "\n",
    "\n",
    "\n",
    "\n",
    "\n",
    "\n",
    "\n",
    "\n",
    "\n",
    "\n",
    "\n"
   ]
  },
  {
   "cell_type": "code",
   "execution_count": null,
   "metadata": {},
   "outputs": [],
   "source": [
    "\n",
    "farmer=c.model()\n",
    "farmer.read_cobra_model(\"PROMICON/iJN785_sucrose.xml\")\n",
    "farmer.change_bounds('SPP',0.29,1000)\n",
    "farmer.change_bounds('SUCR',0,0)\n",
    "\n",
    "producer=c.model()\n",
    "producer.read_cobra_model(\"PROMICON/iAN1128_sucrose.xml\")\n",
    "\n",
    "farmer.initial_pop=[0,0,0.2]\n",
    "producer.initial_pop=[0,0,0.01]\n",
    "layout=initialize_layout([producer,farmer])\n",
    "set_layout_media_palustris(layout)\n",
    "set_layout_media_synechoccus(layout)\n",
    "set_layout_media_putida(layout)\n",
    "#layout.set_specific_metabolite(\"photon_e\",1000)\n",
    "layout.set_specific_metabolite(\"n2_e\",40)\n",
    "layout.set_specific_metabolite(\"ac_e\",0)\n",
    "layout.set_specific_metabolite(\"sucr_e\",0)\n",
    "\n",
    "\n",
    "layout.set_specific_metabolite('amylose_c',100) # It is required for the SINK\n",
    "\n",
    "print(\"Loading the comets parameters...\")\n",
    "params_package=None\n",
    "params_global=None\n",
    "params =initialize_params(params_package, params_global)\n",
    "print(\"Creating the comets object...\")\n",
    "comets = c.comets(layout, params)\n",
    "dirPlot='promicon_output'\n",
    "comets.run(delete_files=True)\n",
    "print(comets.run_output)"
   ]
  },
  {
   "cell_type": "code",
   "execution_count": null,
   "metadata": {},
   "outputs": [],
   "source": [
    "metabolites=['co2_e','h2_e','n2_e','sucr_e']\n",
    "df2=make_df_and_graph([\"R.palustris\",\"Synechococcus\"], metabolites, comets, 1000)\n",
    "df2"
   ]
  },
  {
   "cell_type": "code",
   "execution_count": null,
   "metadata": {},
   "outputs": [],
   "source": [
    "model=cobra.io.read_sbml_model(\"PROMICON/iAN1128_sucrose.xml\")\n",
    "model.reactions.EX_ac_e.lower_bound=0\n",
    "model.reactions.XR229.bounds=(0.03,0.03)\n",
    "model.summary()"
   ]
  },
  {
   "cell_type": "markdown",
   "metadata": {},
   "source": [
    "# FLYCOP ejecución con el consorcio Syneco-R.palustris"
   ]
  },
  {
   "cell_type": "code",
   "execution_count": 3,
   "metadata": {},
   "outputs": [],
   "source": [
    "logging.basicConfig(level=logging.INFO)  # logging.DEBUG for debug output\n",
    "def FLYCOP_space():\n",
    "    # Build Configuration Space which defines all parameters and their ranges\n",
    "    cs = ConfigurationSpace()\n",
    "    x1 = UniformFloatHyperparameter(\"biomassPalustris\", 0.0001,0.1, default_value=0.01)\n",
    "    x2 = UniformFloatHyperparameter(\"biomassSynechococcus\", 0.0001,0.3, default_value=0.01)\n",
    "    x3 = UniformFloatHyperparameter(\"n2\",1,40, default_value=20)\n",
    "    #x4 = CategoricalHyperparameter(\"GRPalustris\", [0.0001,0.001,0.014,0.02,0.03,0.04,0.05,0.1], default_value=0.014)\n",
    "    #x5 = CategoricalHyperparameter(\"GRSynechococcus\", [0.0001,0.001,0.01,0.02,0.05,0.075,0.1,0.125,0.15,0.175], default_value=0.01)\n",
    "    cs.add_hyperparameters([x1, x2, x3])\n",
    "    scenario = Scenario({\"deterministic\": \"true\",\n",
    "                         \"use-instances\" : \"false\",\n",
    "                         \"run_obj\": \"quality\",  # we optimize quality (alternatively runtime)\n",
    "                         \"runcount-limit\": 100,  # max. number of function evaluations; for this example set to a low number\n",
    "                         \"cs\": cs,\n",
    "                         \"shared_model\": True,\n",
    "                         \"input_psmac_dirs\": \"PROMICON/PROMICON_runs_*\"\n",
    "                         })\n",
    "    return(scenario)\n",
    "\n",
    "def FLYCOP_schema(parameters):\n",
    "    #load parameters\n",
    "    biomass1=parameters[\"biomassPalustris\"]\n",
    "    biomass2=parameters[\"biomassSynechococcus\"]\n",
    "    n2=parameters[\"n2\"]\n",
    "    metabolites=['co2_e','h2_e','n2_e','sucr_e']\n",
    "    strains=[\"R.palustris\",\"Synechococcus\"]\n",
    "    # create COMETS run\n",
    "    farmer=c.model()\n",
    "    farmer.read_cobra_model(\"PROMICON/iJN785_sucrose.xml\")\n",
    "    farmer.change_bounds('SPP',0.29,1000)\n",
    "    farmer.change_bounds('SUCR',0,0)\n",
    "\n",
    "    producer=c.model()\n",
    "    producer.read_cobra_model(\"PROMICON/iAN1128_sucrose.xml\")\n",
    "\n",
    "    farmer.initial_pop=[0,0,biomass2]\n",
    "    producer.initial_pop=[0,0,biomass1]\n",
    "    layout=initialize_layout([producer,farmer])\n",
    "    set_layout_media_palustris(layout)\n",
    "    set_layout_media_synechoccus(layout)\n",
    "    set_layout_media_putida(layout)\n",
    "\n",
    "    layout.set_specific_metabolite(\"n2_e\",n2)\n",
    "    layout.set_specific_metabolite(\"ac_e\",0)\n",
    "    layout.set_specific_metabolite(\"sucr_e\",0)\n",
    "\n",
    "\n",
    "    layout.set_specific_metabolite('amylose_c',100) # It is required for the SINK\n",
    "\n",
    "    print(\"Loading the comets parameters...\")\n",
    "    params_package=None\n",
    "    params_global=None\n",
    "    params =initialize_params(params_package, params_global)\n",
    "    print(\"Creating the comets object...\")\n",
    "    comets = c.comets(layout, params)\n",
    "    dirPlot='promicon_output'\n",
    "    comets.run(delete_files=True)\n",
    "    \n",
    "    comets.total_biomass.to_csv('Total_biomass_log_template.txt',sep='\\t',index=False)\n",
    "    endCycle=find_end_cycle(comets.total_biomass)\n",
    "        \n",
    "    print(\"The last cycle is: %d\"%endCycle)\n",
    "    maxCycles=endCycle-1\n",
    "    # Plot\n",
    "    df2=make_df_and_graph(strains, metabolites, comets, endCycle)\n",
    "    sucrose=float(df2.at[maxCycles-1,'sucr_e'])\n",
    "    \n",
    "    final_biomass1=float(df2.at[maxCycles-1,'R.palustris'])\n",
    "    final_biomass2=float(df2.at[maxCycles-1,'Synechococcus'])\n",
    "    \n",
    "    h2=float(df2.at[maxCycles-1,'h2_e'])\n",
    "    title='-R.palustris: '+str(biomass1)+'-Synechococcus: '+str(biomass2)+'-Sucr: '+str(sucrose)+'-H2: '+str(h2)\n",
    "    \n",
    "    # Fitness\n",
    "    fitness=h2-sucrose\n",
    "    print(\"Configuration\\tfitness\\th2(mM)\\tsucr(mM)\\tBiomassFarmer\\tBiomassLaborer\\tendCycle\")\n",
    "    print(str(biomass1)+','+str(biomass2)+','+str(n2)+'\\t'+str(fitness)+'\\t'+str(h2)+'\\t'+str(sucrose)+'\\t'+str(final_biomass1)+'\\t'+str(final_biomass2)+'\\t'+str(endCycle))\n",
    "    print(\"Getting fluxes:End\")\n",
    "    fitness_inverse=-1*fitness\n",
    "    return fitness_inverse,0\n",
    "\n",
    "def FLYCOP_run(scenario):\n",
    "    print(\"Optimizing! Depending on your machine, this might take a few minutes.\")\n",
    "    smac = SMAC4BO(scenario=scenario,\n",
    "                   rng=np.random.RandomState(123),\n",
    "                   tae_runner=FLYCOP_schema,\n",
    "                   )\n",
    "    result=smac.optimize()\n",
    "    return(result)\n",
    "\n",
    "\n",
    "    \n",
    "    \n"
   ]
  },
  {
   "cell_type": "code",
   "execution_count": 7,
   "metadata": {},
   "outputs": [
    {
     "name": "stdout",
     "output_type": "stream",
     "text": [
      "building empty layout model\n",
      "models will need to be added with layout.add_model()\n",
      "Loading the comets parameters...\n",
      "Creating the comets object...\n",
      "\n",
      "Running COMETS simulation ...\n",
      "Done!\n",
      "The last cycle is: 918\n",
      "Configuration\tfitness\th2(mM)\tsucr(mM)\tBiomassFarmer\tBiomassLaborer\tendCycle\n",
      "0.04,0.3,20\t33.258942875276\t33.283638935\t0.024696059723999998\t4.9882283751\t0.85253203162\t918\n",
      "Getting fluxes:End\n"
     ]
    },
    {
     "data": {
      "text/plain": [
       "(-33.258942875276, 0)"
      ]
     },
     "execution_count": 7,
     "metadata": {},
     "output_type": "execute_result"
    }
   ],
   "source": [
    "parameters={\"biomassPalustris\":0.04,\n",
    "    \"biomassSynechococcus\":0.3,\n",
    "    \"n2\":20}\n",
    "FLYCOP_schema(parameters)"
   ]
  },
  {
   "cell_type": "code",
   "execution_count": 8,
   "metadata": {},
   "outputs": [
    {
     "name": "stderr",
     "output_type": "stream",
     "text": [
      "INFO:smac.utils.io.cmd_reader.CMDReader:Output to smac3-output_2023-04-25_15:36:32_907938\n",
      "WARNING:smac.utils.io.cmd_reader.CMDReader:Adding unsupported scenario options: {'use-instances': 'false'}\n",
      "INFO:smac.facade.smac_bo_facade.SMAC4BO:Optimizing a deterministic scenario for quality without a tuner timeout - will make SMAC deterministic and only evaluate one configuration per iteration!\n"
     ]
    },
    {
     "name": "stdout",
     "output_type": "stream",
     "text": [
      "Optimizing! Depending on your machine, this might take a few minutes.\n"
     ]
    },
    {
     "name": "stderr",
     "output_type": "stream",
     "text": [
      "INFO:smac.initial_design.sobol_design.SobolDesign:Running initial design for 24 configurations\n",
      "INFO:smac.facade.smac_bo_facade.SMAC4BO:<class 'smac.facade.smac_bo_facade.SMAC4BO'>\n",
      "INFO:smac.optimizer.smbo.SMBO:Running initial design\n",
      "INFO:smac.optimizer.smbo.SMBO:Shared model mode: Finished loading new runs, found 0 new runs.\n",
      "INFO:smac.intensification.intensification.Intensifier:First run, no incumbent provided; challenger is assumed to be the incumbent\n"
     ]
    },
    {
     "name": "stdout",
     "output_type": "stream",
     "text": [
      "building empty layout model\n",
      "models will need to be added with layout.add_model()\n",
      "Loading the comets parameters...\n",
      "Creating the comets object...\n",
      "\n",
      "Running COMETS simulation ...\n",
      "Done!\n",
      "The last cycle is: 1000\n",
      "Configuration\tfitness\th2(mM)\tsucr(mM)\tBiomassFarmer\tBiomassLaborer\tendCycle\n",
      "0.050050000000000004,0.15005,20.5\t97.202996833788\t97.216679005\t0.013682171211999999\t5.1219840845\t0.47234143085\t1000\n",
      "Getting fluxes:End\n"
     ]
    },
    {
     "name": "stderr",
     "output_type": "stream",
     "text": [
      "INFO:smac.intensification.intensification.Intensifier:First run, no incumbent provided; challenger is assumed to be the incumbent\n",
      "INFO:smac.intensification.intensification.Intensifier:Updated estimated cost of incumbent on 1 runs: -97.2030\n",
      "INFO:smac.optimizer.smbo.SMBO:Shared model mode: Finished loading new runs, found 0 new runs.\n"
     ]
    },
    {
     "name": "stdout",
     "output_type": "stream",
     "text": [
      "building empty layout model\n",
      "models will need to be added with layout.add_model()\n",
      "Loading the comets parameters...\n",
      "Creating the comets object...\n",
      "\n",
      "Running COMETS simulation ...\n",
      "Done!\n",
      "The last cycle is: 1000\n",
      "Configuration\tfitness\th2(mM)\tsucr(mM)\tBiomassFarmer\tBiomassLaborer\tendCycle\n",
      "0.07502500000000001,0.075075,30.25\t107.36610066519\t107.37294631\t0.006845644809999999\t7.5592204173\t0.2363281101\t1000\n",
      "Getting fluxes:End\n"
     ]
    },
    {
     "name": "stderr",
     "output_type": "stream",
     "text": [
      "INFO:smac.intensification.intensification.Intensifier:Challenger (-107.3661) is better than incumbent (-97.2030) on 1 runs.\n",
      "INFO:smac.intensification.intensification.Intensifier:Changes in incumbent:\n",
      "INFO:smac.intensification.intensification.Intensifier:  biomassPalustris : 0.050050000000000004 -> 0.07502500000000001\n",
      "INFO:smac.intensification.intensification.Intensifier:  biomassSynechococcus : 0.15005 -> 0.075075\n",
      "INFO:smac.intensification.intensification.Intensifier:  n2 : 20.5 -> 30.25\n",
      "INFO:smac.intensification.intensification.Intensifier:Wallclock time limit for intensification reached (used: 91.926966 sec, available: 0.000010 sec)\n",
      "INFO:smac.optimizer.smbo.SMBO:Shared model mode: Finished loading new runs, found 0 new runs.\n"
     ]
    },
    {
     "name": "stdout",
     "output_type": "stream",
     "text": [
      "building empty layout model\n",
      "models will need to be added with layout.add_model()\n",
      "Loading the comets parameters...\n",
      "Creating the comets object...\n",
      "\n",
      "Running COMETS simulation ...\n",
      "Done!\n",
      "The last cycle is: 1000\n",
      "Configuration\tfitness\th2(mM)\tsucr(mM)\tBiomassFarmer\tBiomassLaborer\tendCycle\n",
      "0.025075,0.22502499999999998,10.75\t60.854410770386\t60.874929468000005\t0.020518697614\t2.6847477516\t0.70835475159\t1000\n",
      "Getting fluxes:End\n"
     ]
    },
    {
     "name": "stderr",
     "output_type": "stream",
     "text": [
      "INFO:smac.intensification.intensification.Intensifier:Wallclock time limit for intensification reached (used: 39.403277 sec, available: 0.000010 sec)\n",
      "INFO:smac.optimizer.smbo.SMBO:Shared model mode: Finished loading new runs, found 0 new runs.\n"
     ]
    },
    {
     "name": "stdout",
     "output_type": "stream",
     "text": [
      "building empty layout model\n",
      "models will need to be added with layout.add_model()\n",
      "Loading the comets parameters...\n",
      "Creating the comets object...\n",
      "\n",
      "Running COMETS simulation ...\n",
      "Done!\n",
      "The last cycle is: 1000\n",
      "Configuration\tfitness\th2(mM)\tsucr(mM)\tBiomassFarmer\tBiomassLaborer\tendCycle\n",
      "0.037562500000000006,0.1125625,25.375\t34.922697893989\t34.932961802\t0.010263908011\t6.3156272509\t0.35433477047\t1000\n",
      "Getting fluxes:End\n"
     ]
    },
    {
     "name": "stderr",
     "output_type": "stream",
     "text": [
      "INFO:smac.intensification.intensification.Intensifier:Wallclock time limit for intensification reached (used: 42.525132 sec, available: 0.000010 sec)\n",
      "INFO:smac.optimizer.smbo.SMBO:Shared model mode: Finished loading new runs, found 0 new runs.\n"
     ]
    },
    {
     "name": "stdout",
     "output_type": "stream",
     "text": [
      "building empty layout model\n",
      "models will need to be added with layout.add_model()\n",
      "Loading the comets parameters...\n",
      "Creating the comets object...\n",
      "\n",
      "Running COMETS simulation ...\n",
      "Done!\n",
      "The last cycle is: 995\n",
      "Configuration\tfitness\th2(mM)\tsucr(mM)\tBiomassFarmer\tBiomassLaborer\tendCycle\n",
      "0.08751250000000001,0.2625125,5.875\t98.48390476899999\t98.48390476899999\t0.0\t1.5410545852\t0.81504542146\t995\n",
      "Getting fluxes:End\n"
     ]
    },
    {
     "name": "stderr",
     "output_type": "stream",
     "text": [
      "INFO:smac.intensification.intensification.Intensifier:Wallclock time limit for intensification reached (used: 41.049989 sec, available: 0.000010 sec)\n",
      "INFO:smac.optimizer.smbo.SMBO:Shared model mode: Finished loading new runs, found 0 new runs.\n"
     ]
    },
    {
     "name": "stdout",
     "output_type": "stream",
     "text": [
      "building empty layout model\n",
      "models will need to be added with layout.add_model()\n",
      "Loading the comets parameters...\n",
      "Creating the comets object...\n",
      "\n",
      "Running COMETS simulation ...\n",
      "Done!\n",
      "The last cycle is: 1000\n",
      "Configuration\tfitness\th2(mM)\tsucr(mM)\tBiomassFarmer\tBiomassLaborer\tendCycle\n",
      "0.0625375,0.0375875,15.625\t99.42290525239099\t99.42633263399999\t0.0034273816090000003\t3.928340918\t0.11832144973\t1000\n",
      "Getting fluxes:End\n"
     ]
    },
    {
     "name": "stderr",
     "output_type": "stream",
     "text": [
      "INFO:smac.intensification.intensification.Intensifier:Wallclock time limit for intensification reached (used: 44.466202 sec, available: 0.000010 sec)\n",
      "INFO:smac.optimizer.smbo.SMBO:Shared model mode: Finished loading new runs, found 0 new runs.\n"
     ]
    },
    {
     "name": "stdout",
     "output_type": "stream",
     "text": [
      "building empty layout model\n",
      "models will need to be added with layout.add_model()\n",
      "Loading the comets parameters...\n",
      "Creating the comets object...\n",
      "\n",
      "Running COMETS simulation ...\n",
      "Done!\n",
      "The last cycle is: 1000\n",
      "Configuration\tfitness\th2(mM)\tsucr(mM)\tBiomassFarmer\tBiomassLaborer\tendCycle\n",
      "0.0125875,0.1875375,35.125\t11.773683484587\t11.790783919\t0.017100434413\t2.9297620776\t0.59034809122\t1000\n",
      "Getting fluxes:End\n"
     ]
    },
    {
     "name": "stderr",
     "output_type": "stream",
     "text": [
      "INFO:smac.intensification.intensification.Intensifier:Wallclock time limit for intensification reached (used: 39.580031 sec, available: 0.000010 sec)\n",
      "INFO:smac.optimizer.smbo.SMBO:Shared model mode: Finished loading new runs, found 0 new runs.\n"
     ]
    },
    {
     "name": "stdout",
     "output_type": "stream",
     "text": [
      "building empty layout model\n",
      "models will need to be added with layout.add_model()\n",
      "Loading the comets parameters...\n",
      "Creating the comets object...\n",
      "\n",
      "Running COMETS simulation ...\n",
      "Done!\n",
      "The last cycle is: 1000\n",
      "Configuration\tfitness\th2(mM)\tsucr(mM)\tBiomassFarmer\tBiomassLaborer\tendCycle\n",
      "0.01883125,0.09381875,13.1875\t23.121367199589397\t23.129921976\t0.0085547764106\t3.2815693348\t0.29533144029\t1000\n",
      "Getting fluxes:End\n"
     ]
    },
    {
     "name": "stderr",
     "output_type": "stream",
     "text": [
      "INFO:smac.intensification.intensification.Intensifier:Wallclock time limit for intensification reached (used: 41.396287 sec, available: 0.000010 sec)\n",
      "INFO:smac.optimizer.smbo.SMBO:Shared model mode: Finished loading new runs, found 0 new runs.\n"
     ]
    },
    {
     "name": "stdout",
     "output_type": "stream",
     "text": [
      "building empty layout model\n",
      "models will need to be added with layout.add_model()\n",
      "Loading the comets parameters...\n",
      "Creating the comets object...\n",
      "\n",
      "Running COMETS simulation ...\n",
      "Done!\n",
      "The last cycle is: 1000\n",
      "Configuration\tfitness\th2(mM)\tsucr(mM)\tBiomassFarmer\tBiomassLaborer\tendCycle\n",
      "0.06878125,0.24376874999999998,32.6875\t126.395468097381\t126.43989823\t0.044430132619\t8.1560420005\t0.76735808178\t1000\n",
      "Getting fluxes:End\n"
     ]
    },
    {
     "name": "stderr",
     "output_type": "stream",
     "text": [
      "INFO:smac.intensification.intensification.Intensifier:Challenger (-126.3955) is better than incumbent (-107.3661) on 1 runs.\n",
      "INFO:smac.intensification.intensification.Intensifier:Changes in incumbent:\n",
      "INFO:smac.intensification.intensification.Intensifier:  biomassPalustris : 0.07502500000000001 -> 0.06878125\n",
      "INFO:smac.intensification.intensification.Intensifier:  biomassSynechococcus : 0.075075 -> 0.24376874999999998\n",
      "INFO:smac.intensification.intensification.Intensifier:  n2 : 30.25 -> 32.6875\n",
      "INFO:smac.intensification.intensification.Intensifier:Wallclock time limit for intensification reached (used: 41.659072 sec, available: 0.000010 sec)\n",
      "INFO:smac.optimizer.smbo.SMBO:Shared model mode: Finished loading new runs, found 0 new runs.\n"
     ]
    },
    {
     "name": "stdout",
     "output_type": "stream",
     "text": [
      "building empty layout model\n",
      "models will need to be added with layout.add_model()\n",
      "Loading the comets parameters...\n",
      "Creating the comets object...\n",
      "\n",
      "Running COMETS simulation ...\n",
      "Done!\n",
      "The last cycle is: 1000\n",
      "Configuration\tfitness\th2(mM)\tsucr(mM)\tBiomassFarmer\tBiomassLaborer\tendCycle\n",
      "0.09375625,0.01884375,22.9375\t135.9852075299915\t135.98692578\t0.0017182500085000001\t5.7687556677\t0.059318119544\t1000\n",
      "Getting fluxes:End\n"
     ]
    },
    {
     "name": "stderr",
     "output_type": "stream",
     "text": [
      "INFO:smac.intensification.intensification.Intensifier:Challenger (-135.9852) is better than incumbent (-126.3955) on 1 runs.\n",
      "INFO:smac.intensification.intensification.Intensifier:Changes in incumbent:\n",
      "INFO:smac.intensification.intensification.Intensifier:  biomassPalustris : 0.06878125 -> 0.09375625\n",
      "INFO:smac.intensification.intensification.Intensifier:  biomassSynechococcus : 0.24376874999999998 -> 0.01884375\n",
      "INFO:smac.intensification.intensification.Intensifier:  n2 : 32.6875 -> 22.9375\n",
      "INFO:smac.intensification.intensification.Intensifier:Wallclock time limit for intensification reached (used: 44.387164 sec, available: 0.000010 sec)\n",
      "INFO:smac.optimizer.smbo.SMBO:Shared model mode: Finished loading new runs, found 0 new runs.\n"
     ]
    },
    {
     "name": "stdout",
     "output_type": "stream",
     "text": [
      "building empty layout model\n",
      "models will need to be added with layout.add_model()\n",
      "Loading the comets parameters...\n",
      "Creating the comets object...\n",
      "\n",
      "Running COMETS simulation ...\n",
      "Done!\n",
      "The last cycle is: 1000\n",
      "Configuration\tfitness\th2(mM)\tsucr(mM)\tBiomassFarmer\tBiomassLaborer\tendCycle\n",
      "0.043806250000000005,0.16879375,3.4375\t56.324108194187\t56.339499497\t0.015391302813\t0.89428300197\t0.53134476103\t1000\n",
      "Getting fluxes:End\n"
     ]
    },
    {
     "name": "stderr",
     "output_type": "stream",
     "text": [
      "INFO:smac.intensification.intensification.Intensifier:Wallclock time limit for intensification reached (used: 41.033532 sec, available: 0.000010 sec)\n",
      "INFO:smac.optimizer.smbo.SMBO:Shared model mode: Finished loading new runs, found 0 new runs.\n"
     ]
    },
    {
     "name": "stdout",
     "output_type": "stream",
     "text": [
      "building empty layout model\n",
      "models will need to be added with layout.add_model()\n",
      "Loading the comets parameters...\n",
      "Creating the comets object...\n",
      "\n",
      "Running COMETS simulation ...\n",
      "Done!\n",
      "The last cycle is: 1000\n",
      "Configuration\tfitness\th2(mM)\tsucr(mM)\tBiomassFarmer\tBiomassLaborer\tendCycle\n",
      "0.03131875,0.05633125,37.5625\t20.3863983677905\t20.391534881\t0.0051365132095\t5.0764173256\t0.17732477992\t1000\n",
      "Getting fluxes:End\n"
     ]
    },
    {
     "name": "stderr",
     "output_type": "stream",
     "text": [
      "INFO:smac.intensification.intensification.Intensifier:Wallclock time limit for intensification reached (used: 44.362749 sec, available: 0.000010 sec)\n",
      "INFO:smac.optimizer.smbo.SMBO:Shared model mode: Finished loading new runs, found 0 new runs.\n"
     ]
    },
    {
     "name": "stdout",
     "output_type": "stream",
     "text": [
      "building empty layout model\n",
      "models will need to be added with layout.add_model()\n",
      "Loading the comets parameters...\n",
      "Creating the comets object...\n",
      "\n",
      "Running COMETS simulation ...\n",
      "Done!\n",
      "The last cycle is: 1000\n",
      "Configuration\tfitness\th2(mM)\tsucr(mM)\tBiomassFarmer\tBiomassLaborer\tendCycle\n",
      "0.08126875,0.20628125,18.0625\t157.914917223986\t157.93372679\t0.018809566014\t4.5501375013\t0.6493514214\t1000\n",
      "Getting fluxes:End\n"
     ]
    },
    {
     "name": "stderr",
     "output_type": "stream",
     "text": [
      "INFO:smac.intensification.intensification.Intensifier:Challenger (-157.9149) is better than incumbent (-135.9852) on 1 runs.\n",
      "INFO:smac.intensification.intensification.Intensifier:Changes in incumbent:\n",
      "INFO:smac.intensification.intensification.Intensifier:  biomassPalustris : 0.09375625 -> 0.08126875\n",
      "INFO:smac.intensification.intensification.Intensifier:  biomassSynechococcus : 0.01884375 -> 0.20628125\n",
      "INFO:smac.intensification.intensification.Intensifier:  n2 : 22.9375 -> 18.0625\n",
      "INFO:smac.intensification.intensification.Intensifier:Wallclock time limit for intensification reached (used: 43.024962 sec, available: 0.000010 sec)\n",
      "INFO:smac.optimizer.smbo.SMBO:Shared model mode: Finished loading new runs, found 0 new runs.\n"
     ]
    },
    {
     "name": "stdout",
     "output_type": "stream",
     "text": [
      "building empty layout model\n",
      "models will need to be added with layout.add_model()\n",
      "Loading the comets parameters...\n",
      "Creating the comets object...\n",
      "\n",
      "Running COMETS simulation ...\n",
      "Done!\n",
      "The last cycle is: 1000\n",
      "Configuration\tfitness\th2(mM)\tsucr(mM)\tBiomassFarmer\tBiomassLaborer\tendCycle\n",
      "0.056293750000000004,0.13130624999999999,8.3125\t95.175696699388\t95.187669739\t0.011973039612\t2.1129011684\t0.41333810066\t1000\n",
      "Getting fluxes:End\n"
     ]
    },
    {
     "name": "stderr",
     "output_type": "stream",
     "text": [
      "INFO:smac.intensification.intensification.Intensifier:Wallclock time limit for intensification reached (used: 42.178818 sec, available: 0.000010 sec)\n",
      "INFO:smac.optimizer.smbo.SMBO:Shared model mode: Finished loading new runs, found 0 new runs.\n"
     ]
    },
    {
     "name": "stdout",
     "output_type": "stream",
     "text": [
      "building empty layout model\n",
      "models will need to be added with layout.add_model()\n",
      "Loading the comets parameters...\n",
      "Creating the comets object...\n",
      "\n",
      "Running COMETS simulation ...\n",
      "Done!\n",
      "The last cycle is: 1000\n",
      "Configuration\tfitness\th2(mM)\tsucr(mM)\tBiomassFarmer\tBiomassLaborer\tendCycle\n",
      "0.00634375,0.28125625,27.8125\t6.749802409500001\t6.749802409500001\t0.0\t1.6763219404\t0.83331438967\t1000\n",
      "Getting fluxes:End\n"
     ]
    },
    {
     "name": "stderr",
     "output_type": "stream",
     "text": [
      "INFO:smac.intensification.intensification.Intensifier:Wallclock time limit for intensification reached (used: 35.307321 sec, available: 0.000010 sec)\n",
      "INFO:smac.optimizer.smbo.SMBO:Shared model mode: Finished loading new runs, found 0 new runs.\n"
     ]
    },
    {
     "name": "stdout",
     "output_type": "stream",
     "text": [
      "building empty layout model\n",
      "models will need to be added with layout.add_model()\n",
      "Loading the comets parameters...\n",
      "Creating the comets object...\n",
      "\n",
      "Running COMETS simulation ...\n",
      "Done!\n",
      "The last cycle is: 1000\n",
      "Configuration\tfitness\th2(mM)\tsucr(mM)\tBiomassFarmer\tBiomassLaborer\tendCycle\n",
      "0.009465625,0.140678125,33.90625\t8.830222793788\t8.8430503992\t0.012827605412\t2.1973372704\t0.44283976575\t1000\n",
      "Getting fluxes:End\n"
     ]
    },
    {
     "name": "stderr",
     "output_type": "stream",
     "text": [
      "INFO:smac.intensification.intensification.Intensifier:Wallclock time limit for intensification reached (used: 40.465966 sec, available: 0.000010 sec)\n",
      "INFO:smac.optimizer.smbo.SMBO:Shared model mode: Finished loading new runs, found 0 new runs.\n"
     ]
    },
    {
     "name": "stdout",
     "output_type": "stream",
     "text": [
      "building empty layout model\n",
      "models will need to be added with layout.add_model()\n",
      "Loading the comets parameters...\n",
      "Creating the comets object...\n",
      "\n",
      "Running COMETS simulation ...\n",
      "Done!\n",
      "The last cycle is: 936\n",
      "Configuration\tfitness\th2(mM)\tsucr(mM)\tBiomassFarmer\tBiomassLaborer\tendCycle\n",
      "0.05941562500000001,0.290628125,14.40625\t89.99178687\t89.99178687\t1.2994262206999999e-113\t3.6236863764\t0.8431626509\t936\n",
      "Getting fluxes:End\n"
     ]
    },
    {
     "name": "stderr",
     "output_type": "stream",
     "text": [
      "INFO:smac.intensification.intensification.Intensifier:Wallclock time limit for intensification reached (used: 37.750194 sec, available: 0.000010 sec)\n",
      "INFO:smac.optimizer.smbo.SMBO:Shared model mode: Finished loading new runs, found 0 new runs.\n"
     ]
    },
    {
     "name": "stdout",
     "output_type": "stream",
     "text": [
      "building empty layout model\n",
      "models will need to be added with layout.add_model()\n",
      "Loading the comets parameters...\n",
      "Creating the comets object...\n",
      "\n",
      "Running COMETS simulation ...\n",
      "Done!\n",
      "The last cycle is: 1000\n",
      "Configuration\tfitness\th2(mM)\tsucr(mM)\tBiomassFarmer\tBiomassLaborer\tendCycle\n",
      "0.08439062500000001,0.065703125,4.65625\t81.3613718909902\t81.36736297\t0.0059910790098\t1.2364000436\t0.20682644501\t1000\n",
      "Getting fluxes:End\n"
     ]
    },
    {
     "name": "stderr",
     "output_type": "stream",
     "text": [
      "INFO:smac.intensification.intensification.Intensifier:Wallclock time limit for intensification reached (used: 43.211760 sec, available: 0.000010 sec)\n",
      "INFO:smac.optimizer.smbo.SMBO:Shared model mode: Finished loading new runs, found 0 new runs.\n"
     ]
    },
    {
     "name": "stdout",
     "output_type": "stream",
     "text": [
      "building empty layout model\n",
      "models will need to be added with layout.add_model()\n",
      "Loading the comets parameters...\n",
      "Creating the comets object...\n",
      "\n",
      "Running COMETS simulation ...\n",
      "Done!\n",
      "The last cycle is: 1000\n",
      "Configuration\tfitness\th2(mM)\tsucr(mM)\tBiomassFarmer\tBiomassLaborer\tendCycle\n",
      "0.034440625,0.215653125,24.15625\t48.091463257186\t48.111127388999996\t0.019664131813999997\t6.0109727093\t0.6788530865\t1000\n",
      "Getting fluxes:End\n"
     ]
    },
    {
     "name": "stderr",
     "output_type": "stream",
     "text": [
      "INFO:smac.intensification.intensification.Intensifier:Wallclock time limit for intensification reached (used: 40.194783 sec, available: 0.000010 sec)\n",
      "INFO:smac.optimizer.smbo.SMBO:Shared model mode: Finished loading new runs, found 0 new runs.\n"
     ]
    },
    {
     "name": "stdout",
     "output_type": "stream",
     "text": [
      "building empty layout model\n",
      "models will need to be added with layout.add_model()\n",
      "Loading the comets parameters...\n",
      "Creating the comets object...\n",
      "\n",
      "Running COMETS simulation ...\n",
      "Done!\n",
      "The last cycle is: 1000\n",
      "Configuration\tfitness\th2(mM)\tsucr(mM)\tBiomassFarmer\tBiomassLaborer\tendCycle\n",
      "0.046928125,0.028215624999999998,19.28125\t59.3393051311912\t59.341877947\t0.0025728158088\t4.8173295429\t0.088819784637\t1000\n",
      "Getting fluxes:End\n"
     ]
    },
    {
     "name": "stderr",
     "output_type": "stream",
     "text": [
      "INFO:smac.intensification.intensification.Intensifier:Wallclock time limit for intensification reached (used: 44.394041 sec, available: 0.000010 sec)\n",
      "INFO:smac.optimizer.smbo.SMBO:Shared model mode: Finished loading new runs, found 0 new runs.\n"
     ]
    },
    {
     "name": "stdout",
     "output_type": "stream",
     "text": [
      "building empty layout model\n",
      "models will need to be added with layout.add_model()\n",
      "Loading the comets parameters...\n",
      "Creating the comets object...\n",
      "\n",
      "Running COMETS simulation ...\n",
      "Done!\n",
      "The last cycle is: 1000\n",
      "Configuration\tfitness\th2(mM)\tsucr(mM)\tBiomassFarmer\tBiomassLaborer\tendCycle\n",
      "0.09687812500000001,0.178165625,38.78125\t167.910295501387\t167.92654137\t0.016245868613\t9.6918022086\t0.56084642613\t1000\n",
      "Getting fluxes:End\n"
     ]
    },
    {
     "name": "stderr",
     "output_type": "stream",
     "text": [
      "INFO:smac.intensification.intensification.Intensifier:Challenger (-167.9103) is better than incumbent (-157.9149) on 1 runs.\n",
      "INFO:smac.intensification.intensification.Intensifier:Changes in incumbent:\n",
      "INFO:smac.intensification.intensification.Intensifier:  biomassPalustris : 0.08126875 -> 0.09687812500000001\n",
      "INFO:smac.intensification.intensification.Intensifier:  biomassSynechococcus : 0.20628125 -> 0.178165625\n",
      "INFO:smac.intensification.intensification.Intensifier:  n2 : 18.0625 -> 38.78125\n",
      "INFO:smac.intensification.intensification.Intensifier:Wallclock time limit for intensification reached (used: 42.631488 sec, available: 0.000010 sec)\n",
      "INFO:smac.optimizer.smbo.SMBO:Shared model mode: Finished loading new runs, found 0 new runs.\n"
     ]
    },
    {
     "name": "stdout",
     "output_type": "stream",
     "text": [
      "building empty layout model\n",
      "models will need to be added with layout.add_model()\n",
      "Loading the comets parameters...\n",
      "Creating the comets object...\n",
      "\n",
      "Running COMETS simulation ...\n",
      "Done!\n",
      "The last cycle is: 1000\n",
      "Configuration\tfitness\th2(mM)\tsucr(mM)\tBiomassFarmer\tBiomassLaborer\tendCycle\n",
      "0.071903125,0.10319062500000001,29.03125\t114.5979398377892\t114.60734918\t0.0094093422108\t7.2545658757\t0.32483310538\t1000\n",
      "Getting fluxes:End\n"
     ]
    },
    {
     "name": "stderr",
     "output_type": "stream",
     "text": [
      "INFO:smac.intensification.intensification.Intensifier:Wallclock time limit for intensification reached (used: 42.322042 sec, available: 0.000010 sec)\n",
      "INFO:smac.optimizer.smbo.SMBO:Shared model mode: Finished loading new runs, found 0 new runs.\n"
     ]
    },
    {
     "name": "stdout",
     "output_type": "stream",
     "text": [
      "building empty layout model\n",
      "models will need to be added with layout.add_model()\n",
      "Loading the comets parameters...\n",
      "Creating the comets object...\n",
      "\n",
      "Running COMETS simulation ...\n",
      "Done!\n",
      "The last cycle is: 1000\n",
      "Configuration\tfitness\th2(mM)\tsucr(mM)\tBiomassFarmer\tBiomassLaborer\tendCycle\n",
      "0.021953125,0.253140625,9.53125\t53.251900711984995\t53.274983107\t0.023082395014999996\t2.38009321\t0.79685974687\t1000\n",
      "Getting fluxes:End\n"
     ]
    },
    {
     "name": "stderr",
     "output_type": "stream",
     "text": [
      "INFO:smac.intensification.intensification.Intensifier:Wallclock time limit for intensification reached (used: 34.913006 sec, available: 0.000010 sec)\n",
      "INFO:smac.optimizer.smbo.SMBO:Shared model mode: Finished loading new runs, found 0 new runs.\n"
     ]
    },
    {
     "name": "stdout",
     "output_type": "stream",
     "text": [
      "building empty layout model\n",
      "models will need to be added with layout.add_model()\n",
      "Loading the comets parameters...\n",
      "Creating the comets object...\n",
      "\n",
      "Running COMETS simulation ...\n",
      "Done!\n",
      "The last cycle is: 1000\n",
      "Configuration\tfitness\th2(mM)\tsucr(mM)\tBiomassFarmer\tBiomassLaborer\tendCycle\n",
      "0.015709375,0.046959375000000005,21.71875\t11.2364336595907\t11.240715607\t0.0042819474093000005\t2.7967907711\t0.14782311482\t1000\n",
      "Getting fluxes:End\n"
     ]
    },
    {
     "name": "stderr",
     "output_type": "stream",
     "text": [
      "INFO:smac.intensification.intensification.Intensifier:Wallclock time limit for intensification reached (used: 40.930093 sec, available: 0.000010 sec)\n",
      "INFO:smac.optimizer.smbo.SMBO:Shared model mode: Finished loading new runs, found 0 new runs.\n"
     ]
    },
    {
     "name": "stdout",
     "output_type": "stream",
     "text": [
      "building empty layout model\n",
      "models will need to be added with layout.add_model()\n",
      "Loading the comets parameters...\n",
      "Creating the comets object...\n",
      "\n",
      "Running COMETS simulation ...\n",
      "Done!\n",
      "The last cycle is: 1000\n",
      "Configuration\tfitness\th2(mM)\tsucr(mM)\tBiomassFarmer\tBiomassLaborer\tendCycle\n",
      "0.09999967390684432,0.19880289401977758,28.731968907156794\t192.169562190997\t192.18768985\t0.018127659003\t7.2086168648\t0.62581035267\t1000\n",
      "Getting fluxes:End\n"
     ]
    },
    {
     "name": "stderr",
     "output_type": "stream",
     "text": [
      "INFO:smac.intensification.intensification.Intensifier:Challenger (-192.1696) is better than incumbent (-167.9103) on 1 runs.\n",
      "INFO:smac.intensification.intensification.Intensifier:Changes in incumbent:\n",
      "INFO:smac.intensification.intensification.Intensifier:  biomassPalustris : 0.09687812500000001 -> 0.09999967390684432\n",
      "INFO:smac.intensification.intensification.Intensifier:  biomassSynechococcus : 0.178165625 -> 0.19880289401977758\n",
      "INFO:smac.intensification.intensification.Intensifier:  n2 : 38.78125 -> 28.731968907156794\n",
      "INFO:smac.intensification.intensification.Intensifier:Wallclock time limit for intensification reached (used: 39.741953 sec, available: 0.000010 sec)\n",
      "INFO:smac.optimizer.smbo.SMBO:Shared model mode: Finished loading new runs, found 0 new runs.\n"
     ]
    },
    {
     "name": "stdout",
     "output_type": "stream",
     "text": [
      "building empty layout model\n",
      "models will need to be added with layout.add_model()\n",
      "Loading the comets parameters...\n",
      "Creating the comets object...\n",
      "\n",
      "Running COMETS simulation ...\n",
      "Done!\n",
      "The last cycle is: 1000\n",
      "Configuration\tfitness\th2(mM)\tsucr(mM)\tBiomassFarmer\tBiomassLaborer\tendCycle\n",
      "0.09999967390684432,0.2584022987630342,30.977307638344172\t191.547256949303\t191.57076504\t0.023508090696999998\t7.7641393059\t0.81062381715\t1000\n",
      "Getting fluxes:End\n"
     ]
    },
    {
     "name": "stderr",
     "output_type": "stream",
     "text": [
      "INFO:smac.intensification.intensification.Intensifier:Wallclock time limit for intensification reached (used: 37.543706 sec, available: 0.000010 sec)\n",
      "INFO:smac.optimizer.smbo.SMBO:Shared model mode: Finished loading new runs, found 0 new runs.\n"
     ]
    },
    {
     "name": "stdout",
     "output_type": "stream",
     "text": [
      "building empty layout model\n",
      "models will need to be added with layout.add_model()\n",
      "Loading the comets parameters...\n",
      "Creating the comets object...\n",
      "\n",
      "Running COMETS simulation ...\n",
      "Done!\n",
      "The last cycle is: 1000\n",
      "Configuration\tfitness\th2(mM)\tsucr(mM)\tBiomassFarmer\tBiomassLaborer\tendCycle\n",
      "0.09999967390684432,0.23193350919972067,27.078532281034075\t197.07245071633002\t197.09359936\t0.02114864367\t6.7995377634\t0.73010200331\t1000\n",
      "Getting fluxes:End\n"
     ]
    },
    {
     "name": "stderr",
     "output_type": "stream",
     "text": [
      "INFO:smac.intensification.intensification.Intensifier:Challenger (-197.0725) is better than incumbent (-192.1696) on 1 runs.\n",
      "INFO:smac.intensification.intensification.Intensifier:Changes in incumbent:\n",
      "INFO:smac.intensification.intensification.Intensifier:  biomassSynechococcus : 0.19880289401977758 -> 0.23193350919972067\n",
      "INFO:smac.intensification.intensification.Intensifier:  n2 : 28.731968907156794 -> 27.078532281034075\n",
      "INFO:smac.intensification.intensification.Intensifier:Wallclock time limit for intensification reached (used: 39.694200 sec, available: 0.000010 sec)\n",
      "INFO:smac.optimizer.smbo.SMBO:Shared model mode: Finished loading new runs, found 0 new runs.\n"
     ]
    },
    {
     "name": "stdout",
     "output_type": "stream",
     "text": [
      "building empty layout model\n",
      "models will need to be added with layout.add_model()\n",
      "Loading the comets parameters...\n",
      "Creating the comets object...\n",
      "\n",
      "Running COMETS simulation ...\n",
      "Done!\n",
      "The last cycle is: 1000\n",
      "Configuration\tfitness\th2(mM)\tsucr(mM)\tBiomassFarmer\tBiomassLaborer\tendCycle\n",
      "0.04732097320781928,0.13939956909777437,10.995043726291568\t94.59214320053202\t94.60485422200001\t0.012711021468\t2.7676203408\t0.43881500784\t1000\n",
      "Getting fluxes:End\n"
     ]
    },
    {
     "name": "stderr",
     "output_type": "stream",
     "text": [
      "INFO:smac.intensification.intensification.Intensifier:Wallclock time limit for intensification reached (used: 38.630655 sec, available: 0.000010 sec)\n",
      "INFO:smac.optimizer.smbo.SMBO:Shared model mode: Finished loading new runs, found 0 new runs.\n"
     ]
    },
    {
     "name": "stdout",
     "output_type": "stream",
     "text": [
      "building empty layout model\n",
      "models will need to be added with layout.add_model()\n",
      "Loading the comets parameters...\n",
      "Creating the comets object...\n",
      "\n",
      "Running COMETS simulation ...\n",
      "Done!\n",
      "The last cycle is: 1000\n",
      "Configuration\tfitness\th2(mM)\tsucr(mM)\tBiomassFarmer\tBiomassLaborer\tendCycle\n",
      "0.09999967390684432,0.21732233433052747,23.985915848960598\t192.901807092869\t192.92162343\t0.019816337131\t6.0343891442\t0.68410757982\t1000\n",
      "Getting fluxes:End\n"
     ]
    },
    {
     "name": "stderr",
     "output_type": "stream",
     "text": [
      "INFO:smac.intensification.intensification.Intensifier:Wallclock time limit for intensification reached (used: 39.583627 sec, available: 0.000010 sec)\n",
      "INFO:smac.optimizer.smbo.SMBO:Shared model mode: Finished loading new runs, found 0 new runs.\n"
     ]
    },
    {
     "name": "stdout",
     "output_type": "stream",
     "text": [
      "building empty layout model\n",
      "models will need to be added with layout.add_model()\n",
      "Loading the comets parameters...\n",
      "Creating the comets object...\n",
      "\n",
      "Running COMETS simulation ...\n",
      "Done!\n",
      "The last cycle is: 975\n",
      "Configuration\tfitness\th2(mM)\tsucr(mM)\tBiomassFarmer\tBiomassLaborer\tendCycle\n",
      "0.09999968707349385,0.271522899920778,25.997362897849555\t168.753876041975\t168.77776823\t0.023892188025000004\t6.5320441255\t0.82386855259\t975\n",
      "Getting fluxes:End\n"
     ]
    },
    {
     "name": "stderr",
     "output_type": "stream",
     "text": [
      "INFO:smac.intensification.intensification.Intensifier:Wallclock time limit for intensification reached (used: 37.598156 sec, available: 0.000010 sec)\n",
      "INFO:smac.optimizer.smbo.SMBO:Shared model mode: Finished loading new runs, found 0 new runs.\n"
     ]
    },
    {
     "name": "stdout",
     "output_type": "stream",
     "text": [
      "building empty layout model\n",
      "models will need to be added with layout.add_model()\n",
      "Loading the comets parameters...\n",
      "Creating the comets object...\n",
      "\n",
      "Running COMETS simulation ...\n",
      "Done!\n",
      "The last cycle is: 1000\n",
      "Configuration\tfitness\th2(mM)\tsucr(mM)\tBiomassFarmer\tBiomassLaborer\tendCycle\n",
      "0.09999967390684432,0.2283789946691364,30.6109929744584\t196.318776381467\t196.33960091\t0.020824528533\t7.6735088752\t0.71891276986\t1000\n",
      "Getting fluxes:End\n"
     ]
    },
    {
     "name": "stderr",
     "output_type": "stream",
     "text": [
      "INFO:smac.intensification.intensification.Intensifier:Wallclock time limit for intensification reached (used: 39.793197 sec, available: 0.000010 sec)\n",
      "INFO:smac.optimizer.smbo.SMBO:Shared model mode: Finished loading new runs, found 0 new runs.\n"
     ]
    },
    {
     "name": "stdout",
     "output_type": "stream",
     "text": [
      "building empty layout model\n",
      "models will need to be added with layout.add_model()\n",
      "Loading the comets parameters...\n",
      "Creating the comets object...\n",
      "\n",
      "Running COMETS simulation ...\n",
      "Done!\n",
      "The last cycle is: 1000\n",
      "Configuration\tfitness\th2(mM)\tsucr(mM)\tBiomassFarmer\tBiomassLaborer\tendCycle\n",
      "0.09999967390684432,0.2238120931486318,27.835005990903067\t195.863706070181\t195.88411417\t0.020408099819\t6.9866979972\t0.70453664991\t1000\n",
      "Getting fluxes:End\n"
     ]
    },
    {
     "name": "stderr",
     "output_type": "stream",
     "text": [
      "INFO:smac.intensification.intensification.Intensifier:Wallclock time limit for intensification reached (used: 39.387414 sec, available: 0.000010 sec)\n",
      "INFO:smac.optimizer.smbo.SMBO:Shared model mode: Finished loading new runs, found 0 new runs.\n"
     ]
    },
    {
     "name": "stdout",
     "output_type": "stream",
     "text": [
      "building empty layout model\n",
      "models will need to be added with layout.add_model()\n",
      "Loading the comets parameters...\n",
      "Creating the comets object...\n",
      "\n",
      "Running COMETS simulation ...\n",
      "Done!\n",
      "The last cycle is: 970\n",
      "Configuration\tfitness\th2(mM)\tsucr(mM)\tBiomassFarmer\tBiomassLaborer\tendCycle\n",
      "0.09999967390684432,0.2736884562493214,39.99558295018079\t121.99234269\t121.99234269\t0.0\t9.9953635955\t0.82568206684\t970\n",
      "Getting fluxes:End\n"
     ]
    },
    {
     "name": "stderr",
     "output_type": "stream",
     "text": [
      "INFO:smac.intensification.intensification.Intensifier:Wallclock time limit for intensification reached (used: 38.686757 sec, available: 0.000010 sec)\n",
      "INFO:smac.optimizer.smbo.SMBO:Shared model mode: Finished loading new runs, found 0 new runs.\n"
     ]
    },
    {
     "name": "stdout",
     "output_type": "stream",
     "text": [
      "building empty layout model\n",
      "models will need to be added with layout.add_model()\n",
      "Loading the comets parameters...\n",
      "Creating the comets object...\n",
      "\n",
      "Running COMETS simulation ...\n",
      "Done!\n",
      "The last cycle is: 1000\n",
      "Configuration\tfitness\th2(mM)\tsucr(mM)\tBiomassFarmer\tBiomassLaborer\tendCycle\n",
      "0.09999967390684432,0.14566323474517978,21.38495823484023\t178.003175861942\t178.01645803\t0.013282168058\t5.3908825308\t0.45853236069\t1000\n",
      "Getting fluxes:End\n"
     ]
    },
    {
     "name": "stderr",
     "output_type": "stream",
     "text": [
      "INFO:smac.intensification.intensification.Intensifier:Wallclock time limit for intensification reached (used: 41.520682 sec, available: 0.000010 sec)\n",
      "INFO:smac.optimizer.smbo.SMBO:Shared model mode: Finished loading new runs, found 0 new runs.\n"
     ]
    },
    {
     "name": "stdout",
     "output_type": "stream",
     "text": [
      "building empty layout model\n",
      "models will need to be added with layout.add_model()\n",
      "Loading the comets parameters...\n",
      "Creating the comets object...\n",
      "\n",
      "Running COMETS simulation ...\n",
      "Done!\n",
      "The last cycle is: 1000\n",
      "Configuration\tfitness\th2(mM)\tsucr(mM)\tBiomassFarmer\tBiomassLaborer\tendCycle\n",
      "0.09999967390684432,0.23302179587545918,29.35126722323858\t197.591768011911\t197.61301589\t0.021247878089\t7.3618383399\t0.73352781394\t1000\n",
      "Getting fluxes:End\n"
     ]
    },
    {
     "name": "stderr",
     "output_type": "stream",
     "text": [
      "INFO:smac.intensification.intensification.Intensifier:Challenger (-197.5918) is better than incumbent (-197.0725) on 1 runs.\n",
      "INFO:smac.intensification.intensification.Intensifier:Changes in incumbent:\n",
      "INFO:smac.intensification.intensification.Intensifier:  biomassSynechococcus : 0.23193350919972067 -> 0.23302179587545918\n",
      "INFO:smac.intensification.intensification.Intensifier:  n2 : 27.078532281034075 -> 29.35126722323858\n",
      "INFO:smac.intensification.intensification.Intensifier:Wallclock time limit for intensification reached (used: 39.527997 sec, available: 0.000010 sec)\n",
      "INFO:smac.optimizer.smbo.SMBO:Shared model mode: Finished loading new runs, found 0 new runs.\n"
     ]
    },
    {
     "name": "stdout",
     "output_type": "stream",
     "text": [
      "building empty layout model\n",
      "models will need to be added with layout.add_model()\n",
      "Loading the comets parameters...\n",
      "Creating the comets object...\n",
      "\n",
      "Running COMETS simulation ...\n",
      "Done!\n",
      "The last cycle is: 1000\n",
      "Configuration\tfitness\th2(mM)\tsucr(mM)\tBiomassFarmer\tBiomassLaborer\tendCycle\n",
      "0.09999967390684432,0.23903011723138728,29.311277839281427\t198.027636508655\t198.04943225\t0.021795741345\t7.3519445096\t0.75244137013\t1000\n",
      "Getting fluxes:End\n"
     ]
    },
    {
     "name": "stderr",
     "output_type": "stream",
     "text": [
      "INFO:smac.intensification.intensification.Intensifier:Challenger (-198.0276) is better than incumbent (-197.5918) on 1 runs.\n",
      "INFO:smac.intensification.intensification.Intensifier:Changes in incumbent:\n",
      "INFO:smac.intensification.intensification.Intensifier:  biomassSynechococcus : 0.23302179587545918 -> 0.23903011723138728\n",
      "INFO:smac.intensification.intensification.Intensifier:  n2 : 29.35126722323858 -> 29.311277839281427\n",
      "INFO:smac.intensification.intensification.Intensifier:Wallclock time limit for intensification reached (used: 39.824167 sec, available: 0.000010 sec)\n",
      "INFO:smac.optimizer.smbo.SMBO:Shared model mode: Finished loading new runs, found 0 new runs.\n"
     ]
    },
    {
     "name": "stdout",
     "output_type": "stream",
     "text": [
      "building empty layout model\n",
      "models will need to be added with layout.add_model()\n",
      "Loading the comets parameters...\n",
      "Creating the comets object...\n",
      "\n",
      "Running COMETS simulation ...\n",
      "Done!\n",
      "The last cycle is: 1000\n",
      "Configuration\tfitness\th2(mM)\tsucr(mM)\tBiomassFarmer\tBiomassLaborer\tendCycle\n",
      "0.09997731347608367,0.13988078022537007,31.739739925533414\t176.345793799738\t176.3585487\t0.012754900262\t7.9527513994\t0.44032980926\t1000\n",
      "Getting fluxes:End\n"
     ]
    },
    {
     "name": "stderr",
     "output_type": "stream",
     "text": [
      "INFO:smac.intensification.intensification.Intensifier:Wallclock time limit for intensification reached (used: 41.735253 sec, available: 0.000010 sec)\n",
      "INFO:smac.optimizer.smbo.SMBO:Shared model mode: Finished loading new runs, found 0 new runs.\n"
     ]
    },
    {
     "name": "stdout",
     "output_type": "stream",
     "text": [
      "building empty layout model\n",
      "models will need to be added with layout.add_model()\n",
      "Loading the comets parameters...\n",
      "Creating the comets object...\n",
      "\n",
      "Running COMETS simulation ...\n",
      "Done!\n",
      "The last cycle is: 1000\n",
      "Configuration\tfitness\th2(mM)\tsucr(mM)\tBiomassFarmer\tBiomassLaborer\tendCycle\n",
      "0.09997934369289567,0.00013756802590925607,39.9922831604413\t75.25296137698612\t75.252973921\t1.2544013887000001e-05\t9.9945268597\t0.00043304950481\t1000\n",
      "Getting fluxes:End\n"
     ]
    },
    {
     "name": "stderr",
     "output_type": "stream",
     "text": [
      "INFO:smac.intensification.intensification.Intensifier:Wallclock time limit for intensification reached (used: 41.679404 sec, available: 0.000010 sec)\n",
      "INFO:smac.optimizer.smbo.SMBO:Shared model mode: Finished loading new runs, found 0 new runs.\n"
     ]
    },
    {
     "name": "stdout",
     "output_type": "stream",
     "text": [
      "building empty layout model\n",
      "models will need to be added with layout.add_model()\n",
      "Loading the comets parameters...\n",
      "Creating the comets object...\n",
      "\n",
      "Running COMETS simulation ...\n",
      "Done!\n",
      "The last cycle is: 1000\n",
      "Configuration\tfitness\th2(mM)\tsucr(mM)\tBiomassFarmer\tBiomassLaborer\tendCycle\n",
      "0.09416101734576461,0.23665994126007672,28.79615856616785\t188.64426090097098\t188.66584052\t0.021579619029\t7.2186594629\t0.74498030842\t1000\n",
      "Getting fluxes:End\n"
     ]
    },
    {
     "name": "stderr",
     "output_type": "stream",
     "text": [
      "INFO:smac.intensification.intensification.Intensifier:Wallclock time limit for intensification reached (used: 39.491459 sec, available: 0.000010 sec)\n",
      "INFO:smac.optimizer.smbo.SMBO:Shared model mode: Finished loading new runs, found 0 new runs.\n"
     ]
    },
    {
     "name": "stdout",
     "output_type": "stream",
     "text": [
      "building empty layout model\n",
      "models will need to be added with layout.add_model()\n",
      "Loading the comets parameters...\n",
      "Creating the comets object...\n",
      "\n",
      "Running COMETS simulation ...\n",
      "Done!\n",
      "The last cycle is: 1000\n",
      "Configuration\tfitness\th2(mM)\tsucr(mM)\tBiomassFarmer\tBiomassLaborer\tendCycle\n",
      "0.09999967390684432,0.23873648170609446,29.255403907860746\t197.632767325946\t197.67628026\t0.043512934053999995\t7.338120661\t0.75151703675\t1000\n",
      "Getting fluxes:End\n"
     ]
    },
    {
     "name": "stderr",
     "output_type": "stream",
     "text": [
      "INFO:smac.intensification.intensification.Intensifier:Wallclock time limit for intensification reached (used: 39.709641 sec, available: 0.000010 sec)\n",
      "INFO:smac.optimizer.smbo.SMBO:Shared model mode: Finished loading new runs, found 0 new runs.\n"
     ]
    },
    {
     "name": "stdout",
     "output_type": "stream",
     "text": [
      "building empty layout model\n",
      "models will need to be added with layout.add_model()\n",
      "Loading the comets parameters...\n",
      "Creating the comets object...\n",
      "\n",
      "Running COMETS simulation ...\n",
      "Done!\n",
      "The last cycle is: 1000\n",
      "Configuration\tfitness\th2(mM)\tsucr(mM)\tBiomassFarmer\tBiomassLaborer\tendCycle\n",
      "0.09999967390684432,0.17787591996661523,25.502231589254663\t187.695520917874\t187.71174037\t0.016219452126\t6.4095429728\t0.55993446551\t1000\n",
      "Getting fluxes:End\n"
     ]
    },
    {
     "name": "stderr",
     "output_type": "stream",
     "text": [
      "INFO:smac.intensification.intensification.Intensifier:Wallclock time limit for intensification reached (used: 40.690347 sec, available: 0.000010 sec)\n",
      "INFO:smac.optimizer.smbo.SMBO:Shared model mode: Finished loading new runs, found 0 new runs.\n"
     ]
    },
    {
     "name": "stdout",
     "output_type": "stream",
     "text": [
      "building empty layout model\n",
      "models will need to be added with layout.add_model()\n",
      "Loading the comets parameters...\n",
      "Creating the comets object...\n",
      "\n",
      "Running COMETS simulation ...\n",
      "Done!\n",
      "The last cycle is: 1000\n",
      "Configuration\tfitness\th2(mM)\tsucr(mM)\tBiomassFarmer\tBiomassLaborer\tendCycle\n",
      "0.09999967390684432,0.24660611706086905,32.87639009984083\t193.82706630907998\t193.87201359\t0.04494728092\t8.2339955419\t0.77628981132\t1000\n",
      "Getting fluxes:End\n"
     ]
    },
    {
     "name": "stderr",
     "output_type": "stream",
     "text": [
      "INFO:smac.intensification.intensification.Intensifier:Wallclock time limit for intensification reached (used: 39.570110 sec, available: 0.000010 sec)\n",
      "INFO:smac.optimizer.smbo.SMBO:Shared model mode: Finished loading new runs, found 0 new runs.\n"
     ]
    },
    {
     "name": "stdout",
     "output_type": "stream",
     "text": [
      "building empty layout model\n",
      "models will need to be added with layout.add_model()\n",
      "Loading the comets parameters...\n",
      "Creating the comets object...\n",
      "\n",
      "Running COMETS simulation ...\n",
      "Done!\n",
      "The last cycle is: 1000\n",
      "Configuration\tfitness\th2(mM)\tsucr(mM)\tBiomassFarmer\tBiomassLaborer\tendCycle\n",
      "0.09999967390684432,0.2493596227748772,25.536473344299576\t193.64851897563798\t193.69396812\t0.045449144362\t6.418014774\t0.78495755426\t1000\n",
      "Getting fluxes:End\n"
     ]
    },
    {
     "name": "stderr",
     "output_type": "stream",
     "text": [
      "INFO:smac.intensification.intensification.Intensifier:Wallclock time limit for intensification reached (used: 38.757807 sec, available: 0.000010 sec)\n",
      "INFO:smac.optimizer.smbo.SMBO:Shared model mode: Finished loading new runs, found 0 new runs.\n"
     ]
    },
    {
     "name": "stdout",
     "output_type": "stream",
     "text": [
      "building empty layout model\n",
      "models will need to be added with layout.add_model()\n",
      "Loading the comets parameters...\n",
      "Creating the comets object...\n",
      "\n",
      "Running COMETS simulation ...\n",
      "Done!\n",
      "The last cycle is: 1000\n",
      "Configuration\tfitness\th2(mM)\tsucr(mM)\tBiomassFarmer\tBiomassLaborer\tendCycle\n",
      "0.09999967390684432,0.24192529330870918,29.94158163457063\t196.962541274688\t196.98460101\t0.022059735312\t7.5078888659\t0.7615550763\t1000\n",
      "Getting fluxes:End\n"
     ]
    },
    {
     "name": "stderr",
     "output_type": "stream",
     "text": [
      "INFO:smac.intensification.intensification.Intensifier:Wallclock time limit for intensification reached (used: 39.692766 sec, available: 0.000010 sec)\n",
      "INFO:smac.optimizer.smbo.SMBO:Shared model mode: Finished loading new runs, found 0 new runs.\n"
     ]
    },
    {
     "name": "stdout",
     "output_type": "stream",
     "text": [
      "building empty layout model\n",
      "models will need to be added with layout.add_model()\n",
      "Loading the comets parameters...\n",
      "Creating the comets object...\n",
      "\n",
      "Running COMETS simulation ...\n",
      "Done!\n",
      "The last cycle is: 1000\n",
      "Configuration\tfitness\th2(mM)\tsucr(mM)\tBiomassFarmer\tBiomassLaborer\tendCycle\n",
      "0.09999967390684432,0.19181916594947485,11.638449956513707\t150.18936191581602\t150.20685277\t0.017490854184\t2.9794850898\t0.60382631995\t1000\n",
      "Getting fluxes:End\n"
     ]
    },
    {
     "name": "stderr",
     "output_type": "stream",
     "text": [
      "INFO:smac.intensification.intensification.Intensifier:Wallclock time limit for intensification reached (used: 39.310009 sec, available: 0.000010 sec)\n",
      "INFO:smac.optimizer.smbo.SMBO:Shared model mode: Finished loading new runs, found 0 new runs.\n"
     ]
    },
    {
     "name": "stdout",
     "output_type": "stream",
     "text": [
      "building empty layout model\n",
      "models will need to be added with layout.add_model()\n",
      "Loading the comets parameters...\n",
      "Creating the comets object...\n",
      "\n",
      "Running COMETS simulation ...\n",
      "Done!\n",
      "The last cycle is: 1000\n",
      "Configuration\tfitness\th2(mM)\tsucr(mM)\tBiomassFarmer\tBiomassLaborer\tendCycle\n",
      "0.09999967390684432,0.2384558431086069,28.26302144139699\t197.850022463313\t197.87176584\t0.021743376686999997\t7.092593907\t0.75063361631\t1000\n",
      "Getting fluxes:End\n"
     ]
    },
    {
     "name": "stderr",
     "output_type": "stream",
     "text": [
      "INFO:smac.intensification.intensification.Intensifier:Wallclock time limit for intensification reached (used: 39.656381 sec, available: 0.000010 sec)\n",
      "INFO:smac.optimizer.smbo.SMBO:Shared model mode: Finished loading new runs, found 0 new runs.\n"
     ]
    },
    {
     "name": "stdout",
     "output_type": "stream",
     "text": [
      "building empty layout model\n",
      "models will need to be added with layout.add_model()\n",
      "Loading the comets parameters...\n",
      "Creating the comets object...\n",
      "\n",
      "Running COMETS simulation ...\n",
      "Done!\n",
      "The last cycle is: 1000\n",
      "Configuration\tfitness\th2(mM)\tsucr(mM)\tBiomassFarmer\tBiomassLaborer\tendCycle\n",
      "0.09999967390684432,0.2079387524668759,39.95823508737391\t143.641221976233\t143.67912161\t0.037899633767\t9.986124713\t0.65456906277\t1000\n",
      "Getting fluxes:End\n"
     ]
    },
    {
     "name": "stderr",
     "output_type": "stream",
     "text": [
      "INFO:smac.intensification.intensification.Intensifier:Wallclock time limit for intensification reached (used: 39.748979 sec, available: 0.000010 sec)\n",
      "INFO:smac.optimizer.smbo.SMBO:Shared model mode: Finished loading new runs, found 0 new runs.\n"
     ]
    },
    {
     "name": "stdout",
     "output_type": "stream",
     "text": [
      "building empty layout model\n",
      "models will need to be added with layout.add_model()\n",
      "Loading the comets parameters...\n",
      "Creating the comets object...\n",
      "\n",
      "Running COMETS simulation ...\n",
      "Done!\n",
      "The last cycle is: 1000\n",
      "Configuration\tfitness\th2(mM)\tsucr(mM)\tBiomassFarmer\tBiomassLaborer\tendCycle\n",
      "0.099994549969206,0.11705587326706259,39.98891797069912\t122.24646077788101\t122.25713441\t0.010673632119\t9.9937094796\t0.36847943131\t1000\n",
      "Getting fluxes:End\n"
     ]
    },
    {
     "name": "stderr",
     "output_type": "stream",
     "text": [
      "INFO:smac.intensification.intensification.Intensifier:Wallclock time limit for intensification reached (used: 40.772591 sec, available: 0.000010 sec)\n",
      "INFO:smac.optimizer.smbo.SMBO:Shared model mode: Finished loading new runs, found 0 new runs.\n"
     ]
    },
    {
     "name": "stdout",
     "output_type": "stream",
     "text": [
      "building empty layout model\n",
      "models will need to be added with layout.add_model()\n",
      "Loading the comets parameters...\n",
      "Creating the comets object...\n",
      "\n",
      "Running COMETS simulation ...\n",
      "Done!\n",
      "The last cycle is: 1000\n",
      "Configuration\tfitness\th2(mM)\tsucr(mM)\tBiomassFarmer\tBiomassLaborer\tendCycle\n",
      "0.0999992709629639,0.187143679798955,32.932449023394796\t187.00608886572002\t187.02315339\t0.01706452428\t8.2478632069\t0.58910838714\t1000\n",
      "Getting fluxes:End\n"
     ]
    },
    {
     "name": "stderr",
     "output_type": "stream",
     "text": [
      "INFO:smac.intensification.intensification.Intensifier:Wallclock time limit for intensification reached (used: 39.697789 sec, available: 0.000010 sec)\n",
      "INFO:smac.optimizer.smbo.SMBO:Shared model mode: Finished loading new runs, found 0 new runs.\n"
     ]
    },
    {
     "name": "stdout",
     "output_type": "stream",
     "text": [
      "building empty layout model\n",
      "models will need to be added with layout.add_model()\n",
      "Loading the comets parameters...\n",
      "Creating the comets object...\n",
      "\n",
      "Running COMETS simulation ...\n",
      "Done!\n",
      "The last cycle is: 1000\n",
      "Configuration\tfitness\th2(mM)\tsucr(mM)\tBiomassFarmer\tBiomassLaborer\tendCycle\n",
      "0.09999967390684432,0.24011534043458543,27.816709729639488\t197.467577763576\t197.48947246\t0.021894696423999997\t6.9821712932\t0.75585753728\t1000\n",
      "Getting fluxes:End\n"
     ]
    },
    {
     "name": "stderr",
     "output_type": "stream",
     "text": [
      "INFO:smac.intensification.intensification.Intensifier:Wallclock time limit for intensification reached (used: 39.776489 sec, available: 0.000010 sec)\n",
      "INFO:smac.optimizer.smbo.SMBO:Shared model mode: Finished loading new runs, found 0 new runs.\n"
     ]
    },
    {
     "name": "stdout",
     "output_type": "stream",
     "text": [
      "building empty layout model\n",
      "models will need to be added with layout.add_model()\n",
      "Loading the comets parameters...\n",
      "Creating the comets object...\n",
      "\n",
      "Running COMETS simulation ...\n",
      "Done!\n",
      "The last cycle is: 1000\n",
      "Configuration\tfitness\th2(mM)\tsucr(mM)\tBiomassFarmer\tBiomassLaborer\tendCycle\n",
      "0.09999625049900185,0.08608208073785192,19.786673400323576\t164.0722583646588\t164.08010768\t0.0078493153412\t4.9954451889\t0.27097722883\t1000\n",
      "Getting fluxes:End\n"
     ]
    },
    {
     "name": "stderr",
     "output_type": "stream",
     "text": [
      "INFO:smac.intensification.intensification.Intensifier:Wallclock time limit for intensification reached (used: 40.670010 sec, available: 0.000010 sec)\n",
      "INFO:smac.optimizer.smbo.SMBO:Shared model mode: Finished loading new runs, found 0 new runs.\n"
     ]
    },
    {
     "name": "stdout",
     "output_type": "stream",
     "text": [
      "building empty layout model\n",
      "models will need to be added with layout.add_model()\n",
      "Loading the comets parameters...\n",
      "Creating the comets object...\n",
      "\n",
      "Running COMETS simulation ...\n",
      "Done!\n",
      "The last cycle is: 1000\n",
      "Configuration\tfitness\th2(mM)\tsucr(mM)\tBiomassFarmer\tBiomassLaborer\tendCycle\n",
      "0.09999967390684432,0.23624142222826475,20.13414515866968\t187.761257143243\t187.7827986\t0.021541456757\t5.081417093\t0.74366285505\t1000\n",
      "Getting fluxes:End\n"
     ]
    },
    {
     "name": "stderr",
     "output_type": "stream",
     "text": [
      "INFO:smac.intensification.intensification.Intensifier:Wallclock time limit for intensification reached (used: 38.643081 sec, available: 0.000010 sec)\n",
      "INFO:smac.optimizer.smbo.SMBO:Shared model mode: Finished loading new runs, found 0 new runs.\n"
     ]
    },
    {
     "name": "stdout",
     "output_type": "stream",
     "text": [
      "building empty layout model\n",
      "models will need to be added with layout.add_model()\n",
      "Loading the comets parameters...\n",
      "Creating the comets object...\n",
      "\n",
      "Running COMETS simulation ...\n",
      "Done!\n",
      "The last cycle is: 1000\n",
      "Configuration\tfitness\th2(mM)\tsucr(mM)\tBiomassFarmer\tBiomassLaborer\tendCycle\n",
      "0.09999417920249969,0.15608423106707028,35.1495182188879\t175.707968982979\t175.72220138\t0.014232397021000001\t8.7963863503\t0.49133654805\t1000\n",
      "Getting fluxes:End\n"
     ]
    },
    {
     "name": "stderr",
     "output_type": "stream",
     "text": [
      "INFO:smac.intensification.intensification.Intensifier:Wallclock time limit for intensification reached (used: 40.840876 sec, available: 0.000010 sec)\n",
      "INFO:smac.optimizer.smbo.SMBO:Shared model mode: Finished loading new runs, found 0 new runs.\n"
     ]
    },
    {
     "name": "stdout",
     "output_type": "stream",
     "text": [
      "building empty layout model\n",
      "models will need to be added with layout.add_model()\n",
      "Loading the comets parameters...\n",
      "Creating the comets object...\n",
      "\n",
      "Running COMETS simulation ...\n",
      "Done!\n",
      "The last cycle is: 1000\n",
      "Configuration\tfitness\th2(mM)\tsucr(mM)\tBiomassFarmer\tBiomassLaborer\tendCycle\n",
      "0.09999967390684432,0.2548647404179212,25.9521344557477\t192.621487683107\t192.64472729\t0.023239606893000003\t6.5208540793\t0.80228707872\t1000\n",
      "Getting fluxes:End\n"
     ]
    },
    {
     "name": "stderr",
     "output_type": "stream",
     "text": [
      "INFO:smac.intensification.intensification.Intensifier:Wallclock time limit for intensification reached (used: 38.692594 sec, available: 0.000010 sec)\n",
      "INFO:smac.optimizer.smbo.SMBO:Shared model mode: Finished loading new runs, found 0 new runs.\n"
     ]
    },
    {
     "name": "stdout",
     "output_type": "stream",
     "text": [
      "building empty layout model\n",
      "models will need to be added with layout.add_model()\n",
      "Loading the comets parameters...\n",
      "Creating the comets object...\n",
      "\n",
      "Running COMETS simulation ...\n",
      "Done!\n",
      "The last cycle is: 1000\n",
      "Configuration\tfitness\th2(mM)\tsucr(mM)\tBiomassFarmer\tBiomassLaborer\tendCycle\n",
      "0.09999967390684432,0.23976096116401088,29.004457028208876\t197.382743680788\t197.42644334\t0.043699659211999996\t7.2760335375\t0.75474198905\t1000\n",
      "Getting fluxes:End\n"
     ]
    },
    {
     "name": "stderr",
     "output_type": "stream",
     "text": [
      "INFO:smac.intensification.intensification.Intensifier:Wallclock time limit for intensification reached (used: 39.763350 sec, available: 0.000010 sec)\n",
      "INFO:smac.optimizer.smbo.SMBO:Shared model mode: Finished loading new runs, found 0 new runs.\n"
     ]
    },
    {
     "name": "stdout",
     "output_type": "stream",
     "text": [
      "building empty layout model\n",
      "models will need to be added with layout.add_model()\n",
      "Loading the comets parameters...\n",
      "Creating the comets object...\n",
      "\n",
      "Running COMETS simulation ...\n",
      "Done!\n",
      "The last cycle is: 1000\n",
      "Configuration\tfitness\th2(mM)\tsucr(mM)\tBiomassFarmer\tBiomassLaborer\tendCycle\n",
      "0.09999313843084681,0.0001362068283178993,1.0519684403921454\t35.898311778105665\t35.898324198000005\t1.2419894337000001e-05\t0.36026214275\t0.00042876459966\t1000\n",
      "Getting fluxes:End\n"
     ]
    },
    {
     "name": "stderr",
     "output_type": "stream",
     "text": [
      "INFO:smac.intensification.intensification.Intensifier:Wallclock time limit for intensification reached (used: 39.373514 sec, available: 0.000010 sec)\n",
      "INFO:smac.optimizer.smbo.SMBO:Shared model mode: Finished loading new runs, found 0 new runs.\n"
     ]
    },
    {
     "name": "stdout",
     "output_type": "stream",
     "text": [
      "building empty layout model\n",
      "models will need to be added with layout.add_model()\n",
      "Loading the comets parameters...\n",
      "Creating the comets object...\n",
      "\n",
      "Running COMETS simulation ...\n",
      "Done!\n",
      "The last cycle is: 1000\n",
      "Configuration\tfitness\th2(mM)\tsucr(mM)\tBiomassFarmer\tBiomassLaborer\tendCycle\n",
      "0.09999967390684432,0.23814264119346595,28.734044059819553\t198.065367581364\t198.10877228\t0.043404698636\t7.2091302813\t0.74964769002\t1000\n",
      "Getting fluxes:End\n"
     ]
    },
    {
     "name": "stderr",
     "output_type": "stream",
     "text": [
      "INFO:smac.intensification.intensification.Intensifier:Challenger (-198.0654) is better than incumbent (-198.0276) on 1 runs.\n",
      "INFO:smac.intensification.intensification.Intensifier:Changes in incumbent:\n",
      "INFO:smac.intensification.intensification.Intensifier:  biomassSynechococcus : 0.23903011723138728 -> 0.23814264119346595\n",
      "INFO:smac.intensification.intensification.Intensifier:  n2 : 29.311277839281427 -> 28.734044059819553\n",
      "INFO:smac.intensification.intensification.Intensifier:Wallclock time limit for intensification reached (used: 39.692988 sec, available: 0.000010 sec)\n",
      "INFO:smac.optimizer.smbo.SMBO:Shared model mode: Finished loading new runs, found 0 new runs.\n"
     ]
    },
    {
     "name": "stdout",
     "output_type": "stream",
     "text": [
      "building empty layout model\n",
      "models will need to be added with layout.add_model()\n",
      "Loading the comets parameters...\n",
      "Creating the comets object...\n",
      "\n",
      "Running COMETS simulation ...\n",
      "Done!\n",
      "The last cycle is: 1000\n",
      "Configuration\tfitness\th2(mM)\tsucr(mM)\tBiomassFarmer\tBiomassLaborer\tendCycle\n",
      "0.09999967390684432,0.2375094461200755,28.787717278970035\t198.149622479651\t198.17127956\t0.021657080348999998\t7.2224096486\t0.74765445931\t1000\n",
      "Getting fluxes:End\n"
     ]
    },
    {
     "name": "stderr",
     "output_type": "stream",
     "text": [
      "INFO:smac.intensification.intensification.Intensifier:Challenger (-198.1496) is better than incumbent (-198.0654) on 1 runs.\n",
      "INFO:smac.intensification.intensification.Intensifier:Changes in incumbent:\n",
      "INFO:smac.intensification.intensification.Intensifier:  biomassSynechococcus : 0.23814264119346595 -> 0.2375094461200755\n",
      "INFO:smac.intensification.intensification.Intensifier:  n2 : 28.734044059819553 -> 28.787717278970035\n",
      "INFO:smac.intensification.intensification.Intensifier:Wallclock time limit for intensification reached (used: 39.434894 sec, available: 0.000010 sec)\n",
      "INFO:smac.optimizer.smbo.SMBO:Shared model mode: Finished loading new runs, found 0 new runs.\n"
     ]
    },
    {
     "name": "stdout",
     "output_type": "stream",
     "text": [
      "building empty layout model\n",
      "models will need to be added with layout.add_model()\n",
      "Loading the comets parameters...\n",
      "Creating the comets object...\n",
      "\n",
      "Running COMETS simulation ...\n",
      "Done!\n",
      "The last cycle is: 1000\n",
      "Configuration\tfitness\th2(mM)\tsucr(mM)\tBiomassFarmer\tBiomassLaborer\tendCycle\n",
      "0.09999967390684432,0.23674759086393946,28.611295731977574\t198.116163278722\t198.13775089\t0.021587611277999998\t7.1787609434\t0.74525622005\t1000\n",
      "Getting fluxes:End\n"
     ]
    },
    {
     "name": "stderr",
     "output_type": "stream",
     "text": [
      "INFO:smac.intensification.intensification.Intensifier:Wallclock time limit for intensification reached (used: 39.728044 sec, available: 0.000010 sec)\n",
      "INFO:smac.optimizer.smbo.SMBO:Shared model mode: Finished loading new runs, found 0 new runs.\n"
     ]
    },
    {
     "name": "stdout",
     "output_type": "stream",
     "text": [
      "building empty layout model\n",
      "models will need to be added with layout.add_model()\n",
      "Loading the comets parameters...\n",
      "Creating the comets object...\n",
      "\n",
      "Running COMETS simulation ...\n",
      "Done!\n",
      "The last cycle is: 1000\n",
      "Configuration\tfitness\th2(mM)\tsucr(mM)\tBiomassFarmer\tBiomassLaborer\tendCycle\n",
      "0.09999967390684432,0.23654467940501417,28.670358008058937\t198.304505841017\t198.32607495\t0.021569108983\t7.1933736249\t0.74461747637\t1000\n",
      "Getting fluxes:End\n"
     ]
    },
    {
     "name": "stderr",
     "output_type": "stream",
     "text": [
      "INFO:smac.intensification.intensification.Intensifier:Challenger (-198.3045) is better than incumbent (-198.1496) on 1 runs.\n",
      "INFO:smac.intensification.intensification.Intensifier:Changes in incumbent:\n",
      "INFO:smac.intensification.intensification.Intensifier:  biomassSynechococcus : 0.2375094461200755 -> 0.23654467940501417\n",
      "INFO:smac.intensification.intensification.Intensifier:  n2 : 28.787717278970035 -> 28.670358008058937\n",
      "INFO:smac.intensification.intensification.Intensifier:Wallclock time limit for intensification reached (used: 38.702747 sec, available: 0.000010 sec)\n",
      "INFO:smac.optimizer.smbo.SMBO:Shared model mode: Finished loading new runs, found 0 new runs.\n"
     ]
    },
    {
     "name": "stdout",
     "output_type": "stream",
     "text": [
      "building empty layout model\n",
      "models will need to be added with layout.add_model()\n",
      "Loading the comets parameters...\n",
      "Creating the comets object...\n",
      "\n",
      "Running COMETS simulation ...\n",
      "Done!\n",
      "The last cycle is: 1000\n",
      "Configuration\tfitness\th2(mM)\tsucr(mM)\tBiomassFarmer\tBiomassLaborer\tendCycle\n",
      "0.08794974024997829,0.1735149507605326,30.178326101206952\t165.292052828839\t165.30787463\t0.015821801161\t7.5544122166\t0.54620659857\t1000\n",
      "Getting fluxes:End\n"
     ]
    },
    {
     "name": "stderr",
     "output_type": "stream",
     "text": [
      "INFO:smac.intensification.intensification.Intensifier:Wallclock time limit for intensification reached (used: 39.714096 sec, available: 0.000010 sec)\n",
      "INFO:smac.optimizer.smbo.SMBO:Shared model mode: Finished loading new runs, found 0 new runs.\n"
     ]
    },
    {
     "name": "stdout",
     "output_type": "stream",
     "text": [
      "building empty layout model\n",
      "models will need to be added with layout.add_model()\n",
      "Loading the comets parameters...\n",
      "Creating the comets object...\n",
      "\n",
      "Running COMETS simulation ...\n",
      "Done!\n",
      "The last cycle is: 1000\n",
      "Configuration\tfitness\th2(mM)\tsucr(mM)\tBiomassFarmer\tBiomassLaborer\tendCycle\n",
      "0.00012105978139854013,0.00010052387923251718,1.0112824081550507\t0.06964948497054871\t0.069658651148\t9.1661774513e-06\t0.01735540549\t0.00031643847351\t1000\n",
      "Getting fluxes:End\n"
     ]
    },
    {
     "name": "stderr",
     "output_type": "stream",
     "text": [
      "INFO:smac.intensification.intensification.Intensifier:Wallclock time limit for intensification reached (used: 33.837001 sec, available: 0.000010 sec)\n",
      "INFO:smac.optimizer.smbo.SMBO:Shared model mode: Finished loading new runs, found 0 new runs.\n"
     ]
    },
    {
     "name": "stdout",
     "output_type": "stream",
     "text": [
      "building empty layout model\n",
      "models will need to be added with layout.add_model()\n",
      "Loading the comets parameters...\n",
      "Creating the comets object...\n",
      "\n",
      "Running COMETS simulation ...\n",
      "Done!\n",
      "The last cycle is: 1000\n",
      "Configuration\tfitness\th2(mM)\tsucr(mM)\tBiomassFarmer\tBiomassLaborer\tendCycle\n",
      "0.09999967390684432,0.23591427226836334,28.662835540037534\t198.250942784112\t198.27245441\t0.021511625888\t7.1915155493\t0.74263302179\t1000\n",
      "Getting fluxes:End\n"
     ]
    },
    {
     "name": "stderr",
     "output_type": "stream",
     "text": [
      "INFO:smac.intensification.intensification.Intensifier:Wallclock time limit for intensification reached (used: 39.634373 sec, available: 0.000010 sec)\n",
      "INFO:smac.optimizer.smbo.SMBO:Shared model mode: Finished loading new runs, found 0 new runs.\n"
     ]
    },
    {
     "name": "stdout",
     "output_type": "stream",
     "text": [
      "building empty layout model\n",
      "models will need to be added with layout.add_model()\n",
      "Loading the comets parameters...\n",
      "Creating the comets object...\n",
      "\n",
      "Running COMETS simulation ...\n",
      "Done!\n",
      "The last cycle is: 1000\n",
      "Configuration\tfitness\th2(mM)\tsucr(mM)\tBiomassFarmer\tBiomassLaborer\tendCycle\n",
      "0.09999967390684432,0.23553739836636114,28.59048216053999\t197.84916991901198\t197.87064718\t0.021477260988\t7.1736114281\t0.74144666286\t1000\n",
      "Getting fluxes:End\n"
     ]
    },
    {
     "name": "stderr",
     "output_type": "stream",
     "text": [
      "INFO:smac.intensification.intensification.Intensifier:Wallclock time limit for intensification reached (used: 39.582756 sec, available: 0.000010 sec)\n",
      "INFO:smac.optimizer.smbo.SMBO:Shared model mode: Finished loading new runs, found 0 new runs.\n"
     ]
    },
    {
     "name": "stdout",
     "output_type": "stream",
     "text": [
      "building empty layout model\n",
      "models will need to be added with layout.add_model()\n",
      "Loading the comets parameters...\n",
      "Creating the comets object...\n",
      "\n",
      "Running COMETS simulation ...\n",
      "Done!\n",
      "The last cycle is: 1000\n",
      "Configuration\tfitness\th2(mM)\tsucr(mM)\tBiomassFarmer\tBiomassLaborer\tendCycle\n",
      "0.09999967390684432,0.23578510940838557,28.641439920161123\t198.106914241708\t198.12841409\t0.021499848292\t7.1862189597\t0.74222643086\t1000\n",
      "Getting fluxes:End\n"
     ]
    },
    {
     "name": "stderr",
     "output_type": "stream",
     "text": [
      "INFO:smac.intensification.intensification.Intensifier:Wallclock time limit for intensification reached (used: 38.788889 sec, available: 0.000010 sec)\n",
      "INFO:smac.optimizer.smbo.SMBO:Shared model mode: Finished loading new runs, found 0 new runs.\n"
     ]
    },
    {
     "name": "stdout",
     "output_type": "stream",
     "text": [
      "building empty layout model\n",
      "models will need to be added with layout.add_model()\n",
      "Loading the comets parameters...\n",
      "Creating the comets object...\n",
      "\n",
      "Running COMETS simulation ...\n",
      "Done!\n",
      "The last cycle is: 1000\n",
      "Configuration\tfitness\th2(mM)\tsucr(mM)\tBiomassFarmer\tBiomassLaborer\tendCycle\n",
      "0.09999967390684432,0.235867803486179,28.6973108052602\t198.130120861325\t198.15162825\t0.021507388675000003\t7.2000420547\t0.74248674301\t1000\n",
      "Getting fluxes:End\n"
     ]
    },
    {
     "name": "stderr",
     "output_type": "stream",
     "text": [
      "INFO:smac.intensification.intensification.Intensifier:Wallclock time limit for intensification reached (used: 38.517006 sec, available: 0.000010 sec)\n",
      "INFO:smac.optimizer.smbo.SMBO:Shared model mode: Finished loading new runs, found 0 new runs.\n"
     ]
    },
    {
     "name": "stdout",
     "output_type": "stream",
     "text": [
      "building empty layout model\n",
      "models will need to be added with layout.add_model()\n",
      "Loading the comets parameters...\n",
      "Creating the comets object...\n",
      "\n",
      "Running COMETS simulation ...\n",
      "Done!\n",
      "The last cycle is: 1000\n",
      "Configuration\tfitness\th2(mM)\tsucr(mM)\tBiomassFarmer\tBiomassLaborer\tendCycle\n",
      "0.09999967390684432,0.23576213208402652,28.670358008058937\t198.191154996874\t198.21265275\t0.021497753126\t7.1933736249\t0.74215410069\t1000\n",
      "Getting fluxes:End\n"
     ]
    },
    {
     "name": "stderr",
     "output_type": "stream",
     "text": [
      "INFO:smac.intensification.intensification.Intensifier:Wallclock time limit for intensification reached (used: 38.729341 sec, available: 0.000010 sec)\n",
      "INFO:smac.optimizer.smbo.SMBO:Shared model mode: Finished loading new runs, found 0 new runs.\n"
     ]
    },
    {
     "name": "stdout",
     "output_type": "stream",
     "text": [
      "building empty layout model\n",
      "models will need to be added with layout.add_model()\n",
      "Loading the comets parameters...\n",
      "Creating the comets object...\n",
      "\n",
      "Running COMETS simulation ...\n",
      "Done!\n",
      "The last cycle is: 1000\n",
      "Configuration\tfitness\th2(mM)\tsucr(mM)\tBiomassFarmer\tBiomassLaborer\tendCycle\n",
      "0.09999967390684432,0.2357900068043602,28.614719742851207\t197.924276075144\t197.94577637\t0.021500294855999996\t7.1796080828\t0.74224184734\t1000\n",
      "Getting fluxes:End\n"
     ]
    },
    {
     "name": "stderr",
     "output_type": "stream",
     "text": [
      "INFO:smac.intensification.intensification.Intensifier:Wallclock time limit for intensification reached (used: 38.570240 sec, available: 0.000010 sec)\n",
      "INFO:smac.optimizer.smbo.SMBO:Shared model mode: Finished loading new runs, found 0 new runs.\n",
      "INFO:smac.optimizer.smbo.SMBO:Shared model mode: Finished loading new runs, found 0 new runs.\n"
     ]
    },
    {
     "name": "stdout",
     "output_type": "stream",
     "text": [
      "building empty layout model\n",
      "models will need to be added with layout.add_model()\n",
      "Loading the comets parameters...\n",
      "Creating the comets object...\n",
      "\n",
      "Running COMETS simulation ...\n",
      "Done!\n",
      "The last cycle is: 1000\n",
      "Configuration\tfitness\th2(mM)\tsucr(mM)\tBiomassFarmer\tBiomassLaborer\tendCycle\n",
      "0.09999967390684432,0.23591427226836334,28.702484730827884\t198.124505134112\t198.14601676\t0.021511625888\t7.2013221429\t0.74263302179\t1000\n",
      "Getting fluxes:End\n"
     ]
    },
    {
     "name": "stderr",
     "output_type": "stream",
     "text": [
      "INFO:smac.intensification.intensification.Intensifier:Wallclock time limit for intensification reached (used: 39.699647 sec, available: 0.000010 sec)\n",
      "INFO:smac.optimizer.smbo.SMBO:Shared model mode: Finished loading new runs, found 0 new runs.\n"
     ]
    },
    {
     "name": "stdout",
     "output_type": "stream",
     "text": [
      "building empty layout model\n",
      "models will need to be added with layout.add_model()\n",
      "Loading the comets parameters...\n",
      "Creating the comets object...\n",
      "\n",
      "Running COMETS simulation ...\n",
      "Done!\n",
      "The last cycle is: 1000\n",
      "Configuration\tfitness\th2(mM)\tsucr(mM)\tBiomassFarmer\tBiomassLaborer\tendCycle\n",
      "0.09999967390684432,0.235898083219495,28.662835540037534\t198.246750630295\t198.26826078\t0.021510149705\t7.191513756\t0.74258206039\t1000\n",
      "Getting fluxes:End\n"
     ]
    },
    {
     "name": "stderr",
     "output_type": "stream",
     "text": [
      "INFO:smac.intensification.intensification.Intensifier:Wallclock time limit for intensification reached (used: 38.553325 sec, available: 0.000010 sec)\n",
      "INFO:smac.optimizer.smbo.SMBO:Shared model mode: Finished loading new runs, found 0 new runs.\n",
      "INFO:smac.optimizer.smbo.SMBO:Shared model mode: Finished loading new runs, found 0 new runs.\n"
     ]
    },
    {
     "name": "stdout",
     "output_type": "stream",
     "text": [
      "building empty layout model\n",
      "models will need to be added with layout.add_model()\n",
      "Loading the comets parameters...\n",
      "Creating the comets object...\n",
      "\n",
      "Running COMETS simulation ...\n",
      "Done!\n",
      "The last cycle is: 1000\n",
      "Configuration\tfitness\th2(mM)\tsucr(mM)\tBiomassFarmer\tBiomassLaborer\tendCycle\n",
      "0.09999967390684432,0.23573512659972826,28.64142590147547\t198.106822969345\t198.12831826\t0.021495290655\t7.1862154913\t0.7420690903\t1000\n",
      "Getting fluxes:End\n"
     ]
    },
    {
     "name": "stderr",
     "output_type": "stream",
     "text": [
      "INFO:smac.intensification.intensification.Intensifier:Wallclock time limit for intensification reached (used: 38.471375 sec, available: 0.000010 sec)\n",
      "INFO:smac.optimizer.smbo.SMBO:Shared model mode: Finished loading new runs, found 0 new runs.\n"
     ]
    },
    {
     "name": "stdout",
     "output_type": "stream",
     "text": [
      "building empty layout model\n",
      "models will need to be added with layout.add_model()\n",
      "Loading the comets parameters...\n",
      "Creating the comets object...\n",
      "\n",
      "Running COMETS simulation ...\n",
      "Done!\n",
      "The last cycle is: 1000\n",
      "Configuration\tfitness\th2(mM)\tsucr(mM)\tBiomassFarmer\tBiomassLaborer\tendCycle\n",
      "0.09999774379086522,0.11801480899729963,23.7372322153117\t174.87374982820901\t174.8845109\t0.010761071791\t5.9728606887\t0.37149805893\t1000\n",
      "Getting fluxes:End\n"
     ]
    },
    {
     "name": "stderr",
     "output_type": "stream",
     "text": [
      "INFO:smac.intensification.intensification.Intensifier:Wallclock time limit for intensification reached (used: 40.703125 sec, available: 0.000010 sec)\n",
      "INFO:smac.optimizer.smbo.SMBO:Shared model mode: Finished loading new runs, found 0 new runs.\n"
     ]
    },
    {
     "name": "stdout",
     "output_type": "stream",
     "text": [
      "building empty layout model\n",
      "models will need to be added with layout.add_model()\n",
      "Loading the comets parameters...\n",
      "Creating the comets object...\n",
      "\n",
      "Running COMETS simulation ...\n",
      "Done!\n",
      "The last cycle is: 1000\n",
      "Configuration\tfitness\th2(mM)\tsucr(mM)\tBiomassFarmer\tBiomassLaborer\tendCycle\n",
      "0.09999967390684432,0.235956846653595,28.694279894293903\t198.160498932005\t198.18201444\t0.021515507995000002\t7.1992921727\t0.74276704143\t1000\n",
      "Getting fluxes:End\n"
     ]
    },
    {
     "name": "stderr",
     "output_type": "stream",
     "text": [
      "INFO:smac.intensification.intensification.Intensifier:Wallclock time limit for intensification reached (used: 38.771286 sec, available: 0.000010 sec)\n",
      "INFO:smac.optimizer.smbo.SMBO:Shared model mode: Finished loading new runs, found 0 new runs.\n",
      "INFO:smac.optimizer.smbo.SMBO:Shared model mode: Finished loading new runs, found 0 new runs.\n",
      "INFO:smac.optimizer.smbo.SMBO:Shared model mode: Finished loading new runs, found 0 new runs.\n"
     ]
    },
    {
     "name": "stdout",
     "output_type": "stream",
     "text": [
      "building empty layout model\n",
      "models will need to be added with layout.add_model()\n",
      "Loading the comets parameters...\n",
      "Creating the comets object...\n",
      "\n",
      "Running COMETS simulation ...\n",
      "Done!\n",
      "The last cycle is: 1000\n",
      "Configuration\tfitness\th2(mM)\tsucr(mM)\tBiomassFarmer\tBiomassLaborer\tendCycle\n",
      "0.09999967390684432,0.235867803486179,28.65954708641535\t198.230672771325\t198.25218016\t0.021507388675000003\t7.1906988794\t0.74248674301\t1000\n",
      "Getting fluxes:End\n"
     ]
    },
    {
     "name": "stderr",
     "output_type": "stream",
     "text": [
      "INFO:smac.intensification.intensification.Intensifier:Wallclock time limit for intensification reached (used: 38.477849 sec, available: 0.000010 sec)\n",
      "INFO:smac.optimizer.smbo.SMBO:Shared model mode: Finished loading new runs, found 0 new runs.\n",
      "INFO:smac.optimizer.smbo.SMBO:Shared model mode: Finished loading new runs, found 0 new runs.\n",
      "INFO:smac.optimizer.smbo.SMBO:Shared model mode: Finished loading new runs, found 0 new runs.\n",
      "INFO:smac.optimizer.smbo.SMBO:Shared model mode: Finished loading new runs, found 0 new runs.\n"
     ]
    },
    {
     "name": "stdout",
     "output_type": "stream",
     "text": [
      "building empty layout model\n",
      "models will need to be added with layout.add_model()\n",
      "Loading the comets parameters...\n",
      "Creating the comets object...\n",
      "\n",
      "Running COMETS simulation ...\n",
      "Done!\n",
      "The last cycle is: 1000\n",
      "Configuration\tfitness\th2(mM)\tsucr(mM)\tBiomassFarmer\tBiomassLaborer\tendCycle\n",
      "0.09999967390684432,0.2358614806605234,28.66713496663978\t198.22454467786602\t198.24605149\t0.021506812134\t7.1925762076\t0.74246683943\t1000\n",
      "Getting fluxes:End\n"
     ]
    },
    {
     "name": "stderr",
     "output_type": "stream",
     "text": [
      "INFO:smac.intensification.intensification.Intensifier:Wallclock time limit for intensification reached (used: 39.792347 sec, available: 0.000010 sec)\n",
      "INFO:smac.optimizer.smbo.SMBO:Shared model mode: Finished loading new runs, found 0 new runs.\n"
     ]
    },
    {
     "name": "stdout",
     "output_type": "stream",
     "text": [
      "building empty layout model\n",
      "models will need to be added with layout.add_model()\n",
      "Loading the comets parameters...\n",
      "Creating the comets object...\n",
      "\n",
      "Running COMETS simulation ...\n",
      "Done!\n",
      "The last cycle is: 1000\n",
      "Configuration\tfitness\th2(mM)\tsucr(mM)\tBiomassFarmer\tBiomassLaborer\tendCycle\n",
      "0.00011695760483803606,0.29999556508812514,1.0018280663475352\t-13.56325590016\t0.13015773184\t13.693413632\t0.032319466701\t0.8525477972\t1000\n",
      "Getting fluxes:End\n"
     ]
    },
    {
     "name": "stderr",
     "output_type": "stream",
     "text": [
      "INFO:smac.intensification.intensification.Intensifier:Wallclock time limit for intensification reached (used: 26.951489 sec, available: 0.000010 sec)\n",
      "INFO:smac.optimizer.smbo.SMBO:Shared model mode: Finished loading new runs, found 0 new runs.\n"
     ]
    },
    {
     "name": "stdout",
     "output_type": "stream",
     "text": [
      "building empty layout model\n",
      "models will need to be added with layout.add_model()\n",
      "Loading the comets parameters...\n",
      "Creating the comets object...\n",
      "\n",
      "Running COMETS simulation ...\n",
      "Done!\n",
      "The last cycle is: 1000\n",
      "Configuration\tfitness\th2(mM)\tsucr(mM)\tBiomassFarmer\tBiomassLaborer\tendCycle\n",
      "0.00013028419421398695,0.0001575700919006443,39.98821462182428\t0.079935020427126\t0.079949388311\t1.4367883874000002e-05\t0.019910675785\t0.00049601387982\t1000\n",
      "Getting fluxes:End\n"
     ]
    },
    {
     "name": "stderr",
     "output_type": "stream",
     "text": [
      "INFO:smac.intensification.intensification.Intensifier:Wallclock time limit for intensification reached (used: 33.951948 sec, available: 0.000010 sec)\n",
      "INFO:smac.optimizer.smbo.SMBO:Shared model mode: Finished loading new runs, found 0 new runs.\n"
     ]
    },
    {
     "name": "stdout",
     "output_type": "stream",
     "text": [
      "building empty layout model\n",
      "models will need to be added with layout.add_model()\n",
      "Loading the comets parameters...\n",
      "Creating the comets object...\n",
      "\n",
      "Running COMETS simulation ...\n",
      "Done!\n",
      "The last cycle is: 1000\n",
      "Configuration\tfitness\th2(mM)\tsucr(mM)\tBiomassFarmer\tBiomassLaborer\tendCycle\n",
      "0.097752402995271,0.04696755801484565,25.815606437849024\t149.54184613643\t149.54612883\t0.00428269357\t6.4848282178\t0.14784887408\t1000\n",
      "Getting fluxes:End\n"
     ]
    },
    {
     "name": "stderr",
     "output_type": "stream",
     "text": [
      "INFO:smac.intensification.intensification.Intensifier:Wallclock time limit for intensification reached (used: 40.665359 sec, available: 0.000010 sec)\n",
      "INFO:smac.optimizer.smbo.SMBO:Shared model mode: Finished loading new runs, found 0 new runs.\n"
     ]
    },
    {
     "name": "stdout",
     "output_type": "stream",
     "text": [
      "building empty layout model\n",
      "models will need to be added with layout.add_model()\n",
      "Loading the comets parameters...\n",
      "Creating the comets object...\n",
      "\n",
      "Running COMETS simulation ...\n",
      "Done!\n",
      "The last cycle is: 1000\n",
      "Configuration\tfitness\th2(mM)\tsucr(mM)\tBiomassFarmer\tBiomassLaborer\tendCycle\n",
      "0.09999974969830748,0.23562234249864364,28.65348081495248\t198.189232773459\t198.21071778\t0.021485006541\t7.1891980904\t0.74171405795\t1000\n",
      "Getting fluxes:End\n"
     ]
    },
    {
     "name": "stderr",
     "output_type": "stream",
     "text": [
      "INFO:smac.intensification.intensification.Intensifier:Wallclock time limit for intensification reached (used: 38.841760 sec, available: 0.000010 sec)\n",
      "INFO:smac.optimizer.smbo.SMBO:Shared model mode: Finished loading new runs, found 0 new runs.\n",
      "INFO:smac.optimizer.smbo.SMBO:Shared model mode: Finished loading new runs, found 0 new runs.\n"
     ]
    },
    {
     "name": "stdout",
     "output_type": "stream",
     "text": [
      "building empty layout model\n",
      "models will need to be added with layout.add_model()\n",
      "Loading the comets parameters...\n",
      "Creating the comets object...\n",
      "\n",
      "Running COMETS simulation ...\n",
      "Done!\n",
      "The last cycle is: 1000\n",
      "Configuration\tfitness\th2(mM)\tsucr(mM)\tBiomassFarmer\tBiomassLaborer\tendCycle\n",
      "0.06235866127807344,0.06201505174348437,34.82703188918668\t46.103792340557305\t46.109447126000006\t0.0056547854427\t8.678964032\t0.1952167829\t1000\n",
      "Getting fluxes:End\n"
     ]
    },
    {
     "name": "stderr",
     "output_type": "stream",
     "text": [
      "INFO:smac.intensification.intensification.Intensifier:Wallclock time limit for intensification reached (used: 41.897359 sec, available: 0.000010 sec)\n",
      "INFO:smac.optimizer.smbo.SMBO:Shared model mode: Finished loading new runs, found 0 new runs.\n"
     ]
    },
    {
     "name": "stdout",
     "output_type": "stream",
     "text": [
      "building empty layout model\n",
      "models will need to be added with layout.add_model()\n",
      "Loading the comets parameters...\n",
      "Creating the comets object...\n",
      "\n",
      "Running COMETS simulation ...\n",
      "Done!\n",
      "The last cycle is: 1000\n",
      "Configuration\tfitness\th2(mM)\tsucr(mM)\tBiomassFarmer\tBiomassLaborer\tendCycle\n",
      "0.09999967390684432,0.23590243279555528,28.61960055542272\t197.957627153683\t197.9791377\t0.021510546316999998\t7.1808156515\t0.74259575239\t1000\n",
      "Getting fluxes:End\n"
     ]
    },
    {
     "name": "stderr",
     "output_type": "stream",
     "text": [
      "INFO:smac.intensification.intensification.Intensifier:Wallclock time limit for intensification reached (used: 39.664640 sec, available: 0.000010 sec)\n",
      "INFO:smac.optimizer.smbo.SMBO:Shared model mode: Finished loading new runs, found 0 new runs.\n",
      "INFO:smac.optimizer.smbo.SMBO:Shared model mode: Finished loading new runs, found 0 new runs.\n",
      "INFO:smac.optimizer.smbo.SMBO:Shared model mode: Finished loading new runs, found 0 new runs.\n",
      "INFO:smac.optimizer.smbo.SMBO:Shared model mode: Finished loading new runs, found 0 new runs.\n"
     ]
    },
    {
     "name": "stdout",
     "output_type": "stream",
     "text": [
      "building empty layout model\n",
      "models will need to be added with layout.add_model()\n",
      "Loading the comets parameters...\n",
      "Creating the comets object...\n",
      "\n",
      "Running COMETS simulation ...\n",
      "Done!\n",
      "The last cycle is: 1000\n",
      "Configuration\tfitness\th2(mM)\tsucr(mM)\tBiomassFarmer\tBiomassLaborer\tendCycle\n",
      "0.09999967390684432,0.23591167873866953,28.62720261139335\t198.0095878706\t198.03109926\t0.0215113894\t7.182696487\t0.74262485764\t1000\n",
      "Getting fluxes:End\n"
     ]
    },
    {
     "name": "stderr",
     "output_type": "stream",
     "text": [
      "INFO:smac.intensification.intensification.Intensifier:Wallclock time limit for intensification reached (used: 39.690511 sec, available: 0.000010 sec)\n",
      "INFO:smac.optimizer.smbo.SMBO:Shared model mode: Finished loading new runs, found 0 new runs.\n",
      "INFO:smac.optimizer.smbo.SMBO:Shared model mode: Finished loading new runs, found 0 new runs.\n"
     ]
    },
    {
     "name": "stdout",
     "output_type": "stream",
     "text": [
      "building empty layout model\n",
      "models will need to be added with layout.add_model()\n",
      "Loading the comets parameters...\n",
      "Creating the comets object...\n",
      "\n",
      "Running COMETS simulation ...\n",
      "Done!\n",
      "The last cycle is: 1000\n",
      "Configuration\tfitness\th2(mM)\tsucr(mM)\tBiomassFarmer\tBiomassLaborer\tendCycle\n",
      "0.07574334147657608,0.24317857417661762,32.74590298648887\t143.384842404861\t143.42916497\t0.04432256513899999\t8.1774536578\t0.76550027109\t1000\n",
      "Getting fluxes:End\n"
     ]
    },
    {
     "name": "stderr",
     "output_type": "stream",
     "text": [
      "INFO:smac.intensification.intensification.Intensifier:Wallclock time limit for intensification reached (used: 38.769485 sec, available: 0.000010 sec)\n",
      "INFO:smac.optimizer.smbo.SMBO:Shared model mode: Finished loading new runs, found 0 new runs.\n"
     ]
    },
    {
     "name": "stdout",
     "output_type": "stream",
     "text": [
      "building empty layout model\n",
      "models will need to be added with layout.add_model()\n",
      "Loading the comets parameters...\n",
      "Creating the comets object...\n",
      "\n",
      "Running COMETS simulation ...\n",
      "Done!\n",
      "The last cycle is: 1000\n",
      "Configuration\tfitness\th2(mM)\tsucr(mM)\tBiomassFarmer\tBiomassLaborer\tendCycle\n",
      "0.09999967390684432,0.23595270387273215,28.66113815020205\t198.241540259761\t198.26305539\t0.021515130239\t7.1910925268\t0.7427540004\t1000\n",
      "Getting fluxes:End\n"
     ]
    },
    {
     "name": "stderr",
     "output_type": "stream",
     "text": [
      "INFO:smac.intensification.intensification.Intensifier:Wallclock time limit for intensification reached (used: 38.671985 sec, available: 0.000010 sec)\n",
      "INFO:smac.optimizer.smbo.SMBO:Shared model mode: Finished loading new runs, found 0 new runs.\n"
     ]
    },
    {
     "name": "stdout",
     "output_type": "stream",
     "text": [
      "building empty layout model\n",
      "models will need to be added with layout.add_model()\n",
      "Loading the comets parameters...\n",
      "Creating the comets object...\n",
      "\n",
      "Running COMETS simulation ...\n",
      "Done!\n",
      "The last cycle is: 1000\n",
      "Configuration\tfitness\th2(mM)\tsucr(mM)\tBiomassFarmer\tBiomassLaborer\tendCycle\n",
      "0.09999967390684432,0.23579131556967592,28.654038195701972\t198.19302538580502\t198.21452580000002\t0.021500414194999998\t7.189335917\t0.74224596719\t1000\n",
      "Getting fluxes:End\n"
     ]
    },
    {
     "name": "stderr",
     "output_type": "stream",
     "text": [
      "INFO:smac.intensification.intensification.Intensifier:Wallclock time limit for intensification reached (used: 38.713591 sec, available: 0.000010 sec)\n",
      "INFO:smac.optimizer.smbo.SMBO:Shared model mode: Finished loading new runs, found 0 new runs.\n"
     ]
    },
    {
     "name": "stdout",
     "output_type": "stream",
     "text": [
      "building empty layout model\n",
      "models will need to be added with layout.add_model()\n",
      "Loading the comets parameters...\n",
      "Creating the comets object...\n",
      "\n",
      "Running COMETS simulation ...\n",
      "Done!\n",
      "The last cycle is: 1000\n",
      "Configuration\tfitness\th2(mM)\tsucr(mM)\tBiomassFarmer\tBiomassLaborer\tendCycle\n",
      "0.09999967390684432,0.23585995563467113,28.654222031289834\t198.194275676924\t198.21578235\t0.021506673076\t7.1893814\t0.74246203881\t1000\n",
      "Getting fluxes:End\n"
     ]
    },
    {
     "name": "stderr",
     "output_type": "stream",
     "text": [
      "INFO:smac.intensification.intensification.Intensifier:Wallclock time limit for intensification reached (used: 39.494234 sec, available: 0.000010 sec)\n",
      "INFO:smac.optimizer.smbo.SMBO:Shared model mode: Finished loading new runs, found 0 new runs.\n"
     ]
    },
    {
     "name": "stdout",
     "output_type": "stream",
     "text": [
      "building empty layout model\n",
      "models will need to be added with layout.add_model()\n",
      "Loading the comets parameters...\n",
      "Creating the comets object...\n",
      "\n",
      "Running COMETS simulation ...\n",
      "Done!\n",
      "The last cycle is: 1000\n",
      "Configuration\tfitness\th2(mM)\tsucr(mM)\tBiomassFarmer\tBiomassLaborer\tendCycle\n",
      "0.09999967390684432,0.23597033466991071,28.67146289365164\t198.236152512113\t198.25766925\t0.021516737887\t7.1936469862\t0.74280950027\t1000\n",
      "Getting fluxes:End\n"
     ]
    },
    {
     "name": "stderr",
     "output_type": "stream",
     "text": [
      "INFO:smac.intensification.intensification.Intensifier:Wallclock time limit for intensification reached (used: 38.697000 sec, available: 0.000010 sec)\n",
      "INFO:smac.optimizer.smbo.SMBO:Shared model mode: Finished loading new runs, found 0 new runs.\n"
     ]
    },
    {
     "name": "stdout",
     "output_type": "stream",
     "text": [
      "building empty layout model\n",
      "models will need to be added with layout.add_model()\n",
      "Loading the comets parameters...\n",
      "Creating the comets object...\n",
      "\n",
      "Running COMETS simulation ...\n",
      "Done!\n",
      "The last cycle is: 1000\n",
      "Configuration\tfitness\th2(mM)\tsucr(mM)\tBiomassFarmer\tBiomassLaborer\tendCycle\n",
      "0.09999967390684432,0.23597033466991071,28.654629247447346\t198.197049012113\t198.21856575\t0.021516737887\t7.1894821499\t0.74280950027\t1000\n",
      "Getting fluxes:End\n"
     ]
    },
    {
     "name": "stderr",
     "output_type": "stream",
     "text": [
      "INFO:smac.intensification.intensification.Intensifier:Wallclock time limit for intensification reached (used: 38.660539 sec, available: 0.000010 sec)\n",
      "INFO:smac.optimizer.smbo.SMBO:Shared model mode: Finished loading new runs, found 0 new runs.\n"
     ]
    },
    {
     "name": "stdout",
     "output_type": "stream",
     "text": [
      "building empty layout model\n",
      "models will need to be added with layout.add_model()\n",
      "Loading the comets parameters...\n",
      "Creating the comets object...\n",
      "\n",
      "Running COMETS simulation ...\n",
      "Done!\n",
      "The last cycle is: 1000\n",
      "Configuration\tfitness\th2(mM)\tsucr(mM)\tBiomassFarmer\tBiomassLaborer\tendCycle\n",
      "0.09999967390684432,0.2360463167795373,28.65954708641535\t198.230656493754\t198.25218016\t0.021523666246000002\t7.1906988794\t0.74304868386\t1000\n",
      "Getting fluxes:End\n"
     ]
    },
    {
     "name": "stderr",
     "output_type": "stream",
     "text": [
      "INFO:smac.intensification.intensification.Intensifier:Wallclock time limit for intensification reached (used: 39.620137 sec, available: 0.000010 sec)\n",
      "INFO:smac.optimizer.smbo.SMBO:Shared model mode: Finished loading new runs, found 0 new runs.\n"
     ]
    },
    {
     "name": "stdout",
     "output_type": "stream",
     "text": [
      "building empty layout model\n",
      "models will need to be added with layout.add_model()\n",
      "Loading the comets parameters...\n",
      "Creating the comets object...\n",
      "\n",
      "Running COMETS simulation ...\n",
      "Done!\n",
      "The last cycle is: 1000\n",
      "Configuration\tfitness\th2(mM)\tsucr(mM)\tBiomassFarmer\tBiomassLaborer\tendCycle\n",
      "0.09999967390684432,0.23595270387273215,28.654336824766457\t198.19505185976098\t198.21656699\t0.021515130239\t7.1894098012\t0.7427540004\t1000\n",
      "Getting fluxes:End\n"
     ]
    },
    {
     "name": "stderr",
     "output_type": "stream",
     "text": [
      "INFO:smac.intensification.intensification.Intensifier:Wallclock time limit for intensification reached (used: 39.734509 sec, available: 0.000010 sec)\n",
      "INFO:smac.optimizer.smbo.SMBO:Shared model mode: Finished loading new runs, found 0 new runs.\n"
     ]
    },
    {
     "name": "stdout",
     "output_type": "stream",
     "text": [
      "building empty layout model\n",
      "models will need to be added with layout.add_model()\n",
      "Loading the comets parameters...\n",
      "Creating the comets object...\n",
      "\n",
      "Running COMETS simulation ...\n",
      "Done!\n",
      "The last cycle is: 1000\n",
      "Configuration\tfitness\th2(mM)\tsucr(mM)\tBiomassFarmer\tBiomassLaborer\tendCycle\n",
      "0.09999967390684432,0.2360463167795373,28.66317679254827\t198.255466253754\t198.27698992\t0.021523666246000002\t7.1915969102\t0.74304868386\t1000\n",
      "Getting fluxes:End\n"
     ]
    },
    {
     "name": "stderr",
     "output_type": "stream",
     "text": [
      "INFO:smac.intensification.intensification.Intensifier:Wallclock time limit for intensification reached (used: 38.690934 sec, available: 0.000010 sec)\n",
      "INFO:smac.optimizer.smbo.SMBO:Shared model mode: Finished loading new runs, found 0 new runs.\n",
      "INFO:smac.optimizer.smbo.SMBO:Shared model mode: Finished loading new runs, found 0 new runs.\n",
      "INFO:smac.optimizer.smbo.SMBO:Shared model mode: Finished loading new runs, found 0 new runs.\n"
     ]
    },
    {
     "name": "stdout",
     "output_type": "stream",
     "text": [
      "building empty layout model\n",
      "models will need to be added with layout.add_model()\n",
      "Loading the comets parameters...\n",
      "Creating the comets object...\n",
      "\n",
      "Running COMETS simulation ...\n",
      "Done!\n",
      "The last cycle is: 1000\n",
      "Configuration\tfitness\th2(mM)\tsucr(mM)\tBiomassFarmer\tBiomassLaborer\tendCycle\n",
      "0.09999967390684432,0.23596874095336082,28.662835540037534\t198.25314079743498\t198.27465739\t0.021516592565000003\t7.1915124804\t0.74280448342\t1000\n",
      "Getting fluxes:End\n"
     ]
    },
    {
     "name": "stderr",
     "output_type": "stream",
     "text": [
      "INFO:smac.intensification.intensification.Intensifier:Wallclock time limit for intensification reached (used: 38.612939 sec, available: 0.000010 sec)\n",
      "INFO:smac.optimizer.smbo.SMBO:Shared model mode: Finished loading new runs, found 0 new runs.\n",
      "INFO:smac.optimizer.smbo.SMBO:Shared model mode: Finished loading new runs, found 0 new runs.\n",
      "INFO:smac.optimizer.smbo.SMBO:Shared model mode: Finished loading new runs, found 0 new runs.\n"
     ]
    },
    {
     "name": "stdout",
     "output_type": "stream",
     "text": [
      "building empty layout model\n",
      "models will need to be added with layout.add_model()\n",
      "Loading the comets parameters...\n",
      "Creating the comets object...\n",
      "\n",
      "Running COMETS simulation ...\n",
      "Done!\n",
      "The last cycle is: 1000\n",
      "Configuration\tfitness\th2(mM)\tsucr(mM)\tBiomassFarmer\tBiomassLaborer\tendCycle\n",
      "0.03785001825997476,0.2563255277615095,20.547245796164045\t72.17363139978399\t72.22035017399999\t0.046718774216\t5.1214732522\t0.80688548181\t1000\n",
      "Getting fluxes:End\n"
     ]
    },
    {
     "name": "stderr",
     "output_type": "stream",
     "text": [
      "INFO:smac.intensification.intensification.Intensifier:Wallclock time limit for intensification reached (used: 35.779309 sec, available: 0.000010 sec)\n",
      "INFO:smac.optimizer.smbo.SMBO:Shared model mode: Finished loading new runs, found 0 new runs.\n"
     ]
    },
    {
     "name": "stdout",
     "output_type": "stream",
     "text": [
      "building empty layout model\n",
      "models will need to be added with layout.add_model()\n",
      "Loading the comets parameters...\n",
      "Creating the comets object...\n",
      "\n",
      "Running COMETS simulation ...\n",
      "Done!\n",
      "The last cycle is: 1000\n",
      "Configuration\tfitness\th2(mM)\tsucr(mM)\tBiomassFarmer\tBiomassLaborer\tendCycle\n",
      "0.09999967390684432,0.2360463167795373,28.684827822995874\t198.210914863754\t198.23243853\t0.021523666246000002\t7.1969536223\t0.74304868386\t1000\n",
      "Getting fluxes:End\n"
     ]
    },
    {
     "name": "stderr",
     "output_type": "stream",
     "text": [
      "INFO:smac.intensification.intensification.Intensifier:Wallclock time limit for intensification reached (used: 39.588928 sec, available: 0.000010 sec)\n",
      "INFO:smac.optimizer.smbo.SMBO:Shared model mode: Finished loading new runs, found 0 new runs.\n",
      "INFO:smac.optimizer.smbo.SMBO:Shared model mode: Finished loading new runs, found 0 new runs.\n",
      "INFO:smac.optimizer.smbo.SMBO:Shared model mode: Finished loading new runs, found 0 new runs.\n",
      "INFO:smac.optimizer.smbo.SMBO:Shared model mode: Finished loading new runs, found 0 new runs.\n"
     ]
    },
    {
     "name": "stdout",
     "output_type": "stream",
     "text": [
      "building empty layout model\n",
      "models will need to be added with layout.add_model()\n",
      "Loading the comets parameters...\n",
      "Creating the comets object...\n",
      "\n",
      "Running COMETS simulation ...\n",
      "Done!\n",
      "The last cycle is: 1000\n",
      "Configuration\tfitness\th2(mM)\tsucr(mM)\tBiomassFarmer\tBiomassLaborer\tendCycle\n",
      "0.08095460600186132,0.11383675555965211,27.494278795116205\t140.577390630168\t140.58777073\t0.010380099832\t6.8833531303\t0.35834599136\t1000\n",
      "Getting fluxes:End\n"
     ]
    },
    {
     "name": "stderr",
     "output_type": "stream",
     "text": [
      "INFO:smac.intensification.intensification.Intensifier:Wallclock time limit for intensification reached (used: 40.912569 sec, available: 0.000010 sec)\n",
      "INFO:smac.optimizer.smbo.SMBO:Shared model mode: Finished loading new runs, found 0 new runs.\n",
      "INFO:smac.optimizer.smbo.SMBO:Shared model mode: Finished loading new runs, found 0 new runs.\n"
     ]
    },
    {
     "name": "stdout",
     "output_type": "stream",
     "text": [
      "building empty layout model\n",
      "models will need to be added with layout.add_model()\n",
      "Loading the comets parameters...\n",
      "Creating the comets object...\n",
      "\n",
      "Running COMETS simulation ...\n",
      "Done!\n",
      "The last cycle is: 1000\n",
      "Configuration\tfitness\th2(mM)\tsucr(mM)\tBiomassFarmer\tBiomassLaborer\tendCycle\n",
      "0.09999967390684432,0.23597033466991071,28.66493815263159\t198.256910622113\t198.27842736\t0.021516737887\t7.192033904\t0.74280950027\t1000\n",
      "Getting fluxes:End\n"
     ]
    },
    {
     "name": "stderr",
     "output_type": "stream",
     "text": [
      "INFO:smac.intensification.intensification.Intensifier:Wallclock time limit for intensification reached (used: 39.912568 sec, available: 0.000010 sec)\n",
      "INFO:smac.optimizer.smbo.SMBO:Shared model mode: Finished loading new runs, found 0 new runs.\n",
      "INFO:smac.optimizer.smbo.SMBO:Shared model mode: Finished loading new runs, found 0 new runs.\n",
      "INFO:smac.optimizer.smbo.SMBO:Shared model mode: Finished loading new runs, found 0 new runs.\n"
     ]
    },
    {
     "name": "stdout",
     "output_type": "stream",
     "text": [
      "building empty layout model\n",
      "models will need to be added with layout.add_model()\n",
      "Loading the comets parameters...\n",
      "Creating the comets object...\n",
      "\n",
      "Running COMETS simulation ...\n",
      "Done!\n",
      "The last cycle is: 1000\n",
      "Configuration\tfitness\th2(mM)\tsucr(mM)\tBiomassFarmer\tBiomassLaborer\tendCycle\n",
      "0.09999967390684432,0.2360388647402933,28.67146289365164\t198.251653753262\t198.27317674\t0.021522986738\t7.1936469862\t0.74302522564\t1000\n",
      "Getting fluxes:End\n"
     ]
    },
    {
     "name": "stderr",
     "output_type": "stream",
     "text": [
      "INFO:smac.intensification.intensification.Intensifier:Wallclock time limit for intensification reached (used: 39.958896 sec, available: 0.000010 sec)\n",
      "INFO:smac.optimizer.smbo.SMBO:Shared model mode: Finished loading new runs, found 0 new runs.\n"
     ]
    },
    {
     "name": "stdout",
     "output_type": "stream",
     "text": [
      "building empty layout model\n",
      "models will need to be added with layout.add_model()\n",
      "Loading the comets parameters...\n",
      "Creating the comets object...\n",
      "\n",
      "Running COMETS simulation ...\n",
      "Done!\n",
      "The last cycle is: 1000\n",
      "Configuration\tfitness\th2(mM)\tsucr(mM)\tBiomassFarmer\tBiomassLaborer\tendCycle\n",
      "0.09999967390684432,0.23608678788349471,28.67146289365164\t198.262805113434\t198.28433247\t0.021527356565999998\t7.1936469862\t0.74317608259\t1000\n",
      "Getting fluxes:End\n"
     ]
    },
    {
     "name": "stderr",
     "output_type": "stream",
     "text": [
      "INFO:smac.intensification.intensification.Intensifier:Wallclock time limit for intensification reached (used: 38.793995 sec, available: 0.000010 sec)\n",
      "INFO:smac.optimizer.smbo.SMBO:Shared model mode: Finished loading new runs, found 0 new runs.\n"
     ]
    },
    {
     "name": "stdout",
     "output_type": "stream",
     "text": [
      "building empty layout model\n",
      "models will need to be added with layout.add_model()\n",
      "Loading the comets parameters...\n",
      "Creating the comets object...\n",
      "\n",
      "Running COMETS simulation ...\n",
      "Done!\n",
      "The last cycle is: 1000\n",
      "Configuration\tfitness\th2(mM)\tsucr(mM)\tBiomassFarmer\tBiomassLaborer\tendCycle\n",
      "0.09999967390684432,0.23604916102660425,28.66493815263159\t198.267505234404\t198.28902916\t0.021523925596\t7.1920326908\t0.74305763725\t1000\n",
      "Getting fluxes:End\n"
     ]
    },
    {
     "name": "stderr",
     "output_type": "stream",
     "text": [
      "INFO:smac.intensification.intensification.Intensifier:Wallclock time limit for intensification reached (used: 39.616261 sec, available: 0.000010 sec)\n",
      "INFO:smac.optimizer.smbo.SMBO:Shared model mode: Finished loading new runs, found 0 new runs.\n",
      "INFO:smac.optimizer.smbo.SMBO:Shared model mode: Finished loading new runs, found 0 new runs.\n"
     ]
    },
    {
     "name": "stdout",
     "output_type": "stream",
     "text": [
      "building empty layout model\n",
      "models will need to be added with layout.add_model()\n",
      "Loading the comets parameters...\n",
      "Creating the comets object...\n",
      "\n",
      "Running COMETS simulation ...\n",
      "Done!\n",
      "The last cycle is: 1000\n",
      "Configuration\tfitness\th2(mM)\tsucr(mM)\tBiomassFarmer\tBiomassLaborer\tendCycle\n",
      "0.09999967390684432,0.2360941729222955,28.66950906589241\t198.270766130036\t198.29229416\t0.021528029964000002\t7.1931641337\t0.74319932991\t1000\n",
      "Getting fluxes:End\n"
     ]
    },
    {
     "name": "stderr",
     "output_type": "stream",
     "text": [
      "INFO:smac.intensification.intensification.Intensifier:Wallclock time limit for intensification reached (used: 39.689194 sec, available: 0.000010 sec)\n",
      "INFO:smac.stats.stats.Stats:##########################################################\n",
      "INFO:smac.stats.stats.Stats:Statistics:\n",
      "INFO:smac.stats.stats.Stats:#Incumbent changed: 12\n",
      "INFO:smac.stats.stats.Stats:#Submitted target algorithm runs: 100 / 100.0\n",
      "INFO:smac.stats.stats.Stats:#Finished target algorithm runs: 100 / 100.0\n",
      "INFO:smac.stats.stats.Stats:#Configurations: 100\n",
      "INFO:smac.stats.stats.Stats:Used wallclock time: 4481.38 / inf sec \n",
      "INFO:smac.stats.stats.Stats:Used target algorithm runtime: 3972.09 / inf sec\n",
      "INFO:smac.stats.stats.Stats:##########################################################\n",
      "INFO:smac.facade.smac_bo_facade.SMAC4BO:Final Incumbent: Configuration:\n",
      "  biomassPalustris, Value: 0.09999967390684432\n",
      "  biomassSynechococcus, Value: 0.23654467940501417\n",
      "  n2, Value: 28.670358008058937\n",
      "\n",
      "INFO:smac.facade.smac_bo_facade.SMAC4BO:Estimated cost of incumbent: -198.304506\n"
     ]
    }
   ],
   "source": [
    "# Optimize, using a SMAC-object\n",
    "print(\"Optimizing! Depending on your machine, this might take a few minutes.\")\n",
    "smac = SMAC4BO(scenario=FLYCOP_space(),\n",
    "                   rng=np.random.RandomState(123),\n",
    "                   tae_runner=FLYCOP_schema,\n",
    "                   )\n",
    "start = time.time()\n",
    "smac.optimize()\n",
    "end = time.time()"
   ]
  },
  {
   "cell_type": "markdown",
   "metadata": {},
   "source": [
    "# FLYCOP ejecución con el consorcio Syneco-P.putida"
   ]
  },
  {
   "cell_type": "code",
   "execution_count": 18,
   "metadata": {},
   "outputs": [],
   "source": [
    "logging.basicConfig(level=logging.INFO)  # logging.DEBUG for debug output\n",
    "def FLYCOP_space():\n",
    "    # Build Configuration Space which defines all parameters and their ranges\n",
    "    cs = ConfigurationSpace()\n",
    "    x1 = UniformFloatHyperparameter(\"biomassPutida\", 0.0001,0.1, default_value=0.01)\n",
    "    x2 = UniformFloatHyperparameter(\"biomassSynechococcus\", 0.0001,0.3, default_value=0.01)\n",
    "    x3 = UniformFloatHyperparameter(\"nh4\",1,40, default_value=20)\n",
    "    #x4 = CategoricalHyperparameter(\"GRPalustris\", [0.0001,0.001,0.014,0.02,0.03,0.04,0.05,0.1], default_value=0.014)\n",
    "    #x5 = CategoricalHyperparameter(\"GRSynechococcus\", [0.0001,0.001,0.01,0.02,0.05,0.075,0.1,0.125,0.15,0.175], default_value=0.01)\n",
    "    cs.add_hyperparameters([x1, x2, x3])\n",
    "    scenario = Scenario({\"deterministic\": \"true\",\n",
    "                         \"use-instances\" : \"false\",\n",
    "                         \"run_obj\": \"quality\",  # we optimize quality (alternatively runtime)\n",
    "                         \"runcount-limit\": 100,  # max. number of function evaluations; for this example set to a low number\n",
    "                         \"cs\": cs,\n",
    "                         \"shared_model\": True,\n",
    "                         \"input_psmac_dirs\": \"PROMICON/PROMICON_runs_*\"\n",
    "                         })\n",
    "    return(scenario)\n",
    "\n",
    "def FLYCOP_schema(parameters):\n",
    "    #load parameters\n",
    "    biomass1=parameters[\"biomassPutida\"]\n",
    "    biomass2=parameters[\"biomassSynechococcus\"]\n",
    "    nh4=parameters[\"nh4\"]\n",
    "    metabolites=['co2_e','C80aPHA_e','nh4_e','sucr_e']\n",
    "    strains=[\"P.putida\",\"Synechococcus\"]\n",
    "    # create COMETS run\n",
    "    \n",
    "    \n",
    "    farmer=c.model()\n",
    "    farmer.read_cobra_model(\"PROMICON/iJN785_sucrose.xml\")\n",
    "    farmer.change_bounds('SPP',0.25,1000)\n",
    "    farmer.change_bounds('SUCR',0,0)\n",
    "\n",
    "    producer=c.model()\n",
    "    producer.read_cobra_model(\"PROMICON/manoli_sucrose.xml\")\n",
    "    producer.change_bounds('C80aPHAtex',2,1000)\n",
    "    producer.change_bounds('EX_C80aPHA_e',2,1000)\n",
    "\n",
    "\n",
    "\n",
    "    farmer.initial_pop=[0,0,biomass2]\n",
    "    producer.initial_pop=[0,0,biomass1]\n",
    "    layout=initialize_layout([producer,farmer])\n",
    "    layout.set_specific_metabolite('amylose_c',100) # It is required for the SINK\n",
    "    set_layout_media_synechoccus(layout)\n",
    "    set_layout_media_putida(layout)\n",
    "\n",
    "    layout.set_specific_metabolite(\"nh4_e\",nh4)\n",
    "    layout.set_specific_metabolite(\"ac_e\",0)\n",
    "    layout.set_specific_metabolite(\"sucr_e\",0)\n",
    "\n",
    "\n",
    "    layout.set_specific_metabolite('amylose_c',100) # It is required for the SINK\n",
    "\n",
    "    print(\"Loading the comets parameters...\")\n",
    "    params_package=None\n",
    "    params_global=None\n",
    "    params =initialize_params(params_package, params_global)\n",
    "    print(\"Creating the comets object...\")\n",
    "    comets = c.comets(layout, params)\n",
    "    dirPlot='promicon_output'\n",
    "    comets.run(delete_files=True)\n",
    "    \n",
    "    comets.total_biomass.to_csv('Total_biomass_log_template.txt',sep='\\t',index=False)\n",
    "    endCycle=find_end_cycle(comets.total_biomass)\n",
    "        \n",
    "    print(\"The last cycle is: %d\"%endCycle)\n",
    "    maxCycles=endCycle-1\n",
    "    # Plot\n",
    "    df2=make_df_and_graph(strains, metabolites, comets, endCycle)\n",
    "    sucrose=float(df2.at[maxCycles-1,'sucr_e'])\n",
    "    \n",
    "    final_biomass1=float(df2.at[maxCycles-1,'P.putida'])\n",
    "    final_biomass2=float(df2.at[maxCycles-1,'Synechococcus'])\n",
    "    \n",
    "    PHA=float(df2.at[maxCycles-1,'C80aPHA_e'])\n",
    "    title='-P.putida: '+str(biomass1)+'-Synechococcus: '+str(biomass2)+'-Sucr: '+str(sucrose)+'-PHA: '+str(PHA)\n",
    "    \n",
    "    # Fitness\n",
    "    fitness=PHA-sucrose\n",
    "    print(\"Configuration\\tfitness\\tPHA(mM)\\tsucr(mM)\\tBiomassFarmer\\tBiomassLaborer\\tendCycle\")\n",
    "    print(str(biomass1)+','+str(biomass2)+','+str(nh4)+'\\t'+str(fitness)+'\\t'+str(PHA)+'\\t'+str(sucrose)+'\\t'+str(final_biomass1)+'\\t'+str(final_biomass2)+'\\t'+str(endCycle))\n",
    "    print(\"Getting fluxes:End\")\n",
    "    fitness_inverse=-1*fitness\n",
    "    return fitness_inverse,0\n",
    "\n",
    "def FLYCOP_run(scenario):\n",
    "    print(\"Optimizing! Depending on your machine, this might take a few minutes.\")\n",
    "    smac = SMAC4BO(scenario=scenario,\n",
    "                   rng=np.random.RandomState(123),\n",
    "                   tae_runner=FLYCOP_schema,\n",
    "                   )\n",
    "    result=smac.optimize()\n",
    "    return(result)\n",
    "\n"
   ]
  },
  {
   "cell_type": "code",
   "execution_count": 14,
   "metadata": {},
   "outputs": [
    {
     "name": "stdout",
     "output_type": "stream",
     "text": [
      "building empty layout model\n",
      "models will need to be added with layout.add_model()\n",
      "Loading the comets parameters...\n",
      "Creating the comets object...\n",
      "\n",
      "Running COMETS simulation ...\n",
      "Done!\n",
      "The last cycle is: 693\n",
      "Configuration\tfitness\tPHA(mM)\tsucr(mM)\tBiomassFarmer\tBiomassLaborer\tendCycle\n",
      "0.04,0.3,20\t14.541126864\t14.541126864\t0.0\t0.20593022514\t1.3955331606\t693\n",
      "Getting fluxes:End\n"
     ]
    },
    {
     "data": {
      "text/plain": [
       "(-14.541126864, 0)"
      ]
     },
     "execution_count": 14,
     "metadata": {},
     "output_type": "execute_result"
    }
   ],
   "source": [
    "parameters={\"biomassPutida\":0.04,\n",
    "    \"biomassSynechococcus\":0.3,\n",
    "    \"nh4\":20}\n",
    "FLYCOP_schema(parameters)"
   ]
  },
  {
   "cell_type": "code",
   "execution_count": 19,
   "metadata": {},
   "outputs": [
    {
     "name": "stderr",
     "output_type": "stream",
     "text": [
      "INFO:smac.utils.io.cmd_reader.CMDReader:Output to smac3-output_2023-04-26_10:14:17_341356\n",
      "WARNING:smac.utils.io.cmd_reader.CMDReader:Adding unsupported scenario options: {'use-instances': 'false'}\n",
      "INFO:smac.facade.smac_bo_facade.SMAC4BO:Optimizing a deterministic scenario for quality without a tuner timeout - will make SMAC deterministic and only evaluate one configuration per iteration!\n",
      "INFO:smac.initial_design.sobol_design.SobolDesign:Running initial design for 24 configurations\n",
      "INFO:smac.facade.smac_bo_facade.SMAC4BO:<class 'smac.facade.smac_bo_facade.SMAC4BO'>\n",
      "INFO:smac.optimizer.smbo.SMBO:Running initial design\n",
      "INFO:smac.optimizer.smbo.SMBO:Shared model mode: Finished loading new runs, found 0 new runs.\n",
      "INFO:smac.intensification.intensification.Intensifier:First run, no incumbent provided; challenger is assumed to be the incumbent\n"
     ]
    },
    {
     "name": "stdout",
     "output_type": "stream",
     "text": [
      "Optimizing! Depending on your machine, this might take a few minutes.\n",
      "building empty layout model\n",
      "models will need to be added with layout.add_model()\n",
      "Loading the comets parameters...\n",
      "Creating the comets object...\n",
      "\n",
      "Running COMETS simulation ...\n",
      "Done!\n",
      "The last cycle is: 950\n",
      "Configuration\tfitness\tPHA(mM)\tsucr(mM)\tBiomassFarmer\tBiomassLaborer\tendCycle\n",
      "0.050050000000000004,0.15005,20.5\t15.706695202999999\t15.706695202999999\t0.0\t0.18642567233\t1.2475121113\t950\n",
      "Getting fluxes:End\n"
     ]
    },
    {
     "name": "stderr",
     "output_type": "stream",
     "text": [
      "INFO:smac.intensification.intensification.Intensifier:First run, no incumbent provided; challenger is assumed to be the incumbent\n",
      "INFO:smac.intensification.intensification.Intensifier:Updated estimated cost of incumbent on 1 runs: -15.7067\n",
      "INFO:smac.optimizer.smbo.SMBO:Shared model mode: Finished loading new runs, found 0 new runs.\n"
     ]
    },
    {
     "name": "stdout",
     "output_type": "stream",
     "text": [
      "building empty layout model\n",
      "models will need to be added with layout.add_model()\n",
      "Loading the comets parameters...\n",
      "Creating the comets object...\n",
      "\n",
      "Running COMETS simulation ...\n",
      "Done!\n",
      "The last cycle is: 1000\n",
      "Configuration\tfitness\tPHA(mM)\tsucr(mM)\tBiomassFarmer\tBiomassLaborer\tendCycle\n",
      "0.07502500000000001,0.075075,30.25\t14.942284603058\t14.959985000000001\t0.017700396942\t0.075025\t0.7096112257\t1000\n",
      "Getting fluxes:End\n"
     ]
    },
    {
     "name": "stderr",
     "output_type": "stream",
     "text": [
      "INFO:smac.intensification.intensification.Intensifier:Wallclock time limit for intensification reached (used: 138.409105 sec, available: 0.000010 sec)\n",
      "INFO:smac.optimizer.smbo.SMBO:Shared model mode: Finished loading new runs, found 0 new runs.\n"
     ]
    },
    {
     "name": "stdout",
     "output_type": "stream",
     "text": [
      "building empty layout model\n",
      "models will need to be added with layout.add_model()\n",
      "Loading the comets parameters...\n",
      "Creating the comets object...\n",
      "\n",
      "Running COMETS simulation ...\n",
      "Done!\n",
      "The last cycle is: 795\n",
      "Configuration\tfitness\tPHA(mM)\tsucr(mM)\tBiomassFarmer\tBiomassLaborer\tendCycle\n",
      "0.025075,0.22502499999999998,10.75\t14.446098991487\t14.47902148\t0.032922488513\t0.19476461642\t1.3198668654\t795\n",
      "Getting fluxes:End\n"
     ]
    },
    {
     "name": "stderr",
     "output_type": "stream",
     "text": [
      "INFO:smac.intensification.intensification.Intensifier:Wallclock time limit for intensification reached (used: 66.160778 sec, available: 0.000010 sec)\n",
      "INFO:smac.optimizer.smbo.SMBO:Shared model mode: Finished loading new runs, found 0 new runs.\n"
     ]
    },
    {
     "name": "stdout",
     "output_type": "stream",
     "text": [
      "building empty layout model\n",
      "models will need to be added with layout.add_model()\n",
      "Loading the comets parameters...\n",
      "Creating the comets object...\n",
      "\n",
      "Running COMETS simulation ...\n",
      "Done!\n",
      "The last cycle is: 1000\n",
      "Configuration\tfitness\tPHA(mM)\tsucr(mM)\tBiomassFarmer\tBiomassLaborer\tendCycle\n",
      "0.037562500000000006,0.1125625,25.375\t13.428483690064\t13.455022497\t0.026538806935999998\t0.1589936626\t1.063944237\t1000\n",
      "Getting fluxes:End\n"
     ]
    },
    {
     "name": "stderr",
     "output_type": "stream",
     "text": [
      "INFO:smac.intensification.intensification.Intensifier:Wallclock time limit for intensification reached (used: 71.398737 sec, available: 0.000010 sec)\n",
      "INFO:smac.optimizer.smbo.SMBO:Shared model mode: Finished loading new runs, found 0 new runs.\n"
     ]
    },
    {
     "name": "stdout",
     "output_type": "stream",
     "text": [
      "building empty layout model\n",
      "models will need to be added with layout.add_model()\n",
      "Loading the comets parameters...\n",
      "Creating the comets object...\n",
      "\n",
      "Running COMETS simulation ...\n",
      "Done!\n",
      "The last cycle is: 871\n",
      "Configuration\tfitness\tPHA(mM)\tsucr(mM)\tBiomassFarmer\tBiomassLaborer\tendCycle\n",
      "0.08751250000000001,0.2625125,5.875\t15.104657500000002\t15.104657500000002\t0.0\t0.0875125\t1.826996987\t871\n",
      "Getting fluxes:End\n"
     ]
    },
    {
     "name": "stderr",
     "output_type": "stream",
     "text": [
      "INFO:smac.intensification.intensification.Intensifier:Wallclock time limit for intensification reached (used: 62.617552 sec, available: 0.000010 sec)\n",
      "INFO:smac.optimizer.smbo.SMBO:Shared model mode: Finished loading new runs, found 0 new runs.\n"
     ]
    },
    {
     "name": "stdout",
     "output_type": "stream",
     "text": [
      "building empty layout model\n",
      "models will need to be added with layout.add_model()\n",
      "Loading the comets parameters...\n",
      "Creating the comets object...\n",
      "\n",
      "Running COMETS simulation ...\n",
      "Done!\n",
      "The last cycle is: 1000\n",
      "Configuration\tfitness\tPHA(mM)\tsucr(mM)\tBiomassFarmer\tBiomassLaborer\tendCycle\n",
      "0.0625375,0.0375875,15.625\t12.461115513052999\t12.469977499999999\t0.008861986947\t0.0625375\t0.3552782144\t1000\n",
      "Getting fluxes:End\n"
     ]
    },
    {
     "name": "stderr",
     "output_type": "stream",
     "text": [
      "INFO:smac.intensification.intensification.Intensifier:Wallclock time limit for intensification reached (used: 66.165001 sec, available: 0.000010 sec)\n",
      "INFO:smac.optimizer.smbo.SMBO:Shared model mode: Finished loading new runs, found 0 new runs.\n"
     ]
    },
    {
     "name": "stdout",
     "output_type": "stream",
     "text": [
      "building empty layout model\n",
      "models will need to be added with layout.add_model()\n",
      "Loading the comets parameters...\n",
      "Creating the comets object...\n",
      "\n",
      "Running COMETS simulation ...\n",
      "Done!\n",
      "The last cycle is: 863\n",
      "Configuration\tfitness\tPHA(mM)\tsucr(mM)\tBiomassFarmer\tBiomassLaborer\tendCycle\n",
      "0.0125875,0.1875375,35.125\t14.416817280621\t14.448792877\t0.031975596379\t0.18916294134\t1.281905836\t863\n",
      "Getting fluxes:End\n"
     ]
    },
    {
     "name": "stderr",
     "output_type": "stream",
     "text": [
      "INFO:smac.intensification.intensification.Intensifier:Wallclock time limit for intensification reached (used: 69.096665 sec, available: 0.000010 sec)\n",
      "INFO:smac.optimizer.smbo.SMBO:Shared model mode: Finished loading new runs, found 0 new runs.\n"
     ]
    },
    {
     "name": "stdout",
     "output_type": "stream",
     "text": [
      "building empty layout model\n",
      "models will need to be added with layout.add_model()\n",
      "Loading the comets parameters...\n",
      "Creating the comets object...\n",
      "\n",
      "Running COMETS simulation ...\n",
      "Done!\n",
      "The last cycle is: 1000\n",
      "Configuration\tfitness\tPHA(mM)\tsucr(mM)\tBiomassFarmer\tBiomassLaborer\tendCycle\n",
      "0.01883125,0.09381875,13.1875\t10.560065806060999\t10.582185407999999\t0.022119601939\t0.13251826037\t0.88677773135\t1000\n",
      "Getting fluxes:End\n"
     ]
    },
    {
     "name": "stderr",
     "output_type": "stream",
     "text": [
      "INFO:smac.intensification.intensification.Intensifier:Wallclock time limit for intensification reached (used: 73.573944 sec, available: 0.000010 sec)\n",
      "INFO:smac.optimizer.smbo.SMBO:Shared model mode: Finished loading new runs, found 0 new runs.\n"
     ]
    },
    {
     "name": "stdout",
     "output_type": "stream",
     "text": [
      "building empty layout model\n",
      "models will need to be added with layout.add_model()\n",
      "Loading the comets parameters...\n",
      "Creating the comets object...\n",
      "\n",
      "Running COMETS simulation ...\n",
      "Done!\n",
      "The last cycle is: 766\n",
      "Configuration\tfitness\tPHA(mM)\tsucr(mM)\tBiomassFarmer\tBiomassLaborer\tendCycle\n",
      "0.06878125,0.24376874999999998,32.6875\t15.577803792000001\t15.577803792000001\t0.0\t0.20016650712\t1.3394622038\t766\n",
      "Getting fluxes:End\n"
     ]
    },
    {
     "name": "stderr",
     "output_type": "stream",
     "text": [
      "INFO:smac.intensification.intensification.Intensifier:Wallclock time limit for intensification reached (used: 62.890203 sec, available: 0.000010 sec)\n",
      "INFO:smac.optimizer.smbo.SMBO:Shared model mode: Finished loading new runs, found 0 new runs.\n"
     ]
    },
    {
     "name": "stdout",
     "output_type": "stream",
     "text": [
      "building empty layout model\n",
      "models will need to be added with layout.add_model()\n",
      "Loading the comets parameters...\n",
      "Creating the comets object...\n",
      "\n",
      "Running COMETS simulation ...\n",
      "Done!\n",
      "The last cycle is: 1000\n",
      "Configuration\tfitness\tPHA(mM)\tsucr(mM)\tBiomassFarmer\tBiomassLaborer\tendCycle\n",
      "0.09375625,0.01884375,22.9375\t18.6905534680504\t18.69499625\t0.004442781949600001\t0.09375625\t0.17811170875\t1000\n",
      "Getting fluxes:End\n"
     ]
    },
    {
     "name": "stderr",
     "output_type": "stream",
     "text": [
      "INFO:smac.intensification.intensification.Intensifier:Challenger (-18.6906) is better than incumbent (-15.7067) on 1 runs.\n",
      "INFO:smac.intensification.intensification.Intensifier:Changes in incumbent:\n",
      "INFO:smac.intensification.intensification.Intensifier:  biomassPutida : 0.050050000000000004 -> 0.09375625\n",
      "INFO:smac.intensification.intensification.Intensifier:  biomassSynechococcus : 0.15005 -> 0.01884375\n",
      "INFO:smac.intensification.intensification.Intensifier:  nh4 : 20.5 -> 22.9375\n",
      "INFO:smac.intensification.intensification.Intensifier:Wallclock time limit for intensification reached (used: 65.942126 sec, available: 0.000010 sec)\n",
      "INFO:smac.optimizer.smbo.SMBO:Shared model mode: Finished loading new runs, found 0 new runs.\n"
     ]
    },
    {
     "name": "stdout",
     "output_type": "stream",
     "text": [
      "building empty layout model\n",
      "models will need to be added with layout.add_model()\n",
      "Loading the comets parameters...\n",
      "Creating the comets object...\n",
      "\n",
      "Running COMETS simulation ...\n",
      "Done!\n",
      "The last cycle is: 1000\n",
      "Configuration\tfitness\tPHA(mM)\tsucr(mM)\tBiomassFarmer\tBiomassLaborer\tendCycle\n",
      "0.043806250000000005,0.16879375,3.4375\t8.695169828072\t8.73496625\t0.039796421928\t0.04380625\t1.5954437539\t1000\n",
      "Getting fluxes:End\n"
     ]
    },
    {
     "name": "stderr",
     "output_type": "stream",
     "text": [
      "INFO:smac.intensification.intensification.Intensifier:Wallclock time limit for intensification reached (used: 60.852013 sec, available: 0.000010 sec)\n",
      "INFO:smac.optimizer.smbo.SMBO:Shared model mode: Finished loading new runs, found 0 new runs.\n"
     ]
    },
    {
     "name": "stdout",
     "output_type": "stream",
     "text": [
      "building empty layout model\n",
      "models will need to be added with layout.add_model()\n",
      "Loading the comets parameters...\n",
      "Creating the comets object...\n",
      "\n",
      "Running COMETS simulation ...\n",
      "Done!\n",
      "The last cycle is: 1000\n",
      "Configuration\tfitness\tPHA(mM)\tsucr(mM)\tBiomassFarmer\tBiomassLaborer\tendCycle\n",
      "0.03131875,0.05633125,37.5625\t7.9217483418559995\t7.9350295338\t0.013281191944\t0.079567455914\t0.53244472005\t1000\n",
      "Getting fluxes:End\n"
     ]
    },
    {
     "name": "stderr",
     "output_type": "stream",
     "text": [
      "INFO:smac.intensification.intensification.Intensifier:Wallclock time limit for intensification reached (used: 69.023854 sec, available: 0.000010 sec)\n",
      "INFO:smac.optimizer.smbo.SMBO:Shared model mode: Finished loading new runs, found 0 new runs.\n"
     ]
    },
    {
     "name": "stdout",
     "output_type": "stream",
     "text": [
      "building empty layout model\n",
      "models will need to be added with layout.add_model()\n",
      "Loading the comets parameters...\n",
      "Creating the comets object...\n",
      "\n",
      "Running COMETS simulation ...\n",
      "Done!\n",
      "The last cycle is: 964\n",
      "Configuration\tfitness\tPHA(mM)\tsucr(mM)\tBiomassFarmer\tBiomassLaborer\tendCycle\n",
      "0.08126875,0.20628125,18.0625\t15.538585000000001\t15.538585000000001\t0.0\t0.08126875\t1.7699184099\t964\n",
      "Getting fluxes:End\n"
     ]
    },
    {
     "name": "stderr",
     "output_type": "stream",
     "text": [
      "INFO:smac.intensification.intensification.Intensifier:Wallclock time limit for intensification reached (used: 64.911870 sec, available: 0.000010 sec)\n",
      "INFO:smac.optimizer.smbo.SMBO:Shared model mode: Finished loading new runs, found 0 new runs.\n"
     ]
    },
    {
     "name": "stdout",
     "output_type": "stream",
     "text": [
      "building empty layout model\n",
      "models will need to be added with layout.add_model()\n",
      "Loading the comets parameters...\n",
      "Creating the comets object...\n",
      "\n",
      "Running COMETS simulation ...\n",
      "Done!\n",
      "The last cycle is: 1000\n",
      "Configuration\tfitness\tPHA(mM)\tsucr(mM)\tBiomassFarmer\tBiomassLaborer\tendCycle\n",
      "0.056293750000000004,0.13130624999999999,8.3125\t11.194015738066\t11.22497375\t0.030958011934000003\t0.05629375\t1.2411107426\t1000\n",
      "Getting fluxes:End\n"
     ]
    },
    {
     "name": "stderr",
     "output_type": "stream",
     "text": [
      "INFO:smac.intensification.intensification.Intensifier:Wallclock time limit for intensification reached (used: 65.755041 sec, available: 0.000010 sec)\n",
      "INFO:smac.optimizer.smbo.SMBO:Shared model mode: Finished loading new runs, found 0 new runs.\n"
     ]
    },
    {
     "name": "stdout",
     "output_type": "stream",
     "text": [
      "building empty layout model\n",
      "models will need to be added with layout.add_model()\n",
      "Loading the comets parameters...\n",
      "Creating the comets object...\n",
      "\n",
      "Running COMETS simulation ...\n",
      "Done!\n",
      "The last cycle is: 715\n",
      "Configuration\tfitness\tPHA(mM)\tsucr(mM)\tBiomassFarmer\tBiomassLaborer\tendCycle\n",
      "0.00634375,0.28125625,27.8125\t14.331688668922999\t14.366057570999999\t0.034368902077\t0.20317033773\t1.3778537741\t715\n",
      "Getting fluxes:End\n"
     ]
    },
    {
     "name": "stderr",
     "output_type": "stream",
     "text": [
      "INFO:smac.intensification.intensification.Intensifier:Wallclock time limit for intensification reached (used: 61.253530 sec, available: 0.000010 sec)\n",
      "INFO:smac.optimizer.smbo.SMBO:Shared model mode: Finished loading new runs, found 0 new runs.\n"
     ]
    },
    {
     "name": "stdout",
     "output_type": "stream",
     "text": [
      "building empty layout model\n",
      "models will need to be added with layout.add_model()\n",
      "Loading the comets parameters...\n",
      "Creating the comets object...\n",
      "\n",
      "Running COMETS simulation ...\n",
      "Done!\n",
      "The last cycle is: 975\n",
      "Configuration\tfitness\tPHA(mM)\tsucr(mM)\tBiomassFarmer\tBiomassLaborer\tendCycle\n",
      "0.009465625,0.140678125,33.90625\t14.426486852756002\t14.457280235\t0.030793382244000002\t0.18175958313\t1.2345107169\t975\n",
      "Getting fluxes:End\n"
     ]
    },
    {
     "name": "stderr",
     "output_type": "stream",
     "text": [
      "INFO:smac.intensification.intensification.Intensifier:Wallclock time limit for intensification reached (used: 72.264661 sec, available: 0.000010 sec)\n",
      "INFO:smac.optimizer.smbo.SMBO:Shared model mode: Finished loading new runs, found 0 new runs.\n"
     ]
    },
    {
     "name": "stdout",
     "output_type": "stream",
     "text": [
      "building empty layout model\n",
      "models will need to be added with layout.add_model()\n",
      "Loading the comets parameters...\n",
      "Creating the comets object...\n",
      "\n",
      "Running COMETS simulation ...\n",
      "Done!\n",
      "The last cycle is: 704\n",
      "Configuration\tfitness\tPHA(mM)\tsucr(mM)\tBiomassFarmer\tBiomassLaborer\tendCycle\n",
      "0.05941562500000001,0.290628125,14.40625\t14.83809542\t14.83809542\t0.0\t0.20756171697\t1.3889490246\t704\n",
      "Getting fluxes:End\n"
     ]
    },
    {
     "name": "stderr",
     "output_type": "stream",
     "text": [
      "INFO:smac.intensification.intensification.Intensifier:Wallclock time limit for intensification reached (used: 60.430933 sec, available: 0.000010 sec)\n",
      "INFO:smac.optimizer.smbo.SMBO:Shared model mode: Finished loading new runs, found 0 new runs.\n"
     ]
    },
    {
     "name": "stdout",
     "output_type": "stream",
     "text": [
      "building empty layout model\n",
      "models will need to be added with layout.add_model()\n",
      "Loading the comets parameters...\n",
      "Creating the comets object...\n",
      "\n",
      "Running COMETS simulation ...\n",
      "Done!\n",
      "The last cycle is: 1000\n",
      "Configuration\tfitness\tPHA(mM)\tsucr(mM)\tBiomassFarmer\tBiomassLaborer\tendCycle\n",
      "0.08439062500000001,0.065703125,4.65625\t16.811999830557\t16.827490625\t0.015490794443000002\t0.084390625\t0.62102797287\t1000\n",
      "Getting fluxes:End\n"
     ]
    },
    {
     "name": "stderr",
     "output_type": "stream",
     "text": [
      "INFO:smac.intensification.intensification.Intensifier:Wallclock time limit for intensification reached (used: 65.635139 sec, available: 0.000010 sec)\n",
      "INFO:smac.optimizer.smbo.SMBO:Shared model mode: Finished loading new runs, found 0 new runs.\n"
     ]
    },
    {
     "name": "stdout",
     "output_type": "stream",
     "text": [
      "building empty layout model\n",
      "models will need to be added with layout.add_model()\n",
      "Loading the comets parameters...\n",
      "Creating the comets object...\n",
      "\n",
      "Running COMETS simulation ...\n",
      "Done!\n",
      "The last cycle is: 811\n",
      "Configuration\tfitness\tPHA(mM)\tsucr(mM)\tBiomassFarmer\tBiomassLaborer\tendCycle\n",
      "0.034440625,0.215653125,24.15625\t14.499065694000999\t14.531773945\t0.032708250998999995\t0.19335346782\t1.3112780554\t811\n",
      "Getting fluxes:End\n"
     ]
    },
    {
     "name": "stderr",
     "output_type": "stream",
     "text": [
      "INFO:smac.intensification.intensification.Intensifier:Wallclock time limit for intensification reached (used: 65.693620 sec, available: 0.000010 sec)\n",
      "INFO:smac.optimizer.smbo.SMBO:Shared model mode: Finished loading new runs, found 0 new runs.\n"
     ]
    },
    {
     "name": "stdout",
     "output_type": "stream",
     "text": [
      "building empty layout model\n",
      "models will need to be added with layout.add_model()\n",
      "Loading the comets parameters...\n",
      "Creating the comets object...\n",
      "\n",
      "Running COMETS simulation ...\n",
      "Done!\n",
      "The last cycle is: 1000\n",
      "Configuration\tfitness\tPHA(mM)\tsucr(mM)\tBiomassFarmer\tBiomassLaborer\tendCycle\n",
      "0.046928125,0.028215624999999998,19.28125\t9.3508157405517\t9.357468125\t0.0066523844483\t0.046928125\t0.26669496157\t1000\n",
      "Getting fluxes:End\n"
     ]
    },
    {
     "name": "stderr",
     "output_type": "stream",
     "text": [
      "INFO:smac.intensification.intensification.Intensifier:Wallclock time limit for intensification reached (used: 65.887714 sec, available: 0.000010 sec)\n",
      "INFO:smac.optimizer.smbo.SMBO:Shared model mode: Finished loading new runs, found 0 new runs.\n"
     ]
    },
    {
     "name": "stdout",
     "output_type": "stream",
     "text": [
      "building empty layout model\n",
      "models will need to be added with layout.add_model()\n",
      "Loading the comets parameters...\n",
      "Creating the comets object...\n",
      "\n",
      "Running COMETS simulation ...\n",
      "Done!\n",
      "The last cycle is: 1000\n",
      "Configuration\tfitness\tPHA(mM)\tsucr(mM)\tBiomassFarmer\tBiomassLaborer\tendCycle\n",
      "0.09687812500000001,0.178165625,38.78125\t19.275492100573\t19.317498125\t0.042006024426999994\t0.096878125\t1.6840270068\t1000\n",
      "Getting fluxes:End\n"
     ]
    },
    {
     "name": "stderr",
     "output_type": "stream",
     "text": [
      "INFO:smac.intensification.intensification.Intensifier:Challenger (-19.2755) is better than incumbent (-18.6906) on 1 runs.\n",
      "INFO:smac.intensification.intensification.Intensifier:Changes in incumbent:\n",
      "INFO:smac.intensification.intensification.Intensifier:  biomassPutida : 0.09375625 -> 0.09687812500000001\n",
      "INFO:smac.intensification.intensification.Intensifier:  biomassSynechococcus : 0.01884375 -> 0.178165625\n",
      "INFO:smac.intensification.intensification.Intensifier:  nh4 : 22.9375 -> 38.78125\n",
      "INFO:smac.intensification.intensification.Intensifier:Wallclock time limit for intensification reached (used: 66.961492 sec, available: 0.000010 sec)\n",
      "INFO:smac.optimizer.smbo.SMBO:Shared model mode: Finished loading new runs, found 0 new runs.\n"
     ]
    },
    {
     "name": "stdout",
     "output_type": "stream",
     "text": [
      "building empty layout model\n",
      "models will need to be added with layout.add_model()\n",
      "Loading the comets parameters...\n",
      "Creating the comets object...\n",
      "\n",
      "Running COMETS simulation ...\n",
      "Done!\n",
      "The last cycle is: 1000\n",
      "Configuration\tfitness\tPHA(mM)\tsucr(mM)\tBiomassFarmer\tBiomassLaborer\tendCycle\n",
      "0.071903125,0.10319062500000001,29.03125\t14.313153920562\t14.337483125\t0.024329204438\t0.071903125\t0.97536098417\t1000\n",
      "Getting fluxes:End\n"
     ]
    },
    {
     "name": "stderr",
     "output_type": "stream",
     "text": [
      "INFO:smac.intensification.intensification.Intensifier:Wallclock time limit for intensification reached (used: 65.958354 sec, available: 0.000010 sec)\n",
      "INFO:smac.optimizer.smbo.SMBO:Shared model mode: Finished loading new runs, found 0 new runs.\n"
     ]
    },
    {
     "name": "stdout",
     "output_type": "stream",
     "text": [
      "building empty layout model\n",
      "models will need to be added with layout.add_model()\n",
      "Loading the comets parameters...\n",
      "Creating the comets object...\n",
      "\n",
      "Running COMETS simulation ...\n",
      "Done!\n",
      "The last cycle is: 753\n",
      "Configuration\tfitness\tPHA(mM)\tsucr(mM)\tBiomassFarmer\tBiomassLaborer\tendCycle\n",
      "0.021953125,0.253140625,9.53125\t14.487628085\t14.487628085\t0.0\t0.19888841804\t1.347812748\t753\n",
      "Getting fluxes:End\n"
     ]
    },
    {
     "name": "stderr",
     "output_type": "stream",
     "text": [
      "INFO:smac.intensification.intensification.Intensifier:Wallclock time limit for intensification reached (used: 63.335562 sec, available: 0.000010 sec)\n",
      "INFO:smac.optimizer.smbo.SMBO:Shared model mode: Finished loading new runs, found 0 new runs.\n"
     ]
    },
    {
     "name": "stdout",
     "output_type": "stream",
     "text": [
      "building empty layout model\n",
      "models will need to be added with layout.add_model()\n",
      "Loading the comets parameters...\n",
      "Creating the comets object...\n",
      "\n",
      "Running COMETS simulation ...\n",
      "Done!\n",
      "The last cycle is: 1000\n",
      "Configuration\tfitness\tPHA(mM)\tsucr(mM)\tBiomassFarmer\tBiomassLaborer\tendCycle\n",
      "0.015709375,0.046959375000000005,21.71875\t5.604938640454001\t5.6160102299000005\t0.011071589446\t0.066329754799\t0.44386146722\t1000\n",
      "Getting fluxes:End\n"
     ]
    },
    {
     "name": "stderr",
     "output_type": "stream",
     "text": [
      "INFO:smac.intensification.intensification.Intensifier:Wallclock time limit for intensification reached (used: 70.382674 sec, available: 0.000010 sec)\n",
      "INFO:smac.optimizer.smbo.SMBO:Shared model mode: Finished loading new runs, found 0 new runs.\n"
     ]
    },
    {
     "name": "stdout",
     "output_type": "stream",
     "text": [
      "building empty layout model\n",
      "models will need to be added with layout.add_model()\n",
      "Loading the comets parameters...\n",
      "Creating the comets object...\n",
      "\n",
      "Running COMETS simulation ...\n",
      "Done!\n",
      "The last cycle is: 1000\n",
      "Configuration\tfitness\tPHA(mM)\tsucr(mM)\tBiomassFarmer\tBiomassLaborer\tendCycle\n",
      "0.09956394340887749,0.15028837190645628,38.77777233857879\t19.817616898237997\t19.853050315999997\t0.035433417762\t0.099563943409\t1.4205303469\t1000\n",
      "Getting fluxes:End\n"
     ]
    },
    {
     "name": "stderr",
     "output_type": "stream",
     "text": [
      "INFO:smac.intensification.intensification.Intensifier:Challenger (-19.8176) is better than incumbent (-19.2755) on 1 runs.\n",
      "INFO:smac.intensification.intensification.Intensifier:Changes in incumbent:\n",
      "INFO:smac.intensification.intensification.Intensifier:  biomassPutida : 0.09687812500000001 -> 0.09956394340887749\n",
      "INFO:smac.intensification.intensification.Intensifier:  biomassSynechococcus : 0.178165625 -> 0.15028837190645628\n",
      "INFO:smac.intensification.intensification.Intensifier:  nh4 : 38.78125 -> 38.77777233857879\n",
      "INFO:smac.intensification.intensification.Intensifier:Wallclock time limit for intensification reached (used: 66.838693 sec, available: 0.000010 sec)\n",
      "INFO:smac.optimizer.smbo.SMBO:Shared model mode: Finished loading new runs, found 0 new runs.\n"
     ]
    },
    {
     "name": "stdout",
     "output_type": "stream",
     "text": [
      "building empty layout model\n",
      "models will need to be added with layout.add_model()\n",
      "Loading the comets parameters...\n",
      "Creating the comets object...\n",
      "\n",
      "Running COMETS simulation ...\n",
      "Done!\n",
      "The last cycle is: 1000\n",
      "Configuration\tfitness\tPHA(mM)\tsucr(mM)\tBiomassFarmer\tBiomassLaborer\tendCycle\n",
      "0.09971964243306342,0.15137723223394114,32.24021760459476\t19.848406563158\t19.884096701\t0.035690137842\t0.099719642433\t1.4308222885\t1000\n",
      "Getting fluxes:End\n"
     ]
    },
    {
     "name": "stderr",
     "output_type": "stream",
     "text": [
      "INFO:smac.intensification.intensification.Intensifier:Challenger (-19.8484) is better than incumbent (-19.8176) on 1 runs.\n",
      "INFO:smac.intensification.intensification.Intensifier:Changes in incumbent:\n",
      "INFO:smac.intensification.intensification.Intensifier:  biomassPutida : 0.09956394340887749 -> 0.09971964243306342\n",
      "INFO:smac.intensification.intensification.Intensifier:  biomassSynechococcus : 0.15028837190645628 -> 0.15137723223394114\n",
      "INFO:smac.intensification.intensification.Intensifier:  nh4 : 38.77777233857879 -> 32.24021760459476\n",
      "INFO:smac.intensification.intensification.Intensifier:Wallclock time limit for intensification reached (used: 65.551328 sec, available: 0.000010 sec)\n",
      "INFO:smac.optimizer.smbo.SMBO:Shared model mode: Finished loading new runs, found 0 new runs.\n"
     ]
    },
    {
     "name": "stdout",
     "output_type": "stream",
     "text": [
      "building empty layout model\n",
      "models will need to be added with layout.add_model()\n",
      "Loading the comets parameters...\n",
      "Creating the comets object...\n",
      "\n",
      "Running COMETS simulation ...\n",
      "Done!\n",
      "The last cycle is: 1000\n",
      "Configuration\tfitness\tPHA(mM)\tsucr(mM)\tBiomassFarmer\tBiomassLaborer\tendCycle\n",
      "0.09999296284813668,0.04582773738674073,32.045146587902\t19.927792008215\t19.938596792000002\t0.010804783785\t0.099992962848\t0.43316519345\t1000\n",
      "Getting fluxes:End\n"
     ]
    },
    {
     "name": "stderr",
     "output_type": "stream",
     "text": [
      "INFO:smac.intensification.intensification.Intensifier:Challenger (-19.9278) is better than incumbent (-19.8484) on 1 runs.\n",
      "INFO:smac.intensification.intensification.Intensifier:Changes in incumbent:\n",
      "INFO:smac.intensification.intensification.Intensifier:  biomassPutida : 0.09971964243306342 -> 0.09999296284813668\n",
      "INFO:smac.intensification.intensification.Intensifier:  biomassSynechococcus : 0.15137723223394114 -> 0.04582773738674073\n",
      "INFO:smac.intensification.intensification.Intensifier:  nh4 : 32.24021760459476 -> 32.045146587902\n",
      "INFO:smac.intensification.intensification.Intensifier:Wallclock time limit for intensification reached (used: 64.723341 sec, available: 0.000010 sec)\n",
      "INFO:smac.optimizer.smbo.SMBO:Shared model mode: Finished loading new runs, found 0 new runs.\n"
     ]
    },
    {
     "name": "stdout",
     "output_type": "stream",
     "text": [
      "building empty layout model\n",
      "models will need to be added with layout.add_model()\n",
      "Loading the comets parameters...\n",
      "Creating the comets object...\n",
      "\n",
      "Running COMETS simulation ...\n",
      "Done!\n",
      "The last cycle is: 1000\n",
      "Configuration\tfitness\tPHA(mM)\tsucr(mM)\tBiomassFarmer\tBiomassLaborer\tendCycle\n",
      "0.09999992372617501,0.05635235860729722,20.760104596893733\t19.926698622289\t19.939984791\t0.013286168711000001\t0.099999923726\t0.53264423926\t1000\n",
      "Getting fluxes:End\n"
     ]
    },
    {
     "name": "stderr",
     "output_type": "stream",
     "text": [
      "INFO:smac.intensification.intensification.Intensifier:Wallclock time limit for intensification reached (used: 65.514349 sec, available: 0.000010 sec)\n",
      "INFO:smac.optimizer.smbo.SMBO:Shared model mode: Finished loading new runs, found 0 new runs.\n"
     ]
    },
    {
     "name": "stdout",
     "output_type": "stream",
     "text": [
      "building empty layout model\n",
      "models will need to be added with layout.add_model()\n",
      "Loading the comets parameters...\n",
      "Creating the comets object...\n",
      "\n",
      "Running COMETS simulation ...\n",
      "Done!\n",
      "The last cycle is: 1000\n",
      "Configuration\tfitness\tPHA(mM)\tsucr(mM)\tBiomassFarmer\tBiomassLaborer\tendCycle\n",
      "0.09999992372617501,0.0438877719506509,25.812821564030624\t19.929637391940002\t19.939984791\t0.01034739906\t0.099999923726\t0.41482858005\t1000\n",
      "Getting fluxes:End\n"
     ]
    },
    {
     "name": "stderr",
     "output_type": "stream",
     "text": [
      "INFO:smac.intensification.intensification.Intensifier:Challenger (-19.9296) is better than incumbent (-19.9278) on 1 runs.\n",
      "INFO:smac.intensification.intensification.Intensifier:Changes in incumbent:\n",
      "INFO:smac.intensification.intensification.Intensifier:  biomassPutida : 0.09999296284813668 -> 0.09999992372617501\n",
      "INFO:smac.intensification.intensification.Intensifier:  biomassSynechococcus : 0.04582773738674073 -> 0.0438877719506509\n",
      "INFO:smac.intensification.intensification.Intensifier:  nh4 : 32.045146587902 -> 25.812821564030624\n",
      "INFO:smac.intensification.intensification.Intensifier:Wallclock time limit for intensification reached (used: 64.458031 sec, available: 0.000010 sec)\n",
      "INFO:smac.optimizer.smbo.SMBO:Shared model mode: Finished loading new runs, found 0 new runs.\n"
     ]
    },
    {
     "name": "stdout",
     "output_type": "stream",
     "text": [
      "building empty layout model\n",
      "models will need to be added with layout.add_model()\n",
      "Loading the comets parameters...\n",
      "Creating the comets object...\n",
      "\n",
      "Running COMETS simulation ...\n",
      "Done!\n",
      "The last cycle is: 1000\n",
      "Configuration\tfitness\tPHA(mM)\tsucr(mM)\tBiomassFarmer\tBiomassLaborer\tendCycle\n",
      "0.09999983908687163,0.08988113689190003,31.95964036433277\t19.918776681225\t19.939967914\t0.021191232775\t0.099999839087\t0.84955929027\t1000\n",
      "Getting fluxes:End\n"
     ]
    },
    {
     "name": "stderr",
     "output_type": "stream",
     "text": [
      "INFO:smac.intensification.intensification.Intensifier:Wallclock time limit for intensification reached (used: 65.537075 sec, available: 0.000010 sec)\n",
      "INFO:smac.optimizer.smbo.SMBO:Shared model mode: Finished loading new runs, found 0 new runs.\n"
     ]
    },
    {
     "name": "stdout",
     "output_type": "stream",
     "text": [
      "building empty layout model\n",
      "models will need to be added with layout.add_model()\n",
      "Loading the comets parameters...\n",
      "Creating the comets object...\n",
      "\n",
      "Running COMETS simulation ...\n",
      "Done!\n",
      "The last cycle is: 1000\n",
      "Configuration\tfitness\tPHA(mM)\tsucr(mM)\tBiomassFarmer\tBiomassLaborer\tendCycle\n",
      "0.09999992372617501,0.00032064675701364644,1.0364853032905579\t2.29969686900706\t2.2999982457\t0.00030137669294\t0.099999923726\t0.0030307630804\t1000\n",
      "Getting fluxes:End\n"
     ]
    },
    {
     "name": "stderr",
     "output_type": "stream",
     "text": [
      "INFO:smac.intensification.intensification.Intensifier:Wallclock time limit for intensification reached (used: 43.856135 sec, available: 0.000010 sec)\n",
      "INFO:smac.optimizer.smbo.SMBO:Shared model mode: Finished loading new runs, found 0 new runs.\n"
     ]
    },
    {
     "name": "stdout",
     "output_type": "stream",
     "text": [
      "building empty layout model\n",
      "models will need to be added with layout.add_model()\n",
      "Loading the comets parameters...\n",
      "Creating the comets object...\n",
      "\n",
      "Running COMETS simulation ...\n",
      "Done!\n",
      "The last cycle is: 1000\n",
      "Configuration\tfitness\tPHA(mM)\tsucr(mM)\tBiomassFarmer\tBiomassLaborer\tendCycle\n",
      "0.09995349826364322,0.00017507775565851164,38.97678569398675\t1.29919001333328\t1.2993954774\t0.00020546406672\t0.099953498264\t0.0016548403701\t1000\n",
      "Getting fluxes:End\n"
     ]
    },
    {
     "name": "stderr",
     "output_type": "stream",
     "text": [
      "INFO:smac.intensification.intensification.Intensifier:Wallclock time limit for intensification reached (used: 41.994647 sec, available: 0.000010 sec)\n",
      "INFO:smac.optimizer.smbo.SMBO:Shared model mode: Finished loading new runs, found 0 new runs.\n"
     ]
    },
    {
     "name": "stdout",
     "output_type": "stream",
     "text": [
      "building empty layout model\n",
      "models will need to be added with layout.add_model()\n",
      "Loading the comets parameters...\n",
      "Creating the comets object...\n",
      "\n",
      "Running COMETS simulation ...\n",
      "Done!\n",
      "The last cycle is: 1000\n",
      "Configuration\tfitness\tPHA(mM)\tsucr(mM)\tBiomassFarmer\tBiomassLaborer\tendCycle\n",
      "0.09999983908687163,0.06306831351955487,30.492809557992352\t19.925098327803\t19.939967914\t0.014869586196999999\t0.099999839087\t0.59612365314\t1000\n",
      "Getting fluxes:End\n"
     ]
    },
    {
     "name": "stderr",
     "output_type": "stream",
     "text": [
      "INFO:smac.intensification.intensification.Intensifier:Wallclock time limit for intensification reached (used: 65.851896 sec, available: 0.000010 sec)\n",
      "INFO:smac.optimizer.smbo.SMBO:Shared model mode: Finished loading new runs, found 0 new runs.\n"
     ]
    },
    {
     "name": "stdout",
     "output_type": "stream",
     "text": [
      "building empty layout model\n",
      "models will need to be added with layout.add_model()\n",
      "Loading the comets parameters...\n",
      "Creating the comets object...\n",
      "\n",
      "Running COMETS simulation ...\n",
      "Done!\n",
      "The last cycle is: 1000\n",
      "Configuration\tfitness\tPHA(mM)\tsucr(mM)\tBiomassFarmer\tBiomassLaborer\tendCycle\n",
      "0.09957873310080818,0.1620655943019256,35.561009833312035\t19.817789252131\t19.85599938\t0.038210127869\t0.099578733101\t1.5318490179\t1000\n",
      "Getting fluxes:End\n"
     ]
    },
    {
     "name": "stderr",
     "output_type": "stream",
     "text": [
      "INFO:smac.intensification.intensification.Intensifier:Wallclock time limit for intensification reached (used: 66.626869 sec, available: 0.000010 sec)\n",
      "INFO:smac.optimizer.smbo.SMBO:Shared model mode: Finished loading new runs, found 0 new runs.\n"
     ]
    },
    {
     "name": "stdout",
     "output_type": "stream",
     "text": [
      "building empty layout model\n",
      "models will need to be added with layout.add_model()\n",
      "Loading the comets parameters...\n",
      "Creating the comets object...\n",
      "\n",
      "Running COMETS simulation ...\n",
      "Done!\n",
      "The last cycle is: 1000\n",
      "Configuration\tfitness\tPHA(mM)\tsucr(mM)\tBiomassFarmer\tBiomassLaborer\tendCycle\n",
      "0.09919403635286456,0.08914406657356384,39.44274213771768\t19.758273394943004\t19.779290849000002\t0.021017454057\t0.099194036353\t0.84259247879\t1000\n",
      "Getting fluxes:End\n"
     ]
    },
    {
     "name": "stderr",
     "output_type": "stream",
     "text": [
      "INFO:smac.intensification.intensification.Intensifier:Wallclock time limit for intensification reached (used: 65.783598 sec, available: 0.000010 sec)\n",
      "INFO:smac.optimizer.smbo.SMBO:Shared model mode: Finished loading new runs, found 0 new runs.\n"
     ]
    },
    {
     "name": "stdout",
     "output_type": "stream",
     "text": [
      "building empty layout model\n",
      "models will need to be added with layout.add_model()\n",
      "Loading the comets parameters...\n",
      "Creating the comets object...\n",
      "\n",
      "Running COMETS simulation ...\n",
      "Done!\n",
      "The last cycle is: 1000\n",
      "Configuration\tfitness\tPHA(mM)\tsucr(mM)\tBiomassFarmer\tBiomassLaborer\tendCycle\n",
      "0.09246578130346081,0.03014077540201969,27.420727080409975\t18.4305705157596\t18.437676792\t0.007106276240399999\t0.092465781303\t0.28489154281\t1000\n",
      "Getting fluxes:End\n"
     ]
    },
    {
     "name": "stderr",
     "output_type": "stream",
     "text": [
      "INFO:smac.intensification.intensification.Intensifier:Wallclock time limit for intensification reached (used: 65.881101 sec, available: 0.000010 sec)\n",
      "INFO:smac.optimizer.smbo.SMBO:Shared model mode: Finished loading new runs, found 0 new runs.\n"
     ]
    },
    {
     "name": "stdout",
     "output_type": "stream",
     "text": [
      "building empty layout model\n",
      "models will need to be added with layout.add_model()\n",
      "Loading the comets parameters...\n",
      "Creating the comets object...\n",
      "\n",
      "Running COMETS simulation ...\n",
      "Done!\n",
      "The last cycle is: 1000\n",
      "Configuration\tfitness\tPHA(mM)\tsucr(mM)\tBiomassFarmer\tBiomassLaborer\tendCycle\n",
      "0.09968215006938815,0.11170005491436136,36.56094373133218\t19.850285255330004\t19.876620724000002\t0.02633546867\t0.099682150069\t1.0557923793\t1000\n",
      "Getting fluxes:End\n"
     ]
    },
    {
     "name": "stderr",
     "output_type": "stream",
     "text": [
      "INFO:smac.intensification.intensification.Intensifier:Wallclock time limit for intensification reached (used: 65.658948 sec, available: 0.000010 sec)\n",
      "INFO:smac.optimizer.smbo.SMBO:Shared model mode: Finished loading new runs, found 0 new runs.\n"
     ]
    },
    {
     "name": "stdout",
     "output_type": "stream",
     "text": [
      "building empty layout model\n",
      "models will need to be added with layout.add_model()\n",
      "Loading the comets parameters...\n",
      "Creating the comets object...\n",
      "\n",
      "Running COMETS simulation ...\n",
      "Done!\n",
      "The last cycle is: 1000\n",
      "Configuration\tfitness\tPHA(mM)\tsucr(mM)\tBiomassFarmer\tBiomassLaborer\tendCycle\n",
      "0.09999885462171312,0.08145867015643905,13.016503655880435\t19.92056614019\t19.939771612\t0.01920547181\t0.099998854622\t0.76994987377\t1000\n",
      "Getting fluxes:End\n"
     ]
    },
    {
     "name": "stderr",
     "output_type": "stream",
     "text": [
      "INFO:smac.intensification.intensification.Intensifier:Wallclock time limit for intensification reached (used: 65.663244 sec, available: 0.000010 sec)\n",
      "INFO:smac.optimizer.smbo.SMBO:Shared model mode: Finished loading new runs, found 0 new runs.\n"
     ]
    },
    {
     "name": "stdout",
     "output_type": "stream",
     "text": [
      "building empty layout model\n",
      "models will need to be added with layout.add_model()\n",
      "Loading the comets parameters...\n",
      "Creating the comets object...\n",
      "\n",
      "Running COMETS simulation ...\n",
      "Done!\n",
      "The last cycle is: 1000\n",
      "Configuration\tfitness\tPHA(mM)\tsucr(mM)\tBiomassFarmer\tBiomassLaborer\tendCycle\n",
      "0.09998871804197683,0.07766747027555831,35.03595359016775\t19.919438755578\t19.937750378\t0.018311622422\t0.099988718042\t0.73411533505\t1000\n",
      "Getting fluxes:End\n"
     ]
    },
    {
     "name": "stderr",
     "output_type": "stream",
     "text": [
      "INFO:smac.intensification.intensification.Intensifier:Wallclock time limit for intensification reached (used: 65.493364 sec, available: 0.000010 sec)\n",
      "INFO:smac.optimizer.smbo.SMBO:Shared model mode: Finished loading new runs, found 0 new runs.\n"
     ]
    },
    {
     "name": "stdout",
     "output_type": "stream",
     "text": [
      "building empty layout model\n",
      "models will need to be added with layout.add_model()\n",
      "Loading the comets parameters...\n",
      "Creating the comets object...\n",
      "\n",
      "Running COMETS simulation ...\n",
      "Done!\n",
      "The last cycle is: 693\n",
      "Configuration\tfitness\tPHA(mM)\tsucr(mM)\tBiomassFarmer\tBiomassLaborer\tendCycle\n",
      "0.0999867353572554,0.29999857013023357,39.99912688487226\t16.833393947\t16.833393947\t0.0\t0.20901454944\t1.3986710015\t693\n",
      "Getting fluxes:End\n"
     ]
    },
    {
     "name": "stderr",
     "output_type": "stream",
     "text": [
      "INFO:smac.intensification.intensification.Intensifier:Wallclock time limit for intensification reached (used: 58.098848 sec, available: 0.000010 sec)\n",
      "INFO:smac.optimizer.smbo.SMBO:Shared model mode: Finished loading new runs, found 0 new runs.\n"
     ]
    },
    {
     "name": "stdout",
     "output_type": "stream",
     "text": [
      "building empty layout model\n",
      "models will need to be added with layout.add_model()\n",
      "Loading the comets parameters...\n",
      "Creating the comets object...\n",
      "\n",
      "Running COMETS simulation ...\n",
      "Done!\n",
      "The last cycle is: 1000\n",
      "Configuration\tfitness\tPHA(mM)\tsucr(mM)\tBiomassFarmer\tBiomassLaborer\tendCycle\n",
      "0.09999992372617501,0.11829159087403494,20.08171516955553\t19.912095239041\t19.939984791\t0.027889551959000003\t0.099999923726\t1.1180957814\t1000\n",
      "Getting fluxes:End\n"
     ]
    },
    {
     "name": "stderr",
     "output_type": "stream",
     "text": [
      "INFO:smac.intensification.intensification.Intensifier:Wallclock time limit for intensification reached (used: 65.663146 sec, available: 0.000010 sec)\n",
      "INFO:smac.optimizer.smbo.SMBO:Shared model mode: Finished loading new runs, found 0 new runs.\n"
     ]
    },
    {
     "name": "stdout",
     "output_type": "stream",
     "text": [
      "building empty layout model\n",
      "models will need to be added with layout.add_model()\n",
      "Loading the comets parameters...\n",
      "Creating the comets object...\n",
      "\n",
      "Running COMETS simulation ...\n",
      "Done!\n",
      "The last cycle is: 967\n",
      "Configuration\tfitness\tPHA(mM)\tsucr(mM)\tBiomassFarmer\tBiomassLaborer\tendCycle\n",
      "0.025493942978552564,0.1436794579754328,14.52046092480289\t14.621783062999999\t14.621783062999999\t0.0\t0.18435786186\t1.2411395455\t967\n",
      "Getting fluxes:End\n"
     ]
    },
    {
     "name": "stderr",
     "output_type": "stream",
     "text": [
      "INFO:smac.intensification.intensification.Intensifier:Wallclock time limit for intensification reached (used: 71.049453 sec, available: 0.000010 sec)\n",
      "INFO:smac.optimizer.smbo.SMBO:Shared model mode: Finished loading new runs, found 0 new runs.\n"
     ]
    },
    {
     "name": "stdout",
     "output_type": "stream",
     "text": [
      "building empty layout model\n",
      "models will need to be added with layout.add_model()\n",
      "Loading the comets parameters...\n",
      "Creating the comets object...\n",
      "\n",
      "Running COMETS simulation ...\n",
      "Done!\n",
      "The last cycle is: 1000\n",
      "Configuration\tfitness\tPHA(mM)\tsucr(mM)\tBiomassFarmer\tBiomassLaborer\tendCycle\n",
      "0.09999992372617501,0.09648331110765404,19.587833492846798\t19.91723696676\t19.939984791\t0.022747824240000002\t0.099999923726\t0.91196324548\t1000\n",
      "Getting fluxes:End\n"
     ]
    },
    {
     "name": "stderr",
     "output_type": "stream",
     "text": [
      "INFO:smac.intensification.intensification.Intensifier:Wallclock time limit for intensification reached (used: 67.884547 sec, available: 0.000010 sec)\n",
      "INFO:smac.optimizer.smbo.SMBO:Shared model mode: Finished loading new runs, found 0 new runs.\n"
     ]
    },
    {
     "name": "stdout",
     "output_type": "stream",
     "text": [
      "building empty layout model\n",
      "models will need to be added with layout.add_model()\n",
      "Loading the comets parameters...\n",
      "Creating the comets object...\n",
      "\n",
      "Running COMETS simulation ...\n",
      "Done!\n",
      "The last cycle is: 1000\n",
      "Configuration\tfitness\tPHA(mM)\tsucr(mM)\tBiomassFarmer\tBiomassLaborer\tendCycle\n",
      "0.09999992372617501,0.12708663887457106,26.548130011313923\t19.910021634769002\t19.939984791\t0.029963156230999998\t0.099999923726\t1.2012268476\t1000\n",
      "Getting fluxes:End\n"
     ]
    },
    {
     "name": "stderr",
     "output_type": "stream",
     "text": [
      "INFO:smac.intensification.intensification.Intensifier:Wallclock time limit for intensification reached (used: 68.817222 sec, available: 0.000010 sec)\n",
      "INFO:smac.optimizer.smbo.SMBO:Shared model mode: Finished loading new runs, found 0 new runs.\n"
     ]
    },
    {
     "name": "stdout",
     "output_type": "stream",
     "text": [
      "building empty layout model\n",
      "models will need to be added with layout.add_model()\n",
      "Loading the comets parameters...\n",
      "Creating the comets object...\n",
      "\n",
      "Running COMETS simulation ...\n",
      "Done!\n",
      "The last cycle is: 929\n",
      "Configuration\tfitness\tPHA(mM)\tsucr(mM)\tBiomassFarmer\tBiomassLaborer\tendCycle\n",
      "0.09995199531825069,0.2260237780072533,39.99932870934261\t18.391167139\t18.391167139\t0.0\t0.099951995318\t1.7899596484\t929\n",
      "Getting fluxes:End\n"
     ]
    },
    {
     "name": "stderr",
     "output_type": "stream",
     "text": [
      "INFO:smac.intensification.intensification.Intensifier:Wallclock time limit for intensification reached (used: 65.845952 sec, available: 0.000010 sec)\n",
      "INFO:smac.optimizer.smbo.SMBO:Shared model mode: Finished loading new runs, found 0 new runs.\n"
     ]
    },
    {
     "name": "stdout",
     "output_type": "stream",
     "text": [
      "building empty layout model\n",
      "models will need to be added with layout.add_model()\n",
      "Loading the comets parameters...\n",
      "Creating the comets object...\n",
      "\n",
      "Running COMETS simulation ...\n",
      "Done!\n",
      "The last cycle is: 998\n",
      "Configuration\tfitness\tPHA(mM)\tsucr(mM)\tBiomassFarmer\tBiomassLaborer\tendCycle\n",
      "0.09994457359491282,0.18929439854666602,28.647719796940095\t19.789025572\t19.789025572\t0.0\t0.099944573595\t1.7533377293\t998\n",
      "Getting fluxes:End\n"
     ]
    },
    {
     "name": "stderr",
     "output_type": "stream",
     "text": [
      "INFO:smac.intensification.intensification.Intensifier:Wallclock time limit for intensification reached (used: 67.781173 sec, available: 0.000010 sec)\n",
      "INFO:smac.optimizer.smbo.SMBO:Shared model mode: Finished loading new runs, found 0 new runs.\n"
     ]
    },
    {
     "name": "stdout",
     "output_type": "stream",
     "text": [
      "building empty layout model\n",
      "models will need to be added with layout.add_model()\n",
      "Loading the comets parameters...\n",
      "Creating the comets object...\n",
      "\n",
      "Running COMETS simulation ...\n",
      "Done!\n",
      "The last cycle is: 1000\n",
      "Configuration\tfitness\tPHA(mM)\tsucr(mM)\tBiomassFarmer\tBiomassLaborer\tendCycle\n",
      "0.09999992372617501,0.16059579877524963,24.666205205030273\t19.902121196122\t19.939984791\t0.037863594878\t0.099999923726\t1.517956465\t1000\n",
      "Getting fluxes:End\n"
     ]
    },
    {
     "name": "stderr",
     "output_type": "stream",
     "text": [
      "INFO:smac.intensification.intensification.Intensifier:Wallclock time limit for intensification reached (used: 68.094916 sec, available: 0.000010 sec)\n",
      "INFO:smac.optimizer.smbo.SMBO:Shared model mode: Finished loading new runs, found 0 new runs.\n"
     ]
    },
    {
     "name": "stdout",
     "output_type": "stream",
     "text": [
      "building empty layout model\n",
      "models will need to be added with layout.add_model()\n",
      "Loading the comets parameters...\n",
      "Creating the comets object...\n",
      "\n",
      "Running COMETS simulation ...\n",
      "Done!\n",
      "The last cycle is: 821\n",
      "Configuration\tfitness\tPHA(mM)\tsucr(mM)\tBiomassFarmer\tBiomassLaborer\tendCycle\n",
      "0.0999475236209666,0.2998690556037603,22.751628511013834\t16.251467340999998\t16.251467340999998\t0.0\t0.099947523621\t1.8648568077\t821\n",
      "Getting fluxes:End\n"
     ]
    },
    {
     "name": "stderr",
     "output_type": "stream",
     "text": [
      "INFO:smac.intensification.intensification.Intensifier:Wallclock time limit for intensification reached (used: 65.906628 sec, available: 0.000010 sec)\n",
      "INFO:smac.optimizer.smbo.SMBO:Shared model mode: Finished loading new runs, found 0 new runs.\n"
     ]
    },
    {
     "name": "stdout",
     "output_type": "stream",
     "text": [
      "building empty layout model\n",
      "models will need to be added with layout.add_model()\n",
      "Loading the comets parameters...\n",
      "Creating the comets object...\n",
      "\n",
      "Running COMETS simulation ...\n",
      "Done!\n",
      "The last cycle is: 685\n",
      "Configuration\tfitness\tPHA(mM)\tsucr(mM)\tBiomassFarmer\tBiomassLaborer\tendCycle\n",
      "0.0001103481655373285,0.29994362393057833,1.002544193126672\t10.124192657\t10.124192657\t0.0\t0.090793722256\t1.3734605181\t685\n",
      "Getting fluxes:End\n"
     ]
    },
    {
     "name": "stderr",
     "output_type": "stream",
     "text": [
      "INFO:smac.intensification.intensification.Intensifier:Wallclock time limit for intensification reached (used: 63.184441 sec, available: 0.000010 sec)\n",
      "INFO:smac.optimizer.smbo.SMBO:Shared model mode: Finished loading new runs, found 0 new runs.\n"
     ]
    },
    {
     "name": "stdout",
     "output_type": "stream",
     "text": [
      "building empty layout model\n",
      "models will need to be added with layout.add_model()\n",
      "Loading the comets parameters...\n",
      "Creating the comets object...\n",
      "\n",
      "Running COMETS simulation ...\n",
      "Done!\n",
      "The last cycle is: 1000\n",
      "Configuration\tfitness\tPHA(mM)\tsucr(mM)\tBiomassFarmer\tBiomassLaborer\tendCycle\n",
      "0.09999992372617501,0.035452276363322384,21.013091241281916\t19.9316262247114\t19.939984791\t0.008358566288600001\t0.099999923726\t0.33509601444\t1000\n",
      "Getting fluxes:End\n"
     ]
    },
    {
     "name": "stderr",
     "output_type": "stream",
     "text": [
      "INFO:smac.intensification.intensification.Intensifier:Challenger (-19.9316) is better than incumbent (-19.9296) on 1 runs.\n",
      "INFO:smac.intensification.intensification.Intensifier:Changes in incumbent:\n",
      "INFO:smac.intensification.intensification.Intensifier:  biomassSynechococcus : 0.0438877719506509 -> 0.035452276363322384\n",
      "INFO:smac.intensification.intensification.Intensifier:  nh4 : 25.812821564030624 -> 21.013091241281916\n",
      "INFO:smac.intensification.intensification.Intensifier:Wallclock time limit for intensification reached (used: 71.625269 sec, available: 0.000010 sec)\n",
      "INFO:smac.optimizer.smbo.SMBO:Shared model mode: Finished loading new runs, found 0 new runs.\n"
     ]
    },
    {
     "name": "stdout",
     "output_type": "stream",
     "text": [
      "building empty layout model\n",
      "models will need to be added with layout.add_model()\n",
      "Loading the comets parameters...\n",
      "Creating the comets object...\n",
      "\n",
      "Running COMETS simulation ...\n",
      "Done!\n",
      "The last cycle is: 1000\n",
      "Configuration\tfitness\tPHA(mM)\tsucr(mM)\tBiomassFarmer\tBiomassLaborer\tendCycle\n",
      "0.09999983908687163,0.05229841107554395,31.144239454955706\t19.927637542565\t19.939967914\t0.012330371435\t0.099999839087\t0.4943262016\t1000\n",
      "Getting fluxes:End\n"
     ]
    },
    {
     "name": "stderr",
     "output_type": "stream",
     "text": [
      "INFO:smac.intensification.intensification.Intensifier:Wallclock time limit for intensification reached (used: 71.584667 sec, available: 0.000010 sec)\n",
      "INFO:smac.optimizer.smbo.SMBO:Shared model mode: Finished loading new runs, found 0 new runs.\n"
     ]
    },
    {
     "name": "stdout",
     "output_type": "stream",
     "text": [
      "building empty layout model\n",
      "models will need to be added with layout.add_model()\n",
      "Loading the comets parameters...\n",
      "Creating the comets object...\n",
      "\n",
      "Running COMETS simulation ...\n",
      "Done!\n",
      "The last cycle is: 1000\n",
      "Configuration\tfitness\tPHA(mM)\tsucr(mM)\tBiomassFarmer\tBiomassLaborer\tendCycle\n",
      "0.09999871113803274,0.12310166509637796,39.99865325147096\t19.910719380136\t19.939743001\t0.029023620864\t0.099998711138\t1.163560752\t1000\n",
      "Getting fluxes:End\n"
     ]
    },
    {
     "name": "stderr",
     "output_type": "stream",
     "text": [
      "INFO:smac.intensification.intensification.Intensifier:Wallclock time limit for intensification reached (used: 73.601146 sec, available: 0.000010 sec)\n",
      "INFO:smac.optimizer.smbo.SMBO:Shared model mode: Finished loading new runs, found 0 new runs.\n"
     ]
    },
    {
     "name": "stdout",
     "output_type": "stream",
     "text": [
      "building empty layout model\n",
      "models will need to be added with layout.add_model()\n",
      "Loading the comets parameters...\n",
      "Creating the comets object...\n",
      "\n",
      "Running COMETS simulation ...\n",
      "Done!\n",
      "The last cycle is: 1000\n",
      "Configuration\tfitness\tPHA(mM)\tsucr(mM)\tBiomassFarmer\tBiomassLaborer\tendCycle\n",
      "0.09999992372617501,0.07243184772200766,17.031791441040355\t19.92290756881\t19.939984791\t0.01707722219\t0.099999923726\t0.68462806849\t1000\n",
      "Getting fluxes:End\n"
     ]
    },
    {
     "name": "stderr",
     "output_type": "stream",
     "text": [
      "INFO:smac.intensification.intensification.Intensifier:Wallclock time limit for intensification reached (used: 72.165476 sec, available: 0.000010 sec)\n",
      "INFO:smac.optimizer.smbo.SMBO:Shared model mode: Finished loading new runs, found 0 new runs.\n"
     ]
    },
    {
     "name": "stdout",
     "output_type": "stream",
     "text": [
      "building empty layout model\n",
      "models will need to be added with layout.add_model()\n",
      "Loading the comets parameters...\n",
      "Creating the comets object...\n",
      "\n",
      "Running COMETS simulation ...\n",
      "Done!\n",
      "The last cycle is: 1000\n",
      "Configuration\tfitness\tPHA(mM)\tsucr(mM)\tBiomassFarmer\tBiomassLaborer\tendCycle\n",
      "0.09999885462171312,0.09720883893674512,1.0348706629982432\t19.916852730409\t19.939771612\t0.022918881590999998\t0.099998854622\t0.918820957\t1000\n",
      "Getting fluxes:End\n"
     ]
    },
    {
     "name": "stderr",
     "output_type": "stream",
     "text": [
      "INFO:smac.intensification.intensification.Intensifier:Wallclock time limit for intensification reached (used: 72.449272 sec, available: 0.000010 sec)\n",
      "INFO:smac.optimizer.smbo.SMBO:Shared model mode: Finished loading new runs, found 0 new runs.\n"
     ]
    },
    {
     "name": "stdout",
     "output_type": "stream",
     "text": [
      "building empty layout model\n",
      "models will need to be added with layout.add_model()\n",
      "Loading the comets parameters...\n",
      "Creating the comets object...\n",
      "\n",
      "Running COMETS simulation ...\n",
      "Done!\n",
      "The last cycle is: 1000\n",
      "Configuration\tfitness\tPHA(mM)\tsucr(mM)\tBiomassFarmer\tBiomassLaborer\tendCycle\n",
      "0.09999992372617501,0.10200068367666684,6.6760044926344735\t19.915936138461\t19.939984791\t0.024048652538999998\t0.099999923726\t0.96411362192\t1000\n",
      "Getting fluxes:End\n"
     ]
    },
    {
     "name": "stderr",
     "output_type": "stream",
     "text": [
      "INFO:smac.intensification.intensification.Intensifier:Wallclock time limit for intensification reached (used: 69.457016 sec, available: 0.000010 sec)\n",
      "INFO:smac.optimizer.smbo.SMBO:Shared model mode: Finished loading new runs, found 0 new runs.\n"
     ]
    },
    {
     "name": "stdout",
     "output_type": "stream",
     "text": [
      "building empty layout model\n",
      "models will need to be added with layout.add_model()\n",
      "Loading the comets parameters...\n",
      "Creating the comets object...\n",
      "\n",
      "Running COMETS simulation ...\n",
      "Done!\n",
      "The last cycle is: 773\n",
      "Configuration\tfitness\tPHA(mM)\tsucr(mM)\tBiomassFarmer\tBiomassLaborer\tendCycle\n",
      "0.01316428575496538,0.2393176294151217,13.271329481169433\t14.416611566762999\t14.44993364\t0.033322073237000004\t0.19712850108\t1.3358862691\t773\n",
      "Getting fluxes:End\n"
     ]
    },
    {
     "name": "stderr",
     "output_type": "stream",
     "text": [
      "INFO:smac.intensification.intensification.Intensifier:Wallclock time limit for intensification reached (used: 63.428217 sec, available: 0.000010 sec)\n",
      "INFO:smac.optimizer.smbo.SMBO:Shared model mode: Finished loading new runs, found 0 new runs.\n"
     ]
    },
    {
     "name": "stdout",
     "output_type": "stream",
     "text": [
      "building empty layout model\n",
      "models will need to be added with layout.add_model()\n",
      "Loading the comets parameters...\n",
      "Creating the comets object...\n",
      "\n",
      "Running COMETS simulation ...\n",
      "Done!\n",
      "The last cycle is: 1000\n",
      "Configuration\tfitness\tPHA(mM)\tsucr(mM)\tBiomassFarmer\tBiomassLaborer\tendCycle\n",
      "0.09999992372617501,0.08849858515296809,5.194745905070313\t19.919119521789\t19.939984791\t0.020865269210999998\t0.099999923726\t0.8364913684\t1000\n",
      "Getting fluxes:End\n"
     ]
    },
    {
     "name": "stderr",
     "output_type": "stream",
     "text": [
      "INFO:smac.intensification.intensification.Intensifier:Wallclock time limit for intensification reached (used: 65.581473 sec, available: 0.000010 sec)\n",
      "INFO:smac.optimizer.smbo.SMBO:Shared model mode: Finished loading new runs, found 0 new runs.\n"
     ]
    },
    {
     "name": "stdout",
     "output_type": "stream",
     "text": [
      "building empty layout model\n",
      "models will need to be added with layout.add_model()\n",
      "Loading the comets parameters...\n",
      "Creating the comets object...\n",
      "\n",
      "Running COMETS simulation ...\n",
      "Done!\n",
      "The last cycle is: 907\n",
      "Configuration\tfitness\tPHA(mM)\tsucr(mM)\tBiomassFarmer\tBiomassLaborer\tendCycle\n",
      "0.04469661854946699,0.16748359585244002,38.09745164217963\t15.133995524000001\t15.133995524000001\t0.0\t0.18889060198\t1.2611650392\t907\n",
      "Getting fluxes:End\n"
     ]
    },
    {
     "name": "stderr",
     "output_type": "stream",
     "text": [
      "INFO:smac.intensification.intensification.Intensifier:Wallclock time limit for intensification reached (used: 67.800391 sec, available: 0.000010 sec)\n",
      "INFO:smac.optimizer.smbo.SMBO:Shared model mode: Finished loading new runs, found 0 new runs.\n"
     ]
    },
    {
     "name": "stdout",
     "output_type": "stream",
     "text": [
      "building empty layout model\n",
      "models will need to be added with layout.add_model()\n",
      "Loading the comets parameters...\n",
      "Creating the comets object...\n",
      "\n",
      "Running COMETS simulation ...\n",
      "Done!\n",
      "The last cycle is: 693\n",
      "Configuration\tfitness\tPHA(mM)\tsucr(mM)\tBiomassFarmer\tBiomassLaborer\tendCycle\n",
      "0.00014960201402338446,0.29993311591932553,39.9987115094869\t14.077392617000001\t14.077392617000001\t0.0\t0.20665953973\t1.398365837\t693\n",
      "Getting fluxes:End\n"
     ]
    },
    {
     "name": "stderr",
     "output_type": "stream",
     "text": [
      "INFO:smac.intensification.intensification.Intensifier:Wallclock time limit for intensification reached (used: 60.710269 sec, available: 0.000010 sec)\n",
      "INFO:smac.optimizer.smbo.SMBO:Shared model mode: Finished loading new runs, found 0 new runs.\n"
     ]
    },
    {
     "name": "stdout",
     "output_type": "stream",
     "text": [
      "building empty layout model\n",
      "models will need to be added with layout.add_model()\n",
      "Loading the comets parameters...\n",
      "Creating the comets object...\n",
      "\n",
      "Running COMETS simulation ...\n",
      "Done!\n",
      "The last cycle is: 1000\n",
      "Configuration\tfitness\tPHA(mM)\tsucr(mM)\tBiomassFarmer\tBiomassLaborer\tendCycle\n",
      "0.09999938546537764,0.17254954219297589,29.390296374066622\t19.899195538738002\t19.939877462000002\t0.040681923262\t0.099999385465\t1.6309436181\t1000\n",
      "Getting fluxes:End\n"
     ]
    },
    {
     "name": "stderr",
     "output_type": "stream",
     "text": [
      "INFO:smac.intensification.intensification.Intensifier:Wallclock time limit for intensification reached (used: 69.269721 sec, available: 0.000010 sec)\n",
      "INFO:smac.optimizer.smbo.SMBO:Shared model mode: Finished loading new runs, found 0 new runs.\n"
     ]
    },
    {
     "name": "stdout",
     "output_type": "stream",
     "text": [
      "building empty layout model\n",
      "models will need to be added with layout.add_model()\n",
      "Loading the comets parameters...\n",
      "Creating the comets object...\n",
      "\n",
      "Running COMETS simulation ...\n",
      "Done!\n",
      "The last cycle is: 1000\n",
      "Configuration\tfitness\tPHA(mM)\tsucr(mM)\tBiomassFarmer\tBiomassLaborer\tendCycle\n",
      "0.09999193292764272,0.14099790755988664,23.570171437026055\t19.905148416585998\t19.938391426\t0.033243009414\t0.099991932928\t1.3327165901\t1000\n",
      "Getting fluxes:End\n"
     ]
    },
    {
     "name": "stderr",
     "output_type": "stream",
     "text": [
      "INFO:smac.intensification.intensification.Intensifier:Wallclock time limit for intensification reached (used: 66.913977 sec, available: 0.000010 sec)\n",
      "INFO:smac.optimizer.smbo.SMBO:Shared model mode: Finished loading new runs, found 0 new runs.\n"
     ]
    },
    {
     "name": "stdout",
     "output_type": "stream",
     "text": [
      "building empty layout model\n",
      "models will need to be added with layout.add_model()\n",
      "Loading the comets parameters...\n",
      "Creating the comets object...\n",
      "\n",
      "Running COMETS simulation ...\n",
      "Done!\n",
      "The last cycle is: 1000\n",
      "Configuration\tfitness\tPHA(mM)\tsucr(mM)\tBiomassFarmer\tBiomassLaborer\tendCycle\n",
      "0.09999992372617501,0.07775594760953285,24.63289871106326\t19.921652308319\t19.939984791\t0.018332482681\t0.099999923726\t0.73495162555\t1000\n",
      "Getting fluxes:End\n"
     ]
    },
    {
     "name": "stderr",
     "output_type": "stream",
     "text": [
      "INFO:smac.intensification.intensification.Intensifier:Wallclock time limit for intensification reached (used: 66.865151 sec, available: 0.000010 sec)\n",
      "INFO:smac.optimizer.smbo.SMBO:Shared model mode: Finished loading new runs, found 0 new runs.\n"
     ]
    },
    {
     "name": "stdout",
     "output_type": "stream",
     "text": [
      "building empty layout model\n",
      "models will need to be added with layout.add_model()\n",
      "Loading the comets parameters...\n",
      "Creating the comets object...\n",
      "\n",
      "Running COMETS simulation ...\n",
      "Done!\n",
      "The last cycle is: 902\n",
      "Configuration\tfitness\tPHA(mM)\tsucr(mM)\tBiomassFarmer\tBiomassLaborer\tendCycle\n",
      "0.09999398969001443,0.24216837656210513,26.380617292709974\t17.878925357\t17.878925357\t6.938893903900001e-18\t0.09999398969\t1.807203906\t902\n",
      "Getting fluxes:End\n"
     ]
    },
    {
     "name": "stderr",
     "output_type": "stream",
     "text": [
      "INFO:smac.intensification.intensification.Intensifier:Wallclock time limit for intensification reached (used: 65.092754 sec, available: 0.000010 sec)\n",
      "INFO:smac.optimizer.smbo.SMBO:Shared model mode: Finished loading new runs, found 0 new runs.\n"
     ]
    },
    {
     "name": "stdout",
     "output_type": "stream",
     "text": [
      "building empty layout model\n",
      "models will need to be added with layout.add_model()\n",
      "Loading the comets parameters...\n",
      "Creating the comets object...\n",
      "\n",
      "Running COMETS simulation ...\n",
      "Done!\n",
      "The last cycle is: 1000\n",
      "Configuration\tfitness\tPHA(mM)\tsucr(mM)\tBiomassFarmer\tBiomassLaborer\tendCycle\n",
      "0.09999885462171312,0.09970130028362836,13.413902725942473\t19.916265083986\t19.939771612\t0.023506528014\t0.099998854622\t0.94237977886\t1000\n",
      "Getting fluxes:End\n"
     ]
    },
    {
     "name": "stderr",
     "output_type": "stream",
     "text": [
      "INFO:smac.intensification.intensification.Intensifier:Wallclock time limit for intensification reached (used: 66.696120 sec, available: 0.000010 sec)\n",
      "INFO:smac.optimizer.smbo.SMBO:Shared model mode: Finished loading new runs, found 0 new runs.\n"
     ]
    },
    {
     "name": "stdout",
     "output_type": "stream",
     "text": [
      "building empty layout model\n",
      "models will need to be added with layout.add_model()\n",
      "Loading the comets parameters...\n",
      "Creating the comets object...\n",
      "\n",
      "Running COMETS simulation ...\n",
      "Done!\n",
      "The last cycle is: 1000\n",
      "Configuration\tfitness\tPHA(mM)\tsucr(mM)\tBiomassFarmer\tBiomassLaborer\tendCycle\n",
      "0.09999992372617501,0.03348631563694331,23.548002533786054\t19.932089738334202\t19.939984791\t0.0078950526658\t0.099999923726\t0.31651369275\t1000\n",
      "Getting fluxes:End\n"
     ]
    },
    {
     "name": "stderr",
     "output_type": "stream",
     "text": [
      "INFO:smac.intensification.intensification.Intensifier:Challenger (-19.9321) is better than incumbent (-19.9316) on 1 runs.\n",
      "INFO:smac.intensification.intensification.Intensifier:Changes in incumbent:\n",
      "INFO:smac.intensification.intensification.Intensifier:  biomassSynechococcus : 0.035452276363322384 -> 0.03348631563694331\n",
      "INFO:smac.intensification.intensification.Intensifier:  nh4 : 21.013091241281916 -> 23.548002533786054\n",
      "INFO:smac.intensification.intensification.Intensifier:Wallclock time limit for intensification reached (used: 65.802017 sec, available: 0.000010 sec)\n",
      "INFO:smac.optimizer.smbo.SMBO:Shared model mode: Finished loading new runs, found 0 new runs.\n"
     ]
    },
    {
     "name": "stdout",
     "output_type": "stream",
     "text": [
      "building empty layout model\n",
      "models will need to be added with layout.add_model()\n",
      "Loading the comets parameters...\n",
      "Creating the comets object...\n",
      "\n",
      "Running COMETS simulation ...\n",
      "Done!\n",
      "The last cycle is: 981\n",
      "Configuration\tfitness\tPHA(mM)\tsucr(mM)\tBiomassFarmer\tBiomassLaborer\tendCycle\n",
      "0.09999179079218527,0.19760598627683765,33.740330292896864\t19.458402488\t19.458402488\t0.0\t0.099991790792\t1.7616139907\t981\n",
      "Getting fluxes:End\n"
     ]
    },
    {
     "name": "stderr",
     "output_type": "stream",
     "text": [
      "INFO:smac.intensification.intensification.Intensifier:Wallclock time limit for intensification reached (used: 66.643812 sec, available: 0.000010 sec)\n",
      "INFO:smac.optimizer.smbo.SMBO:Shared model mode: Finished loading new runs, found 0 new runs.\n"
     ]
    },
    {
     "name": "stdout",
     "output_type": "stream",
     "text": [
      "building empty layout model\n",
      "models will need to be added with layout.add_model()\n",
      "Loading the comets parameters...\n",
      "Creating the comets object...\n",
      "\n",
      "Running COMETS simulation ...\n",
      "Done!\n",
      "The last cycle is: 1000\n",
      "Configuration\tfitness\tPHA(mM)\tsucr(mM)\tBiomassFarmer\tBiomassLaborer\tendCycle\n",
      "0.09999992372617501,0.10558788688459562,25.061584604534414\t19.915090385271\t19.939984791\t0.024894405729\t0.099999923726\t0.99801997777\t1000\n",
      "Getting fluxes:End\n"
     ]
    },
    {
     "name": "stderr",
     "output_type": "stream",
     "text": [
      "INFO:smac.intensification.intensification.Intensifier:Wallclock time limit for intensification reached (used: 66.738668 sec, available: 0.000010 sec)\n",
      "INFO:smac.optimizer.smbo.SMBO:Shared model mode: Finished loading new runs, found 0 new runs.\n"
     ]
    },
    {
     "name": "stdout",
     "output_type": "stream",
     "text": [
      "building empty layout model\n",
      "models will need to be added with layout.add_model()\n",
      "Loading the comets parameters...\n",
      "Creating the comets object...\n",
      "\n",
      "Running COMETS simulation ...\n",
      "Done!\n",
      "The last cycle is: 821\n",
      "Configuration\tfitness\tPHA(mM)\tsucr(mM)\tBiomassFarmer\tBiomassLaborer\tendCycle\n",
      "0.09997804581844941,0.2999788905386088,1.0131922497171717\t16.236434641\t16.236434641\t0.0\t0.099978045818\t1.8644563192\t821\n",
      "Getting fluxes:End\n"
     ]
    },
    {
     "name": "stderr",
     "output_type": "stream",
     "text": [
      "INFO:smac.intensification.intensification.Intensifier:Wallclock time limit for intensification reached (used: 60.046540 sec, available: 0.000010 sec)\n",
      "INFO:smac.optimizer.smbo.SMBO:Shared model mode: Finished loading new runs, found 0 new runs.\n"
     ]
    },
    {
     "name": "stdout",
     "output_type": "stream",
     "text": [
      "building empty layout model\n",
      "models will need to be added with layout.add_model()\n",
      "Loading the comets parameters...\n",
      "Creating the comets object...\n",
      "\n",
      "Running COMETS simulation ...\n",
      "Done!\n",
      "The last cycle is: 1000\n",
      "Configuration\tfitness\tPHA(mM)\tsucr(mM)\tBiomassFarmer\tBiomassLaborer\tendCycle\n",
      "0.021241664773174004,0.009333233770609484,17.361428573168766\t4.2121457989256\t4.214346291\t0.0022004920744\t0.021241664773\t0.088218014728\t1000\n",
      "Getting fluxes:End\n"
     ]
    },
    {
     "name": "stderr",
     "output_type": "stream",
     "text": [
      "INFO:smac.intensification.intensification.Intensifier:Wallclock time limit for intensification reached (used: 66.098031 sec, available: 0.000010 sec)\n",
      "INFO:smac.optimizer.smbo.SMBO:Shared model mode: Finished loading new runs, found 0 new runs.\n"
     ]
    },
    {
     "name": "stdout",
     "output_type": "stream",
     "text": [
      "building empty layout model\n",
      "models will need to be added with layout.add_model()\n",
      "Loading the comets parameters...\n",
      "Creating the comets object...\n",
      "\n",
      "Running COMETS simulation ...\n",
      "Done!\n",
      "The last cycle is: 1000\n",
      "Configuration\tfitness\tPHA(mM)\tsucr(mM)\tBiomassFarmer\tBiomassLaborer\tendCycle\n",
      "0.09999983908687163,0.06101496054093116,35.632788630015774\t19.925582445855\t19.939967914\t0.014385468145000002\t0.099999839087\t0.57671529717\t1000\n",
      "Getting fluxes:End\n"
     ]
    },
    {
     "name": "stderr",
     "output_type": "stream",
     "text": [
      "INFO:smac.intensification.intensification.Intensifier:Wallclock time limit for intensification reached (used: 66.049460 sec, available: 0.000010 sec)\n",
      "INFO:smac.optimizer.smbo.SMBO:Shared model mode: Finished loading new runs, found 0 new runs.\n"
     ]
    },
    {
     "name": "stdout",
     "output_type": "stream",
     "text": [
      "building empty layout model\n",
      "models will need to be added with layout.add_model()\n",
      "Loading the comets parameters...\n",
      "Creating the comets object...\n",
      "\n",
      "Running COMETS simulation ...\n",
      "Done!\n",
      "The last cycle is: 1000\n",
      "Configuration\tfitness\tPHA(mM)\tsucr(mM)\tBiomassFarmer\tBiomassLaborer\tendCycle\n",
      "0.09998871804197683,0.10515471410242855,39.99371228106299\t19.912958101211\t19.937750378\t0.024792276789000003\t0.099988718042\t0.99392561521\t1000\n",
      "Getting fluxes:End\n"
     ]
    },
    {
     "name": "stderr",
     "output_type": "stream",
     "text": [
      "INFO:smac.intensification.intensification.Intensifier:Wallclock time limit for intensification reached (used: 65.630457 sec, available: 0.000010 sec)\n",
      "INFO:smac.optimizer.smbo.SMBO:Shared model mode: Finished loading new runs, found 0 new runs.\n"
     ]
    },
    {
     "name": "stdout",
     "output_type": "stream",
     "text": [
      "building empty layout model\n",
      "models will need to be added with layout.add_model()\n",
      "Loading the comets parameters...\n",
      "Creating the comets object...\n",
      "\n",
      "Running COMETS simulation ...\n",
      "Done!\n",
      "The last cycle is: 1000\n",
      "Configuration\tfitness\tPHA(mM)\tsucr(mM)\tBiomassFarmer\tBiomassLaborer\tendCycle\n",
      "0.09998871804197683,0.13286144529570776,35.17285194909945\t19.906425698413\t19.937750378\t0.031324679587\t0.099988718042\t1.2558104968\t1000\n",
      "Getting fluxes:End\n"
     ]
    },
    {
     "name": "stderr",
     "output_type": "stream",
     "text": [
      "INFO:smac.intensification.intensification.Intensifier:Wallclock time limit for intensification reached (used: 65.746441 sec, available: 0.000010 sec)\n",
      "INFO:smac.optimizer.smbo.SMBO:Shared model mode: Finished loading new runs, found 0 new runs.\n"
     ]
    },
    {
     "name": "stdout",
     "output_type": "stream",
     "text": [
      "building empty layout model\n",
      "models will need to be added with layout.add_model()\n",
      "Loading the comets parameters...\n",
      "Creating the comets object...\n",
      "\n",
      "Running COMETS simulation ...\n",
      "Done!\n",
      "The last cycle is: 1000\n",
      "Configuration\tfitness\tPHA(mM)\tsucr(mM)\tBiomassFarmer\tBiomassLaborer\tendCycle\n",
      "0.09999992372617501,0.1467953946993705,13.875175692200855\t19.905374910808\t19.939984791\t0.034609880192\t0.099999923726\t1.3875146182\t1000\n",
      "Getting fluxes:End\n"
     ]
    },
    {
     "name": "stderr",
     "output_type": "stream",
     "text": [
      "INFO:smac.intensification.intensification.Intensifier:Wallclock time limit for intensification reached (used: 66.580698 sec, available: 0.000010 sec)\n",
      "INFO:smac.optimizer.smbo.SMBO:Shared model mode: Finished loading new runs, found 0 new runs.\n"
     ]
    },
    {
     "name": "stdout",
     "output_type": "stream",
     "text": [
      "building empty layout model\n",
      "models will need to be added with layout.add_model()\n",
      "Loading the comets parameters...\n",
      "Creating the comets object...\n",
      "\n",
      "Running COMETS simulation ...\n",
      "Done!\n",
      "The last cycle is: 1000\n",
      "Configuration\tfitness\tPHA(mM)\tsucr(mM)\tBiomassFarmer\tBiomassLaborer\tendCycle\n",
      "0.0999310547925402,0.14198033371444788,1.005877180246005\t19.89277769044\t19.926252326\t0.03347463556\t0.099931054793\t1.3420025126\t1000\n",
      "Getting fluxes:End\n"
     ]
    },
    {
     "name": "stderr",
     "output_type": "stream",
     "text": [
      "INFO:smac.intensification.intensification.Intensifier:Wallclock time limit for intensification reached (used: 65.757094 sec, available: 0.000010 sec)\n",
      "INFO:smac.optimizer.smbo.SMBO:Shared model mode: Finished loading new runs, found 0 new runs.\n"
     ]
    },
    {
     "name": "stdout",
     "output_type": "stream",
     "text": [
      "building empty layout model\n",
      "models will need to be added with layout.add_model()\n",
      "Loading the comets parameters...\n",
      "Creating the comets object...\n",
      "\n",
      "Running COMETS simulation ...\n",
      "Done!\n",
      "The last cycle is: 1000\n",
      "Configuration\tfitness\tPHA(mM)\tsucr(mM)\tBiomassFarmer\tBiomassLaborer\tendCycle\n",
      "0.09999992372617501,0.12399556199623253,1.0176447118797858\t19.91075041649\t19.939984791\t0.029234374510000005\t0.099999923726\t1.1720098932\t1000\n",
      "Getting fluxes:End\n"
     ]
    },
    {
     "name": "stderr",
     "output_type": "stream",
     "text": [
      "INFO:smac.intensification.intensification.Intensifier:Wallclock time limit for intensification reached (used: 65.614365 sec, available: 0.000010 sec)\n",
      "INFO:smac.optimizer.smbo.SMBO:Shared model mode: Finished loading new runs, found 0 new runs.\n"
     ]
    },
    {
     "name": "stdout",
     "output_type": "stream",
     "text": [
      "building empty layout model\n",
      "models will need to be added with layout.add_model()\n",
      "Loading the comets parameters...\n",
      "Creating the comets object...\n",
      "\n",
      "Running COMETS simulation ...\n",
      "Done!\n",
      "The last cycle is: 1000\n",
      "Configuration\tfitness\tPHA(mM)\tsucr(mM)\tBiomassFarmer\tBiomassLaborer\tendCycle\n",
      "0.09999791645359575,0.188052064456139,1.0312279657964536\t19.839586624000003\t19.839586624000003\t0.0\t0.099997916454\t1.7524513747\t1000\n",
      "Getting fluxes:End\n"
     ]
    },
    {
     "name": "stderr",
     "output_type": "stream",
     "text": [
      "INFO:smac.intensification.intensification.Intensifier:Wallclock time limit for intensification reached (used: 66.696682 sec, available: 0.000010 sec)\n",
      "INFO:smac.optimizer.smbo.SMBO:Shared model mode: Finished loading new runs, found 0 new runs.\n"
     ]
    },
    {
     "name": "stdout",
     "output_type": "stream",
     "text": [
      "building empty layout model\n",
      "models will need to be added with layout.add_model()\n",
      "Loading the comets parameters...\n",
      "Creating the comets object...\n",
      "\n",
      "Running COMETS simulation ...\n",
      "Done!\n",
      "The last cycle is: 1000\n",
      "Configuration\tfitness\tPHA(mM)\tsucr(mM)\tBiomassFarmer\tBiomassLaborer\tendCycle\n",
      "0.09999885462171312,0.17106942064521558,6.925209617684777\t19.899438656289\t19.939771612\t0.040332955711\t0.099998854622\t1.6169534634\t1000\n",
      "Getting fluxes:End\n"
     ]
    },
    {
     "name": "stderr",
     "output_type": "stream",
     "text": [
      "INFO:smac.intensification.intensification.Intensifier:Wallclock time limit for intensification reached (used: 66.835131 sec, available: 0.000010 sec)\n",
      "INFO:smac.optimizer.smbo.SMBO:Shared model mode: Finished loading new runs, found 0 new runs.\n"
     ]
    },
    {
     "name": "stdout",
     "output_type": "stream",
     "text": [
      "building empty layout model\n",
      "models will need to be added with layout.add_model()\n",
      "Loading the comets parameters...\n",
      "Creating the comets object...\n",
      "\n",
      "Running COMETS simulation ...\n",
      "Done!\n",
      "The last cycle is: 1000\n",
      "Configuration\tfitness\tPHA(mM)\tsucr(mM)\tBiomassFarmer\tBiomassLaborer\tendCycle\n",
      "0.09995256892385486,0.16806476565041986,1.0173710724514284\t19.890917693364\t19.930542242999998\t0.039624549636\t0.099952568924\t1.5885533713\t1000\n",
      "Getting fluxes:End\n"
     ]
    },
    {
     "name": "stderr",
     "output_type": "stream",
     "text": [
      "INFO:smac.intensification.intensification.Intensifier:Wallclock time limit for intensification reached (used: 66.635108 sec, available: 0.000010 sec)\n",
      "INFO:smac.optimizer.smbo.SMBO:Shared model mode: Finished loading new runs, found 0 new runs.\n"
     ]
    },
    {
     "name": "stdout",
     "output_type": "stream",
     "text": [
      "building empty layout model\n",
      "models will need to be added with layout.add_model()\n",
      "Loading the comets parameters...\n",
      "Creating the comets object...\n",
      "\n",
      "Running COMETS simulation ...\n",
      "Done!\n",
      "The last cycle is: 1000\n",
      "Configuration\tfitness\tPHA(mM)\tsucr(mM)\tBiomassFarmer\tBiomassLaborer\tendCycle\n",
      "0.0999566029233811,0.17166026178351448,16.682791573395132\t19.890874364955998\t19.931346623\t0.040472258043999995\t0.099956602923\t1.6225381121\t1000\n",
      "Getting fluxes:End\n"
     ]
    },
    {
     "name": "stderr",
     "output_type": "stream",
     "text": [
      "INFO:smac.intensification.intensification.Intensifier:Wallclock time limit for intensification reached (used: 66.895106 sec, available: 0.000010 sec)\n",
      "INFO:smac.optimizer.smbo.SMBO:Shared model mode: Finished loading new runs, found 0 new runs.\n"
     ]
    },
    {
     "name": "stdout",
     "output_type": "stream",
     "text": [
      "building empty layout model\n",
      "models will need to be added with layout.add_model()\n",
      "Loading the comets parameters...\n",
      "Creating the comets object...\n",
      "\n",
      "Running COMETS simulation ...\n",
      "Done!\n",
      "The last cycle is: 693\n",
      "Configuration\tfitness\tPHA(mM)\tsucr(mM)\tBiomassFarmer\tBiomassLaborer\tendCycle\n",
      "0.05171117750036222,0.2999762170659254,39.992337327389436\t14.65247264\t14.65247264\t0.0\t0.2085291041\t1.3985667857\t693\n",
      "Getting fluxes:End\n"
     ]
    },
    {
     "name": "stderr",
     "output_type": "stream",
     "text": [
      "INFO:smac.intensification.intensification.Intensifier:Wallclock time limit for intensification reached (used: 62.859534 sec, available: 0.000010 sec)\n",
      "INFO:smac.optimizer.smbo.SMBO:Shared model mode: Finished loading new runs, found 0 new runs.\n"
     ]
    },
    {
     "name": "stdout",
     "output_type": "stream",
     "text": [
      "building empty layout model\n",
      "models will need to be added with layout.add_model()\n",
      "Loading the comets parameters...\n",
      "Creating the comets object...\n",
      "\n",
      "Running COMETS simulation ...\n",
      "Done!\n",
      "The last cycle is: 1000\n",
      "Configuration\tfitness\tPHA(mM)\tsucr(mM)\tBiomassFarmer\tBiomassLaborer\tendCycle\n",
      "0.09999992372617501,0.13941360431323363,6.681822376326829\t19.907115312007\t19.939984791\t0.032869478993\t0.099999923726\t1.3177417068\t1000\n",
      "Getting fluxes:End\n"
     ]
    },
    {
     "name": "stderr",
     "output_type": "stream",
     "text": [
      "INFO:smac.intensification.intensification.Intensifier:Wallclock time limit for intensification reached (used: 74.351632 sec, available: 0.000010 sec)\n",
      "INFO:smac.optimizer.smbo.SMBO:Shared model mode: Finished loading new runs, found 0 new runs.\n"
     ]
    },
    {
     "name": "stdout",
     "output_type": "stream",
     "text": [
      "building empty layout model\n",
      "models will need to be added with layout.add_model()\n",
      "Loading the comets parameters...\n",
      "Creating the comets object...\n",
      "\n",
      "Running COMETS simulation ...\n",
      "Done!\n",
      "The last cycle is: 1000\n",
      "Configuration\tfitness\tPHA(mM)\tsucr(mM)\tBiomassFarmer\tBiomassLaborer\tendCycle\n",
      "0.09999992372617501,0.15985892515951278,10.802919827553364\t19.902294928463\t19.939984791\t0.037689862537\t0.099999923726\t1.5109915128\t1000\n",
      "Getting fluxes:End\n"
     ]
    },
    {
     "name": "stderr",
     "output_type": "stream",
     "text": [
      "INFO:smac.intensification.intensification.Intensifier:Wallclock time limit for intensification reached (used: 73.283025 sec, available: 0.000010 sec)\n",
      "INFO:smac.optimizer.smbo.SMBO:Shared model mode: Finished loading new runs, found 0 new runs.\n"
     ]
    },
    {
     "name": "stdout",
     "output_type": "stream",
     "text": [
      "building empty layout model\n",
      "models will need to be added with layout.add_model()\n",
      "Loading the comets parameters...\n",
      "Creating the comets object...\n",
      "\n",
      "Running COMETS simulation ...\n",
      "Done!\n",
      "The last cycle is: 1000\n",
      "Configuration\tfitness\tPHA(mM)\tsucr(mM)\tBiomassFarmer\tBiomassLaborer\tendCycle\n",
      "0.0999741706957391,0.15699715387145852,18.735149634089485\t19.897834492914\t19.934849637\t0.037015144086\t0.099974170696\t1.4839419619\t1000\n",
      "Getting fluxes:End\n"
     ]
    },
    {
     "name": "stderr",
     "output_type": "stream",
     "text": [
      "INFO:smac.intensification.intensification.Intensifier:Wallclock time limit for intensification reached (used: 72.230152 sec, available: 0.000010 sec)\n",
      "INFO:smac.optimizer.smbo.SMBO:Shared model mode: Finished loading new runs, found 0 new runs.\n"
     ]
    },
    {
     "name": "stdout",
     "output_type": "stream",
     "text": [
      "building empty layout model\n",
      "models will need to be added with layout.add_model()\n",
      "Loading the comets parameters...\n",
      "Creating the comets object...\n",
      "\n",
      "Running COMETS simulation ...\n",
      "Done!\n",
      "The last cycle is: 1000\n",
      "Configuration\tfitness\tPHA(mM)\tsucr(mM)\tBiomassFarmer\tBiomassLaborer\tendCycle\n",
      "0.09999992372617501,0.12357338175727794,12.58617142120488\t19.910849953724\t19.939984791\t0.029134837275999997\t0.099999923726\t1.1680194325\t1000\n",
      "Getting fluxes:End\n"
     ]
    },
    {
     "name": "stderr",
     "output_type": "stream",
     "text": [
      "INFO:smac.intensification.intensification.Intensifier:Wallclock time limit for intensification reached (used: 73.260153 sec, available: 0.000010 sec)\n",
      "INFO:smac.optimizer.smbo.SMBO:Shared model mode: Finished loading new runs, found 0 new runs.\n"
     ]
    },
    {
     "name": "stdout",
     "output_type": "stream",
     "text": [
      "building empty layout model\n",
      "models will need to be added with layout.add_model()\n",
      "Loading the comets parameters...\n",
      "Creating the comets object...\n",
      "\n",
      "Running COMETS simulation ...\n",
      "Done!\n",
      "The last cycle is: 1000\n",
      "Configuration\tfitness\tPHA(mM)\tsucr(mM)\tBiomassFarmer\tBiomassLaborer\tendCycle\n",
      "0.09999430246101446,0.17681360266029914,22.999384597852078\t19.897176652235\t19.938863911\t0.041687258765\t0.099994302461\t1.6712476497\t1000\n",
      "Getting fluxes:End\n"
     ]
    },
    {
     "name": "stderr",
     "output_type": "stream",
     "text": [
      "INFO:smac.intensification.intensification.Intensifier:Wallclock time limit for intensification reached (used: 72.201228 sec, available: 0.000010 sec)\n",
      "INFO:smac.optimizer.smbo.SMBO:Shared model mode: Finished loading new runs, found 0 new runs.\n"
     ]
    },
    {
     "name": "stdout",
     "output_type": "stream",
     "text": [
      "building empty layout model\n",
      "models will need to be added with layout.add_model()\n",
      "Loading the comets parameters...\n",
      "Creating the comets object...\n",
      "\n",
      "Running COMETS simulation ...\n",
      "Done!\n",
      "The last cycle is: 978\n",
      "Configuration\tfitness\tPHA(mM)\tsucr(mM)\tBiomassFarmer\tBiomassLaborer\tendCycle\n",
      "0.09997219157671784,0.1990523306487996,9.830599617258807\t19.394605165999998\t19.394605165999998\t0.0\t0.099972191577\t1.7625663742\t978\n",
      "Getting fluxes:End\n"
     ]
    },
    {
     "name": "stderr",
     "output_type": "stream",
     "text": [
      "INFO:smac.intensification.intensification.Intensifier:Wallclock time limit for intensification reached (used: 73.358702 sec, available: 0.000010 sec)\n",
      "INFO:smac.optimizer.smbo.SMBO:Shared model mode: Finished loading new runs, found 0 new runs.\n"
     ]
    },
    {
     "name": "stdout",
     "output_type": "stream",
     "text": [
      "building empty layout model\n",
      "models will need to be added with layout.add_model()\n",
      "Loading the comets parameters...\n",
      "Creating the comets object...\n",
      "\n",
      "Running COMETS simulation ...\n",
      "Done!\n",
      "The last cycle is: 1000\n",
      "Configuration\tfitness\tPHA(mM)\tsucr(mM)\tBiomassFarmer\tBiomassLaborer\tendCycle\n",
      "0.09999992372617501,0.10849781071757524,1.0224188740968168\t19.914404313917\t19.939984791\t0.025580477083\t0.099999923726\t1.025524668\t1000\n",
      "Getting fluxes:End\n"
     ]
    },
    {
     "name": "stderr",
     "output_type": "stream",
     "text": [
      "INFO:smac.intensification.intensification.Intensifier:Wallclock time limit for intensification reached (used: 68.272308 sec, available: 0.000010 sec)\n",
      "INFO:smac.optimizer.smbo.SMBO:Shared model mode: Finished loading new runs, found 0 new runs.\n"
     ]
    },
    {
     "name": "stdout",
     "output_type": "stream",
     "text": [
      "building empty layout model\n",
      "models will need to be added with layout.add_model()\n",
      "Loading the comets parameters...\n",
      "Creating the comets object...\n",
      "\n",
      "Running COMETS simulation ...\n",
      "Done!\n",
      "The last cycle is: 1000\n",
      "Configuration\tfitness\tPHA(mM)\tsucr(mM)\tBiomassFarmer\tBiomassLaborer\tendCycle\n",
      "0.09999983908687163,0.0784923078229934,29.509523939684588\t19.921461820023\t19.939967914\t0.018506093977\t0.099999839087\t0.7419117251\t1000\n",
      "Getting fluxes:End\n"
     ]
    },
    {
     "name": "stderr",
     "output_type": "stream",
     "text": [
      "INFO:smac.intensification.intensification.Intensifier:Wallclock time limit for intensification reached (used: 68.572646 sec, available: 0.000010 sec)\n",
      "INFO:smac.optimizer.smbo.SMBO:Shared model mode: Finished loading new runs, found 0 new runs.\n"
     ]
    },
    {
     "name": "stdout",
     "output_type": "stream",
     "text": [
      "building empty layout model\n",
      "models will need to be added with layout.add_model()\n",
      "Loading the comets parameters...\n",
      "Creating the comets object...\n",
      "\n",
      "Running COMETS simulation ...\n",
      "Done!\n",
      "The last cycle is: 1000\n",
      "Configuration\tfitness\tPHA(mM)\tsucr(mM)\tBiomassFarmer\tBiomassLaborer\tendCycle\n",
      "0.09999992372617501,0.03936715941567735,22.702355200517783\t19.9307032146014\t19.939984791\t0.0092815763986\t0.099999923726\t0.37209961033\t1000\n",
      "Getting fluxes:End\n"
     ]
    },
    {
     "name": "stderr",
     "output_type": "stream",
     "text": [
      "INFO:smac.intensification.intensification.Intensifier:Wallclock time limit for intensification reached (used: 67.104165 sec, available: 0.000010 sec)\n",
      "INFO:smac.optimizer.smbo.SMBO:Shared model mode: Finished loading new runs, found 0 new runs.\n"
     ]
    },
    {
     "name": "stdout",
     "output_type": "stream",
     "text": [
      "building empty layout model\n",
      "models will need to be added with layout.add_model()\n",
      "Loading the comets parameters...\n",
      "Creating the comets object...\n",
      "\n",
      "Running COMETS simulation ...\n",
      "Done!\n",
      "The last cycle is: 889\n",
      "Configuration\tfitness\tPHA(mM)\tsucr(mM)\tBiomassFarmer\tBiomassLaborer\tendCycle\n",
      "0.051405023963850306,0.20158752883393322,12.028490789737717\t14.998303269\t14.998303269\t0.0\t0.12131293805\t1.4609863085\t889\n",
      "Getting fluxes:End\n"
     ]
    },
    {
     "name": "stderr",
     "output_type": "stream",
     "text": [
      "INFO:smac.intensification.intensification.Intensifier:Wallclock time limit for intensification reached (used: 67.062251 sec, available: 0.000010 sec)\n",
      "INFO:smac.optimizer.smbo.SMBO:Shared model mode: Finished loading new runs, found 0 new runs.\n"
     ]
    },
    {
     "name": "stdout",
     "output_type": "stream",
     "text": [
      "building empty layout model\n",
      "models will need to be added with layout.add_model()\n",
      "Loading the comets parameters...\n",
      "Creating the comets object...\n",
      "\n",
      "Running COMETS simulation ...\n",
      "Done!\n",
      "The last cycle is: 849\n",
      "Configuration\tfitness\tPHA(mM)\tsucr(mM)\tBiomassFarmer\tBiomassLaborer\tendCycle\n",
      "0.08627213743904477,0.2782113862581118,25.56192732569067\t14.510973517\t14.510973517\t0.0\t0.086272137439\t1.8427150434\t849\n",
      "Getting fluxes:End\n"
     ]
    },
    {
     "name": "stderr",
     "output_type": "stream",
     "text": [
      "INFO:smac.intensification.intensification.Intensifier:Wallclock time limit for intensification reached (used: 62.530267 sec, available: 0.000010 sec)\n",
      "INFO:smac.optimizer.smbo.SMBO:Shared model mode: Finished loading new runs, found 0 new runs.\n"
     ]
    },
    {
     "name": "stdout",
     "output_type": "stream",
     "text": [
      "building empty layout model\n",
      "models will need to be added with layout.add_model()\n",
      "Loading the comets parameters...\n",
      "Creating the comets object...\n",
      "\n",
      "Running COMETS simulation ...\n",
      "Done!\n",
      "The last cycle is: 1000\n",
      "Configuration\tfitness\tPHA(mM)\tsucr(mM)\tBiomassFarmer\tBiomassLaborer\tendCycle\n",
      "0.09999614258690949,0.11127000676731041,30.703945564451992\t19.912996755577\t19.939230832\t0.026234076422999998\t0.099996142587\t1.0517275509\t1000\n",
      "Getting fluxes:End\n"
     ]
    },
    {
     "name": "stderr",
     "output_type": "stream",
     "text": [
      "INFO:smac.intensification.intensification.Intensifier:Wallclock time limit for intensification reached (used: 68.013821 sec, available: 0.000010 sec)\n",
      "INFO:smac.optimizer.smbo.SMBO:Shared model mode: Finished loading new runs, found 0 new runs.\n"
     ]
    },
    {
     "name": "stdout",
     "output_type": "stream",
     "text": [
      "building empty layout model\n",
      "models will need to be added with layout.add_model()\n",
      "Loading the comets parameters...\n",
      "Creating the comets object...\n",
      "\n",
      "Running COMETS simulation ...\n",
      "Done!\n",
      "The last cycle is: 1000\n",
      "Configuration\tfitness\tPHA(mM)\tsucr(mM)\tBiomassFarmer\tBiomassLaborer\tendCycle\n",
      "0.09999983908687163,0.06444907163426096,33.71470378167578\t19.924772787121\t19.939967914\t0.015195126879000001\t0.099999839087\t0.60917462161\t1000\n",
      "Getting fluxes:End\n"
     ]
    },
    {
     "name": "stderr",
     "output_type": "stream",
     "text": [
      "INFO:smac.intensification.intensification.Intensifier:Wallclock time limit for intensification reached (used: 67.079264 sec, available: 0.000010 sec)\n",
      "INFO:smac.optimizer.smbo.SMBO:Shared model mode: Finished loading new runs, found 0 new runs.\n"
     ]
    },
    {
     "name": "stdout",
     "output_type": "stream",
     "text": [
      "building empty layout model\n",
      "models will need to be added with layout.add_model()\n",
      "Loading the comets parameters...\n",
      "Creating the comets object...\n",
      "\n",
      "Running COMETS simulation ...\n",
      "Done!\n",
      "The last cycle is: 1000\n",
      "Configuration\tfitness\tPHA(mM)\tsucr(mM)\tBiomassFarmer\tBiomassLaborer\tendCycle\n",
      "0.09999992372617501,0.06651290078475505,22.261477614332968\t19.924303076106\t19.939984791\t0.015681714894000002\t0.099999923726\t0.62868199868\t1000\n",
      "Getting fluxes:End\n"
     ]
    },
    {
     "name": "stderr",
     "output_type": "stream",
     "text": [
      "INFO:smac.intensification.intensification.Intensifier:Wallclock time limit for intensification reached (used: 67.215296 sec, available: 0.000010 sec)\n",
      "INFO:smac.optimizer.smbo.SMBO:Shared model mode: Finished loading new runs, found 0 new runs.\n"
     ]
    },
    {
     "name": "stdout",
     "output_type": "stream",
     "text": [
      "building empty layout model\n",
      "models will need to be added with layout.add_model()\n",
      "Loading the comets parameters...\n",
      "Creating the comets object...\n",
      "\n",
      "Running COMETS simulation ...\n",
      "Done!\n",
      "The last cycle is: 945\n",
      "Configuration\tfitness\tPHA(mM)\tsucr(mM)\tBiomassFarmer\tBiomassLaborer\tendCycle\n",
      "0.09990522154355055,0.21673269977438775,1.0077860656267126\t18.722238517\t18.722238517\t0.0\t0.099905221544\t1.781746077\t945\n",
      "Getting fluxes:End\n"
     ]
    },
    {
     "name": "stderr",
     "output_type": "stream",
     "text": [
      "INFO:smac.intensification.intensification.Intensifier:Wallclock time limit for intensification reached (used: 68.508172 sec, available: 0.000010 sec)\n",
      "INFO:smac.optimizer.smbo.SMBO:Shared model mode: Finished loading new runs, found 0 new runs.\n"
     ]
    },
    {
     "name": "stdout",
     "output_type": "stream",
     "text": [
      "building empty layout model\n",
      "models will need to be added with layout.add_model()\n",
      "Loading the comets parameters...\n",
      "Creating the comets object...\n",
      "\n",
      "Running COMETS simulation ...\n",
      "Done!\n",
      "The last cycle is: 1000\n",
      "Configuration\tfitness\tPHA(mM)\tsucr(mM)\tBiomassFarmer\tBiomassLaborer\tendCycle\n",
      "0.09913472932931867,0.10413896267294354,14.600753858381616\t19.742912234442\t19.767465028\t0.024552793558\t0.099134729329\t0.98432470123\t1000\n",
      "Getting fluxes:End\n"
     ]
    },
    {
     "name": "stderr",
     "output_type": "stream",
     "text": [
      "INFO:smac.intensification.intensification.Intensifier:Wallclock time limit for intensification reached (used: 71.427161 sec, available: 0.000010 sec)\n",
      "INFO:smac.optimizer.smbo.SMBO:Shared model mode: Finished loading new runs, found 0 new runs.\n"
     ]
    },
    {
     "name": "stdout",
     "output_type": "stream",
     "text": [
      "building empty layout model\n",
      "models will need to be added with layout.add_model()\n",
      "Loading the comets parameters...\n",
      "Creating the comets object...\n",
      "\n",
      "Running COMETS simulation ...\n",
      "Done!\n",
      "The last cycle is: 1000\n",
      "Configuration\tfitness\tPHA(mM)\tsucr(mM)\tBiomassFarmer\tBiomassLaborer\tendCycle\n",
      "0.09999992372617501,0.06323387777967297,14.22188948952953\t19.925076169796\t19.939984791\t0.014908621204\t0.099999923726\t0.59768857165\t1000\n",
      "Getting fluxes:End\n"
     ]
    },
    {
     "name": "stderr",
     "output_type": "stream",
     "text": [
      "INFO:smac.intensification.intensification.Intensifier:Wallclock time limit for intensification reached (used: 68.204153 sec, available: 0.000010 sec)\n",
      "INFO:smac.optimizer.smbo.SMBO:Shared model mode: Finished loading new runs, found 0 new runs.\n"
     ]
    },
    {
     "name": "stdout",
     "output_type": "stream",
     "text": [
      "building empty layout model\n",
      "models will need to be added with layout.add_model()\n",
      "Loading the comets parameters...\n",
      "Creating the comets object...\n",
      "\n",
      "Running COMETS simulation ...\n",
      "Done!\n",
      "The last cycle is: 1000\n",
      "Configuration\tfitness\tPHA(mM)\tsucr(mM)\tBiomassFarmer\tBiomassLaborer\tendCycle\n",
      "0.09999992372617501,0.060940329472633226,17.399224427840156\t19.925616918587\t19.939984791\t0.014367872413\t0.099999923726\t0.576009882\t1000\n",
      "Getting fluxes:End\n"
     ]
    },
    {
     "name": "stderr",
     "output_type": "stream",
     "text": [
      "INFO:smac.intensification.intensification.Intensifier:Wallclock time limit for intensification reached (used: 68.778492 sec, available: 0.000010 sec)\n",
      "INFO:smac.optimizer.smbo.SMBO:Shared model mode: Finished loading new runs, found 0 new runs.\n"
     ]
    },
    {
     "name": "stdout",
     "output_type": "stream",
     "text": [
      "building empty layout model\n",
      "models will need to be added with layout.add_model()\n",
      "Loading the comets parameters...\n",
      "Creating the comets object...\n",
      "\n",
      "Running COMETS simulation ...\n",
      "Done!\n",
      "The last cycle is: 1000\n",
      "Configuration\tfitness\tPHA(mM)\tsucr(mM)\tBiomassFarmer\tBiomassLaborer\tendCycle\n",
      "0.09999992372617501,0.0748869802124282,10.221694216456072\t19.922328723394\t19.939984791\t0.017656067605999998\t0.099999923726\t0.70783405684\t1000\n",
      "Getting fluxes:End\n"
     ]
    },
    {
     "name": "stderr",
     "output_type": "stream",
     "text": [
      "INFO:smac.intensification.intensification.Intensifier:Wallclock time limit for intensification reached (used: 68.462444 sec, available: 0.000010 sec)\n",
      "INFO:smac.optimizer.smbo.SMBO:Shared model mode: Finished loading new runs, found 0 new runs.\n"
     ]
    },
    {
     "name": "stdout",
     "output_type": "stream",
     "text": [
      "building empty layout model\n",
      "models will need to be added with layout.add_model()\n",
      "Loading the comets parameters...\n",
      "Creating the comets object...\n",
      "\n",
      "Running COMETS simulation ...\n",
      "Done!\n",
      "The last cycle is: 1000\n",
      "Configuration\tfitness\tPHA(mM)\tsucr(mM)\tBiomassFarmer\tBiomassLaborer\tendCycle\n",
      "0.09999992372617501,0.1334372009985119,17.727067551677095\t19.908524365766002\t19.939984791\t0.031460425234\t0.099999923726\t1.2612525575\t1000\n",
      "Getting fluxes:End\n"
     ]
    },
    {
     "name": "stderr",
     "output_type": "stream",
     "text": [
      "INFO:smac.intensification.intensification.Intensifier:Wallclock time limit for intensification reached (used: 69.826042 sec, available: 0.000010 sec)\n",
      "INFO:smac.stats.stats.Stats:##########################################################\n",
      "INFO:smac.stats.stats.Stats:Statistics:\n",
      "INFO:smac.stats.stats.Stats:#Incumbent changed: 8\n",
      "INFO:smac.stats.stats.Stats:#Submitted target algorithm runs: 100 / 100.0\n",
      "INFO:smac.stats.stats.Stats:#Finished target algorithm runs: 100 / 100.0\n",
      "INFO:smac.stats.stats.Stats:#Configurations: 100\n",
      "INFO:smac.stats.stats.Stats:Used wallclock time: 7243.14 / inf sec \n",
      "INFO:smac.stats.stats.Stats:Used target algorithm runtime: 6657.67 / inf sec\n",
      "INFO:smac.stats.stats.Stats:##########################################################\n",
      "INFO:smac.facade.smac_bo_facade.SMAC4BO:Final Incumbent: Configuration:\n",
      "  biomassPutida, Value: 0.09999992372617501\n",
      "  biomassSynechococcus, Value: 0.03348631563694331\n",
      "  nh4, Value: 23.548002533786054\n",
      "\n",
      "INFO:smac.facade.smac_bo_facade.SMAC4BO:Estimated cost of incumbent: -19.932090\n"
     ]
    }
   ],
   "source": [
    "# Optimize, using a SMAC-object\n",
    "print(\"Optimizing! Depending on your machine, this might take a few minutes.\")\n",
    "smac = SMAC4BO(scenario=FLYCOP_space(),\n",
    "                   rng=np.random.RandomState(123),\n",
    "                   tae_runner=FLYCOP_schema,\n",
    "                   )\n",
    "start = time.time()\n",
    "smac.optimize()\n",
    "end = time.time()"
   ]
  },
  {
   "cell_type": "markdown",
   "metadata": {},
   "source": [
    "# FLYCOP ejecución con el consorcio Synechocystis-E.coli"
   ]
  },
  {
   "cell_type": "code",
   "execution_count": 2,
   "metadata": {},
   "outputs": [],
   "source": [
    "logging.basicConfig(level=logging.INFO)  # logging.DEBUG for debug output\n",
    "def FLYCOP_space():\n",
    "    # Build Configuration Space which defines all parameters and their ranges\n",
    "    cs = ConfigurationSpace()\n",
    "    x1 = UniformFloatHyperparameter(\"biomassEcoli\", 0.0001,0.1, default_value=0.01)\n",
    "    x2 = UniformFloatHyperparameter(\"biomassSynechocystis\", 0.0001,0.3, default_value=0.01)\n",
    "    x3 = UniformFloatHyperparameter(\"nh4\",1,40, default_value=20)\n",
    "    #x4 = CategoricalHyperparameter(\"GRPalustris\", [0.0001,0.001,0.014,0.02,0.03,0.04,0.05,0.1], default_value=0.014)\n",
    "    #x5 = CategoricalHyperparameter(\"GRSynechococcus\", [0.0001,0.001,0.01,0.02,0.05,0.075,0.1,0.125,0.15,0.175], default_value=0.01)\n",
    "    cs.add_hyperparameters([x1, x2, x3])\n",
    "    scenario = Scenario({\"deterministic\": \"true\",\n",
    "                         \"use-instances\" : \"false\",\n",
    "                         \"run_obj\": \"quality\",  # we optimize quality (alternatively runtime)\n",
    "                         \"runcount-limit\": 100,  # max. number of function evaluations; for this example set to a low number\n",
    "                         \"cs\": cs,\n",
    "                         \"shared_model\": True,\n",
    "                         \"input_psmac_dirs\": \"PROMICON/PROMICON_runs_*\"\n",
    "                         })\n",
    "    return(scenario)\n",
    "\n",
    "def FLYCOP_schema(parameters):\n",
    "    #load parameters\n",
    "    biomass1=parameters[\"biomassEcoli\"]\n",
    "    biomass2=parameters[\"biomassSynechocystis\"]\n",
    "    nh4=parameters[\"nh4\"]\n",
    "    metabolites=['co2_e','btoh_e','nh4_e','o2_e','sucr_e','ac_e']\n",
    "    strains=[\"E.coli\",\"Synechocystis\"]\n",
    "    # create COMETS run\n",
    "    \n",
    "    farmer=c.model()\n",
    "    farmer.read_cobra_model('PROMICON/iJN678_acetate_mutant.xml')\n",
    "    producer=c.model()\n",
    "    producer.read_cobra_model('PROMICON/iML1515_butanol.xml')\n",
    "    producer.change_bounds('BTOHtex',0.25,1000)\n",
    "    producer.change_bounds('EX_btoh_e',0,0.25)\n",
    "\n",
    "    farmer.initial_pop=[0,0,biomass2]\n",
    "    producer.initial_pop=[0,0,biomass1]\n",
    "    layout=initialize_layout([producer,farmer])\n",
    "    set_layout_media_ecoli(layout)\n",
    "    set_layout_media_synechocystis(layout)\n",
    "    layout.set_specific_metabolite('rdmbzi_c',100)\n",
    "    layout.set_specific_metabolite(\"nh4_e\",nh4)\n",
    "    layout.set_specific_metabolite(\"ac_e\",0)\n",
    "    layout.set_specific_metabolite(\"sucr_e\",0)\n",
    "\n",
    "    print(\"Loading the comets parameters...\")\n",
    "    params_package=None\n",
    "    params_global=None\n",
    "    params =initialize_params(params_package, params_global)\n",
    "    print(\"Creating the comets object...\")\n",
    "    comets = c.comets(layout, params)\n",
    "    dirPlot='promicon_output'\n",
    "    comets.run(delete_files=True)\n",
    "    \n",
    "    comets.total_biomass.to_csv('Total_biomass_log_template.txt',sep='\\t',index=False)\n",
    "    endCycle=find_end_cycle(comets.total_biomass)\n",
    "        \n",
    "    print(\"The last cycle is: %d\"%endCycle)\n",
    "    maxCycles=endCycle-1\n",
    "    # Plot\n",
    "    df2=make_df_and_graph(strains, metabolites, comets, endCycle)\n",
    "    acetate=float(df2.at[maxCycles-1,'ac_e'])\n",
    "    \n",
    "    final_biomass1=float(df2.at[maxCycles-1,'E.coli'])\n",
    "    final_biomass2=float(df2.at[maxCycles-1,'Synechocystis'])\n",
    "    \n",
    "    Butanol=float(df2.at[maxCycles-1,'btoh_e'])\n",
    "    title='-E.coli: '+str(biomass1)+'-Synechococystis: '+str(biomass2)+'-Acetate: '+str(acetate)+'-Butanol: '+str(Butanol)\n",
    "    \n",
    "    # Fitness\n",
    "    fitness=Butanol-acetate\n",
    "    print(\"Configuration\\tfitness\\tButanol(mM)\\tacetate(mM)\\tBiomassFarmer\\tBiomassLaborer\\tendCycle\")\n",
    "    print(str(biomass1)+','+str(biomass2)+','+str(nh4)+'\\t'+str(fitness)+'\\t'+str(Butanol)+'\\t'+str(acetate)+'\\t'+str(final_biomass1)+'\\t'+str(final_biomass2)+'\\t'+str(endCycle))\n",
    "    print(\"Getting fluxes:End\")\n",
    "    fitness_inverse=-1*fitness\n",
    "    return fitness_inverse,0"
   ]
  },
  {
   "cell_type": "code",
   "execution_count": 6,
   "metadata": {},
   "outputs": [
    {
     "name": "stdout",
     "output_type": "stream",
     "text": [
      "building empty layout model\n",
      "models will need to be added with layout.add_model()\n",
      "Loading the comets parameters...\n",
      "Creating the comets object...\n",
      "\n",
      "Running COMETS simulation ...\n",
      "Done!\n",
      "The last cycle is: 166\n",
      "Configuration\tfitness\tButanol(mM)\tacetate(mM)\tBiomassFarmer\tBiomassLaborer\tendCycle\n",
      "0.04,0.3,20\t0.157\t0.157\t0.0\t0.04\t1.1787126658\t166\n",
      "Getting fluxes:End\n"
     ]
    },
    {
     "data": {
      "text/plain": [
       "(-0.157, 0)"
      ]
     },
     "execution_count": 6,
     "metadata": {},
     "output_type": "execute_result"
    }
   ],
   "source": [
    "parameters={\"biomassEcoli\":0.04,\n",
    "    \"biomassSynechocystis\":0.3,\n",
    "    \"nh4\":20}\n",
    "FLYCOP_schema(parameters)"
   ]
  },
  {
   "cell_type": "code",
   "execution_count": 7,
   "metadata": {},
   "outputs": [
    {
     "name": "stderr",
     "output_type": "stream",
     "text": [
      "INFO:smac.utils.io.cmd_reader.CMDReader:Output to smac3-output_2023-05-16_10:41:16_258625\n",
      "WARNING:smac.utils.io.cmd_reader.CMDReader:Adding unsupported scenario options: {'use-instances': 'false'}\n",
      "INFO:smac.facade.smac_bo_facade.SMAC4BO:Optimizing a deterministic scenario for quality without a tuner timeout - will make SMAC deterministic and only evaluate one configuration per iteration!\n",
      "INFO:smac.initial_design.sobol_design.SobolDesign:Running initial design for 24 configurations\n",
      "INFO:smac.facade.smac_bo_facade.SMAC4BO:<class 'smac.facade.smac_bo_facade.SMAC4BO'>\n",
      "INFO:smac.optimizer.smbo.SMBO:Running initial design\n",
      "INFO:smac.optimizer.smbo.SMBO:Shared model mode: Finished loading new runs, found 0 new runs.\n",
      "INFO:smac.intensification.intensification.Intensifier:First run, no incumbent provided; challenger is assumed to be the incumbent\n"
     ]
    },
    {
     "name": "stdout",
     "output_type": "stream",
     "text": [
      "Optimizing! Depending on your machine, this might take a few minutes.\n",
      "building empty layout model\n",
      "models will need to be added with layout.add_model()\n",
      "Loading the comets parameters...\n",
      "Creating the comets object...\n",
      "\n",
      "Running COMETS simulation ...\n",
      "Done!\n",
      "The last cycle is: 230\n",
      "Configuration\tfitness\tButanol(mM)\tacetate(mM)\tBiomassFarmer\tBiomassLaborer\tendCycle\n",
      "0.050050000000000004,0.15005,20.5\t0.27652625\t0.27652625\t0.0\t0.05005\t1.0293112329\t230\n",
      "Getting fluxes:End\n"
     ]
    },
    {
     "name": "stderr",
     "output_type": "stream",
     "text": [
      "INFO:smac.intensification.intensification.Intensifier:First run, no incumbent provided; challenger is assumed to be the incumbent\n",
      "INFO:smac.intensification.intensification.Intensifier:Updated estimated cost of incumbent on 1 runs: -0.2765\n",
      "INFO:smac.optimizer.smbo.SMBO:Shared model mode: Finished loading new runs, found 0 new runs.\n"
     ]
    },
    {
     "name": "stdout",
     "output_type": "stream",
     "text": [
      "building empty layout model\n",
      "models will need to be added with layout.add_model()\n",
      "Loading the comets parameters...\n",
      "Creating the comets object...\n",
      "\n",
      "Running COMETS simulation ...\n",
      "Done!\n",
      "The last cycle is: 301\n",
      "Configuration\tfitness\tButanol(mM)\tacetate(mM)\tBiomassFarmer\tBiomassLaborer\tendCycle\n",
      "0.07502500000000001,0.075075,30.25\t0.478284375\t0.478284375\t0.0\t0.075025\t0.95221518365\t301\n",
      "Getting fluxes:End\n"
     ]
    },
    {
     "name": "stderr",
     "output_type": "stream",
     "text": [
      "INFO:smac.intensification.intensification.Intensifier:Challenger (-0.4783) is better than incumbent (-0.2765) on 1 runs.\n",
      "INFO:smac.intensification.intensification.Intensifier:Changes in incumbent:\n",
      "INFO:smac.intensification.intensification.Intensifier:  biomassEcoli : 0.050050000000000004 -> 0.07502500000000001\n",
      "INFO:smac.intensification.intensification.Intensifier:  biomassSynechocystis : 0.15005 -> 0.075075\n",
      "INFO:smac.intensification.intensification.Intensifier:  nh4 : 20.5 -> 30.25\n",
      "INFO:smac.intensification.intensification.Intensifier:Wallclock time limit for intensification reached (used: 124.323195 sec, available: 0.000010 sec)\n",
      "INFO:smac.optimizer.smbo.SMBO:Shared model mode: Finished loading new runs, found 0 new runs.\n"
     ]
    },
    {
     "name": "stdout",
     "output_type": "stream",
     "text": [
      "building empty layout model\n",
      "models will need to be added with layout.add_model()\n",
      "Loading the comets parameters...\n",
      "Creating the comets object...\n",
      "\n",
      "Running COMETS simulation ...\n",
      "Done!\n",
      "The last cycle is: 192\n",
      "Configuration\tfitness\tButanol(mM)\tacetate(mM)\tBiomassFarmer\tBiomassLaborer\tendCycle\n",
      "0.025075,0.22502499999999998,10.75\t0.114718125\t0.114718125\t0.0\t0.025075\t1.1013128193\t192\n",
      "Getting fluxes:End\n"
     ]
    },
    {
     "name": "stderr",
     "output_type": "stream",
     "text": [
      "INFO:smac.intensification.intensification.Intensifier:Wallclock time limit for intensification reached (used: 61.530174 sec, available: 0.000010 sec)\n",
      "INFO:smac.optimizer.smbo.SMBO:Shared model mode: Finished loading new runs, found 0 new runs.\n"
     ]
    },
    {
     "name": "stdout",
     "output_type": "stream",
     "text": [
      "building empty layout model\n",
      "models will need to be added with layout.add_model()\n",
      "Loading the comets parameters...\n",
      "Creating the comets object...\n",
      "\n",
      "Running COMETS simulation ...\n",
      "Done!\n",
      "The last cycle is: 259\n",
      "Configuration\tfitness\tButanol(mM)\tacetate(mM)\tBiomassFarmer\tBiomassLaborer\tendCycle\n",
      "0.037562500000000006,0.1125625,25.375\t0.22161875\t0.22161875\t0.0\t0.0375625\t0.98954363632\t259\n",
      "Getting fluxes:End\n"
     ]
    },
    {
     "name": "stderr",
     "output_type": "stream",
     "text": [
      "INFO:smac.intensification.intensification.Intensifier:Wallclock time limit for intensification reached (used: 65.798917 sec, available: 0.000010 sec)\n",
      "INFO:smac.optimizer.smbo.SMBO:Shared model mode: Finished loading new runs, found 0 new runs.\n"
     ]
    },
    {
     "name": "stdout",
     "output_type": "stream",
     "text": [
      "building empty layout model\n",
      "models will need to be added with layout.add_model()\n",
      "Loading the comets parameters...\n",
      "Creating the comets object...\n",
      "\n",
      "Running COMETS simulation ...\n",
      "Done!\n",
      "The last cycle is: 178\n",
      "Configuration\tfitness\tButanol(mM)\tacetate(mM)\tBiomassFarmer\tBiomassLaborer\tendCycle\n",
      "0.08751250000000001,0.2625125,5.875\t0.3697403125\t0.3697403125\t0.0\t0.0875125\t1.1402221184\t178\n",
      "Getting fluxes:End\n"
     ]
    },
    {
     "name": "stderr",
     "output_type": "stream",
     "text": [
      "INFO:smac.intensification.intensification.Intensifier:Wallclock time limit for intensification reached (used: 63.811121 sec, available: 0.000010 sec)\n",
      "INFO:smac.optimizer.smbo.SMBO:Shared model mode: Finished loading new runs, found 0 new runs.\n"
     ]
    },
    {
     "name": "stdout",
     "output_type": "stream",
     "text": [
      "building empty layout model\n",
      "models will need to be added with layout.add_model()\n",
      "Loading the comets parameters...\n",
      "Creating the comets object...\n",
      "\n",
      "Running COMETS simulation ...\n",
      "Done!\n",
      "The last cycle is: 376\n",
      "Configuration\tfitness\tButanol(mM)\tacetate(mM)\tBiomassFarmer\tBiomassLaborer\tendCycle\n",
      "0.0625375,0.0375875,15.625\t0.42993487765418803\t0.4299453125\t1.0434845812e-05\t0.0625375\t0.91301146396\t376\n",
      "Getting fluxes:End\n"
     ]
    },
    {
     "name": "stderr",
     "output_type": "stream",
     "text": [
      "INFO:smac.intensification.intensification.Intensifier:Wallclock time limit for intensification reached (used: 66.284933 sec, available: 0.000010 sec)\n",
      "INFO:smac.optimizer.smbo.SMBO:Shared model mode: Finished loading new runs, found 0 new runs.\n"
     ]
    },
    {
     "name": "stdout",
     "output_type": "stream",
     "text": [
      "building empty layout model\n",
      "models will need to be added with layout.add_model()\n",
      "Loading the comets parameters...\n",
      "Creating the comets object...\n",
      "\n",
      "Running COMETS simulation ...\n",
      "Done!\n",
      "The last cycle is: 209\n",
      "Configuration\tfitness\tButanol(mM)\tacetate(mM)\tBiomassFarmer\tBiomassLaborer\tendCycle\n",
      "0.0125875,0.1875375,35.125\t0.06248920235764\t0.0626228125\t0.00013361014236\t0.0125875\t1.0632528746\t209\n",
      "Getting fluxes:End\n"
     ]
    },
    {
     "name": "stderr",
     "output_type": "stream",
     "text": [
      "INFO:smac.intensification.intensification.Intensifier:Wallclock time limit for intensification reached (used: 60.721487 sec, available: 0.000010 sec)\n",
      "INFO:smac.optimizer.smbo.SMBO:Shared model mode: Finished loading new runs, found 0 new runs.\n"
     ]
    },
    {
     "name": "stdout",
     "output_type": "stream",
     "text": [
      "building empty layout model\n",
      "models will need to be added with layout.add_model()\n",
      "Loading the comets parameters...\n",
      "Creating the comets object...\n",
      "\n",
      "Running COMETS simulation ...\n",
      "Done!\n",
      "The last cycle is: 277\n",
      "Configuration\tfitness\tButanol(mM)\tacetate(mM)\tBiomassFarmer\tBiomassLaborer\tendCycle\n",
      "0.01883125,0.09381875,13.1875\t0.114870625\t0.114870625\t0.0\t0.01883125\t0.96993094815\t277\n",
      "Getting fluxes:End\n"
     ]
    },
    {
     "name": "stderr",
     "output_type": "stream",
     "text": [
      "INFO:smac.intensification.intensification.Intensifier:Wallclock time limit for intensification reached (used: 61.580785 sec, available: 0.000010 sec)\n",
      "INFO:smac.optimizer.smbo.SMBO:Shared model mode: Finished loading new runs, found 0 new runs.\n"
     ]
    },
    {
     "name": "stdout",
     "output_type": "stream",
     "text": [
      "building empty layout model\n",
      "models will need to be added with layout.add_model()\n",
      "Loading the comets parameters...\n",
      "Creating the comets object...\n",
      "\n",
      "Running COMETS simulation ...\n",
      "Done!\n",
      "The last cycle is: 184\n",
      "Configuration\tfitness\tButanol(mM)\tacetate(mM)\tBiomassFarmer\tBiomassLaborer\tendCycle\n",
      "0.06878125,0.24376874999999998,32.6875\t0.30091796875\t0.30091796875\t0.0\t0.06878125\t1.120468125\t184\n",
      "Getting fluxes:End\n"
     ]
    },
    {
     "name": "stderr",
     "output_type": "stream",
     "text": [
      "INFO:smac.intensification.intensification.Intensifier:Wallclock time limit for intensification reached (used: 58.056533 sec, available: 0.000010 sec)\n",
      "INFO:smac.optimizer.smbo.SMBO:Shared model mode: Finished loading new runs, found 0 new runs.\n"
     ]
    },
    {
     "name": "stdout",
     "output_type": "stream",
     "text": [
      "building empty layout model\n",
      "models will need to be added with layout.add_model()\n",
      "Loading the comets parameters...\n",
      "Creating the comets object...\n",
      "\n",
      "Running COMETS simulation ...\n",
      "Done!\n",
      "The last cycle is: 452\n",
      "Configuration\tfitness\tButanol(mM)\tacetate(mM)\tBiomassFarmer\tBiomassLaborer\tendCycle\n",
      "0.09375625,0.01884375,22.9375\t0.6703571875\t0.6703571875\t0.0\t0.09375625\t0.89544720306\t452\n",
      "Getting fluxes:End\n"
     ]
    },
    {
     "name": "stderr",
     "output_type": "stream",
     "text": [
      "INFO:smac.intensification.intensification.Intensifier:Challenger (-0.6704) is better than incumbent (-0.4783) on 1 runs.\n",
      "INFO:smac.intensification.intensification.Intensifier:Changes in incumbent:\n",
      "INFO:smac.intensification.intensification.Intensifier:  biomassEcoli : 0.07502500000000001 -> 0.09375625\n",
      "INFO:smac.intensification.intensification.Intensifier:  biomassSynechocystis : 0.075075 -> 0.01884375\n",
      "INFO:smac.intensification.intensification.Intensifier:  nh4 : 30.25 -> 22.9375\n",
      "INFO:smac.intensification.intensification.Intensifier:Wallclock time limit for intensification reached (used: 65.074360 sec, available: 0.000010 sec)\n",
      "INFO:smac.optimizer.smbo.SMBO:Shared model mode: Finished loading new runs, found 0 new runs.\n"
     ]
    },
    {
     "name": "stdout",
     "output_type": "stream",
     "text": [
      "building empty layout model\n",
      "models will need to be added with layout.add_model()\n",
      "Loading the comets parameters...\n",
      "Creating the comets object...\n",
      "\n",
      "Running COMETS simulation ...\n",
      "Done!\n",
      "The last cycle is: 219\n",
      "Configuration\tfitness\tButanol(mM)\tacetate(mM)\tBiomassFarmer\tBiomassLaborer\tendCycle\n",
      "0.043806250000000005,0.16879375,3.4375\t0.2299828125\t0.2299828125\t0.0\t0.04380625\t1.0448163429\t219\n",
      "Getting fluxes:End\n"
     ]
    },
    {
     "name": "stderr",
     "output_type": "stream",
     "text": [
      "INFO:smac.intensification.intensification.Intensifier:Wallclock time limit for intensification reached (used: 59.567817 sec, available: 0.000010 sec)\n",
      "INFO:smac.optimizer.smbo.SMBO:Shared model mode: Finished loading new runs, found 0 new runs.\n"
     ]
    },
    {
     "name": "stdout",
     "output_type": "stream",
     "text": [
      "building empty layout model\n",
      "models will need to be added with layout.add_model()\n",
      "Loading the comets parameters...\n",
      "Creating the comets object...\n",
      "\n",
      "Running COMETS simulation ...\n",
      "Done!\n",
      "The last cycle is: 331\n",
      "Configuration\tfitness\tButanol(mM)\tacetate(mM)\tBiomassFarmer\tBiomassLaborer\tendCycle\n",
      "0.03131875,0.05633125,37.5625\t0.20670375\t0.20670375\t0.0\t0.03131875\t0.93240566628\t331\n",
      "Getting fluxes:End\n"
     ]
    },
    {
     "name": "stderr",
     "output_type": "stream",
     "text": [
      "INFO:smac.intensification.intensification.Intensifier:Wallclock time limit for intensification reached (used: 63.590713 sec, available: 0.000010 sec)\n",
      "INFO:smac.optimizer.smbo.SMBO:Shared model mode: Finished loading new runs, found 0 new runs.\n"
     ]
    },
    {
     "name": "stdout",
     "output_type": "stream",
     "text": [
      "building empty layout model\n",
      "models will need to be added with layout.add_model()\n",
      "Loading the comets parameters...\n",
      "Creating the comets object...\n",
      "\n",
      "Running COMETS simulation ...\n",
      "Done!\n",
      "The last cycle is: 200\n",
      "Configuration\tfitness\tButanol(mM)\tacetate(mM)\tBiomassFarmer\tBiomassLaborer\tendCycle\n",
      "0.08126875,0.20628125,18.0625\t0.38805828125\t0.38805828125\t0.0\t0.08126875\t1.0826128699\t200\n",
      "Getting fluxes:End\n"
     ]
    },
    {
     "name": "stderr",
     "output_type": "stream",
     "text": [
      "INFO:smac.intensification.intensification.Intensifier:Wallclock time limit for intensification reached (used: 59.380199 sec, available: 0.000010 sec)\n",
      "INFO:smac.optimizer.smbo.SMBO:Shared model mode: Finished loading new runs, found 0 new runs.\n"
     ]
    },
    {
     "name": "stdout",
     "output_type": "stream",
     "text": [
      "building empty layout model\n",
      "models will need to be added with layout.add_model()\n",
      "Loading the comets parameters...\n",
      "Creating the comets object...\n",
      "\n",
      "Running COMETS simulation ...\n",
      "Done!\n",
      "The last cycle is: 243\n",
      "Configuration\tfitness\tButanol(mM)\tacetate(mM)\tBiomassFarmer\tBiomassLaborer\tendCycle\n",
      "0.056293750000000004,0.13130624999999999,8.3125\t0.32228171875\t0.32228171875\t0.0\t0.05629375\t1.0093401365\t243\n",
      "Getting fluxes:End\n"
     ]
    },
    {
     "name": "stderr",
     "output_type": "stream",
     "text": [
      "INFO:smac.intensification.intensification.Intensifier:Wallclock time limit for intensification reached (used: 60.324686 sec, available: 0.000010 sec)\n",
      "INFO:smac.optimizer.smbo.SMBO:Shared model mode: Finished loading new runs, found 0 new runs.\n"
     ]
    },
    {
     "name": "stdout",
     "output_type": "stream",
     "text": [
      "building empty layout model\n",
      "models will need to be added with layout.add_model()\n",
      "Loading the comets parameters...\n",
      "Creating the comets object...\n",
      "\n",
      "Running COMETS simulation ...\n",
      "Done!\n",
      "The last cycle is: 172\n",
      "Configuration\tfitness\tButanol(mM)\tacetate(mM)\tBiomassFarmer\tBiomassLaborer\tendCycle\n",
      "0.00634375,0.28125625,27.8125\t0.026474115894\t0.026474115894\t0.0\t0.0073528081357\t1.1586745217\t172\n",
      "Getting fluxes:End\n"
     ]
    },
    {
     "name": "stderr",
     "output_type": "stream",
     "text": [
      "INFO:smac.intensification.intensification.Intensifier:Wallclock time limit for intensification reached (used: 58.226699 sec, available: 0.000010 sec)\n",
      "INFO:smac.optimizer.smbo.SMBO:Shared model mode: Finished loading new runs, found 0 new runs.\n"
     ]
    },
    {
     "name": "stdout",
     "output_type": "stream",
     "text": [
      "building empty layout model\n",
      "models will need to be added with layout.add_model()\n",
      "Loading the comets parameters...\n",
      "Creating the comets object...\n",
      "\n",
      "Running COMETS simulation ...\n",
      "Done!\n",
      "The last cycle is: 236\n",
      "Configuration\tfitness\tButanol(mM)\tacetate(mM)\tBiomassFarmer\tBiomassLaborer\tendCycle\n",
      "0.009465625,0.140678125,33.90625\t0.053484959047\t0.053484959047\t0.0\t0.0095017325065\t1.017376864\t236\n",
      "Getting fluxes:End\n"
     ]
    },
    {
     "name": "stderr",
     "output_type": "stream",
     "text": [
      "INFO:smac.intensification.intensification.Intensifier:Wallclock time limit for intensification reached (used: 60.357967 sec, available: 0.000010 sec)\n",
      "INFO:smac.optimizer.smbo.SMBO:Shared model mode: Finished loading new runs, found 0 new runs.\n"
     ]
    },
    {
     "name": "stdout",
     "output_type": "stream",
     "text": [
      "building empty layout model\n",
      "models will need to be added with layout.add_model()\n",
      "Loading the comets parameters...\n",
      "Creating the comets object...\n",
      "\n",
      "Running COMETS simulation ...\n",
      "Done!\n",
      "The last cycle is: 169\n",
      "Configuration\tfitness\tButanol(mM)\tacetate(mM)\tBiomassFarmer\tBiomassLaborer\tendCycle\n",
      "0.05941562500000001,0.290628125,14.40625\t0.2376625\t0.2376625\t0.0\t0.059415625\t1.1694919488\t169\n",
      "Getting fluxes:End\n"
     ]
    },
    {
     "name": "stderr",
     "output_type": "stream",
     "text": [
      "INFO:smac.intensification.intensification.Intensifier:Wallclock time limit for intensification reached (used: 57.197501 sec, available: 0.000010 sec)\n",
      "INFO:smac.optimizer.smbo.SMBO:Shared model mode: Finished loading new runs, found 0 new runs.\n"
     ]
    },
    {
     "name": "stdout",
     "output_type": "stream",
     "text": [
      "building empty layout model\n",
      "models will need to be added with layout.add_model()\n",
      "Loading the comets parameters...\n",
      "Creating the comets object...\n",
      "\n",
      "Running COMETS simulation ...\n",
      "Done!\n",
      "The last cycle is: 315\n",
      "Configuration\tfitness\tButanol(mM)\tacetate(mM)\tBiomassFarmer\tBiomassLaborer\tendCycle\n",
      "0.08439062500000001,0.065703125,4.65625\t0.5485390625\t0.5485390625\t0.0\t0.084390625\t0.943955648\t315\n",
      "Getting fluxes:End\n"
     ]
    },
    {
     "name": "stderr",
     "output_type": "stream",
     "text": [
      "INFO:smac.intensification.intensification.Intensifier:Wallclock time limit for intensification reached (used: 62.744244 sec, available: 0.000010 sec)\n",
      "INFO:smac.optimizer.smbo.SMBO:Shared model mode: Finished loading new runs, found 0 new runs.\n"
     ]
    },
    {
     "name": "stdout",
     "output_type": "stream",
     "text": [
      "building empty layout model\n",
      "models will need to be added with layout.add_model()\n",
      "Loading the comets parameters...\n",
      "Creating the comets object...\n",
      "\n",
      "Running COMETS simulation ...\n",
      "Done!\n",
      "The last cycle is: 196\n",
      "Configuration\tfitness\tButanol(mM)\tacetate(mM)\tBiomassFarmer\tBiomassLaborer\tendCycle\n",
      "0.034440625,0.215653125,24.15625\t0.160121423121412\t0.16014890625\t2.7483128588000004e-05\t0.034440625\t1.0911175687\t196\n",
      "Getting fluxes:End\n"
     ]
    },
    {
     "name": "stderr",
     "output_type": "stream",
     "text": [
      "INFO:smac.intensification.intensification.Intensifier:Wallclock time limit for intensification reached (used: 59.236614 sec, available: 0.000010 sec)\n",
      "INFO:smac.optimizer.smbo.SMBO:Shared model mode: Finished loading new runs, found 0 new runs.\n"
     ]
    },
    {
     "name": "stdout",
     "output_type": "stream",
     "text": [
      "building empty layout model\n",
      "models will need to be added with layout.add_model()\n",
      "Loading the comets parameters...\n",
      "Creating the comets object...\n",
      "\n",
      "Running COMETS simulation ...\n",
      "Done!\n",
      "The last cycle is: 407\n",
      "Configuration\tfitness\tButanol(mM)\tacetate(mM)\tBiomassFarmer\tBiomassLaborer\tendCycle\n",
      "0.046928125,0.028215624999999998,19.28125\t0.328496875\t0.328496875\t0.0\t0.046928125\t0.90578552102\t407\n",
      "Getting fluxes:End\n"
     ]
    },
    {
     "name": "stderr",
     "output_type": "stream",
     "text": [
      "INFO:smac.intensification.intensification.Intensifier:Wallclock time limit for intensification reached (used: 64.068442 sec, available: 0.000010 sec)\n",
      "INFO:smac.optimizer.smbo.SMBO:Shared model mode: Finished loading new runs, found 0 new runs.\n"
     ]
    },
    {
     "name": "stdout",
     "output_type": "stream",
     "text": [
      "building empty layout model\n",
      "models will need to be added with layout.add_model()\n",
      "Loading the comets parameters...\n",
      "Creating the comets object...\n",
      "\n",
      "Running COMETS simulation ...\n",
      "Done!\n",
      "The last cycle is: 213\n",
      "Configuration\tfitness\tButanol(mM)\tacetate(mM)\tBiomassFarmer\tBiomassLaborer\tendCycle\n",
      "0.09687812500000001,0.178165625,38.78125\t0.4940784375\t0.4940784375\t0.0\t0.096878125\t1.0544308245\t213\n",
      "Getting fluxes:End\n"
     ]
    },
    {
     "name": "stderr",
     "output_type": "stream",
     "text": [
      "INFO:smac.intensification.intensification.Intensifier:Wallclock time limit for intensification reached (used: 59.291543 sec, available: 0.000010 sec)\n",
      "INFO:smac.optimizer.smbo.SMBO:Shared model mode: Finished loading new runs, found 0 new runs.\n"
     ]
    },
    {
     "name": "stdout",
     "output_type": "stream",
     "text": [
      "building empty layout model\n",
      "models will need to be added with layout.add_model()\n",
      "Loading the comets parameters...\n",
      "Creating the comets object...\n",
      "\n",
      "Running COMETS simulation ...\n",
      "Done!\n",
      "The last cycle is: 268\n",
      "Configuration\tfitness\tButanol(mM)\tacetate(mM)\tBiomassFarmer\tBiomassLaborer\tendCycle\n",
      "0.071903125,0.10319062500000001,29.03125\t0.43141875\t0.43141875\t0.0\t0.071903125\t0.97928563755\t268\n",
      "Getting fluxes:End\n"
     ]
    },
    {
     "name": "stderr",
     "output_type": "stream",
     "text": [
      "INFO:smac.intensification.intensification.Intensifier:Wallclock time limit for intensification reached (used: 61.457441 sec, available: 0.000010 sec)\n",
      "INFO:smac.optimizer.smbo.SMBO:Shared model mode: Finished loading new runs, found 0 new runs.\n"
     ]
    },
    {
     "name": "stdout",
     "output_type": "stream",
     "text": [
      "building empty layout model\n",
      "models will need to be added with layout.add_model()\n",
      "Loading the comets parameters...\n",
      "Creating the comets object...\n",
      "\n",
      "Running COMETS simulation ...\n",
      "Done!\n",
      "The last cycle is: 181\n",
      "Configuration\tfitness\tButanol(mM)\tacetate(mM)\tBiomassFarmer\tBiomassLaborer\tendCycle\n",
      "0.021953125,0.253140625,9.53125\t0.0943984375\t0.0943984375\t0.0\t0.021953125\t1.1326905146\t181\n",
      "Getting fluxes:End\n"
     ]
    },
    {
     "name": "stderr",
     "output_type": "stream",
     "text": [
      "INFO:smac.intensification.intensification.Intensifier:Wallclock time limit for intensification reached (used: 58.090258 sec, available: 0.000010 sec)\n",
      "INFO:smac.optimizer.smbo.SMBO:Shared model mode: Finished loading new runs, found 0 new runs.\n"
     ]
    },
    {
     "name": "stdout",
     "output_type": "stream",
     "text": [
      "building empty layout model\n",
      "models will need to be added with layout.add_model()\n",
      "Loading the comets parameters...\n",
      "Creating the comets object...\n",
      "\n",
      "Running COMETS simulation ...\n",
      "Done!\n",
      "The last cycle is: 351\n",
      "Configuration\tfitness\tButanol(mM)\tacetate(mM)\tBiomassFarmer\tBiomassLaborer\tendCycle\n",
      "0.015709375,0.046959375000000005,21.71875\t0.10564554687000001\t0.10564554687000001\t0.0\t0.015709375\t0.92530122111\t351\n",
      "Getting fluxes:End\n"
     ]
    },
    {
     "name": "stderr",
     "output_type": "stream",
     "text": [
      "INFO:smac.intensification.intensification.Intensifier:Wallclock time limit for intensification reached (used: 63.673321 sec, available: 0.000010 sec)\n",
      "INFO:smac.optimizer.smbo.SMBO:Shared model mode: Finished loading new runs, found 0 new runs.\n"
     ]
    },
    {
     "name": "stdout",
     "output_type": "stream",
     "text": [
      "building empty layout model\n",
      "models will need to be added with layout.add_model()\n",
      "Loading the comets parameters...\n",
      "Creating the comets object...\n",
      "\n",
      "Running COMETS simulation ...\n",
      "Done!\n",
      "The last cycle is: 961\n",
      "Configuration\tfitness\tButanol(mM)\tacetate(mM)\tBiomassFarmer\tBiomassLaborer\tendCycle\n",
      "0.09999800662908127,0.00021944674616659426,21.029289136616452\t0.74748509955\t0.74748509955\t0.0\t0.099998006629\t0.87767864471\t961\n",
      "Getting fluxes:End\n"
     ]
    },
    {
     "name": "stderr",
     "output_type": "stream",
     "text": [
      "INFO:smac.intensification.intensification.Intensifier:Challenger (-0.7475) is better than incumbent (-0.6704) on 1 runs.\n",
      "INFO:smac.intensification.intensification.Intensifier:Changes in incumbent:\n",
      "INFO:smac.intensification.intensification.Intensifier:  biomassEcoli : 0.09375625 -> 0.09999800662908127\n",
      "INFO:smac.intensification.intensification.Intensifier:  biomassSynechocystis : 0.01884375 -> 0.00021944674616659426\n",
      "INFO:smac.intensification.intensification.Intensifier:  nh4 : 22.9375 -> 21.029289136616452\n",
      "INFO:smac.intensification.intensification.Intensifier:Wallclock time limit for intensification reached (used: 68.192682 sec, available: 0.000010 sec)\n",
      "INFO:smac.optimizer.smbo.SMBO:Shared model mode: Finished loading new runs, found 0 new runs.\n"
     ]
    },
    {
     "name": "stdout",
     "output_type": "stream",
     "text": [
      "building empty layout model\n",
      "models will need to be added with layout.add_model()\n",
      "Loading the comets parameters...\n",
      "Creating the comets object...\n",
      "\n",
      "Running COMETS simulation ...\n",
      "Done!\n",
      "The last cycle is: 998\n",
      "Configuration\tfitness\tButanol(mM)\tacetate(mM)\tBiomassFarmer\tBiomassLaborer\tendCycle\n",
      "0.09999199822751802,0.000159029513648876,13.765462210158224\t0.74744018675\t0.74744018675\t0.0\t0.099991998228\t0.87721728666\t998\n",
      "Getting fluxes:End\n"
     ]
    },
    {
     "name": "stderr",
     "output_type": "stream",
     "text": [
      "INFO:smac.intensification.intensification.Intensifier:Wallclock time limit for intensification reached (used: 68.340197 sec, available: 0.000010 sec)\n",
      "INFO:smac.optimizer.smbo.SMBO:Shared model mode: Finished loading new runs, found 0 new runs.\n"
     ]
    },
    {
     "name": "stdout",
     "output_type": "stream",
     "text": [
      "building empty layout model\n",
      "models will need to be added with layout.add_model()\n",
      "Loading the comets parameters...\n",
      "Creating the comets object...\n",
      "\n",
      "Running COMETS simulation ...\n",
      "Done!\n",
      "The last cycle is: 961\n",
      "Configuration\tfitness\tButanol(mM)\tacetate(mM)\tBiomassFarmer\tBiomassLaborer\tendCycle\n",
      "0.09999800662908127,0.00021944674616659426,17.372355286950402\t0.74748509955\t0.74748509955\t0.0\t0.099998006629\t0.87767864471\t961\n",
      "Getting fluxes:End\n"
     ]
    },
    {
     "name": "stderr",
     "output_type": "stream",
     "text": [
      "INFO:smac.intensification.intensification.Intensifier:Wallclock time limit for intensification reached (used: 68.137712 sec, available: 0.000010 sec)\n",
      "INFO:smac.optimizer.smbo.SMBO:Shared model mode: Finished loading new runs, found 0 new runs.\n"
     ]
    },
    {
     "name": "stdout",
     "output_type": "stream",
     "text": [
      "building empty layout model\n",
      "models will need to be added with layout.add_model()\n",
      "Loading the comets parameters...\n",
      "Creating the comets object...\n",
      "\n",
      "Running COMETS simulation ...\n",
      "Done!\n",
      "The last cycle is: 973\n",
      "Configuration\tfitness\tButanol(mM)\tacetate(mM)\tBiomassFarmer\tBiomassLaborer\tendCycle\n",
      "0.09999800662908127,0.00019684145403135782,39.98548473873447\t0.7449851493899999\t0.7449851493899999\t0.0\t0.099998006629\t0.8772281918\t973\n",
      "Getting fluxes:End\n"
     ]
    },
    {
     "name": "stderr",
     "output_type": "stream",
     "text": [
      "INFO:smac.intensification.intensification.Intensifier:Wallclock time limit for intensification reached (used: 68.313313 sec, available: 0.000010 sec)\n",
      "INFO:smac.optimizer.smbo.SMBO:Shared model mode: Finished loading new runs, found 0 new runs.\n"
     ]
    },
    {
     "name": "stdout",
     "output_type": "stream",
     "text": [
      "building empty layout model\n",
      "models will need to be added with layout.add_model()\n",
      "Loading the comets parameters...\n",
      "Creating the comets object...\n",
      "\n",
      "Running COMETS simulation ...\n",
      "Done!\n",
      "The last cycle is: 1000\n",
      "Configuration\tfitness\tButanol(mM)\tacetate(mM)\tBiomassFarmer\tBiomassLaborer\tendCycle\n",
      "0.09999800662908127,0.00012238702761360363,32.9309057611255\t0.6912476815186\t0.69248619591\t0.0012385143914\t0.099998006629\t0.73355120153\t1000\n",
      "Getting fluxes:End\n"
     ]
    },
    {
     "name": "stderr",
     "output_type": "stream",
     "text": [
      "INFO:smac.intensification.intensification.Intensifier:Wallclock time limit for intensification reached (used: 67.324715 sec, available: 0.000010 sec)\n",
      "INFO:smac.optimizer.smbo.SMBO:Shared model mode: Finished loading new runs, found 0 new runs.\n"
     ]
    },
    {
     "name": "stdout",
     "output_type": "stream",
     "text": [
      "building empty layout model\n",
      "models will need to be added with layout.add_model()\n",
      "Loading the comets parameters...\n",
      "Creating the comets object...\n",
      "\n",
      "Running COMETS simulation ...\n",
      "Done!\n",
      "The last cycle is: 1000\n",
      "Configuration\tfitness\tButanol(mM)\tacetate(mM)\tBiomassFarmer\tBiomassLaborer\tendCycle\n",
      "0.09999558581466715,0.00012553680011422107,16.556585303301617\t0.6986987117003\t0.6999691007\t0.0012703889997\t0.099995585815\t0.75242999488\t1000\n",
      "Getting fluxes:End\n"
     ]
    },
    {
     "name": "stderr",
     "output_type": "stream",
     "text": [
      "INFO:smac.intensification.intensification.Intensifier:Wallclock time limit for intensification reached (used: 67.261833 sec, available: 0.000010 sec)\n",
      "INFO:smac.optimizer.smbo.SMBO:Shared model mode: Finished loading new runs, found 0 new runs.\n"
     ]
    },
    {
     "name": "stdout",
     "output_type": "stream",
     "text": [
      "building empty layout model\n",
      "models will need to be added with layout.add_model()\n",
      "Loading the comets parameters...\n",
      "Creating the comets object...\n",
      "\n",
      "Running COMETS simulation ...\n",
      "Done!\n",
      "The last cycle is: 1000\n",
      "Configuration\tfitness\tButanol(mM)\tacetate(mM)\tBiomassFarmer\tBiomassLaborer\tendCycle\n",
      "0.09999558581466715,0.00012553680011422107,7.910290977523243\t0.6986987117003\t0.6999691007\t0.0012703889997\t0.099995585815\t0.75242999488\t1000\n",
      "Getting fluxes:End\n"
     ]
    },
    {
     "name": "stderr",
     "output_type": "stream",
     "text": [
      "INFO:smac.intensification.intensification.Intensifier:Wallclock time limit for intensification reached (used: 67.291029 sec, available: 0.000010 sec)\n",
      "INFO:smac.optimizer.smbo.SMBO:Shared model mode: Finished loading new runs, found 0 new runs.\n"
     ]
    },
    {
     "name": "stdout",
     "output_type": "stream",
     "text": [
      "building empty layout model\n",
      "models will need to be added with layout.add_model()\n",
      "Loading the comets parameters...\n",
      "Creating the comets object...\n",
      "\n",
      "Running COMETS simulation ...\n",
      "Done!\n",
      "The last cycle is: 1000\n",
      "Configuration\tfitness\tButanol(mM)\tacetate(mM)\tBiomassFarmer\tBiomassLaborer\tendCycle\n",
      "0.09999800662908127,0.0001556205817928534,19.113724388600232\t0.7449851493899999\t0.7449851493899999\t0.0\t0.099998006629\t0.87753656391\t1000\n",
      "Getting fluxes:End\n"
     ]
    },
    {
     "name": "stderr",
     "output_type": "stream",
     "text": [
      "INFO:smac.intensification.intensification.Intensifier:Wallclock time limit for intensification reached (used: 68.153573 sec, available: 0.000010 sec)\n",
      "INFO:smac.optimizer.smbo.SMBO:Shared model mode: Finished loading new runs, found 0 new runs.\n"
     ]
    },
    {
     "name": "stdout",
     "output_type": "stream",
     "text": [
      "building empty layout model\n",
      "models will need to be added with layout.add_model()\n",
      "Loading the comets parameters...\n",
      "Creating the comets object...\n",
      "\n",
      "Running COMETS simulation ...\n",
      "Done!\n",
      "The last cycle is: 368\n",
      "Configuration\tfitness\tButanol(mM)\tacetate(mM)\tBiomassFarmer\tBiomassLaborer\tendCycle\n",
      "0.09999586404005834,0.04042212694132861,10.870042691785669\t0.68242124474835\t0.68247177207\t5.0527321649999996e-05\t0.09999586404\t0.91594077686\t368\n",
      "Getting fluxes:End\n"
     ]
    },
    {
     "name": "stderr",
     "output_type": "stream",
     "text": [
      "INFO:smac.intensification.intensification.Intensifier:Wallclock time limit for intensification reached (used: 65.061710 sec, available: 0.000010 sec)\n",
      "INFO:smac.optimizer.smbo.SMBO:Shared model mode: Finished loading new runs, found 0 new runs.\n"
     ]
    },
    {
     "name": "stdout",
     "output_type": "stream",
     "text": [
      "building empty layout model\n",
      "models will need to be added with layout.add_model()\n",
      "Loading the comets parameters...\n",
      "Creating the comets object...\n",
      "\n",
      "Running COMETS simulation ...\n",
      "Done!\n",
      "The last cycle is: 1000\n",
      "Configuration\tfitness\tButanol(mM)\tacetate(mM)\tBiomassFarmer\tBiomassLaborer\tendCycle\n",
      "0.09999380107027496,0.00010874719300798554,25.098581044497017\t0.6563587580574\t0.65745924204\t0.0011004839825999998\t0.09999380107\t0.6517981166\t1000\n",
      "Getting fluxes:End\n"
     ]
    },
    {
     "name": "stderr",
     "output_type": "stream",
     "text": [
      "INFO:smac.intensification.intensification.Intensifier:Wallclock time limit for intensification reached (used: 71.021334 sec, available: 0.000010 sec)\n",
      "INFO:smac.optimizer.smbo.SMBO:Shared model mode: Finished loading new runs, found 0 new runs.\n"
     ]
    },
    {
     "name": "stdout",
     "output_type": "stream",
     "text": [
      "building empty layout model\n",
      "models will need to be added with layout.add_model()\n",
      "Loading the comets parameters...\n",
      "Creating the comets object...\n",
      "\n",
      "Running COMETS simulation ...\n",
      "Done!\n",
      "The last cycle is: 1000\n",
      "Configuration\tfitness\tButanol(mM)\tacetate(mM)\tBiomassFarmer\tBiomassLaborer\tendCycle\n",
      "0.09999380107027496,0.00010874719300798554,11.615438756988002\t0.6563587580574\t0.65745924204\t0.0011004839825999998\t0.09999380107\t0.6517981166\t1000\n",
      "Getting fluxes:End\n"
     ]
    },
    {
     "name": "stderr",
     "output_type": "stream",
     "text": [
      "INFO:smac.intensification.intensification.Intensifier:Wallclock time limit for intensification reached (used: 68.962743 sec, available: 0.000010 sec)\n",
      "INFO:smac.optimizer.smbo.SMBO:Shared model mode: Finished loading new runs, found 0 new runs.\n"
     ]
    },
    {
     "name": "stdout",
     "output_type": "stream",
     "text": [
      "building empty layout model\n",
      "models will need to be added with layout.add_model()\n",
      "Loading the comets parameters...\n",
      "Creating the comets object...\n",
      "\n",
      "Running COMETS simulation ...\n",
      "Done!\n",
      "The last cycle is: 850\n",
      "Configuration\tfitness\tButanol(mM)\tacetate(mM)\tBiomassFarmer\tBiomassLaborer\tendCycle\n",
      "0.09999071992507597,0.000576436032808506,1.0939426722216152\t0.7449308634399999\t0.7449308634399999\t0.0\t0.099990719925\t0.87934534832\t850\n",
      "Getting fluxes:End\n"
     ]
    },
    {
     "name": "stderr",
     "output_type": "stream",
     "text": [
      "INFO:smac.intensification.intensification.Intensifier:Wallclock time limit for intensification reached (used: 66.744142 sec, available: 0.000010 sec)\n",
      "INFO:smac.optimizer.smbo.SMBO:Shared model mode: Finished loading new runs, found 0 new runs.\n"
     ]
    },
    {
     "name": "stdout",
     "output_type": "stream",
     "text": [
      "building empty layout model\n",
      "models will need to be added with layout.add_model()\n",
      "Loading the comets parameters...\n",
      "Creating the comets object...\n",
      "\n",
      "Running COMETS simulation ...\n",
      "Done!\n",
      "The last cycle is: 1000\n",
      "Configuration\tfitness\tButanol(mM)\tacetate(mM)\tBiomassFarmer\tBiomassLaborer\tendCycle\n",
      "0.09999558581466715,0.00010365641444784907,18.04898423795786\t0.6439225614358001\t0.6449715285000001\t0.0010489670642\t0.099995585815\t0.62128551406\t1000\n",
      "Getting fluxes:End\n"
     ]
    },
    {
     "name": "stderr",
     "output_type": "stream",
     "text": [
      "INFO:smac.intensification.intensification.Intensifier:Wallclock time limit for intensification reached (used: 67.112883 sec, available: 0.000010 sec)\n",
      "INFO:smac.optimizer.smbo.SMBO:Shared model mode: Finished loading new runs, found 0 new runs.\n"
     ]
    },
    {
     "name": "stdout",
     "output_type": "stream",
     "text": [
      "building empty layout model\n",
      "models will need to be added with layout.add_model()\n",
      "Loading the comets parameters...\n",
      "Creating the comets object...\n",
      "\n",
      "Running COMETS simulation ...\n",
      "Done!\n",
      "The last cycle is: 1000\n",
      "Configuration\tfitness\tButanol(mM)\tacetate(mM)\tBiomassFarmer\tBiomassLaborer\tendCycle\n",
      "0.09999380107027496,0.00010874719300798554,4.548533823457647\t0.6563587580574\t0.65745924204\t0.0011004839825999998\t0.09999380107\t0.6517981166\t1000\n",
      "Getting fluxes:End\n"
     ]
    },
    {
     "name": "stderr",
     "output_type": "stream",
     "text": [
      "INFO:smac.intensification.intensification.Intensifier:Wallclock time limit for intensification reached (used: 67.254521 sec, available: 0.000010 sec)\n",
      "INFO:smac.optimizer.smbo.SMBO:Shared model mode: Finished loading new runs, found 0 new runs.\n"
     ]
    },
    {
     "name": "stdout",
     "output_type": "stream",
     "text": [
      "building empty layout model\n",
      "models will need to be added with layout.add_model()\n",
      "Loading the comets parameters...\n",
      "Creating the comets object...\n",
      "\n",
      "Running COMETS simulation ...\n",
      "Done!\n",
      "The last cycle is: 1000\n",
      "Configuration\tfitness\tButanol(mM)\tacetate(mM)\tBiomassFarmer\tBiomassLaborer\tendCycle\n",
      "0.09999910522286458,0.00014290105896537465,20.01061095936863\t0.7360472917262\t0.7374934010199999\t0.0014461092937999998\t0.099999105223\t0.85650616367\t1000\n",
      "Getting fluxes:End\n"
     ]
    },
    {
     "name": "stderr",
     "output_type": "stream",
     "text": [
      "INFO:smac.intensification.intensification.Intensifier:Wallclock time limit for intensification reached (used: 68.564476 sec, available: 0.000010 sec)\n",
      "INFO:smac.optimizer.smbo.SMBO:Shared model mode: Finished loading new runs, found 0 new runs.\n"
     ]
    },
    {
     "name": "stdout",
     "output_type": "stream",
     "text": [
      "building empty layout model\n",
      "models will need to be added with layout.add_model()\n",
      "Loading the comets parameters...\n",
      "Creating the comets object...\n",
      "\n",
      "Running COMETS simulation ...\n",
      "Done!\n",
      "The last cycle is: 1000\n",
      "Configuration\tfitness\tButanol(mM)\tacetate(mM)\tBiomassFarmer\tBiomassLaborer\tendCycle\n",
      "0.09999558581466715,0.00010365641444784907,22.5249348277631\t0.6439225614358001\t0.6449715285000001\t0.0010489670642\t0.099995585815\t0.62128551406\t1000\n",
      "Getting fluxes:End\n"
     ]
    },
    {
     "name": "stderr",
     "output_type": "stream",
     "text": [
      "INFO:smac.intensification.intensification.Intensifier:Wallclock time limit for intensification reached (used: 66.287751 sec, available: 0.000010 sec)\n",
      "INFO:smac.optimizer.smbo.SMBO:Shared model mode: Finished loading new runs, found 0 new runs.\n"
     ]
    },
    {
     "name": "stdout",
     "output_type": "stream",
     "text": [
      "building empty layout model\n",
      "models will need to be added with layout.add_model()\n",
      "Loading the comets parameters...\n",
      "Creating the comets object...\n",
      "\n",
      "Running COMETS simulation ...\n",
      "Done!\n",
      "The last cycle is: 1000\n",
      "Configuration\tfitness\tButanol(mM)\tacetate(mM)\tBiomassFarmer\tBiomassLaborer\tendCycle\n",
      "0.09999800662908127,0.00012238702761360363,28.55839929000145\t0.6912476815186\t0.69248619591\t0.0012385143914\t0.099998006629\t0.73355120153\t1000\n",
      "Getting fluxes:End\n"
     ]
    },
    {
     "name": "stderr",
     "output_type": "stream",
     "text": [
      "INFO:smac.intensification.intensification.Intensifier:Wallclock time limit for intensification reached (used: 71.155802 sec, available: 0.000010 sec)\n",
      "INFO:smac.optimizer.smbo.SMBO:Shared model mode: Finished loading new runs, found 0 new runs.\n",
      "INFO:smac.optimizer.smbo.SMBO:Shared model mode: Finished loading new runs, found 0 new runs.\n"
     ]
    },
    {
     "name": "stdout",
     "output_type": "stream",
     "text": [
      "building empty layout model\n",
      "models will need to be added with layout.add_model()\n",
      "Loading the comets parameters...\n",
      "Creating the comets object...\n",
      "\n",
      "Running COMETS simulation ...\n",
      "Done!\n",
      "The last cycle is: 987\n",
      "Configuration\tfitness\tButanol(mM)\tacetate(mM)\tBiomassFarmer\tBiomassLaborer\tendCycle\n",
      "0.09996260285592552,0.00017393185507319638,39.96775631037737\t0.74472139128\t0.74472139128\t0.0\t0.099962602856\t0.8757272481\t987\n",
      "Getting fluxes:End\n"
     ]
    },
    {
     "name": "stderr",
     "output_type": "stream",
     "text": [
      "INFO:smac.intensification.intensification.Intensifier:Wallclock time limit for intensification reached (used: 68.542134 sec, available: 0.000010 sec)\n",
      "INFO:smac.optimizer.smbo.SMBO:Shared model mode: Finished loading new runs, found 0 new runs.\n"
     ]
    },
    {
     "name": "stdout",
     "output_type": "stream",
     "text": [
      "building empty layout model\n",
      "models will need to be added with layout.add_model()\n",
      "Loading the comets parameters...\n",
      "Creating the comets object...\n",
      "\n",
      "Running COMETS simulation ...\n",
      "Done!\n",
      "The last cycle is: 1000\n",
      "Configuration\tfitness\tButanol(mM)\tacetate(mM)\tBiomassFarmer\tBiomassLaborer\tendCycle\n",
      "0.09999800662908127,0.00012238702761360363,39.97726649123318\t0.6912476815186\t0.69248619591\t0.0012385143914\t0.099998006629\t0.73355120153\t1000\n",
      "Getting fluxes:End\n"
     ]
    },
    {
     "name": "stderr",
     "output_type": "stream",
     "text": [
      "INFO:smac.intensification.intensification.Intensifier:Wallclock time limit for intensification reached (used: 70.186776 sec, available: 0.000010 sec)\n",
      "INFO:smac.optimizer.smbo.SMBO:Shared model mode: Finished loading new runs, found 0 new runs.\n"
     ]
    },
    {
     "name": "stdout",
     "output_type": "stream",
     "text": [
      "building empty layout model\n",
      "models will need to be added with layout.add_model()\n",
      "Loading the comets parameters...\n",
      "Creating the comets object...\n",
      "\n",
      "Running COMETS simulation ...\n",
      "Done!\n",
      "The last cycle is: 1000\n",
      "Configuration\tfitness\tButanol(mM)\tacetate(mM)\tBiomassFarmer\tBiomassLaborer\tendCycle\n",
      "0.09999800662908127,0.00012238702761360363,39.99796573676315\t0.6912476815186\t0.69248619591\t0.0012385143914\t0.099998006629\t0.73355120153\t1000\n",
      "Getting fluxes:End\n"
     ]
    },
    {
     "name": "stderr",
     "output_type": "stream",
     "text": [
      "INFO:smac.intensification.intensification.Intensifier:Wallclock time limit for intensification reached (used: 71.012714 sec, available: 0.000010 sec)\n",
      "INFO:smac.optimizer.smbo.SMBO:Shared model mode: Finished loading new runs, found 0 new runs.\n"
     ]
    },
    {
     "name": "stdout",
     "output_type": "stream",
     "text": [
      "building empty layout model\n",
      "models will need to be added with layout.add_model()\n",
      "Loading the comets parameters...\n",
      "Creating the comets object...\n",
      "\n",
      "Running COMETS simulation ...\n",
      "Done!\n",
      "The last cycle is: 1000\n",
      "Configuration\tfitness\tButanol(mM)\tacetate(mM)\tBiomassFarmer\tBiomassLaborer\tendCycle\n",
      "0.09999800662908127,0.00012238702761360363,39.99864425355428\t0.6912476815186\t0.69248619591\t0.0012385143914\t0.099998006629\t0.73355120153\t1000\n",
      "Getting fluxes:End\n"
     ]
    },
    {
     "name": "stderr",
     "output_type": "stream",
     "text": [
      "INFO:smac.intensification.intensification.Intensifier:Wallclock time limit for intensification reached (used: 71.626626 sec, available: 0.000010 sec)\n",
      "INFO:smac.optimizer.smbo.SMBO:Shared model mode: Finished loading new runs, found 0 new runs.\n"
     ]
    },
    {
     "name": "stdout",
     "output_type": "stream",
     "text": [
      "building empty layout model\n",
      "models will need to be added with layout.add_model()\n",
      "Loading the comets parameters...\n",
      "Creating the comets object...\n",
      "\n",
      "Running COMETS simulation ...\n",
      "Done!\n",
      "The last cycle is: 205\n",
      "Configuration\tfitness\tButanol(mM)\tacetate(mM)\tBiomassFarmer\tBiomassLaborer\tendCycle\n",
      "0.08511038298502799,0.19435082975866064,16.544849385438596\t0.41704087663\t0.41704087663\t0.0\t0.085110382985\t1.0727498245\t205\n",
      "Getting fluxes:End\n"
     ]
    },
    {
     "name": "stderr",
     "output_type": "stream",
     "text": [
      "INFO:smac.intensification.intensification.Intensifier:Wallclock time limit for intensification reached (used: 62.860695 sec, available: 0.000010 sec)\n",
      "INFO:smac.optimizer.smbo.SMBO:Shared model mode: Finished loading new runs, found 0 new runs.\n",
      "INFO:smac.optimizer.smbo.SMBO:Shared model mode: Finished loading new runs, found 0 new runs.\n",
      "INFO:smac.optimizer.smbo.SMBO:Shared model mode: Finished loading new runs, found 0 new runs.\n"
     ]
    },
    {
     "name": "stdout",
     "output_type": "stream",
     "text": [
      "building empty layout model\n",
      "models will need to be added with layout.add_model()\n",
      "Loading the comets parameters...\n",
      "Creating the comets object...\n",
      "\n",
      "Running COMETS simulation ...\n",
      "Done!\n",
      "The last cycle is: 1000\n",
      "Configuration\tfitness\tButanol(mM)\tacetate(mM)\tBiomassFarmer\tBiomassLaborer\tendCycle\n",
      "0.09999825407490752,0.00012159018336824608,39.99135114153098\t0.6887575025167999\t0.6899879531199999\t0.0012304506032\t0.099998254075\t0.7287751557\t1000\n",
      "Getting fluxes:End\n"
     ]
    },
    {
     "name": "stderr",
     "output_type": "stream",
     "text": [
      "INFO:smac.intensification.intensification.Intensifier:Wallclock time limit for intensification reached (used: 70.193939 sec, available: 0.000010 sec)\n",
      "INFO:smac.optimizer.smbo.SMBO:Shared model mode: Finished loading new runs, found 0 new runs.\n"
     ]
    },
    {
     "name": "stdout",
     "output_type": "stream",
     "text": [
      "building empty layout model\n",
      "models will need to be added with layout.add_model()\n",
      "Loading the comets parameters...\n",
      "Creating the comets object...\n",
      "\n",
      "Running COMETS simulation ...\n",
      "Done!\n",
      "The last cycle is: 1000\n",
      "Configuration\tfitness\tButanol(mM)\tacetate(mM)\tBiomassFarmer\tBiomassLaborer\tendCycle\n",
      "0.09999558581466715,0.00010365641444784907,15.44444115716406\t0.6439225614358001\t0.6449715285000001\t0.0010489670642\t0.099995585815\t0.62128551406\t1000\n",
      "Getting fluxes:End\n"
     ]
    },
    {
     "name": "stderr",
     "output_type": "stream",
     "text": [
      "INFO:smac.intensification.intensification.Intensifier:Wallclock time limit for intensification reached (used: 70.232871 sec, available: 0.000010 sec)\n",
      "INFO:smac.optimizer.smbo.SMBO:Shared model mode: Finished loading new runs, found 0 new runs.\n"
     ]
    },
    {
     "name": "stdout",
     "output_type": "stream",
     "text": [
      "building empty layout model\n",
      "models will need to be added with layout.add_model()\n",
      "Loading the comets parameters...\n",
      "Creating the comets object...\n",
      "\n",
      "Running COMETS simulation ...\n",
      "Done!\n",
      "The last cycle is: 216\n",
      "Configuration\tfitness\tButanol(mM)\tacetate(mM)\tBiomassFarmer\tBiomassLaborer\tendCycle\n",
      "0.03449388476541663,0.1736725194224926,12.406347640728331\t0.17850585366\t0.17850585366\t0.0\t0.034493884765\t1.0517683241\t216\n",
      "Getting fluxes:End\n"
     ]
    },
    {
     "name": "stderr",
     "output_type": "stream",
     "text": [
      "INFO:smac.intensification.intensification.Intensifier:Wallclock time limit for intensification reached (used: 63.052274 sec, available: 0.000010 sec)\n",
      "INFO:smac.optimizer.smbo.SMBO:Shared model mode: Finished loading new runs, found 0 new runs.\n",
      "INFO:smac.optimizer.smbo.SMBO:Shared model mode: Finished loading new runs, found 0 new runs.\n",
      "INFO:smac.optimizer.smbo.SMBO:Shared model mode: Finished loading new runs, found 0 new runs.\n"
     ]
    },
    {
     "name": "stdout",
     "output_type": "stream",
     "text": [
      "building empty layout model\n",
      "models will need to be added with layout.add_model()\n",
      "Loading the comets parameters...\n",
      "Creating the comets object...\n",
      "\n",
      "Running COMETS simulation ...\n",
      "Done!\n",
      "The last cycle is: 1000\n",
      "Configuration\tfitness\tButanol(mM)\tacetate(mM)\tBiomassFarmer\tBiomassLaborer\tendCycle\n",
      "0.09999825407490752,0.00012159018336824608,39.9926020195004\t0.6887575025167999\t0.6899879531199999\t0.0012304506032\t0.099998254075\t0.7287751557\t1000\n",
      "Getting fluxes:End\n"
     ]
    },
    {
     "name": "stderr",
     "output_type": "stream",
     "text": [
      "INFO:smac.intensification.intensification.Intensifier:Wallclock time limit for intensification reached (used: 70.093188 sec, available: 0.000010 sec)\n",
      "INFO:smac.optimizer.smbo.SMBO:Shared model mode: Finished loading new runs, found 0 new runs.\n"
     ]
    },
    {
     "name": "stdout",
     "output_type": "stream",
     "text": [
      "building empty layout model\n",
      "models will need to be added with layout.add_model()\n",
      "Loading the comets parameters...\n",
      "Creating the comets object...\n",
      "\n",
      "Running COMETS simulation ...\n",
      "Done!\n",
      "The last cycle is: 1000\n",
      "Configuration\tfitness\tButanol(mM)\tacetate(mM)\tBiomassFarmer\tBiomassLaborer\tendCycle\n",
      "0.09999922277514811,0.00010033306561725625,39.96711415632933\t0.6339797286966\t0.63499506462\t0.0010153359234\t0.099999222775\t0.60136635616\t1000\n",
      "Getting fluxes:End\n"
     ]
    },
    {
     "name": "stderr",
     "output_type": "stream",
     "text": [
      "INFO:smac.intensification.intensification.Intensifier:Wallclock time limit for intensification reached (used: 69.460431 sec, available: 0.000010 sec)\n",
      "INFO:smac.optimizer.smbo.SMBO:Shared model mode: Finished loading new runs, found 0 new runs.\n"
     ]
    },
    {
     "name": "stdout",
     "output_type": "stream",
     "text": [
      "building empty layout model\n",
      "models will need to be added with layout.add_model()\n",
      "Loading the comets parameters...\n",
      "Creating the comets object...\n",
      "\n",
      "Running COMETS simulation ...\n",
      "Done!\n",
      "The last cycle is: 1000\n",
      "Configuration\tfitness\tButanol(mM)\tacetate(mM)\tBiomassFarmer\tBiomassLaborer\tendCycle\n",
      "0.09999910522286458,0.0001229752914517868,17.070700397277292\t0.691249336252\t0.69249380367\t0.001244467418\t0.099999105223\t0.73707707886\t1000\n",
      "Getting fluxes:End\n"
     ]
    },
    {
     "name": "stderr",
     "output_type": "stream",
     "text": [
      "INFO:smac.intensification.intensification.Intensifier:Wallclock time limit for intensification reached (used: 71.531114 sec, available: 0.000010 sec)\n",
      "INFO:smac.optimizer.smbo.SMBO:Shared model mode: Finished loading new runs, found 0 new runs.\n"
     ]
    },
    {
     "name": "stdout",
     "output_type": "stream",
     "text": [
      "building empty layout model\n",
      "models will need to be added with layout.add_model()\n",
      "Loading the comets parameters...\n",
      "Creating the comets object...\n",
      "\n",
      "Running COMETS simulation ...\n",
      "Done!\n",
      "The last cycle is: 1000\n",
      "Configuration\tfitness\tButanol(mM)\tacetate(mM)\tBiomassFarmer\tBiomassLaborer\tendCycle\n",
      "0.09998462589216832,0.00012594498196365108,1.0047509888841804\t0.6986178615911\t0.69989238125\t0.0012745196589\t0.099984625892\t0.75487651468\t1000\n",
      "Getting fluxes:End\n"
     ]
    },
    {
     "name": "stderr",
     "output_type": "stream",
     "text": [
      "INFO:smac.intensification.intensification.Intensifier:Wallclock time limit for intensification reached (used: 70.817850 sec, available: 0.000010 sec)\n",
      "INFO:smac.optimizer.smbo.SMBO:Shared model mode: Finished loading new runs, found 0 new runs.\n"
     ]
    },
    {
     "name": "stdout",
     "output_type": "stream",
     "text": [
      "building empty layout model\n",
      "models will need to be added with layout.add_model()\n",
      "Loading the comets parameters...\n",
      "Creating the comets object...\n",
      "\n",
      "Running COMETS simulation ...\n",
      "Done!\n",
      "The last cycle is: 1000\n",
      "Configuration\tfitness\tButanol(mM)\tacetate(mM)\tBiomassFarmer\tBiomassLaborer\tendCycle\n",
      "0.09999910522286458,0.00012227972611721173,17.362106168375874\t0.6912563751326\t0.69249380367\t0.0012374285374\t0.099999105223\t0.73290806849\t1000\n",
      "Getting fluxes:End\n"
     ]
    },
    {
     "name": "stderr",
     "output_type": "stream",
     "text": [
      "INFO:smac.intensification.intensification.Intensifier:Wallclock time limit for intensification reached (used: 71.620826 sec, available: 0.000010 sec)\n",
      "INFO:smac.optimizer.smbo.SMBO:Shared model mode: Finished loading new runs, found 0 new runs.\n"
     ]
    },
    {
     "name": "stdout",
     "output_type": "stream",
     "text": [
      "building empty layout model\n",
      "models will need to be added with layout.add_model()\n",
      "Loading the comets parameters...\n",
      "Creating the comets object...\n",
      "\n",
      "Running COMETS simulation ...\n",
      "Done!\n",
      "The last cycle is: 1000\n",
      "Configuration\tfitness\tButanol(mM)\tacetate(mM)\tBiomassFarmer\tBiomassLaborer\tendCycle\n",
      "0.09999071992507597,0.0001122333530569219,1.021480852317741\t0.6663022927834\t0.6674380555\t0.0011357627165999998\t0.099990719925\t0.67269311619\t1000\n",
      "Getting fluxes:End\n"
     ]
    },
    {
     "name": "stderr",
     "output_type": "stream",
     "text": [
      "INFO:smac.intensification.intensification.Intensifier:Wallclock time limit for intensification reached (used: 70.639124 sec, available: 0.000010 sec)\n",
      "INFO:smac.optimizer.smbo.SMBO:Shared model mode: Finished loading new runs, found 0 new runs.\n"
     ]
    },
    {
     "name": "stdout",
     "output_type": "stream",
     "text": [
      "building empty layout model\n",
      "models will need to be added with layout.add_model()\n",
      "Loading the comets parameters...\n",
      "Creating the comets object...\n",
      "\n",
      "Running COMETS simulation ...\n",
      "Done!\n",
      "The last cycle is: 1000\n",
      "Configuration\tfitness\tButanol(mM)\tacetate(mM)\tBiomassFarmer\tBiomassLaborer\tendCycle\n",
      "0.09999910522286458,0.00012227972611721173,18.03716767142983\t0.6912563751326\t0.69249380367\t0.0012374285374\t0.099999105223\t0.73290806849\t1000\n",
      "Getting fluxes:End\n"
     ]
    },
    {
     "name": "stderr",
     "output_type": "stream",
     "text": [
      "INFO:smac.intensification.intensification.Intensifier:Wallclock time limit for intensification reached (used: 72.310595 sec, available: 0.000010 sec)\n",
      "INFO:smac.optimizer.smbo.SMBO:Shared model mode: Finished loading new runs, found 0 new runs.\n"
     ]
    },
    {
     "name": "stdout",
     "output_type": "stream",
     "text": [
      "building empty layout model\n",
      "models will need to be added with layout.add_model()\n",
      "Loading the comets parameters...\n",
      "Creating the comets object...\n",
      "\n",
      "Running COMETS simulation ...\n",
      "Done!\n",
      "The last cycle is: 1000\n",
      "Configuration\tfitness\tButanol(mM)\tacetate(mM)\tBiomassFarmer\tBiomassLaborer\tendCycle\n",
      "0.09999910522286458,0.00012227972611721173,18.04879297351605\t0.6912563751326\t0.69249380367\t0.0012374285374\t0.099999105223\t0.73290806849\t1000\n",
      "Getting fluxes:End\n"
     ]
    },
    {
     "name": "stderr",
     "output_type": "stream",
     "text": [
      "INFO:smac.intensification.intensification.Intensifier:Wallclock time limit for intensification reached (used: 69.906394 sec, available: 0.000010 sec)\n",
      "INFO:smac.optimizer.smbo.SMBO:Shared model mode: Finished loading new runs, found 0 new runs.\n"
     ]
    },
    {
     "name": "stdout",
     "output_type": "stream",
     "text": [
      "building empty layout model\n",
      "models will need to be added with layout.add_model()\n",
      "Loading the comets parameters...\n",
      "Creating the comets object...\n",
      "\n",
      "Running COMETS simulation ...\n",
      "Done!\n",
      "The last cycle is: 1000\n",
      "Configuration\tfitness\tButanol(mM)\tacetate(mM)\tBiomassFarmer\tBiomassLaborer\tendCycle\n",
      "0.09999910522286458,0.00011176484236664293,18.19089680690455\t0.6638630281796001\t0.6649940497300001\t0.0011310215504000002\t0.099999105223\t0.66988500338\t1000\n",
      "Getting fluxes:End\n"
     ]
    },
    {
     "name": "stderr",
     "output_type": "stream",
     "text": [
      "INFO:smac.intensification.intensification.Intensifier:Wallclock time limit for intensification reached (used: 71.536090 sec, available: 0.000010 sec)\n",
      "INFO:smac.optimizer.smbo.SMBO:Shared model mode: Finished loading new runs, found 0 new runs.\n"
     ]
    },
    {
     "name": "stdout",
     "output_type": "stream",
     "text": [
      "building empty layout model\n",
      "models will need to be added with layout.add_model()\n",
      "Loading the comets parameters...\n",
      "Creating the comets object...\n",
      "\n",
      "Running COMETS simulation ...\n",
      "Done!\n",
      "The last cycle is: 1000\n",
      "Configuration\tfitness\tButanol(mM)\tacetate(mM)\tBiomassFarmer\tBiomassLaborer\tendCycle\n",
      "0.09999910522286458,0.00011176484236664293,17.83193202602751\t0.6638630281796001\t0.6649940497300001\t0.0011310215504000002\t0.099999105223\t0.66988500338\t1000\n",
      "Getting fluxes:End\n"
     ]
    },
    {
     "name": "stderr",
     "output_type": "stream",
     "text": [
      "INFO:smac.intensification.intensification.Intensifier:Wallclock time limit for intensification reached (used: 70.573092 sec, available: 0.000010 sec)\n",
      "INFO:smac.optimizer.smbo.SMBO:Shared model mode: Finished loading new runs, found 0 new runs.\n"
     ]
    },
    {
     "name": "stdout",
     "output_type": "stream",
     "text": [
      "building empty layout model\n",
      "models will need to be added with layout.add_model()\n",
      "Loading the comets parameters...\n",
      "Creating the comets object...\n",
      "\n",
      "Running COMETS simulation ...\n",
      "Done!\n",
      "The last cycle is: 278\n",
      "Configuration\tfitness\tButanol(mM)\tacetate(mM)\tBiomassFarmer\tBiomassLaborer\tendCycle\n",
      "0.005406039328160194,0.094022099580959,2.3296176544809573\t0.033519394442\t0.033519394442\t0.0\t0.0062520894346\t0.97203324702\t278\n",
      "Getting fluxes:End\n"
     ]
    },
    {
     "name": "stderr",
     "output_type": "stream",
     "text": [
      "INFO:smac.intensification.intensification.Intensifier:Wallclock time limit for intensification reached (used: 66.751179 sec, available: 0.000010 sec)\n",
      "INFO:smac.optimizer.smbo.SMBO:Shared model mode: Finished loading new runs, found 0 new runs.\n"
     ]
    },
    {
     "name": "stdout",
     "output_type": "stream",
     "text": [
      "building empty layout model\n",
      "models will need to be added with layout.add_model()\n",
      "Loading the comets parameters...\n",
      "Creating the comets object...\n",
      "\n",
      "Running COMETS simulation ...\n",
      "Done!\n",
      "The last cycle is: 1000\n",
      "Configuration\tfitness\tButanol(mM)\tacetate(mM)\tBiomassFarmer\tBiomassLaborer\tendCycle\n",
      "0.09999922277514811,0.00010033306561725625,36.46454163318507\t0.6339797286966\t0.63499506462\t0.0010153359234\t0.099999222775\t0.60136635616\t1000\n",
      "Getting fluxes:End\n"
     ]
    },
    {
     "name": "stderr",
     "output_type": "stream",
     "text": [
      "INFO:smac.intensification.intensification.Intensifier:Wallclock time limit for intensification reached (used: 68.011158 sec, available: 0.000010 sec)\n",
      "INFO:smac.optimizer.smbo.SMBO:Shared model mode: Finished loading new runs, found 0 new runs.\n"
     ]
    },
    {
     "name": "stdout",
     "output_type": "stream",
     "text": [
      "building empty layout model\n",
      "models will need to be added with layout.add_model()\n",
      "Loading the comets parameters...\n",
      "Creating the comets object...\n",
      "\n",
      "Running COMETS simulation ...\n",
      "Done!\n",
      "The last cycle is: 1000\n",
      "Configuration\tfitness\tButanol(mM)\tacetate(mM)\tBiomassFarmer\tBiomassLaborer\tendCycle\n",
      "0.09999910522286458,0.00011087060146626984,13.10223194388264\t0.6613720999582\t0.6624940721\t0.0011219721417999999\t0.099999105223\t0.66452519116\t1000\n",
      "Getting fluxes:End\n"
     ]
    },
    {
     "name": "stderr",
     "output_type": "stream",
     "text": [
      "INFO:smac.intensification.intensification.Intensifier:Wallclock time limit for intensification reached (used: 70.025839 sec, available: 0.000010 sec)\n",
      "INFO:smac.optimizer.smbo.SMBO:Shared model mode: Finished loading new runs, found 0 new runs.\n"
     ]
    },
    {
     "name": "stdout",
     "output_type": "stream",
     "text": [
      "building empty layout model\n",
      "models will need to be added with layout.add_model()\n",
      "Loading the comets parameters...\n",
      "Creating the comets object...\n",
      "\n",
      "Running COMETS simulation ...\n",
      "Done!\n",
      "The last cycle is: 1000\n",
      "Configuration\tfitness\tButanol(mM)\tacetate(mM)\tBiomassFarmer\tBiomassLaborer\tendCycle\n",
      "0.09999910522286458,0.00011176484236664293,18.2998491434604\t0.6638630281796001\t0.6649940497300001\t0.0011310215504000002\t0.099999105223\t0.66988500338\t1000\n",
      "Getting fluxes:End\n"
     ]
    },
    {
     "name": "stderr",
     "output_type": "stream",
     "text": [
      "INFO:smac.intensification.intensification.Intensifier:Wallclock time limit for intensification reached (used: 67.582530 sec, available: 0.000010 sec)\n",
      "INFO:smac.optimizer.smbo.SMBO:Shared model mode: Finished loading new runs, found 0 new runs.\n"
     ]
    },
    {
     "name": "stdout",
     "output_type": "stream",
     "text": [
      "building empty layout model\n",
      "models will need to be added with layout.add_model()\n",
      "Loading the comets parameters...\n",
      "Creating the comets object...\n",
      "\n",
      "Running COMETS simulation ...\n",
      "Done!\n",
      "The last cycle is: 1000\n",
      "Configuration\tfitness\tButanol(mM)\tacetate(mM)\tBiomassFarmer\tBiomassLaborer\tendCycle\n",
      "0.09999484831939363,0.0001122333530569219,1.0062454017338764\t0.6663298498134\t0.66746561253\t0.0011357627165999998\t0.099994848319\t0.67269311619\t1000\n",
      "Getting fluxes:End\n"
     ]
    },
    {
     "name": "stderr",
     "output_type": "stream",
     "text": [
      "INFO:smac.intensification.intensification.Intensifier:Wallclock time limit for intensification reached (used: 68.157682 sec, available: 0.000010 sec)\n",
      "INFO:smac.optimizer.smbo.SMBO:Shared model mode: Finished loading new runs, found 0 new runs.\n"
     ]
    },
    {
     "name": "stdout",
     "output_type": "stream",
     "text": [
      "building empty layout model\n",
      "models will need to be added with layout.add_model()\n",
      "Loading the comets parameters...\n",
      "Creating the comets object...\n",
      "\n",
      "Running COMETS simulation ...\n",
      "Done!\n",
      "The last cycle is: 1000\n",
      "Configuration\tfitness\tButanol(mM)\tacetate(mM)\tBiomassFarmer\tBiomassLaborer\tendCycle\n",
      "0.09999910522286458,0.00011176484236664293,18.91530999739169\t0.6638630281796001\t0.6649940497300001\t0.0011310215504000002\t0.099999105223\t0.66988500338\t1000\n",
      "Getting fluxes:End\n"
     ]
    },
    {
     "name": "stderr",
     "output_type": "stream",
     "text": [
      "INFO:smac.intensification.intensification.Intensifier:Wallclock time limit for intensification reached (used: 68.862573 sec, available: 0.000010 sec)\n",
      "INFO:smac.optimizer.smbo.SMBO:Shared model mode: Finished loading new runs, found 0 new runs.\n"
     ]
    },
    {
     "name": "stdout",
     "output_type": "stream",
     "text": [
      "building empty layout model\n",
      "models will need to be added with layout.add_model()\n",
      "Loading the comets parameters...\n",
      "Creating the comets object...\n",
      "\n",
      "Running COMETS simulation ...\n",
      "Done!\n",
      "The last cycle is: 1000\n",
      "Configuration\tfitness\tButanol(mM)\tacetate(mM)\tBiomassFarmer\tBiomassLaborer\tendCycle\n",
      "0.09999922277514811,0.00010033306561725625,39.990209855205556\t0.6339797286966\t0.63499506462\t0.0010153359234\t0.099999222775\t0.60136635616\t1000\n",
      "Getting fluxes:End\n"
     ]
    },
    {
     "name": "stderr",
     "output_type": "stream",
     "text": [
      "INFO:smac.intensification.intensification.Intensifier:Wallclock time limit for intensification reached (used: 67.802421 sec, available: 0.000010 sec)\n",
      "INFO:smac.optimizer.smbo.SMBO:Shared model mode: Finished loading new runs, found 0 new runs.\n"
     ]
    },
    {
     "name": "stdout",
     "output_type": "stream",
     "text": [
      "building empty layout model\n",
      "models will need to be added with layout.add_model()\n",
      "Loading the comets parameters...\n",
      "Creating the comets object...\n",
      "\n",
      "Running COMETS simulation ...\n",
      "Done!\n",
      "The last cycle is: 1000\n",
      "Configuration\tfitness\tButanol(mM)\tacetate(mM)\tBiomassFarmer\tBiomassLaborer\tendCycle\n",
      "0.09999910522286458,0.00010421983498533086,16.192890163422987\t0.6439395600048\t0.64499422869\t0.0010546686852\t0.099999105223\t0.62466248807\t1000\n",
      "Getting fluxes:End\n"
     ]
    },
    {
     "name": "stderr",
     "output_type": "stream",
     "text": [
      "INFO:smac.intensification.intensification.Intensifier:Wallclock time limit for intensification reached (used: 68.120255 sec, available: 0.000010 sec)\n",
      "INFO:smac.optimizer.smbo.SMBO:Shared model mode: Finished loading new runs, found 0 new runs.\n"
     ]
    },
    {
     "name": "stdout",
     "output_type": "stream",
     "text": [
      "building empty layout model\n",
      "models will need to be added with layout.add_model()\n",
      "Loading the comets parameters...\n",
      "Creating the comets object...\n",
      "\n",
      "Running COMETS simulation ...\n",
      "Done!\n",
      "The last cycle is: 1000\n",
      "Configuration\tfitness\tButanol(mM)\tacetate(mM)\tBiomassFarmer\tBiomassLaborer\tendCycle\n",
      "0.09999910522286458,0.00011074674477755507,21.239306012187352\t0.6613733533451\t0.6624940721\t0.0011207187549\t0.099999105223\t0.66378283125\t1000\n",
      "Getting fluxes:End\n"
     ]
    },
    {
     "name": "stderr",
     "output_type": "stream",
     "text": [
      "INFO:smac.intensification.intensification.Intensifier:Wallclock time limit for intensification reached (used: 67.348230 sec, available: 0.000010 sec)\n",
      "INFO:smac.optimizer.smbo.SMBO:Shared model mode: Finished loading new runs, found 0 new runs.\n"
     ]
    },
    {
     "name": "stdout",
     "output_type": "stream",
     "text": [
      "building empty layout model\n",
      "models will need to be added with layout.add_model()\n",
      "Loading the comets parameters...\n",
      "Creating the comets object...\n",
      "\n",
      "Running COMETS simulation ...\n",
      "Done!\n",
      "The last cycle is: 1000\n",
      "Configuration\tfitness\tButanol(mM)\tacetate(mM)\tBiomassFarmer\tBiomassLaborer\tendCycle\n",
      "0.09999910522286458,0.00010421983498533086,8.16766714298635\t0.6439395600048\t0.64499422869\t0.0010546686852\t0.099999105223\t0.62466248807\t1000\n",
      "Getting fluxes:End\n"
     ]
    },
    {
     "name": "stderr",
     "output_type": "stream",
     "text": [
      "INFO:smac.intensification.intensification.Intensifier:Wallclock time limit for intensification reached (used: 69.340239 sec, available: 0.000010 sec)\n",
      "INFO:smac.optimizer.smbo.SMBO:Shared model mode: Finished loading new runs, found 0 new runs.\n"
     ]
    },
    {
     "name": "stdout",
     "output_type": "stream",
     "text": [
      "building empty layout model\n",
      "models will need to be added with layout.add_model()\n",
      "Loading the comets parameters...\n",
      "Creating the comets object...\n",
      "\n",
      "Running COMETS simulation ...\n",
      "Done!\n",
      "The last cycle is: 1000\n",
      "Configuration\tfitness\tButanol(mM)\tacetate(mM)\tBiomassFarmer\tBiomassLaborer\tendCycle\n",
      "0.09999910522286458,0.00011074674477755507,22.56735942080968\t0.6613733533451\t0.6624940721\t0.0011207187549\t0.099999105223\t0.66378283125\t1000\n",
      "Getting fluxes:End\n"
     ]
    },
    {
     "name": "stderr",
     "output_type": "stream",
     "text": [
      "INFO:smac.intensification.intensification.Intensifier:Wallclock time limit for intensification reached (used: 69.248501 sec, available: 0.000010 sec)\n",
      "INFO:smac.optimizer.smbo.SMBO:Shared model mode: Finished loading new runs, found 0 new runs.\n",
      "INFO:smac.optimizer.smbo.SMBO:Shared model mode: Finished loading new runs, found 0 new runs.\n"
     ]
    },
    {
     "name": "stdout",
     "output_type": "stream",
     "text": [
      "building empty layout model\n",
      "models will need to be added with layout.add_model()\n",
      "Loading the comets parameters...\n",
      "Creating the comets object...\n",
      "\n",
      "Running COMETS simulation ...\n",
      "Done!\n",
      "The last cycle is: 1000\n",
      "Configuration\tfitness\tButanol(mM)\tacetate(mM)\tBiomassFarmer\tBiomassLaborer\tendCycle\n",
      "0.09999800662908127,0.00010270923810012711,39.99864425355428\t0.6414478106228\t0.64248719259\t0.0010393819672\t0.099998006629\t0.61560842261\t1000\n",
      "Getting fluxes:End\n"
     ]
    },
    {
     "name": "stderr",
     "output_type": "stream",
     "text": [
      "INFO:smac.intensification.intensification.Intensifier:Wallclock time limit for intensification reached (used: 69.522591 sec, available: 0.000010 sec)\n",
      "INFO:smac.optimizer.smbo.SMBO:Shared model mode: Finished loading new runs, found 0 new runs.\n"
     ]
    },
    {
     "name": "stdout",
     "output_type": "stream",
     "text": [
      "building empty layout model\n",
      "models will need to be added with layout.add_model()\n",
      "Loading the comets parameters...\n",
      "Creating the comets object...\n",
      "\n",
      "Running COMETS simulation ...\n",
      "Done!\n",
      "The last cycle is: 1000\n",
      "Configuration\tfitness\tButanol(mM)\tacetate(mM)\tBiomassFarmer\tBiomassLaborer\tendCycle\n",
      "0.09999910522286458,0.00010754444635147409,19.86315160808891\t0.6539058266076\t0.65499413921\t0.0010883126024\t0.099999105223\t0.64458921323\t1000\n",
      "Getting fluxes:End\n"
     ]
    },
    {
     "name": "stderr",
     "output_type": "stream",
     "text": [
      "INFO:smac.intensification.intensification.Intensifier:Wallclock time limit for intensification reached (used: 71.801082 sec, available: 0.000010 sec)\n",
      "INFO:smac.optimizer.smbo.SMBO:Shared model mode: Finished loading new runs, found 0 new runs.\n",
      "INFO:smac.optimizer.smbo.SMBO:Shared model mode: Finished loading new runs, found 0 new runs.\n"
     ]
    },
    {
     "name": "stdout",
     "output_type": "stream",
     "text": [
      "building empty layout model\n",
      "models will need to be added with layout.add_model()\n",
      "Loading the comets parameters...\n",
      "Creating the comets object...\n",
      "\n",
      "Running COMETS simulation ...\n",
      "Done!\n",
      "The last cycle is: 1000\n",
      "Configuration\tfitness\tButanol(mM)\tacetate(mM)\tBiomassFarmer\tBiomassLaborer\tendCycle\n",
      "0.09999071992507597,0.0001122333530569219,1.012364480190081\t0.6663022927834\t0.6674380555\t0.0011357627165999998\t0.099990719925\t0.67269311619\t1000\n",
      "Getting fluxes:End\n"
     ]
    },
    {
     "name": "stderr",
     "output_type": "stream",
     "text": [
      "INFO:smac.intensification.intensification.Intensifier:Wallclock time limit for intensification reached (used: 75.734548 sec, available: 0.000010 sec)\n",
      "INFO:smac.optimizer.smbo.SMBO:Shared model mode: Finished loading new runs, found 0 new runs.\n"
     ]
    },
    {
     "name": "stdout",
     "output_type": "stream",
     "text": [
      "building empty layout model\n",
      "models will need to be added with layout.add_model()\n",
      "Loading the comets parameters...\n",
      "Creating the comets object...\n",
      "\n",
      "Running COMETS simulation ...\n",
      "Done!\n",
      "The last cycle is: 1000\n",
      "Configuration\tfitness\tButanol(mM)\tacetate(mM)\tBiomassFarmer\tBiomassLaborer\tendCycle\n",
      "0.09999910522286458,0.00010754444635147409,18.59047870442315\t0.6539058266076\t0.65499413921\t0.0010883126024\t0.099999105223\t0.64458921323\t1000\n",
      "Getting fluxes:End\n"
     ]
    },
    {
     "name": "stderr",
     "output_type": "stream",
     "text": [
      "INFO:smac.intensification.intensification.Intensifier:Wallclock time limit for intensification reached (used: 68.957586 sec, available: 0.000010 sec)\n",
      "INFO:smac.optimizer.smbo.SMBO:Shared model mode: Finished loading new runs, found 0 new runs.\n"
     ]
    },
    {
     "name": "stdout",
     "output_type": "stream",
     "text": [
      "building empty layout model\n",
      "models will need to be added with layout.add_model()\n",
      "Loading the comets parameters...\n",
      "Creating the comets object...\n",
      "\n",
      "Running COMETS simulation ...\n",
      "Done!\n",
      "The last cycle is: 1000\n",
      "Configuration\tfitness\tButanol(mM)\tacetate(mM)\tBiomassFarmer\tBiomassLaborer\tendCycle\n",
      "0.09999910522286458,0.00010754444635147409,18.17007099324471\t0.6539058266076\t0.65499413921\t0.0010883126024\t0.099999105223\t0.64458921323\t1000\n",
      "Getting fluxes:End\n"
     ]
    },
    {
     "name": "stderr",
     "output_type": "stream",
     "text": [
      "INFO:smac.intensification.intensification.Intensifier:Wallclock time limit for intensification reached (used: 69.652228 sec, available: 0.000010 sec)\n",
      "INFO:smac.optimizer.smbo.SMBO:Shared model mode: Finished loading new runs, found 0 new runs.\n"
     ]
    },
    {
     "name": "stdout",
     "output_type": "stream",
     "text": [
      "building empty layout model\n",
      "models will need to be added with layout.add_model()\n",
      "Loading the comets parameters...\n",
      "Creating the comets object...\n",
      "\n",
      "Running COMETS simulation ...\n",
      "Done!\n",
      "The last cycle is: 1000\n",
      "Configuration\tfitness\tButanol(mM)\tacetate(mM)\tBiomassFarmer\tBiomassLaborer\tendCycle\n",
      "0.09999484831939363,0.0001122333530569219,1.004630814990473\t0.6663298498134\t0.66746561253\t0.0011357627165999998\t0.099994848319\t0.67269311619\t1000\n",
      "Getting fluxes:End\n"
     ]
    },
    {
     "name": "stderr",
     "output_type": "stream",
     "text": [
      "INFO:smac.intensification.intensification.Intensifier:Wallclock time limit for intensification reached (used: 69.775331 sec, available: 0.000010 sec)\n",
      "INFO:smac.optimizer.smbo.SMBO:Shared model mode: Finished loading new runs, found 0 new runs.\n"
     ]
    },
    {
     "name": "stdout",
     "output_type": "stream",
     "text": [
      "building empty layout model\n",
      "models will need to be added with layout.add_model()\n",
      "Loading the comets parameters...\n",
      "Creating the comets object...\n",
      "\n",
      "Running COMETS simulation ...\n",
      "Done!\n",
      "The last cycle is: 248\n",
      "Configuration\tfitness\tButanol(mM)\tacetate(mM)\tBiomassFarmer\tBiomassLaborer\tendCycle\n",
      "0.01761467367041699,0.12547550451433234,15.376606859635382\t0.10172474045\t0.10172474045\t0.0\t0.01761467367\t1.0026979045\t248\n",
      "Getting fluxes:End\n"
     ]
    },
    {
     "name": "stderr",
     "output_type": "stream",
     "text": [
      "INFO:smac.intensification.intensification.Intensifier:Wallclock time limit for intensification reached (used: 62.621201 sec, available: 0.000010 sec)\n",
      "INFO:smac.optimizer.smbo.SMBO:Shared model mode: Finished loading new runs, found 0 new runs.\n"
     ]
    },
    {
     "name": "stdout",
     "output_type": "stream",
     "text": [
      "building empty layout model\n",
      "models will need to be added with layout.add_model()\n",
      "Loading the comets parameters...\n",
      "Creating the comets object...\n",
      "\n",
      "Running COMETS simulation ...\n",
      "Done!\n",
      "The last cycle is: 1000\n",
      "Configuration\tfitness\tButanol(mM)\tacetate(mM)\tBiomassFarmer\tBiomassLaborer\tendCycle\n",
      "0.09999910522286458,0.00010754444635147409,18.953995787655487\t0.6539058266076\t0.65499413921\t0.0010883126024\t0.099999105223\t0.64458921323\t1000\n",
      "Getting fluxes:End\n"
     ]
    },
    {
     "name": "stderr",
     "output_type": "stream",
     "text": [
      "INFO:smac.intensification.intensification.Intensifier:Wallclock time limit for intensification reached (used: 69.903517 sec, available: 0.000010 sec)\n",
      "INFO:smac.optimizer.smbo.SMBO:Shared model mode: Finished loading new runs, found 0 new runs.\n"
     ]
    },
    {
     "name": "stdout",
     "output_type": "stream",
     "text": [
      "building empty layout model\n",
      "models will need to be added with layout.add_model()\n",
      "Loading the comets parameters...\n",
      "Creating the comets object...\n",
      "\n",
      "Running COMETS simulation ...\n",
      "Done!\n",
      "The last cycle is: 1000\n",
      "Configuration\tfitness\tButanol(mM)\tacetate(mM)\tBiomassFarmer\tBiomassLaborer\tendCycle\n",
      "0.09999922277514811,0.00010033306561725625,33.966445856665835\t0.6339797286966\t0.63499506462\t0.0010153359234\t0.099999222775\t0.60136635616\t1000\n",
      "Getting fluxes:End\n"
     ]
    },
    {
     "name": "stderr",
     "output_type": "stream",
     "text": [
      "INFO:smac.intensification.intensification.Intensifier:Wallclock time limit for intensification reached (used: 71.043148 sec, available: 0.000010 sec)\n",
      "INFO:smac.optimizer.smbo.SMBO:Shared model mode: Finished loading new runs, found 0 new runs.\n"
     ]
    },
    {
     "name": "stdout",
     "output_type": "stream",
     "text": [
      "building empty layout model\n",
      "models will need to be added with layout.add_model()\n",
      "Loading the comets parameters...\n",
      "Creating the comets object...\n",
      "\n",
      "Running COMETS simulation ...\n",
      "Done!\n",
      "The last cycle is: 1000\n",
      "Configuration\tfitness\tButanol(mM)\tacetate(mM)\tBiomassFarmer\tBiomassLaborer\tendCycle\n",
      "0.09999910522286458,0.00010421983498533086,12.434985721376286\t0.6439395600048\t0.64499422869\t0.0010546686852\t0.099999105223\t0.62466248807\t1000\n",
      "Getting fluxes:End\n"
     ]
    },
    {
     "name": "stderr",
     "output_type": "stream",
     "text": [
      "INFO:smac.intensification.intensification.Intensifier:Wallclock time limit for intensification reached (used: 68.602164 sec, available: 0.000010 sec)\n",
      "INFO:smac.optimizer.smbo.SMBO:Shared model mode: Finished loading new runs, found 0 new runs.\n"
     ]
    },
    {
     "name": "stdout",
     "output_type": "stream",
     "text": [
      "building empty layout model\n",
      "models will need to be added with layout.add_model()\n",
      "Loading the comets parameters...\n",
      "Creating the comets object...\n",
      "\n",
      "Running COMETS simulation ...\n",
      "Done!\n",
      "The last cycle is: 1000\n",
      "Configuration\tfitness\tButanol(mM)\tacetate(mM)\tBiomassFarmer\tBiomassLaborer\tendCycle\n",
      "0.09999922277514811,0.00010033306561725625,39.99713880467389\t0.6339797286966\t0.63499506462\t0.0010153359234\t0.099999222775\t0.60136635616\t1000\n",
      "Getting fluxes:End\n"
     ]
    },
    {
     "name": "stderr",
     "output_type": "stream",
     "text": [
      "INFO:smac.intensification.intensification.Intensifier:Wallclock time limit for intensification reached (used: 67.020850 sec, available: 0.000010 sec)\n",
      "INFO:smac.optimizer.smbo.SMBO:Shared model mode: Finished loading new runs, found 0 new runs.\n"
     ]
    },
    {
     "name": "stdout",
     "output_type": "stream",
     "text": [
      "building empty layout model\n",
      "models will need to be added with layout.add_model()\n",
      "Loading the comets parameters...\n",
      "Creating the comets object...\n",
      "\n",
      "Running COMETS simulation ...\n",
      "Done!\n",
      "The last cycle is: 1000\n",
      "Configuration\tfitness\tButanol(mM)\tacetate(mM)\tBiomassFarmer\tBiomassLaborer\tendCycle\n",
      "0.09999910522286458,0.00010754444635147409,18.11531380282013\t0.6539058266076\t0.65499413921\t0.0010883126024\t0.099999105223\t0.64458921323\t1000\n",
      "Getting fluxes:End\n"
     ]
    },
    {
     "name": "stderr",
     "output_type": "stream",
     "text": [
      "INFO:smac.intensification.intensification.Intensifier:Wallclock time limit for intensification reached (used: 66.205491 sec, available: 0.000010 sec)\n",
      "INFO:smac.optimizer.smbo.SMBO:Shared model mode: Finished loading new runs, found 0 new runs.\n"
     ]
    },
    {
     "name": "stdout",
     "output_type": "stream",
     "text": [
      "building empty layout model\n",
      "models will need to be added with layout.add_model()\n",
      "Loading the comets parameters...\n",
      "Creating the comets object...\n",
      "\n",
      "Running COMETS simulation ...\n",
      "Done!\n",
      "The last cycle is: 193\n",
      "Configuration\tfitness\tButanol(mM)\tacetate(mM)\tBiomassFarmer\tBiomassLaborer\tendCycle\n",
      "0.02661333707382166,0.2221835368006706,14.594263542943738\t0.12242135054000002\t0.12242135054000002\t0.0\t0.026613337074\t1.0997850622\t193\n",
      "Getting fluxes:End\n"
     ]
    },
    {
     "name": "stderr",
     "output_type": "stream",
     "text": [
      "INFO:smac.intensification.intensification.Intensifier:Wallclock time limit for intensification reached (used: 58.098572 sec, available: 0.000010 sec)\n",
      "INFO:smac.optimizer.smbo.SMBO:Shared model mode: Finished loading new runs, found 0 new runs.\n",
      "INFO:smac.optimizer.smbo.SMBO:Shared model mode: Finished loading new runs, found 0 new runs.\n",
      "INFO:smac.optimizer.smbo.SMBO:Shared model mode: Finished loading new runs, found 0 new runs.\n"
     ]
    },
    {
     "name": "stdout",
     "output_type": "stream",
     "text": [
      "building empty layout model\n",
      "models will need to be added with layout.add_model()\n",
      "Loading the comets parameters...\n",
      "Creating the comets object...\n",
      "\n",
      "Running COMETS simulation ...\n",
      "Done!\n",
      "The last cycle is: 1000\n",
      "Configuration\tfitness\tButanol(mM)\tacetate(mM)\tBiomassFarmer\tBiomassLaborer\tendCycle\n",
      "0.09999380107027496,0.00010874719300798554,1.0184560107648373\t0.6563587580574\t0.65745924204\t0.0011004839825999998\t0.09999380107\t0.6517981166\t1000\n",
      "Getting fluxes:End\n"
     ]
    },
    {
     "name": "stderr",
     "output_type": "stream",
     "text": [
      "INFO:smac.intensification.intensification.Intensifier:Wallclock time limit for intensification reached (used: 66.169739 sec, available: 0.000010 sec)\n",
      "INFO:smac.optimizer.smbo.SMBO:Shared model mode: Finished loading new runs, found 0 new runs.\n"
     ]
    },
    {
     "name": "stdout",
     "output_type": "stream",
     "text": [
      "building empty layout model\n",
      "models will need to be added with layout.add_model()\n",
      "Loading the comets parameters...\n",
      "Creating the comets object...\n",
      "\n",
      "Running COMETS simulation ...\n",
      "Done!\n",
      "The last cycle is: 1000\n",
      "Configuration\tfitness\tButanol(mM)\tacetate(mM)\tBiomassFarmer\tBiomassLaborer\tendCycle\n",
      "0.09999910522286458,0.00010742527366436044,18.443768426209783\t0.6539070325940001\t0.65499413921\t0.0010871066160000002\t0.099999105223\t0.64387492783\t1000\n",
      "Getting fluxes:End\n"
     ]
    },
    {
     "name": "stderr",
     "output_type": "stream",
     "text": [
      "INFO:smac.intensification.intensification.Intensifier:Wallclock time limit for intensification reached (used: 67.394876 sec, available: 0.000010 sec)\n",
      "INFO:smac.optimizer.smbo.SMBO:Shared model mode: Finished loading new runs, found 0 new runs.\n"
     ]
    },
    {
     "name": "stdout",
     "output_type": "stream",
     "text": [
      "building empty layout model\n",
      "models will need to be added with layout.add_model()\n",
      "Loading the comets parameters...\n",
      "Creating the comets object...\n",
      "\n",
      "Running COMETS simulation ...\n",
      "Done!\n",
      "The last cycle is: 1000\n",
      "Configuration\tfitness\tButanol(mM)\tacetate(mM)\tBiomassFarmer\tBiomassLaborer\tendCycle\n",
      "0.09999910522286458,0.00010742527366436044,18.744016552496362\t0.6539070325940001\t0.65499413921\t0.0010871066160000002\t0.099999105223\t0.64387492783\t1000\n",
      "Getting fluxes:End\n"
     ]
    },
    {
     "name": "stderr",
     "output_type": "stream",
     "text": [
      "INFO:smac.intensification.intensification.Intensifier:Wallclock time limit for intensification reached (used: 66.321045 sec, available: 0.000010 sec)\n",
      "INFO:smac.optimizer.smbo.SMBO:Shared model mode: Finished loading new runs, found 0 new runs.\n"
     ]
    },
    {
     "name": "stdout",
     "output_type": "stream",
     "text": [
      "building empty layout model\n",
      "models will need to be added with layout.add_model()\n",
      "Loading the comets parameters...\n",
      "Creating the comets object...\n",
      "\n",
      "Running COMETS simulation ...\n",
      "Done!\n",
      "The last cycle is: 1000\n",
      "Configuration\tfitness\tButanol(mM)\tacetate(mM)\tBiomassFarmer\tBiomassLaborer\tendCycle\n",
      "0.09999910522286458,0.0001018479279787926,18.169585983545065\t0.6389636076234\t0.63999427343\t0.0010306658066000002\t0.099999105223\t0.61044598761\t1000\n",
      "Getting fluxes:End\n"
     ]
    },
    {
     "name": "stderr",
     "output_type": "stream",
     "text": [
      "INFO:smac.intensification.intensification.Intensifier:Wallclock time limit for intensification reached (used: 66.165164 sec, available: 0.000010 sec)\n",
      "INFO:smac.optimizer.smbo.SMBO:Shared model mode: Finished loading new runs, found 0 new runs.\n"
     ]
    },
    {
     "name": "stdout",
     "output_type": "stream",
     "text": [
      "building empty layout model\n",
      "models will need to be added with layout.add_model()\n",
      "Loading the comets parameters...\n",
      "Creating the comets object...\n",
      "\n",
      "Running COMETS simulation ...\n",
      "Done!\n",
      "The last cycle is: 1000\n",
      "Configuration\tfitness\tButanol(mM)\tacetate(mM)\tBiomassFarmer\tBiomassLaborer\tendCycle\n",
      "0.09999910522286458,0.00010421983498533086,1.0074948013675271\t0.6439395600048\t0.64499422869\t0.0010546686852\t0.099999105223\t0.62466248807\t1000\n",
      "Getting fluxes:End\n"
     ]
    },
    {
     "name": "stderr",
     "output_type": "stream",
     "text": [
      "INFO:smac.intensification.intensification.Intensifier:Wallclock time limit for intensification reached (used: 66.137349 sec, available: 0.000010 sec)\n",
      "INFO:smac.optimizer.smbo.SMBO:Shared model mode: Finished loading new runs, found 0 new runs.\n",
      "INFO:smac.optimizer.smbo.SMBO:Shared model mode: Finished loading new runs, found 0 new runs.\n",
      "INFO:smac.optimizer.smbo.SMBO:Shared model mode: Finished loading new runs, found 0 new runs.\n",
      "INFO:smac.optimizer.smbo.SMBO:Shared model mode: Finished loading new runs, found 0 new runs.\n"
     ]
    },
    {
     "name": "stdout",
     "output_type": "stream",
     "text": [
      "building empty layout model\n",
      "models will need to be added with layout.add_model()\n",
      "Loading the comets parameters...\n",
      "Creating the comets object...\n",
      "\n",
      "Running COMETS simulation ...\n",
      "Done!\n",
      "The last cycle is: 1000\n",
      "Configuration\tfitness\tButanol(mM)\tacetate(mM)\tBiomassFarmer\tBiomassLaborer\tendCycle\n",
      "0.09999825407490752,0.00012159018336824608,39.999043260638736\t0.6887575025167999\t0.6899879531199999\t0.0012304506032\t0.099998254075\t0.7287751557\t1000\n",
      "Getting fluxes:End\n"
     ]
    },
    {
     "name": "stderr",
     "output_type": "stream",
     "text": [
      "INFO:smac.intensification.intensification.Intensifier:Wallclock time limit for intensification reached (used: 67.284525 sec, available: 0.000010 sec)\n",
      "INFO:smac.optimizer.smbo.SMBO:Shared model mode: Finished loading new runs, found 0 new runs.\n"
     ]
    },
    {
     "name": "stdout",
     "output_type": "stream",
     "text": [
      "building empty layout model\n",
      "models will need to be added with layout.add_model()\n",
      "Loading the comets parameters...\n",
      "Creating the comets object...\n",
      "\n",
      "Running COMETS simulation ...\n",
      "Done!\n",
      "The last cycle is: 402\n",
      "Configuration\tfitness\tButanol(mM)\tacetate(mM)\tBiomassFarmer\tBiomassLaborer\tendCycle\n",
      "0.04577742012008927,0.029520704051771235,4.30772443624139\t0.32044194084000005\t0.32044194084000005\t0.0\t0.04577742012\t0.90726902218\t402\n",
      "Getting fluxes:End\n"
     ]
    },
    {
     "name": "stderr",
     "output_type": "stream",
     "text": [
      "INFO:smac.intensification.intensification.Intensifier:Wallclock time limit for intensification reached (used: 64.010823 sec, available: 0.000010 sec)\n",
      "INFO:smac.optimizer.smbo.SMBO:Shared model mode: Finished loading new runs, found 0 new runs.\n"
     ]
    },
    {
     "name": "stdout",
     "output_type": "stream",
     "text": [
      "building empty layout model\n",
      "models will need to be added with layout.add_model()\n",
      "Loading the comets parameters...\n",
      "Creating the comets object...\n",
      "\n",
      "Running COMETS simulation ...\n",
      "Done!\n",
      "The last cycle is: 169\n",
      "Configuration\tfitness\tButanol(mM)\tacetate(mM)\tBiomassFarmer\tBiomassLaborer\tendCycle\n",
      "0.011509645500796539,0.28886838771487877,36.756507009773564\t0.046039092664999996\t0.046039092664999996\t0.0\t0.011518279842\t1.1650444886\t169\n",
      "Getting fluxes:End\n"
     ]
    },
    {
     "name": "stderr",
     "output_type": "stream",
     "text": [
      "INFO:smac.intensification.intensification.Intensifier:Wallclock time limit for intensification reached (used: 58.104213 sec, available: 0.000010 sec)\n",
      "INFO:smac.optimizer.smbo.SMBO:Shared model mode: Finished loading new runs, found 0 new runs.\n",
      "INFO:smac.optimizer.smbo.SMBO:Shared model mode: Finished loading new runs, found 0 new runs.\n"
     ]
    },
    {
     "name": "stdout",
     "output_type": "stream",
     "text": [
      "building empty layout model\n",
      "models will need to be added with layout.add_model()\n",
      "Loading the comets parameters...\n",
      "Creating the comets object...\n",
      "\n",
      "Running COMETS simulation ...\n",
      "Done!\n",
      "The last cycle is: 1000\n",
      "Configuration\tfitness\tButanol(mM)\tacetate(mM)\tBiomassFarmer\tBiomassLaborer\tendCycle\n",
      "0.09999922277514811,0.00010033306561725625,39.99111480916321\t0.6339797286966\t0.63499506462\t0.0010153359234\t0.099999222775\t0.60136635616\t1000\n",
      "Getting fluxes:End\n"
     ]
    },
    {
     "name": "stderr",
     "output_type": "stream",
     "text": [
      "INFO:smac.intensification.intensification.Intensifier:Wallclock time limit for intensification reached (used: 66.252657 sec, available: 0.000010 sec)\n",
      "INFO:smac.optimizer.smbo.SMBO:Shared model mode: Finished loading new runs, found 0 new runs.\n"
     ]
    },
    {
     "name": "stdout",
     "output_type": "stream",
     "text": [
      "building empty layout model\n",
      "models will need to be added with layout.add_model()\n",
      "Loading the comets parameters...\n",
      "Creating the comets object...\n",
      "\n",
      "Running COMETS simulation ...\n",
      "Done!\n",
      "The last cycle is: 1000\n",
      "Configuration\tfitness\tButanol(mM)\tacetate(mM)\tBiomassFarmer\tBiomassLaborer\tendCycle\n",
      "0.09999910522286458,0.0001018479279787926,16.480691556971042\t0.6389636076234\t0.63999427343\t0.0010306658066000002\t0.099999105223\t0.61044598761\t1000\n",
      "Getting fluxes:End\n"
     ]
    },
    {
     "name": "stderr",
     "output_type": "stream",
     "text": [
      "INFO:smac.intensification.intensification.Intensifier:Wallclock time limit for intensification reached (used: 66.119616 sec, available: 0.000010 sec)\n",
      "INFO:smac.optimizer.smbo.SMBO:Shared model mode: Finished loading new runs, found 0 new runs.\n"
     ]
    },
    {
     "name": "stdout",
     "output_type": "stream",
     "text": [
      "building empty layout model\n",
      "models will need to be added with layout.add_model()\n",
      "Loading the comets parameters...\n",
      "Creating the comets object...\n",
      "\n",
      "Running COMETS simulation ...\n",
      "Done!\n",
      "The last cycle is: 1000\n",
      "Configuration\tfitness\tButanol(mM)\tacetate(mM)\tBiomassFarmer\tBiomassLaborer\tendCycle\n",
      "0.09999910522286458,0.00010754444635147409,22.808911649261933\t0.6539058266076\t0.65499413921\t0.0010883126024\t0.099999105223\t0.64458921323\t1000\n",
      "Getting fluxes:End\n"
     ]
    },
    {
     "name": "stderr",
     "output_type": "stream",
     "text": [
      "INFO:smac.intensification.intensification.Intensifier:Wallclock time limit for intensification reached (used: 65.941689 sec, available: 0.000010 sec)\n",
      "INFO:smac.optimizer.smbo.SMBO:Shared model mode: Finished loading new runs, found 0 new runs.\n"
     ]
    },
    {
     "name": "stdout",
     "output_type": "stream",
     "text": [
      "building empty layout model\n",
      "models will need to be added with layout.add_model()\n",
      "Loading the comets parameters...\n",
      "Creating the comets object...\n",
      "\n",
      "Running COMETS simulation ...\n",
      "Done!\n",
      "The last cycle is: 1000\n",
      "Configuration\tfitness\tButanol(mM)\tacetate(mM)\tBiomassFarmer\tBiomassLaborer\tendCycle\n",
      "0.09999910522286458,0.0001018479279787926,8.87876403237603\t0.6389636076234\t0.63999427343\t0.0010306658066000002\t0.099999105223\t0.61044598761\t1000\n",
      "Getting fluxes:End\n"
     ]
    },
    {
     "name": "stderr",
     "output_type": "stream",
     "text": [
      "INFO:smac.intensification.intensification.Intensifier:Wallclock time limit for intensification reached (used: 66.072438 sec, available: 0.000010 sec)\n",
      "INFO:smac.optimizer.smbo.SMBO:Shared model mode: Finished loading new runs, found 0 new runs.\n"
     ]
    },
    {
     "name": "stdout",
     "output_type": "stream",
     "text": [
      "building empty layout model\n",
      "models will need to be added with layout.add_model()\n",
      "Loading the comets parameters...\n",
      "Creating the comets object...\n",
      "\n",
      "Running COMETS simulation ...\n",
      "Done!\n",
      "The last cycle is: 1000\n",
      "Configuration\tfitness\tButanol(mM)\tacetate(mM)\tBiomassFarmer\tBiomassLaborer\tendCycle\n",
      "0.09999910522286458,0.00010754444635147409,22.970373427305226\t0.6539058266076\t0.65499413921\t0.0010883126024\t0.099999105223\t0.64458921323\t1000\n",
      "Getting fluxes:End\n"
     ]
    },
    {
     "name": "stderr",
     "output_type": "stream",
     "text": [
      "INFO:smac.intensification.intensification.Intensifier:Wallclock time limit for intensification reached (used: 65.860257 sec, available: 0.000010 sec)\n",
      "INFO:smac.optimizer.smbo.SMBO:Shared model mode: Finished loading new runs, found 0 new runs.\n",
      "INFO:smac.optimizer.smbo.SMBO:Shared model mode: Finished loading new runs, found 0 new runs.\n"
     ]
    },
    {
     "name": "stdout",
     "output_type": "stream",
     "text": [
      "building empty layout model\n",
      "models will need to be added with layout.add_model()\n",
      "Loading the comets parameters...\n",
      "Creating the comets object...\n",
      "\n",
      "Running COMETS simulation ...\n",
      "Done!\n",
      "The last cycle is: 1000\n",
      "Configuration\tfitness\tButanol(mM)\tacetate(mM)\tBiomassFarmer\tBiomassLaborer\tendCycle\n",
      "0.09999922277514811,0.00010033306561725625,39.993176505227076\t0.6339797286966\t0.63499506462\t0.0010153359234\t0.099999222775\t0.60136635616\t1000\n",
      "Getting fluxes:End\n"
     ]
    },
    {
     "name": "stderr",
     "output_type": "stream",
     "text": [
      "INFO:smac.intensification.intensification.Intensifier:Wallclock time limit for intensification reached (used: 66.079067 sec, available: 0.000010 sec)\n",
      "INFO:smac.optimizer.smbo.SMBO:Shared model mode: Finished loading new runs, found 0 new runs.\n"
     ]
    },
    {
     "name": "stdout",
     "output_type": "stream",
     "text": [
      "building empty layout model\n",
      "models will need to be added with layout.add_model()\n",
      "Loading the comets parameters...\n",
      "Creating the comets object...\n",
      "\n",
      "Running COMETS simulation ...\n",
      "Done!\n",
      "The last cycle is: 1000\n",
      "Configuration\tfitness\tButanol(mM)\tacetate(mM)\tBiomassFarmer\tBiomassLaborer\tendCycle\n",
      "0.09999910522286458,0.0001018479279787926,19.685641622710815\t0.6389636076234\t0.63999427343\t0.0010306658066000002\t0.099999105223\t0.61044598761\t1000\n",
      "Getting fluxes:End\n"
     ]
    },
    {
     "name": "stderr",
     "output_type": "stream",
     "text": [
      "INFO:smac.intensification.intensification.Intensifier:Wallclock time limit for intensification reached (used: 68.555669 sec, available: 0.000010 sec)\n",
      "INFO:smac.optimizer.smbo.SMBO:Shared model mode: Finished loading new runs, found 0 new runs.\n",
      "INFO:smac.optimizer.smbo.SMBO:Shared model mode: Finished loading new runs, found 0 new runs.\n"
     ]
    },
    {
     "name": "stdout",
     "output_type": "stream",
     "text": [
      "building empty layout model\n",
      "models will need to be added with layout.add_model()\n",
      "Loading the comets parameters...\n",
      "Creating the comets object...\n",
      "\n",
      "Running COMETS simulation ...\n",
      "Done!\n",
      "The last cycle is: 1000\n",
      "Configuration\tfitness\tButanol(mM)\tacetate(mM)\tBiomassFarmer\tBiomassLaborer\tendCycle\n",
      "0.09999969255390692,0.0001122333530569219,1.012364480190081\t0.6663621850834001\t0.6674979478\t0.0011357627165999998\t0.099999692554\t0.67269311619\t1000\n",
      "Getting fluxes:End\n"
     ]
    },
    {
     "name": "stderr",
     "output_type": "stream",
     "text": [
      "INFO:smac.intensification.intensification.Intensifier:Wallclock time limit for intensification reached (used: 71.293796 sec, available: 0.000010 sec)\n",
      "INFO:smac.optimizer.smbo.SMBO:Shared model mode: Finished loading new runs, found 0 new runs.\n"
     ]
    },
    {
     "name": "stdout",
     "output_type": "stream",
     "text": [
      "building empty layout model\n",
      "models will need to be added with layout.add_model()\n",
      "Loading the comets parameters...\n",
      "Creating the comets object...\n",
      "\n",
      "Running COMETS simulation ...\n",
      "Done!\n",
      "The last cycle is: 1000\n",
      "Configuration\tfitness\tButanol(mM)\tacetate(mM)\tBiomassFarmer\tBiomassLaborer\tendCycle\n",
      "0.09999910522286458,0.00010149335035511456,16.716811312583804\t0.6364672181962999\t0.6374942957999999\t0.0010270776037\t0.099999105223\t0.60832075549\t1000\n",
      "Getting fluxes:End\n"
     ]
    },
    {
     "name": "stderr",
     "output_type": "stream",
     "text": [
      "INFO:smac.intensification.intensification.Intensifier:Wallclock time limit for intensification reached (used: 68.049291 sec, available: 0.000010 sec)\n",
      "INFO:smac.stats.stats.Stats:##########################################################\n",
      "INFO:smac.stats.stats.Stats:Statistics:\n",
      "INFO:smac.stats.stats.Stats:#Incumbent changed: 3\n",
      "INFO:smac.stats.stats.Stats:#Submitted target algorithm runs: 100 / 100.0\n",
      "INFO:smac.stats.stats.Stats:#Finished target algorithm runs: 100 / 100.0\n",
      "INFO:smac.stats.stats.Stats:#Configurations: 100\n",
      "INFO:smac.stats.stats.Stats:Used wallclock time: 7248.24 / inf sec \n",
      "INFO:smac.stats.stats.Stats:Used target algorithm runtime: 6649.37 / inf sec\n",
      "INFO:smac.stats.stats.Stats:##########################################################\n",
      "INFO:smac.facade.smac_bo_facade.SMAC4BO:Final Incumbent: Configuration:\n",
      "  biomassEcoli, Value: 0.09999800662908127\n",
      "  biomassSynechocystis, Value: 0.00021944674616659426\n",
      "  nh4, Value: 21.029289136616452\n",
      "\n",
      "INFO:smac.facade.smac_bo_facade.SMAC4BO:Estimated cost of incumbent: -0.747485\n"
     ]
    }
   ],
   "source": [
    "# Optimize, using a SMAC-object\n",
    "print(\"Optimizing! Depending on your machine, this might take a few minutes.\")\n",
    "smac = SMAC4BO(scenario=FLYCOP_space(),\n",
    "                   rng=np.random.RandomState(123),\n",
    "                   tae_runner=FLYCOP_schema,\n",
    "                   )\n",
    "start = time.time()\n",
    "smac.optimize()\n",
    "end = time.time()"
   ]
  },
  {
   "cell_type": "code",
   "execution_count": null,
   "metadata": {},
   "outputs": [],
   "source": []
  }
 ],
 "metadata": {
  "kernelspec": {
   "display_name": "Python 3",
   "language": "python",
   "name": "python3"
  },
  "language_info": {
   "codemirror_mode": {
    "name": "ipython",
    "version": 3
   },
   "file_extension": ".py",
   "mimetype": "text/x-python",
   "name": "python",
   "nbconvert_exporter": "python",
   "pygments_lexer": "ipython3",
   "version": "3.6.11"
  }
 },
 "nbformat": 4,
 "nbformat_minor": 4
}
